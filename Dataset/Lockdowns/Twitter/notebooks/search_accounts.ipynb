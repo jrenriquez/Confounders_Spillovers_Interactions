{
 "cells": [
  {
   "cell_type": "markdown",
   "metadata": {},
   "source": [
    "# Twitter Crawler: notebook to search institutional twitter accounts of mexican states"
   ]
  },
  {
   "cell_type": "markdown",
   "metadata": {},
   "source": [
    "**input** : state names \\\n",
    "**output code**:\n",
    "    - Data Frame with: \n",
    "        search parameter\n",
    "        twitter account found \n",
    "        profile description"
   ]
  },
  {
   "cell_type": "code",
   "execution_count": 45,
   "metadata": {},
   "outputs": [],
   "source": [
    "def make_query_twitter(string):\n",
    "    \"\"\"\n",
    "    Function to make query search for twitter\n",
    "    \n",
    "    Parameters\n",
    "    ----------\n",
    "    string: str\n",
    "        string with name of Mexico State\n",
    "        \n",
    "    Returns\n",
    "    -------\n",
    "    query: str\n",
    "        \n",
    "    \"\"\"\n",
    "    try:\n",
    "        name = re.sub(' ', '%20', string)\n",
    "        query = 'https://twitter.com/search?q=' + name +'&src=typed_query&f=user'\n",
    "        return(query)\n",
    "    except:\n",
    "        return('filter')"
   ]
  },
  {
   "cell_type": "code",
   "execution_count": 19,
   "metadata": {},
   "outputs": [],
   "source": [
    "from selenium.webdriver import Chrome\n",
    "import numpy as np\n",
    "from uuid import uuid4\n",
    "import re\n",
    "import itertools\n",
    "import functools\n",
    "import operator\n",
    "from datetime import date, timedelta\n",
    "import pandas as pd\n",
    "import json\n",
    "from selenium.webdriver.common.by import By\n",
    "from selenium.webdriver.support.ui import WebDriverWait\n",
    "from selenium.webdriver.support import expected_conditions as EC\n",
    "from twitter_scraper import Profile\n",
    "import pandas as pd\n",
    "from datetime import date, timedelta\n",
    "import os\n",
    "from tqdm import tqdm\n",
    "from os import path\n",
    "import time"
   ]
  },
  {
   "cell_type": "code",
   "execution_count": 67,
   "metadata": {},
   "outputs": [],
   "source": [
    "def get_twitter_account(x):\n",
    "    try:\n",
    "        driver.get(x)\n",
    "        driver.implicitly_wait(4)\n",
    "        path = driver.find_element_by_css_selector('#react-root > div > div > div.css-1dbjc4n.r-13qz1uu.r-417010 > main > div > div > div > div > div > div > div > div > section > div > div > div:nth-child(1) > div > div > div > div.css-1dbjc4n.r-1iusvr4.r-16y2uox.r-5f2r5o > div > div.css-1dbjc4n.r-1wbh5a2.r-dnmrzs > a').text\n",
    "        username = re.findall('@(.*)', path)[0]\n",
    "        return(username)\n",
    "    except:\n",
    "        return('no account found')\n",
    "    "
   ]
  },
  {
   "cell_type": "markdown",
   "metadata": {},
   "source": [
    "## Input Data"
   ]
  },
  {
   "cell_type": "code",
   "execution_count": 3,
   "metadata": {},
   "outputs": [],
   "source": [
    "estados = pd.read_csv('./data/raw/entidades.csv')"
   ]
  },
  {
   "cell_type": "code",
   "execution_count": 9,
   "metadata": {},
   "outputs": [],
   "source": [
    "estados = estados[['entidad_name']].drop_duplicates()"
   ]
  },
  {
   "cell_type": "code",
   "execution_count": 68,
   "metadata": {},
   "outputs": [],
   "source": [
    "estados['entidad_name'] = estados.apply(lambda x: x['entidad_name'].lower(), axis = 1)\n",
    "estados['input_string'] = estados.apply(lambda x: 'gobierno ' + x['entidad_name'].lower() , axis = 1)\n",
    "estados['input_string_salud'] = estados.apply(lambda x: 'secretaria salud ' + x['entidad_name'].lower() , axis = 1)\n",
    "estados['query'] = estados.apply(lambda x: make_query_twitter(x['input_string']), axis = 1)\n",
    "estados['query_salud'] = estados.apply(lambda x: make_query_twitter(x['input_string_salud']), axis = 1)"
   ]
  },
  {
   "cell_type": "code",
   "execution_count": 59,
   "metadata": {},
   "outputs": [],
   "source": [
    "webdriver = \"/usr/local/bin/chromedriver\"\n",
    "driver = Chrome(webdriver)"
   ]
  },
  {
   "cell_type": "code",
   "execution_count": 66,
   "metadata": {},
   "outputs": [
    {
     "name": "stderr",
     "output_type": "stream",
     "text": [
      "100%|██████████| 32/32 [04:49<00:00,  9.04s/it]\n"
     ]
    }
   ],
   "source": [
    "list_estados = []\n",
    "with tqdm(total = len(list(estados['query']))) as pbar:\n",
    "    for x, y in zip(list(estados['query']), list(estados['entidad_name'])):\n",
    "        pbar.update(1)\n",
    "        \n",
    "        username = get_twitter_account(x)\n",
    "        user = re.sub('https://twitter.com/', '', username)\n",
    "        temp = {}\n",
    "        \n",
    "        if username != 'no account found':\n",
    "            profile = Profile(user).to_dict()\n",
    "            temp['entidad_name'] = y\n",
    "            temp['username_twitter'] = username\n",
    "            temp['name_twitter'] = profile['name']\n",
    "            temp['biography'] = profile['biography']\n",
    "            temp['website'] = profile['website']\n",
    "            temp['last_update'] = date.today().strftime(\"%Y-%m-%d\")\n",
    "        else:\n",
    "            temp['entidad_name'] = y\n",
    "            temp['username_twitter'] = username\n",
    "            temp['name_twitter'] = 'no account found'\n",
    "            temp['biography'] = 'no account found'\n",
    "            temp['website'] = 'no account found'\n",
    "            temp['last_update'] = date.today().strftime(\"%Y-%m-%d\")\n",
    "            \n",
    "        list_estados.append(temp)"
   ]
  },
  {
   "cell_type": "code",
   "execution_count": 69,
   "metadata": {},
   "outputs": [],
   "source": [
    "estados_twitters = pd.DataFrame(list_estados)"
   ]
  },
  {
   "cell_type": "code",
   "execution_count": 71,
   "metadata": {},
   "outputs": [
    {
     "name": "stderr",
     "output_type": "stream",
     "text": [
      "100%|██████████| 32/32 [05:54<00:00, 11.07s/it]\n"
     ]
    }
   ],
   "source": [
    "list_estados_salud = []\n",
    "with tqdm(total = len(list(estados['query_salud']))) as pbar:\n",
    "    for x, y in zip(list(estados['query_salud']), list(estados['entidad_name'])):\n",
    "        pbar.update(1)\n",
    "        \n",
    "        username = get_twitter_account(x)\n",
    "        user = re.sub('https://twitter.com/', '', username)\n",
    "        temp = {}\n",
    "        \n",
    "        if username != 'no account found':\n",
    "            profile = Profile(user).to_dict()\n",
    "            temp['entidad_name'] = y\n",
    "            temp['username_twitter'] = username\n",
    "            temp['name_twitter'] = profile['name']\n",
    "            temp['biography'] = profile['biography']\n",
    "            temp['website'] = profile['website']\n",
    "            temp['last_update'] = date.today().strftime(\"%Y-%m-%d\")\n",
    "        else:\n",
    "            temp['entidad_name'] = y\n",
    "            temp['username_twitter'] = username\n",
    "            temp['name_twitter'] = 'no account found'\n",
    "            temp['biography'] = 'no account found'\n",
    "            temp['website'] = 'no account found'\n",
    "            temp['last_update'] = date.today().strftime(\"%Y-%m-%d\")\n",
    "            \n",
    "        list_estados_salud.append(temp)"
   ]
  },
  {
   "cell_type": "code",
   "execution_count": 74,
   "metadata": {},
   "outputs": [],
   "source": [
    "estados_twitters_salud = pd.DataFrame(list_estados_salud).rename(columns = {'username_twitter':'twitter_salud', \n",
    "                                                                        'name_twitter':'name_twitter_salud',\n",
    "                                                                        'biography':'biography_salud',\n",
    "                                                                        'website':'website_salud'}).drop(['last_update'], axis = 1)"
   ]
  },
  {
   "cell_type": "code",
   "execution_count": 72,
   "metadata": {},
   "outputs": [],
   "source": [
    "## "
   ]
  },
  {
   "cell_type": "code",
   "execution_count": 77,
   "metadata": {},
   "outputs": [],
   "source": [
    "twitter_accounts = pd.merge(left = estados_twitters,\n",
    "        right = estados_twitters_salud,\n",
    "        on = 'entidad_name', \n",
    "        how = 'inner')"
   ]
  },
  {
   "cell_type": "code",
   "execution_count": 78,
   "metadata": {},
   "outputs": [],
   "source": [
    "twitter_accounts.to_csv('./data/raw/twitter_accounts.csv', encoding = 'utf-8 sig')"
   ]
  }
 ],
 "metadata": {
  "kernelspec": {
   "display_name": "Python 3",
   "language": "python",
   "name": "python3"
  },
  "language_info": {
   "codemirror_mode": {
    "name": "ipython",
    "version": 3
   },
   "file_extension": ".py",
   "mimetype": "text/x-python",
   "name": "python",
   "nbconvert_exporter": "python",
   "pygments_lexer": "ipython3",
   "version": "3.8.3"
  }
 },
 "nbformat": 4,
 "nbformat_minor": 2
}
