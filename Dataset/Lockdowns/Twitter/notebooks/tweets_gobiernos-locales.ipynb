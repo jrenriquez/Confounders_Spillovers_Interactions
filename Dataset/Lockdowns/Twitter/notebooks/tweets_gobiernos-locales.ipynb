{
 "cells": [
  {
   "cell_type": "markdown",
   "metadata": {},
   "source": [
    "# Notebook to obtain all tweets from institutional accounts of mexican states"
   ]
  },
  {
   "cell_type": "markdown",
   "metadata": {},
   "source": [
    "**input data**: tweeter accounts \\\n",
    "**output data**: Data frame with the following information:\n",
    "    - date\n",
    "    - text\n",
    "    - nlikes\n",
    "    - nretweets\n",
    "    - "
   ]
  },
  {
   "cell_type": "code",
   "execution_count": 1,
   "metadata": {},
   "outputs": [],
   "source": [
    "import twint\n",
    "import twitter_scraper\n",
    "from twitter_scraper import Profile\n",
    "import re\n",
    "import requests\n",
    "import os\n",
    "import nest_asyncio\n",
    "nest_asyncio.apply()\n",
    "import pandas as pd\n",
    "from tqdm import tqdm"
   ]
  },
  {
   "cell_type": "code",
   "execution_count": 48,
   "metadata": {},
   "outputs": [],
   "source": [
    "class CuentaGobierno:\n",
    "    \n",
    "    \"\"\"\n",
    "    Class\n",
    "    \n",
    "    Parameters:\n",
    "    -----------\n",
    "    name: str\n",
    "        name of gob\n",
    "    username: str\n",
    "        twitter username\n",
    "        \n",
    "        \n",
    "    Methods:\n",
    "    --------\n",
    "    get_profile: function to obtain profile of username\n",
    "    get_followers: get all usernames of the followers of the journalits\n",
    "    get_following: get all usernames of following of the journalits\n",
    "    get_tweets: get all tweets from the past 6 months\n",
    "    \"\"\"\n",
    "    \n",
    "    def __init__(self, name, username):\n",
    "        self.name = name\n",
    "        self.username = username\n",
    "        \n",
    "    def get_profile(self):\n",
    "        profile_ = Profile(self.username).to_dict()\n",
    "        return(profile_)\n",
    "    \n",
    "    def get_followers(self):\n",
    "        \"\"\"\n",
    "        function to obtain followers of a Twitter username\n",
    "        \n",
    "        Parameters\n",
    "        ----------\n",
    "        username: str\n",
    "            twitter username\n",
    "            \n",
    "        Returns\n",
    "        -------\n",
    "        followers: list\n",
    "            list of followers\n",
    "        count_followers: int\n",
    "            number of followers\n",
    "        \"\"\"\n",
    "        c = twint.Config()\n",
    "        c.Username = self.username\n",
    "        c.Pandas = True\n",
    "        c.Hide_output = True\n",
    "\n",
    "        twint.run.Followers(c)\n",
    "\n",
    "        Followers_df = twint.storage.panda.Follow_df\n",
    "        df_ = Followers_df\n",
    "        return(df_)\n",
    "    \n",
    "    def get_following(self):\n",
    "        \"\"\"\n",
    "        function to obtain followers of a Twitter username\n",
    "        \n",
    "        Parameters\n",
    "        ----------\n",
    "        username: str\n",
    "            twitter username\n",
    "            \n",
    "        Returns\n",
    "        -------\n",
    "        followers: list\n",
    "            list of followers\n",
    "        count_followers: int\n",
    "            number of followers\n",
    "        \"\"\"\n",
    "        c = twint.Config()\n",
    "        c.Username = self.username\n",
    "        c.Pandas = True\n",
    "        c.Hide_output = True\n",
    "\n",
    "        twint.run.Following(c)\n",
    "\n",
    "        Following_df = twint.storage.panda.Follow_df\n",
    "        df_ = Following_df\n",
    "        return(df_)\n",
    "    \n",
    "\n",
    "    def get_tweets(self):\n",
    "        c = twint.Config()\n",
    "        c.Username = self.username\n",
    "        c.Pandas = True\n",
    "        c.Format = \"Username: {username} |  Tweet: {tweet}\"\n",
    "        c.Hide_output = True\n",
    "        c.Since = '2020-01-01 00:00:00'\n",
    "        twint.run.Search(c)\n",
    "        df_tweets = twint.storage.panda.Tweets_df\n",
    "             \n",
    "        return(df_tweets)"
   ]
  },
  {
   "cell_type": "code",
   "execution_count": 39,
   "metadata": {},
   "outputs": [],
   "source": [
    "def retreive_account(s):\n",
    "    if any(re.findall('twitter', s)):\n",
    "        s = re.sub('https://twitter.com/', '', s)\n",
    "        s =re.sub('[?]', '', s)\n",
    "        if s == 'https://www.facebook.com/ayuntamientodeteteles, presi_teteles18':\n",
    "            return(0, s)\n",
    "        else:\n",
    "            return(1, s)\n",
    "    else:\n",
    "        return(0, s)"
   ]
  },
  {
   "cell_type": "markdown",
   "metadata": {},
   "source": [
    "## Input data"
   ]
  },
  {
   "cell_type": "code",
   "execution_count": 27,
   "metadata": {},
   "outputs": [],
   "source": [
    "input_data = pd.read_excel('../data/raw/inafed_bd_webs_subset-Cam.xlsx')\n",
    "input_data = input_data[~input_data['social_media_link1'].isna()]"
   ]
  },
  {
   "cell_type": "code",
   "execution_count": 42,
   "metadata": {},
   "outputs": [],
   "source": [
    "social_media2 = input_data[~input_data['social_media_link2'].isna()]"
   ]
  },
  {
   "cell_type": "code",
   "execution_count": 40,
   "metadata": {},
   "outputs": [],
   "source": [
    "twitter_accounts = []\n",
    "cve_inegi = []\n",
    "for x, y in zip(list(input_data.social_media_link1), list(input_data.cve_inegi)):\n",
    "    match, account = retreive_account(x)\n",
    "    if match == 1:\n",
    "        twitter_accounts.append(account)\n",
    "        cve_inegi.append(y)"
   ]
  },
  {
   "cell_type": "code",
   "execution_count": 43,
   "metadata": {
    "scrolled": true
   },
   "outputs": [],
   "source": [
    "for x, y in zip(list(social_media2.social_media_link1), list(social_media2.cve_inegi)):\n",
    "    match, account = retreive_account(x)\n",
    "    if match == 1:\n",
    "        twitter_accounts.append(account)\n",
    "        cve_inegi.append(y)"
   ]
  },
  {
   "cell_type": "code",
   "execution_count": 50,
   "metadata": {},
   "outputs": [],
   "source": [
    "all_accounts = []\n",
    "for i in twitter_accounts:\n",
    "    i = i.lower()\n",
    "    if i in all_accounts:\n",
    "        pass\n",
    "    else:\n",
    "        all_accounts.append(i)"
   ]
  },
  {
   "cell_type": "code",
   "execution_count": 51,
   "metadata": {
    "scrolled": true
   },
   "outputs": [
    {
     "data": {
      "text/plain": [
       "['gp_dgo',\n",
       " 'zirandaroalv',\n",
       " 'actopanmx',\n",
       " 'hgopacula',\n",
       " 'amineralreforma',\n",
       " 'sm_piramides',\n",
       " 'aytojonacatepec']"
      ]
     },
     "execution_count": 51,
     "metadata": {},
     "output_type": "execute_result"
    }
   ],
   "source": [
    "all_accounts"
   ]
  },
  {
   "cell_type": "code",
   "execution_count": 57,
   "metadata": {},
   "outputs": [],
   "source": [
    "all_entities = list(cuenta_entidad.entidad_name) + list(cuenta_salud.entidad_name)\n",
    "all_accounts = list(cuenta_entidad.username_twitter) + list(cuenta_salud.twitter_salud)\n",
    "tipo_cuenta = list(cuenta_entidad.tipo_cuenta) + list(cuenta_salud.tipo_cuenta)\n"
   ]
  },
  {
   "cell_type": "markdown",
   "metadata": {},
   "source": [
    "## Get Tweets"
   ]
  },
  {
   "cell_type": "code",
   "execution_count": 52,
   "metadata": {},
   "outputs": [
    {
     "name": "stderr",
     "output_type": "stream",
     "text": [
      "  0%|          | 0/7 [00:00<?, ?it/s]CRITICAL:root:twint.get:User:'NoneType' object is not subscriptable\n",
      "CRITICAL:root:twint.run:Twint:Feed:noDataExpecting value: line 1 column 1 (char 0)\n",
      "sleeping for 1.0 secs\n",
      "CRITICAL:root:twint.run:Twint:Feed:noDataExpecting value: line 1 column 1 (char 0)\n",
      "sleeping for 8.0 secs\n",
      "CRITICAL:root:twint.run:Twint:Feed:noDataExpecting value: line 1 column 1 (char 0)\n",
      "sleeping for 27.0 secs\n",
      "CRITICAL:root:twint.run:Twint:Feed:noDataExpecting value: line 1 column 1 (char 0)\n",
      "sleeping for 64.0 secs\n",
      "CRITICAL:root:twint.run:Twint:Feed:noDataExpecting value: line 1 column 1 (char 0)\n",
      "sleeping for 125.0 secs\n",
      "CRITICAL:root:twint.run:Twint:Feed:noDataExpecting value: line 1 column 1 (char 0)\n",
      "sleeping for 216.0 secs\n",
      "CRITICAL:root:twint.run:Twint:Feed:noDataExpecting value: line 1 column 1 (char 0)\n",
      "sleeping for 343.0 secs\n",
      " 14%|█▍        | 1/7 [09:15<55:35, 555.89s/it]CRITICAL:root:twint.get:User:'NoneType' object is not subscriptable\n",
      "CRITICAL:root:twint.get:User:'NoneType' object is not subscriptable\n",
      "CRITICAL:root:twint.run:Twint:Feed:noDataExpecting value: line 1 column 1 (char 0)\n",
      "sleeping for 1.0 secs\n",
      "CRITICAL:root:twint.run:Twint:Feed:noDataExpecting value: line 1 column 1 (char 0)\n",
      "sleeping for 1.0 secs\n",
      "CRITICAL:root:twint.run:Twint:Feed:noDataExpecting value: line 1 column 1 (char 0)\n",
      "sleeping for 8.0 secs\n",
      " 43%|████▎     | 3/7 [09:20<25:59, 389.78s/it]CRITICAL:root:twint.run:Twint:Feed:noDataExpecting value: line 1 column 1 (char 0)\n",
      "sleeping for 8.0 secs\n",
      " 71%|███████▏  | 5/7 [09:20<09:05, 272.95s/it]CRITICAL:root:twint.get:User:'NoneType' object is not subscriptable\n",
      "ERROR:asyncio:Task exception was never retrieved\n",
      "future: <Task finished name='Task-1' coro=<Twint.main() done, defined at /Library/Frameworks/Python.framework/Versions/3.8/lib/python3.8/site-packages/twint/run.py:147> exception=KeyboardInterrupt()>\n",
      "Traceback (most recent call last):\n",
      "  File \"/Library/Frameworks/Python.framework/Versions/3.8/lib/python3.8/site-packages/twint/run.py\", line 65, in Feed\n",
      "    self.feed, self.init = feed.Json(response)\n",
      "  File \"/Library/Frameworks/Python.framework/Versions/3.8/lib/python3.8/site-packages/twint/feed.py\", line 42, in Json\n",
      "    json_response = loads(response)\n",
      "  File \"/Library/Frameworks/Python.framework/Versions/3.8/lib/python3.8/json/__init__.py\", line 357, in loads\n",
      "    return _default_decoder.decode(s)\n",
      "  File \"/Library/Frameworks/Python.framework/Versions/3.8/lib/python3.8/json/decoder.py\", line 337, in decode\n",
      "    obj, end = self.raw_decode(s, idx=_w(s, 0).end())\n",
      "  File \"/Library/Frameworks/Python.framework/Versions/3.8/lib/python3.8/json/decoder.py\", line 355, in raw_decode\n",
      "    raise JSONDecodeError(\"Expecting value\", s, err.value) from None\n",
      "json.decoder.JSONDecodeError: Expecting value: line 1 column 1 (char 0)\n",
      "\n",
      "During handling of the above exception, another exception occurred:\n",
      "\n",
      "Traceback (most recent call last):\n",
      "  File \"<ipython-input-52-18dc2ef73306>\", line 7, in <module>\n",
      "    tweets_database = class_gob.get_tweets()\n",
      "  File \"<ipython-input-48-d3d61fb3ed3e>\", line 92, in get_tweets\n",
      "    twint.run.Search(c)\n",
      "  File \"/Library/Frameworks/Python.framework/Versions/3.8/lib/python3.8/site-packages/twint/run.py\", line 327, in Search\n",
      "    run(config, callback)\n",
      "  File \"/Library/Frameworks/Python.framework/Versions/3.8/lib/python3.8/site-packages/twint/run.py\", line 226, in run\n",
      "    get_event_loop().run_until_complete(Twint(config).main(callback))\n",
      "  File \"/Library/Frameworks/Python.framework/Versions/3.8/lib/python3.8/site-packages/nest_asyncio.py\", line 64, in run_until_complete\n",
      "    self._run_once()\n",
      "  File \"/Library/Frameworks/Python.framework/Versions/3.8/lib/python3.8/site-packages/nest_asyncio.py\", line 100, in _run_once\n",
      "    handle._run()\n",
      "  File \"/Library/Frameworks/Python.framework/Versions/3.8/lib/python3.8/asyncio/events.py\", line 81, in _run\n",
      "    self._context.run(self._callback, *self._args)\n",
      "  File \"/Library/Frameworks/Python.framework/Versions/3.8/lib/python3.8/asyncio/tasks.py\", line 352, in __wakeup\n",
      "    self.__step(exc)\n",
      "  File \"/Library/Frameworks/Python.framework/Versions/3.8/lib/python3.8/site-packages/nest_asyncio.py\", line 169, in step\n",
      "    step_orig(task, exc)\n",
      "  File \"/Library/Frameworks/Python.framework/Versions/3.8/lib/python3.8/asyncio/tasks.py\", line 282, in __step\n",
      "    result = coro.throw(exc)\n",
      "  File \"/Library/Frameworks/Python.framework/Versions/3.8/lib/python3.8/site-packages/twint/run.py\", line 154, in main\n",
      "    await task\n",
      "  File \"/Library/Frameworks/Python.framework/Versions/3.8/lib/python3.8/asyncio/futures.py\", line 260, in __await__\n",
      "    yield self  # This tells Task to wait for completion.\n",
      "  File \"/Library/Frameworks/Python.framework/Versions/3.8/lib/python3.8/asyncio/tasks.py\", line 349, in __wakeup\n",
      "    future.result()\n",
      "  File \"/Library/Frameworks/Python.framework/Versions/3.8/lib/python3.8/asyncio/futures.py\", line 178, in result\n",
      "    raise self._exception\n",
      "  File \"<ipython-input-52-18dc2ef73306>\", line 7, in <module>\n",
      "    tweets_database = class_gob.get_tweets()\n",
      "  File \"<ipython-input-48-d3d61fb3ed3e>\", line 92, in get_tweets\n",
      "    twint.run.Search(c)\n",
      "  File \"/Library/Frameworks/Python.framework/Versions/3.8/lib/python3.8/site-packages/twint/run.py\", line 327, in Search\n",
      "    run(config, callback)\n",
      "  File \"/Library/Frameworks/Python.framework/Versions/3.8/lib/python3.8/site-packages/twint/run.py\", line 226, in run\n",
      "    get_event_loop().run_until_complete(Twint(config).main(callback))\n",
      "  File \"/Library/Frameworks/Python.framework/Versions/3.8/lib/python3.8/site-packages/nest_asyncio.py\", line 64, in run_until_complete\n",
      "    self._run_once()\n",
      "  File \"/Library/Frameworks/Python.framework/Versions/3.8/lib/python3.8/site-packages/nest_asyncio.py\", line 100, in _run_once\n",
      "    handle._run()\n",
      "  File \"/Library/Frameworks/Python.framework/Versions/3.8/lib/python3.8/asyncio/events.py\", line 81, in _run\n",
      "    self._context.run(self._callback, *self._args)\n",
      "  File \"/Library/Frameworks/Python.framework/Versions/3.8/lib/python3.8/asyncio/tasks.py\", line 360, in __wakeup\n",
      "    self.__step()\n",
      "  File \"/Library/Frameworks/Python.framework/Versions/3.8/lib/python3.8/site-packages/nest_asyncio.py\", line 169, in step\n",
      "    step_orig(task, exc)\n",
      "  File \"/Library/Frameworks/Python.framework/Versions/3.8/lib/python3.8/asyncio/tasks.py\", line 280, in __step\n",
      "    result = coro.send(None)\n",
      "  File \"/Library/Frameworks/Python.framework/Versions/3.8/lib/python3.8/site-packages/twint/run.py\", line 199, in run\n",
      "    await self.tweets()\n",
      "  File \"/Library/Frameworks/Python.framework/Versions/3.8/lib/python3.8/site-packages/twint/run.py\", line 137, in tweets\n",
      "    await self.Feed()\n",
      "  File \"/Library/Frameworks/Python.framework/Versions/3.8/lib/python3.8/site-packages/twint/run.py\", line 98, in Feed\n",
      "    time.sleep(delay)\n",
      "KeyboardInterrupt\n",
      "ERROR:asyncio:Task exception was never retrieved\n",
      "future: <Task finished name='Task-20' coro=<Twint.main() done, defined at /Library/Frameworks/Python.framework/Versions/3.8/lib/python3.8/site-packages/twint/run.py:147> exception=KeyboardInterrupt()>\n",
      "Traceback (most recent call last):\n",
      "  File \"/Library/Frameworks/Python.framework/Versions/3.8/lib/python3.8/site-packages/twint/run.py\", line 65, in Feed\n",
      "    self.feed, self.init = feed.Json(response)\n",
      "  File \"/Library/Frameworks/Python.framework/Versions/3.8/lib/python3.8/site-packages/twint/feed.py\", line 42, in Json\n",
      "    json_response = loads(response)\n",
      "  File \"/Library/Frameworks/Python.framework/Versions/3.8/lib/python3.8/json/__init__.py\", line 357, in loads\n",
      "    return _default_decoder.decode(s)\n",
      "  File \"/Library/Frameworks/Python.framework/Versions/3.8/lib/python3.8/json/decoder.py\", line 337, in decode\n",
      "    obj, end = self.raw_decode(s, idx=_w(s, 0).end())\n",
      "  File \"/Library/Frameworks/Python.framework/Versions/3.8/lib/python3.8/json/decoder.py\", line 355, in raw_decode\n",
      "    raise JSONDecodeError(\"Expecting value\", s, err.value) from None\n",
      "json.decoder.JSONDecodeError: Expecting value: line 1 column 1 (char 0)\n",
      "\n",
      "During handling of the above exception, another exception occurred:\n",
      "\n",
      "Traceback (most recent call last):\n",
      "  File \"<ipython-input-52-18dc2ef73306>\", line 7, in <module>\n",
      "    tweets_database = class_gob.get_tweets()\n",
      "  File \"<ipython-input-48-d3d61fb3ed3e>\", line 92, in get_tweets\n",
      "    twint.run.Search(c)\n",
      "  File \"/Library/Frameworks/Python.framework/Versions/3.8/lib/python3.8/site-packages/twint/run.py\", line 327, in Search\n",
      "    run(config, callback)\n",
      "  File \"/Library/Frameworks/Python.framework/Versions/3.8/lib/python3.8/site-packages/twint/run.py\", line 226, in run\n",
      "    get_event_loop().run_until_complete(Twint(config).main(callback))\n",
      "  File \"/Library/Frameworks/Python.framework/Versions/3.8/lib/python3.8/site-packages/nest_asyncio.py\", line 64, in run_until_complete\n",
      "    self._run_once()\n",
      "  File \"/Library/Frameworks/Python.framework/Versions/3.8/lib/python3.8/site-packages/nest_asyncio.py\", line 100, in _run_once\n",
      "    handle._run()\n",
      "  File \"/Library/Frameworks/Python.framework/Versions/3.8/lib/python3.8/asyncio/events.py\", line 81, in _run\n",
      "    self._context.run(self._callback, *self._args)\n",
      "  File \"/Library/Frameworks/Python.framework/Versions/3.8/lib/python3.8/asyncio/tasks.py\", line 352, in __wakeup\n",
      "    self.__step(exc)\n",
      "  File \"/Library/Frameworks/Python.framework/Versions/3.8/lib/python3.8/site-packages/nest_asyncio.py\", line 169, in step\n",
      "    step_orig(task, exc)\n",
      "  File \"/Library/Frameworks/Python.framework/Versions/3.8/lib/python3.8/asyncio/tasks.py\", line 282, in __step\n",
      "    result = coro.throw(exc)\n",
      "  File \"/Library/Frameworks/Python.framework/Versions/3.8/lib/python3.8/site-packages/twint/run.py\", line 154, in main\n",
      "    await task\n",
      "  File \"/Library/Frameworks/Python.framework/Versions/3.8/lib/python3.8/asyncio/futures.py\", line 260, in __await__\n",
      "    yield self  # This tells Task to wait for completion.\n",
      "  File \"/Library/Frameworks/Python.framework/Versions/3.8/lib/python3.8/asyncio/tasks.py\", line 349, in __wakeup\n",
      "    future.result()\n",
      "  File \"/Library/Frameworks/Python.framework/Versions/3.8/lib/python3.8/asyncio/futures.py\", line 178, in result\n",
      "    raise self._exception\n",
      "  File \"<ipython-input-52-18dc2ef73306>\", line 7, in <module>\n",
      "    tweets_database = class_gob.get_tweets()\n",
      "  File \"<ipython-input-48-d3d61fb3ed3e>\", line 92, in get_tweets\n",
      "    twint.run.Search(c)\n",
      "  File \"/Library/Frameworks/Python.framework/Versions/3.8/lib/python3.8/site-packages/twint/run.py\", line 327, in Search\n",
      "    run(config, callback)\n",
      "  File \"/Library/Frameworks/Python.framework/Versions/3.8/lib/python3.8/site-packages/twint/run.py\", line 226, in run\n",
      "    get_event_loop().run_until_complete(Twint(config).main(callback))\n",
      "  File \"/Library/Frameworks/Python.framework/Versions/3.8/lib/python3.8/site-packages/nest_asyncio.py\", line 64, in run_until_complete\n",
      "    self._run_once()\n",
      "  File \"/Library/Frameworks/Python.framework/Versions/3.8/lib/python3.8/site-packages/nest_asyncio.py\", line 100, in _run_once\n",
      "    handle._run()\n",
      "  File \"/Library/Frameworks/Python.framework/Versions/3.8/lib/python3.8/asyncio/events.py\", line 81, in _run\n",
      "    self._context.run(self._callback, *self._args)\n",
      "  File \"/Library/Frameworks/Python.framework/Versions/3.8/lib/python3.8/asyncio/tasks.py\", line 360, in __wakeup\n",
      "    self.__step()\n",
      "  File \"/Library/Frameworks/Python.framework/Versions/3.8/lib/python3.8/site-packages/nest_asyncio.py\", line 169, in step\n",
      "    step_orig(task, exc)\n",
      "  File \"/Library/Frameworks/Python.framework/Versions/3.8/lib/python3.8/asyncio/tasks.py\", line 280, in __step\n",
      "    result = coro.send(None)\n",
      "  File \"/Library/Frameworks/Python.framework/Versions/3.8/lib/python3.8/site-packages/twint/run.py\", line 199, in run\n",
      "    await self.tweets()\n",
      "  File \"/Library/Frameworks/Python.framework/Versions/3.8/lib/python3.8/site-packages/twint/run.py\", line 137, in tweets\n",
      "    await self.Feed()\n",
      "  File \"/Library/Frameworks/Python.framework/Versions/3.8/lib/python3.8/site-packages/twint/run.py\", line 98, in Feed\n",
      "    time.sleep(delay)\n",
      "KeyboardInterrupt\n"
     ]
    },
    {
     "name": "stderr",
     "output_type": "stream",
     "text": [
      "ERROR:asyncio:Task exception was never retrieved\n",
      "future: <Task finished name='Task-19' coro=<Twint.main() done, defined at /Library/Frameworks/Python.framework/Versions/3.8/lib/python3.8/site-packages/twint/run.py:147> exception=KeyboardInterrupt()>\n",
      "Traceback (most recent call last):\n",
      "  File \"/Library/Frameworks/Python.framework/Versions/3.8/lib/python3.8/site-packages/twint/run.py\", line 65, in Feed\n",
      "    self.feed, self.init = feed.Json(response)\n",
      "  File \"/Library/Frameworks/Python.framework/Versions/3.8/lib/python3.8/site-packages/twint/feed.py\", line 42, in Json\n",
      "    json_response = loads(response)\n",
      "  File \"/Library/Frameworks/Python.framework/Versions/3.8/lib/python3.8/json/__init__.py\", line 357, in loads\n",
      "    return _default_decoder.decode(s)\n",
      "  File \"/Library/Frameworks/Python.framework/Versions/3.8/lib/python3.8/json/decoder.py\", line 337, in decode\n",
      "    obj, end = self.raw_decode(s, idx=_w(s, 0).end())\n",
      "  File \"/Library/Frameworks/Python.framework/Versions/3.8/lib/python3.8/json/decoder.py\", line 355, in raw_decode\n",
      "    raise JSONDecodeError(\"Expecting value\", s, err.value) from None\n",
      "json.decoder.JSONDecodeError: Expecting value: line 1 column 1 (char 0)\n",
      "\n",
      "During handling of the above exception, another exception occurred:\n",
      "\n",
      "Traceback (most recent call last):\n",
      "  File \"<ipython-input-52-18dc2ef73306>\", line 7, in <module>\n",
      "    tweets_database = class_gob.get_tweets()\n",
      "  File \"<ipython-input-48-d3d61fb3ed3e>\", line 92, in get_tweets\n",
      "    twint.run.Search(c)\n",
      "  File \"/Library/Frameworks/Python.framework/Versions/3.8/lib/python3.8/site-packages/twint/run.py\", line 327, in Search\n",
      "    run(config, callback)\n",
      "  File \"/Library/Frameworks/Python.framework/Versions/3.8/lib/python3.8/site-packages/twint/run.py\", line 226, in run\n",
      "    get_event_loop().run_until_complete(Twint(config).main(callback))\n",
      "  File \"/Library/Frameworks/Python.framework/Versions/3.8/lib/python3.8/site-packages/nest_asyncio.py\", line 64, in run_until_complete\n",
      "    self._run_once()\n",
      "  File \"/Library/Frameworks/Python.framework/Versions/3.8/lib/python3.8/site-packages/nest_asyncio.py\", line 100, in _run_once\n",
      "    handle._run()\n",
      "  File \"/Library/Frameworks/Python.framework/Versions/3.8/lib/python3.8/asyncio/events.py\", line 81, in _run\n",
      "    self._context.run(self._callback, *self._args)\n",
      "  File \"/Library/Frameworks/Python.framework/Versions/3.8/lib/python3.8/asyncio/tasks.py\", line 352, in __wakeup\n",
      "    self.__step(exc)\n",
      "  File \"/Library/Frameworks/Python.framework/Versions/3.8/lib/python3.8/site-packages/nest_asyncio.py\", line 169, in step\n",
      "    step_orig(task, exc)\n",
      "  File \"/Library/Frameworks/Python.framework/Versions/3.8/lib/python3.8/asyncio/tasks.py\", line 282, in __step\n",
      "    result = coro.throw(exc)\n",
      "  File \"/Library/Frameworks/Python.framework/Versions/3.8/lib/python3.8/site-packages/twint/run.py\", line 154, in main\n",
      "    await task\n",
      "  File \"/Library/Frameworks/Python.framework/Versions/3.8/lib/python3.8/asyncio/futures.py\", line 260, in __await__\n",
      "    yield self  # This tells Task to wait for completion.\n",
      "  File \"/Library/Frameworks/Python.framework/Versions/3.8/lib/python3.8/asyncio/tasks.py\", line 349, in __wakeup\n",
      "    future.result()\n",
      "  File \"/Library/Frameworks/Python.framework/Versions/3.8/lib/python3.8/asyncio/futures.py\", line 178, in result\n",
      "    raise self._exception\n",
      "  File \"<ipython-input-52-18dc2ef73306>\", line 7, in <module>\n",
      "    tweets_database = class_gob.get_tweets()\n",
      "  File \"<ipython-input-48-d3d61fb3ed3e>\", line 92, in get_tweets\n",
      "    twint.run.Search(c)\n",
      "  File \"/Library/Frameworks/Python.framework/Versions/3.8/lib/python3.8/site-packages/twint/run.py\", line 327, in Search\n",
      "    run(config, callback)\n",
      "  File \"/Library/Frameworks/Python.framework/Versions/3.8/lib/python3.8/site-packages/twint/run.py\", line 226, in run\n",
      "    get_event_loop().run_until_complete(Twint(config).main(callback))\n",
      "  File \"/Library/Frameworks/Python.framework/Versions/3.8/lib/python3.8/site-packages/nest_asyncio.py\", line 64, in run_until_complete\n",
      "    self._run_once()\n",
      "  File \"/Library/Frameworks/Python.framework/Versions/3.8/lib/python3.8/site-packages/nest_asyncio.py\", line 100, in _run_once\n",
      "    handle._run()\n",
      "  File \"/Library/Frameworks/Python.framework/Versions/3.8/lib/python3.8/asyncio/events.py\", line 81, in _run\n",
      "    self._context.run(self._callback, *self._args)\n",
      "  File \"/Library/Frameworks/Python.framework/Versions/3.8/lib/python3.8/asyncio/tasks.py\", line 360, in __wakeup\n",
      "    self.__step()\n",
      "  File \"/Library/Frameworks/Python.framework/Versions/3.8/lib/python3.8/site-packages/nest_asyncio.py\", line 169, in step\n",
      "    step_orig(task, exc)\n",
      "  File \"/Library/Frameworks/Python.framework/Versions/3.8/lib/python3.8/asyncio/tasks.py\", line 280, in __step\n",
      "    result = coro.send(None)\n",
      "  File \"/Library/Frameworks/Python.framework/Versions/3.8/lib/python3.8/site-packages/twint/run.py\", line 199, in run\n",
      "    await self.tweets()\n",
      "  File \"/Library/Frameworks/Python.framework/Versions/3.8/lib/python3.8/site-packages/twint/run.py\", line 137, in tweets\n",
      "    await self.Feed()\n",
      "  File \"/Library/Frameworks/Python.framework/Versions/3.8/lib/python3.8/site-packages/twint/run.py\", line 98, in Feed\n",
      "    time.sleep(delay)\n",
      "KeyboardInterrupt\n",
      "CRITICAL:root:twint.get:User:'NoneType' object is not subscriptable\n",
      "CRITICAL:root:twint.get:User:'NoneType' object is not subscriptable\n",
      "CRITICAL:root:twint.get:User:'NoneType' object is not subscriptable\n",
      "100%|██████████| 7/7 [09:21<00:00, 80.18s/it] \n"
     ]
    }
   ],
   "source": [
    "data_temp = []\n",
    "errors_tweets = []\n",
    "\n",
    "for x in tqdm(all_accounts):\n",
    "    try:\n",
    "        class_gob = CuentaGobierno(x, x)\n",
    "        tweets_database = class_gob.get_tweets()\n",
    "        tweets_database['entidad_name'] = x\n",
    "        data_temp.append(tweets_database)\n",
    "    except:\n",
    "        errors_tweets.append(y)"
   ]
  },
  {
   "cell_type": "code",
   "execution_count": 53,
   "metadata": {},
   "outputs": [
    {
     "data": {
      "text/plain": [
       "0"
      ]
     },
     "execution_count": 53,
     "metadata": {},
     "output_type": "execute_result"
    }
   ],
   "source": [
    "len(data_temp)"
   ]
  },
  {
   "cell_type": "code",
   "execution_count": 32,
   "metadata": {},
   "outputs": [
    {
     "name": "stderr",
     "output_type": "stream",
     "text": [
      " 96%|█████████▌| 51/53 [3:11:56<08:11, 245.58s/it]  CRITICAL:root:twint.run:Twint:Feed:noDataExpecting value: line 1 column 1 (char 0)\n",
      "sleeping for 1.0 secs\n",
      "100%|██████████| 53/53 [3:28:17<00:00, 235.80s/it]\n"
     ]
    }
   ],
   "source": [
    "data_temp = []\n",
    "errors_tweets = []\n",
    "\n",
    "with tqdm(total = len(all_entities)) as pbar:\n",
    "    for x, y in zip(all_entities, all_accounts):\n",
    "        pbar.update(1)\n",
    "        try:\n",
    "            class_gob = CuentaGobierno(x, y)\n",
    "            tweets_database = class_gob.get_tweets()\n",
    "            tweets_database['entidad_name'] = x\n",
    "            data_temp.append(tweets_database)\n",
    "        except:\n",
    "            errors_tweets.append(y)"
   ]
  },
  {
   "cell_type": "code",
   "execution_count": 47,
   "metadata": {},
   "outputs": [],
   "source": [
    "data_tweets = pd.concat(data_temp)"
   ]
  },
  {
   "cell_type": "code",
   "execution_count": 62,
   "metadata": {},
   "outputs": [],
   "source": [
    "id_tweets = pd.DataFrame(all_entities, columns = ['name_entidad'])\n",
    "id_tweets['username_twitter'] = all_accounts\n",
    "id_tweets['tipo_cuenta'] = tipo_cuenta"
   ]
  },
  {
   "cell_type": "code",
   "execution_count": 70,
   "metadata": {},
   "outputs": [],
   "source": [
    "data_tweets = pd.merge(left = data_tweets, right = id_tweets, \n",
    "        left_on = 'username', right_on = 'username_twitter', \n",
    "        how = 'left').drop(['username', 'entidad_name'], axis = 1)"
   ]
  },
  {
   "cell_type": "code",
   "execution_count": 71,
   "metadata": {
    "scrolled": true
   },
   "outputs": [
    {
     "data": {
      "text/plain": [
       "Index(['id', 'conversation_id', 'created_at', 'date', 'timezone', 'place',\n",
       "       'tweet', 'hashtags', 'cashtags', 'user_id', 'user_id_str', 'name',\n",
       "       'day', 'hour', 'link', 'retweet', 'nlikes', 'nreplies', 'nretweets',\n",
       "       'quote_url', 'search', 'near', 'geo', 'source', 'user_rt_id', 'user_rt',\n",
       "       'retweet_id', 'reply_to', 'retweet_date', 'translate', 'trans_src',\n",
       "       'trans_dest', 'name_entidad', 'username_twitter', 'tipo_cuenta'],\n",
       "      dtype='object')"
      ]
     },
     "execution_count": 71,
     "metadata": {},
     "output_type": "execute_result"
    }
   ],
   "source": [
    "data_tweets.columns"
   ]
  },
  {
   "cell_type": "code",
   "execution_count": 73,
   "metadata": {},
   "outputs": [],
   "source": [
    "data_all = data_tweets[['name_entidad', 'tipo_cuenta', 'username_twitter', 'id', 'conversation_id', 'created_at', 'date', 'timezone', 'place',\n",
    "       'tweet', 'hashtags', 'cashtags', 'user_id', 'user_id_str', 'name',\n",
    "       'day', 'hour', 'link', 'retweet', 'nlikes', 'nreplies', 'nretweets',\n",
    "       'quote_url', 'search', 'near', 'geo', 'source', 'user_rt_id', 'user_rt',\n",
    "       'retweet_id', 'reply_to', 'retweet_date', 'translate', 'trans_src',\n",
    "       'trans_dest']]"
   ]
  },
  {
   "cell_type": "code",
   "execution_count": 74,
   "metadata": {},
   "outputs": [],
   "source": [
    "data_all.to_csv('/Users/cblanesg/cam.blanes Dropbox/Camila Blanes/COVID-19 Mexico/Twitter/data/raw/tweets.csv', encoding = 'utf-8 sig')"
   ]
  }
 ],
 "metadata": {
  "kernelspec": {
   "display_name": "Python 3",
   "language": "python",
   "name": "python3"
  },
  "language_info": {
   "codemirror_mode": {
    "name": "ipython",
    "version": 3
   },
   "file_extension": ".py",
   "mimetype": "text/x-python",
   "name": "python",
   "nbconvert_exporter": "python",
   "pygments_lexer": "ipython3",
   "version": "3.8.3"
  }
 },
 "nbformat": 4,
 "nbformat_minor": 2
}
