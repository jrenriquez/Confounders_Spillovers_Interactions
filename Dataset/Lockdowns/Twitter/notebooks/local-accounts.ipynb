{
 "cells": [
  {
   "cell_type": "code",
   "execution_count": 127,
   "metadata": {},
   "outputs": [],
   "source": [
    "import pandas as pd\n",
    "import os\n",
    "import re\n",
    "import unidecode\n",
    "import numpy as np\n",
    "from tqdm import tqdm\n",
    "tqdm.pandas()"
   ]
  },
  {
   "cell_type": "code",
   "execution_count": 32,
   "metadata": {},
   "outputs": [],
   "source": [
    "import warnings\n",
    "warnings.filterwarnings(\"ignore\")"
   ]
  },
  {
   "cell_type": "code",
   "execution_count": 56,
   "metadata": {},
   "outputs": [
    {
     "name": "stderr",
     "output_type": "stream",
     "text": [
      "[WDM] - Current google-chrome version is 92.0.4515\n",
      "[WDM] - Get LATEST driver version for 92.0.4515\n"
     ]
    },
    {
     "name": "stdout",
     "output_type": "stream",
     "text": [
      " \n"
     ]
    },
    {
     "name": "stderr",
     "output_type": "stream",
     "text": [
      "[WDM] - Driver [/Users/cblanesg/.wdm/drivers/chromedriver/mac64/92.0.4515.107/chromedriver] found in cache\n"
     ]
    }
   ],
   "source": [
    "from webdriver_manager.chrome import ChromeDriverManager\n",
    "from selenium.webdriver import Chrome\n",
    "from selenium import webdriver\n",
    "from selenium.webdriver.chrome.options import Options\n",
    "\n",
    "\n",
    "options = Options()\n",
    "options.add_argument('--headless')\n",
    "driver = webdriver.Chrome(ChromeDriverManager().install())"
   ]
  },
  {
   "cell_type": "markdown",
   "metadata": {},
   "source": [
    "## Functions"
   ]
  },
  {
   "cell_type": "code",
   "execution_count": 54,
   "metadata": {},
   "outputs": [],
   "source": [
    "driver.get('http://google.com')"
   ]
  },
  {
   "cell_type": "code",
   "execution_count": 44,
   "metadata": {
    "scrolled": true
   },
   "outputs": [],
   "source": [
    "gob_to_search = pd.read_csv('../data/raw/COVID19_policies - Camila.csv')\n",
    "metadata_gob = pd.read_excel('../data/raw/inafed_bd_webs.xlsx')\n",
    "metadata_gob = metadata_gob[metadata_gob['cve_inegi'].isin(gob_to_search.code_INEGI.unique())]"
   ]
  },
  {
   "cell_type": "code",
   "execution_count": 17,
   "metadata": {},
   "outputs": [],
   "source": [
    "## look for missing local gob pages"
   ]
  },
  {
   "cell_type": "code",
   "execution_count": 45,
   "metadata": {
    "scrolled": true
   },
   "outputs": [],
   "source": [
    "missing_gob_pages = metadata_gob[metadata_gob['pag_web'] == 'http://']\n",
    "missing_gob_pages = missing_gob_pages.reset_index().drop(['index'], axis = 1)"
   ]
  },
  {
   "cell_type": "code",
   "execution_count": 81,
   "metadata": {},
   "outputs": [],
   "source": [
    "def make_query(edo, mun):\n",
    "    edo_clean = re.sub(' ', '+', unidecode.unidecode(edo.lower()))\n",
    "    mun_clean = re.sub(' ', '+', unidecode.unidecode(mun.lower()))\n",
    "    \n",
    "    q = 'https://www.google.com/search?q=' + edo_clean + '+' + mun_clean + '+ayuntamiento+pagina+oficial'\n",
    "    return(q)\n",
    "\n",
    "def search_website(query, driver):\n",
    "    driver.get(query)\n",
    "    link = driver.find_element_by_class_name('g').find_element_by_css_selector('a').get_attribute('href')\n",
    "    return(link)"
   ]
  },
  {
   "cell_type": "code",
   "execution_count": 69,
   "metadata": {
    "scrolled": true
   },
   "outputs": [],
   "source": [
    "missing_gob_pages['query_search'] = missing_gob_pages.apply(lambda x: make_query(x['estado'], \n",
    "                                                                                x['municipio']), axis = 1)"
   ]
  },
  {
   "cell_type": "code",
   "execution_count": 96,
   "metadata": {},
   "outputs": [],
   "source": [
    "links_missing = []\n",
    "id_links = []"
   ]
  },
  {
   "cell_type": "code",
   "execution_count": 95,
   "metadata": {},
   "outputs": [
    {
     "name": "stderr",
     "output_type": "stream",
     "text": [
      "[WDM] - Current google-chrome version is 92.0.4515\n",
      "[WDM] - Get LATEST driver version for 92.0.4515\n",
      "[WDM] - Driver [/Users/cblanesg/.wdm/drivers/chromedriver/mac64/92.0.4515.107/chromedriver] found in cache\n"
     ]
    },
    {
     "name": "stdout",
     "output_type": "stream",
     "text": [
      " \n"
     ]
    }
   ],
   "source": [
    "driver = webdriver.Chrome(ChromeDriverManager().install())"
   ]
  },
  {
   "cell_type": "code",
   "execution_count": 97,
   "metadata": {
    "scrolled": true
   },
   "outputs": [
    {
     "name": "stderr",
     "output_type": "stream",
     "text": [
      "  0%|          | 1/1130 [00:02<42:46,  2.27s/it][WDM] - Current google-chrome version is 92.0.4515\n",
      "[WDM] - Get LATEST driver version for 92.0.4515\n"
     ]
    },
    {
     "name": "stdout",
     "output_type": "stream",
     "text": [
      " \n"
     ]
    },
    {
     "name": "stderr",
     "output_type": "stream",
     "text": [
      "[WDM] - Driver [/Users/cblanesg/.wdm/drivers/chromedriver/mac64/92.0.4515.107/chromedriver] found in cache\n",
      "  0%|          | 2/1130 [00:09<1:10:43,  3.76s/it][WDM] - Current google-chrome version is 92.0.4515\n",
      "[WDM] - Get LATEST driver version for 92.0.4515\n",
      "[WDM] - Driver [/Users/cblanesg/.wdm/drivers/chromedriver/mac64/92.0.4515.107/chromedriver] found in cache\n"
     ]
    },
    {
     "name": "stdout",
     "output_type": "stream",
     "text": [
      " \n"
     ]
    },
    {
     "name": "stderr",
     "output_type": "stream",
     "text": [
      "  0%|          | 3/1130 [00:14<1:19:23,  4.23s/it][WDM] - Current google-chrome version is 92.0.4515\n",
      "[WDM] - Get LATEST driver version for 92.0.4515\n",
      "[WDM] - Driver [/Users/cblanesg/.wdm/drivers/chromedriver/mac64/92.0.4515.107/chromedriver] found in cache\n"
     ]
    },
    {
     "name": "stdout",
     "output_type": "stream",
     "text": [
      " \n"
     ]
    },
    {
     "name": "stderr",
     "output_type": "stream",
     "text": [
      "  0%|          | 4/1130 [00:20<1:26:31,  4.61s/it][WDM] - Current google-chrome version is 92.0.4515\n",
      "[WDM] - Get LATEST driver version for 92.0.4515\n",
      "[WDM] - Driver [/Users/cblanesg/.wdm/drivers/chromedriver/mac64/92.0.4515.107/chromedriver] found in cache\n"
     ]
    },
    {
     "name": "stdout",
     "output_type": "stream",
     "text": [
      " \n"
     ]
    },
    {
     "name": "stderr",
     "output_type": "stream",
     "text": [
      "  0%|          | 5/1130 [00:25<1:31:21,  4.87s/it][WDM] - Current google-chrome version is 92.0.4515\n",
      "[WDM] - Get LATEST driver version for 92.0.4515\n",
      "[WDM] - Driver [/Users/cblanesg/.wdm/drivers/chromedriver/mac64/92.0.4515.107/chromedriver] found in cache\n"
     ]
    },
    {
     "name": "stdout",
     "output_type": "stream",
     "text": [
      " \n"
     ]
    },
    {
     "name": "stderr",
     "output_type": "stream",
     "text": [
      "  1%|          | 6/1130 [00:31<1:35:56,  5.12s/it][WDM] - Current google-chrome version is 92.0.4515\n",
      "[WDM] - Get LATEST driver version for 92.0.4515\n",
      "[WDM] - Driver [/Users/cblanesg/.wdm/drivers/chromedriver/mac64/92.0.4515.107/chromedriver] found in cache\n"
     ]
    },
    {
     "name": "stdout",
     "output_type": "stream",
     "text": [
      " \n"
     ]
    },
    {
     "name": "stderr",
     "output_type": "stream",
     "text": [
      "  1%|          | 7/1130 [00:37<1:38:56,  5.29s/it][WDM] - Current google-chrome version is 92.0.4515\n",
      "[WDM] - Get LATEST driver version for 92.0.4515\n",
      "[WDM] - Driver [/Users/cblanesg/.wdm/drivers/chromedriver/mac64/92.0.4515.107/chromedriver] found in cache\n"
     ]
    },
    {
     "name": "stdout",
     "output_type": "stream",
     "text": [
      " \n"
     ]
    },
    {
     "name": "stderr",
     "output_type": "stream",
     "text": [
      "  1%|          | 8/1130 [00:42<1:39:53,  5.34s/it][WDM] - Current google-chrome version is 92.0.4515\n",
      "[WDM] - Get LATEST driver version for 92.0.4515\n",
      "[WDM] - Driver [/Users/cblanesg/.wdm/drivers/chromedriver/mac64/92.0.4515.107/chromedriver] found in cache\n"
     ]
    },
    {
     "name": "stdout",
     "output_type": "stream",
     "text": [
      " \n"
     ]
    },
    {
     "name": "stderr",
     "output_type": "stream",
     "text": [
      "  1%|          | 9/1130 [00:48<1:42:49,  5.50s/it][WDM] - Current google-chrome version is 92.0.4515\n",
      "[WDM] - Get LATEST driver version for 92.0.4515\n",
      "[WDM] - Driver [/Users/cblanesg/.wdm/drivers/chromedriver/mac64/92.0.4515.107/chromedriver] found in cache\n"
     ]
    },
    {
     "name": "stdout",
     "output_type": "stream",
     "text": [
      " \n"
     ]
    },
    {
     "name": "stderr",
     "output_type": "stream",
     "text": [
      "  1%|          | 10/1130 [00:54<1:43:30,  5.55s/it][WDM] - Current google-chrome version is 92.0.4515\n",
      "[WDM] - Get LATEST driver version for 92.0.4515\n",
      "[WDM] - Driver [/Users/cblanesg/.wdm/drivers/chromedriver/mac64/92.0.4515.107/chromedriver] found in cache\n"
     ]
    },
    {
     "name": "stdout",
     "output_type": "stream",
     "text": [
      " \n"
     ]
    },
    {
     "name": "stderr",
     "output_type": "stream",
     "text": [
      "  1%|          | 11/1130 [01:00<1:46:17,  5.70s/it][WDM] - Current google-chrome version is 92.0.4515\n",
      "[WDM] - Get LATEST driver version for 92.0.4515\n",
      "[WDM] - Driver [/Users/cblanesg/.wdm/drivers/chromedriver/mac64/92.0.4515.107/chromedriver] found in cache\n"
     ]
    },
    {
     "name": "stdout",
     "output_type": "stream",
     "text": [
      " \n"
     ]
    },
    {
     "name": "stderr",
     "output_type": "stream",
     "text": [
      "  1%|          | 12/1130 [01:05<1:44:55,  5.63s/it][WDM] - Current google-chrome version is 92.0.4515\n",
      "[WDM] - Get LATEST driver version for 92.0.4515\n",
      "[WDM] - Driver [/Users/cblanesg/.wdm/drivers/chromedriver/mac64/92.0.4515.107/chromedriver] found in cache\n"
     ]
    },
    {
     "name": "stdout",
     "output_type": "stream",
     "text": [
      " \n"
     ]
    },
    {
     "name": "stderr",
     "output_type": "stream",
     "text": [
      "  1%|          | 13/1130 [01:11<1:47:19,  5.76s/it][WDM] - Current google-chrome version is 92.0.4515\n",
      "[WDM] - Get LATEST driver version for 92.0.4515\n",
      "[WDM] - Driver [/Users/cblanesg/.wdm/drivers/chromedriver/mac64/92.0.4515.107/chromedriver] found in cache\n"
     ]
    },
    {
     "name": "stdout",
     "output_type": "stream",
     "text": [
      " \n"
     ]
    },
    {
     "name": "stderr",
     "output_type": "stream",
     "text": [
      "  1%|          | 14/1130 [01:17<1:48:13,  5.82s/it][WDM] - Current google-chrome version is 92.0.4515\n",
      "[WDM] - Get LATEST driver version for 92.0.4515\n",
      "[WDM] - Driver [/Users/cblanesg/.wdm/drivers/chromedriver/mac64/92.0.4515.107/chromedriver] found in cache\n"
     ]
    },
    {
     "name": "stdout",
     "output_type": "stream",
     "text": [
      " \n"
     ]
    },
    {
     "name": "stderr",
     "output_type": "stream",
     "text": [
      "  1%|▏         | 15/1130 [01:23<1:47:55,  5.81s/it][WDM] - Current google-chrome version is 92.0.4515\n",
      "[WDM] - Get LATEST driver version for 92.0.4515\n",
      "[WDM] - Driver [/Users/cblanesg/.wdm/drivers/chromedriver/mac64/92.0.4515.107/chromedriver] found in cache\n"
     ]
    },
    {
     "name": "stdout",
     "output_type": "stream",
     "text": [
      " \n"
     ]
    },
    {
     "name": "stderr",
     "output_type": "stream",
     "text": [
      "  1%|▏         | 16/1130 [01:29<1:50:07,  5.93s/it][WDM] - Current google-chrome version is 92.0.4515\n",
      "[WDM] - Get LATEST driver version for 92.0.4515\n",
      "[WDM] - Driver [/Users/cblanesg/.wdm/drivers/chromedriver/mac64/92.0.4515.107/chromedriver] found in cache\n"
     ]
    },
    {
     "name": "stdout",
     "output_type": "stream",
     "text": [
      " \n"
     ]
    },
    {
     "name": "stderr",
     "output_type": "stream",
     "text": [
      "  2%|▏         | 17/1130 [01:36<1:52:20,  6.06s/it][WDM] - Current google-chrome version is 92.0.4515\n",
      "[WDM] - Get LATEST driver version for 92.0.4515\n",
      "[WDM] - Driver [/Users/cblanesg/.wdm/drivers/chromedriver/mac64/92.0.4515.107/chromedriver] found in cache\n"
     ]
    },
    {
     "name": "stdout",
     "output_type": "stream",
     "text": [
      " \n"
     ]
    },
    {
     "name": "stderr",
     "output_type": "stream",
     "text": [
      "  2%|▏         | 18/1130 [01:41<1:51:21,  6.01s/it][WDM] - Current google-chrome version is 92.0.4515\n",
      "[WDM] - Get LATEST driver version for 92.0.4515\n",
      "[WDM] - Driver [/Users/cblanesg/.wdm/drivers/chromedriver/mac64/92.0.4515.107/chromedriver] found in cache\n"
     ]
    },
    {
     "name": "stdout",
     "output_type": "stream",
     "text": [
      " \n"
     ]
    },
    {
     "name": "stderr",
     "output_type": "stream",
     "text": [
      "  2%|▏         | 19/1130 [01:47<1:50:47,  5.98s/it][WDM] - Current google-chrome version is 92.0.4515\n",
      "[WDM] - Get LATEST driver version for 92.0.4515\n",
      "[WDM] - Driver [/Users/cblanesg/.wdm/drivers/chromedriver/mac64/92.0.4515.107/chromedriver] found in cache\n"
     ]
    },
    {
     "name": "stdout",
     "output_type": "stream",
     "text": [
      " \n"
     ]
    },
    {
     "name": "stderr",
     "output_type": "stream",
     "text": [
      "  2%|▏         | 20/1130 [01:54<1:51:38,  6.03s/it][WDM] - Current google-chrome version is 92.0.4515\n",
      "[WDM] - Get LATEST driver version for 92.0.4515\n",
      "[WDM] - Driver [/Users/cblanesg/.wdm/drivers/chromedriver/mac64/92.0.4515.107/chromedriver] found in cache\n"
     ]
    },
    {
     "name": "stdout",
     "output_type": "stream",
     "text": [
      " \n"
     ]
    },
    {
     "name": "stderr",
     "output_type": "stream",
     "text": [
      "  2%|▏         | 21/1130 [02:00<1:51:19,  6.02s/it][WDM] - Current google-chrome version is 92.0.4515\n",
      "[WDM] - Get LATEST driver version for 92.0.4515\n",
      "[WDM] - Driver [/Users/cblanesg/.wdm/drivers/chromedriver/mac64/92.0.4515.107/chromedriver] found in cache\n"
     ]
    },
    {
     "name": "stdout",
     "output_type": "stream",
     "text": [
      " \n"
     ]
    },
    {
     "name": "stderr",
     "output_type": "stream",
     "text": [
      "  2%|▏         | 22/1130 [02:06<1:51:14,  6.02s/it][WDM] - Current google-chrome version is 92.0.4515\n",
      "[WDM] - Get LATEST driver version for 92.0.4515\n",
      "[WDM] - Driver [/Users/cblanesg/.wdm/drivers/chromedriver/mac64/92.0.4515.107/chromedriver] found in cache\n"
     ]
    },
    {
     "name": "stdout",
     "output_type": "stream",
     "text": [
      " \n"
     ]
    },
    {
     "name": "stderr",
     "output_type": "stream",
     "text": [
      "  2%|▏         | 23/1130 [02:11<1:49:53,  5.96s/it][WDM] - Current google-chrome version is 92.0.4515\n",
      "[WDM] - Get LATEST driver version for 92.0.4515\n",
      "[WDM] - Driver [/Users/cblanesg/.wdm/drivers/chromedriver/mac64/92.0.4515.107/chromedriver] found in cache\n"
     ]
    },
    {
     "name": "stdout",
     "output_type": "stream",
     "text": [
      " \n"
     ]
    },
    {
     "name": "stderr",
     "output_type": "stream",
     "text": [
      "  2%|▏         | 24/1130 [02:17<1:48:10,  5.87s/it][WDM] - Current google-chrome version is 92.0.4515\n",
      "[WDM] - Get LATEST driver version for 92.0.4515\n",
      "[WDM] - Driver [/Users/cblanesg/.wdm/drivers/chromedriver/mac64/92.0.4515.107/chromedriver] found in cache\n"
     ]
    },
    {
     "name": "stdout",
     "output_type": "stream",
     "text": [
      " \n"
     ]
    },
    {
     "name": "stderr",
     "output_type": "stream",
     "text": [
      "  2%|▏         | 25/1130 [02:23<1:47:42,  5.85s/it][WDM] - Current google-chrome version is 92.0.4515\n",
      "[WDM] - Get LATEST driver version for 92.0.4515\n",
      "[WDM] - Driver [/Users/cblanesg/.wdm/drivers/chromedriver/mac64/92.0.4515.107/chromedriver] found in cache\n"
     ]
    },
    {
     "name": "stdout",
     "output_type": "stream",
     "text": [
      " \n"
     ]
    },
    {
     "name": "stderr",
     "output_type": "stream",
     "text": [
      "  2%|▏         | 26/1130 [02:29<1:47:03,  5.82s/it][WDM] - Current google-chrome version is 92.0.4515\n",
      "[WDM] - Get LATEST driver version for 92.0.4515\n",
      "[WDM] - Driver [/Users/cblanesg/.wdm/drivers/chromedriver/mac64/92.0.4515.107/chromedriver] found in cache\n"
     ]
    },
    {
     "name": "stdout",
     "output_type": "stream",
     "text": [
      " \n"
     ]
    },
    {
     "name": "stderr",
     "output_type": "stream",
     "text": [
      "  2%|▏         | 27/1130 [02:35<1:47:48,  5.86s/it][WDM] - Current google-chrome version is 92.0.4515\n",
      "[WDM] - Get LATEST driver version for 92.0.4515\n",
      "[WDM] - Driver [/Users/cblanesg/.wdm/drivers/chromedriver/mac64/92.0.4515.107/chromedriver] found in cache\n"
     ]
    },
    {
     "name": "stdout",
     "output_type": "stream",
     "text": [
      " \n"
     ]
    },
    {
     "name": "stderr",
     "output_type": "stream",
     "text": [
      "  2%|▏         | 28/1130 [02:41<1:49:21,  5.95s/it][WDM] - Current google-chrome version is 92.0.4515\n",
      "[WDM] - Get LATEST driver version for 92.0.4515\n",
      "[WDM] - Driver [/Users/cblanesg/.wdm/drivers/chromedriver/mac64/92.0.4515.107/chromedriver] found in cache\n"
     ]
    },
    {
     "name": "stdout",
     "output_type": "stream",
     "text": [
      " \n"
     ]
    },
    {
     "name": "stderr",
     "output_type": "stream",
     "text": [
      "  3%|▎         | 29/1130 [02:47<1:49:33,  5.97s/it][WDM] - Current google-chrome version is 92.0.4515\n",
      "[WDM] - Get LATEST driver version for 92.0.4515\n",
      "[WDM] - Driver [/Users/cblanesg/.wdm/drivers/chromedriver/mac64/92.0.4515.107/chromedriver] found in cache\n"
     ]
    },
    {
     "name": "stdout",
     "output_type": "stream",
     "text": [
      " \n"
     ]
    },
    {
     "name": "stderr",
     "output_type": "stream",
     "text": [
      "  3%|▎         | 30/1130 [02:53<1:49:46,  5.99s/it][WDM] - Current google-chrome version is 92.0.4515\n",
      "[WDM] - Get LATEST driver version for 92.0.4515\n",
      "[WDM] - Driver [/Users/cblanesg/.wdm/drivers/chromedriver/mac64/92.0.4515.107/chromedriver] found in cache\n"
     ]
    },
    {
     "name": "stdout",
     "output_type": "stream",
     "text": [
      " \n"
     ]
    },
    {
     "name": "stderr",
     "output_type": "stream",
     "text": [
      "  3%|▎         | 31/1130 [02:59<1:49:35,  5.98s/it][WDM] - Current google-chrome version is 92.0.4515\n",
      "[WDM] - Get LATEST driver version for 92.0.4515\n",
      "[WDM] - Driver [/Users/cblanesg/.wdm/drivers/chromedriver/mac64/92.0.4515.107/chromedriver] found in cache\n"
     ]
    },
    {
     "name": "stdout",
     "output_type": "stream",
     "text": [
      " \n"
     ]
    },
    {
     "name": "stderr",
     "output_type": "stream",
     "text": [
      "  3%|▎         | 32/1130 [03:05<1:50:00,  6.01s/it][WDM] - Current google-chrome version is 92.0.4515\n",
      "[WDM] - Get LATEST driver version for 92.0.4515\n",
      "[WDM] - Driver [/Users/cblanesg/.wdm/drivers/chromedriver/mac64/92.0.4515.107/chromedriver] found in cache\n"
     ]
    },
    {
     "name": "stdout",
     "output_type": "stream",
     "text": [
      " \n"
     ]
    },
    {
     "name": "stderr",
     "output_type": "stream",
     "text": [
      "  3%|▎         | 33/1130 [03:11<1:50:30,  6.04s/it][WDM] - Current google-chrome version is 92.0.4515\n",
      "[WDM] - Get LATEST driver version for 92.0.4515\n",
      "[WDM] - Driver [/Users/cblanesg/.wdm/drivers/chromedriver/mac64/92.0.4515.107/chromedriver] found in cache\n"
     ]
    },
    {
     "name": "stdout",
     "output_type": "stream",
     "text": [
      " \n"
     ]
    },
    {
     "name": "stderr",
     "output_type": "stream",
     "text": [
      "  3%|▎         | 34/1130 [03:17<1:48:51,  5.96s/it][WDM] - Current google-chrome version is 92.0.4515\n",
      "[WDM] - Get LATEST driver version for 92.0.4515\n",
      "[WDM] - Driver [/Users/cblanesg/.wdm/drivers/chromedriver/mac64/92.0.4515.107/chromedriver] found in cache\n"
     ]
    },
    {
     "name": "stdout",
     "output_type": "stream",
     "text": [
      " \n"
     ]
    },
    {
     "name": "stderr",
     "output_type": "stream",
     "text": [
      "  3%|▎         | 35/1130 [03:23<1:52:32,  6.17s/it][WDM] - Current google-chrome version is 92.0.4515\n",
      "[WDM] - Get LATEST driver version for 92.0.4515\n",
      "[WDM] - Driver [/Users/cblanesg/.wdm/drivers/chromedriver/mac64/92.0.4515.107/chromedriver] found in cache\n"
     ]
    },
    {
     "name": "stdout",
     "output_type": "stream",
     "text": [
      " \n"
     ]
    },
    {
     "name": "stderr",
     "output_type": "stream",
     "text": [
      "  3%|▎         | 36/1130 [03:29<1:51:07,  6.09s/it][WDM] - Current google-chrome version is 92.0.4515\n",
      "[WDM] - Get LATEST driver version for 92.0.4515\n",
      "[WDM] - Driver [/Users/cblanesg/.wdm/drivers/chromedriver/mac64/92.0.4515.107/chromedriver] found in cache\n"
     ]
    },
    {
     "name": "stdout",
     "output_type": "stream",
     "text": [
      " \n"
     ]
    },
    {
     "name": "stderr",
     "output_type": "stream",
     "text": [
      "  3%|▎         | 37/1130 [03:35<1:46:50,  5.87s/it][WDM] - Current google-chrome version is 92.0.4515\n",
      "[WDM] - Get LATEST driver version for 92.0.4515\n",
      "[WDM] - Driver [/Users/cblanesg/.wdm/drivers/chromedriver/mac64/92.0.4515.107/chromedriver] found in cache\n"
     ]
    },
    {
     "name": "stdout",
     "output_type": "stream",
     "text": [
      " \n"
     ]
    },
    {
     "name": "stderr",
     "output_type": "stream",
     "text": [
      "  3%|▎         | 38/1130 [03:39<1:39:00,  5.44s/it][WDM] - Current google-chrome version is 92.0.4515\n",
      "[WDM] - Get LATEST driver version for 92.0.4515\n",
      "[WDM] - Driver [/Users/cblanesg/.wdm/drivers/chromedriver/mac64/92.0.4515.107/chromedriver] found in cache\n"
     ]
    },
    {
     "name": "stdout",
     "output_type": "stream",
     "text": [
      " \n"
     ]
    },
    {
     "name": "stderr",
     "output_type": "stream",
     "text": [
      "  3%|▎         | 39/1130 [03:44<1:37:05,  5.34s/it][WDM] - Current google-chrome version is 92.0.4515\n",
      "[WDM] - Get LATEST driver version for 92.0.4515\n",
      "[WDM] - Driver [/Users/cblanesg/.wdm/drivers/chromedriver/mac64/92.0.4515.107/chromedriver] found in cache\n"
     ]
    },
    {
     "name": "stdout",
     "output_type": "stream",
     "text": [
      " \n"
     ]
    },
    {
     "name": "stderr",
     "output_type": "stream",
     "text": [
      "  4%|▎         | 40/1130 [03:49<1:34:56,  5.23s/it][WDM] - Current google-chrome version is 92.0.4515\n",
      "[WDM] - Get LATEST driver version for 92.0.4515\n",
      "[WDM] - Driver [/Users/cblanesg/.wdm/drivers/chromedriver/mac64/92.0.4515.107/chromedriver] found in cache\n"
     ]
    },
    {
     "name": "stdout",
     "output_type": "stream",
     "text": [
      " \n"
     ]
    },
    {
     "name": "stderr",
     "output_type": "stream",
     "text": [
      "  4%|▎         | 41/1130 [03:54<1:35:22,  5.25s/it][WDM] - Current google-chrome version is 92.0.4515\n",
      "[WDM] - Get LATEST driver version for 92.0.4515\n",
      "[WDM] - Driver [/Users/cblanesg/.wdm/drivers/chromedriver/mac64/92.0.4515.107/chromedriver] found in cache\n"
     ]
    },
    {
     "name": "stdout",
     "output_type": "stream",
     "text": [
      " \n"
     ]
    },
    {
     "name": "stderr",
     "output_type": "stream",
     "text": [
      "  4%|▎         | 42/1130 [04:00<1:38:41,  5.44s/it][WDM] - Current google-chrome version is 92.0.4515\n",
      "[WDM] - Get LATEST driver version for 92.0.4515\n",
      "[WDM] - Driver [/Users/cblanesg/.wdm/drivers/chromedriver/mac64/92.0.4515.107/chromedriver] found in cache\n"
     ]
    },
    {
     "name": "stdout",
     "output_type": "stream",
     "text": [
      " \n"
     ]
    },
    {
     "name": "stderr",
     "output_type": "stream",
     "text": [
      "  4%|▍         | 43/1130 [04:05<1:35:12,  5.26s/it][WDM] - Current google-chrome version is 92.0.4515\n",
      "[WDM] - Get LATEST driver version for 92.0.4515\n",
      "[WDM] - Driver [/Users/cblanesg/.wdm/drivers/chromedriver/mac64/92.0.4515.107/chromedriver] found in cache\n"
     ]
    },
    {
     "name": "stdout",
     "output_type": "stream",
     "text": [
      " \n"
     ]
    },
    {
     "name": "stderr",
     "output_type": "stream",
     "text": [
      "  4%|▍         | 44/1130 [04:10<1:33:44,  5.18s/it][WDM] - Current google-chrome version is 92.0.4515\n",
      "[WDM] - Get LATEST driver version for 92.0.4515\n",
      "[WDM] - Driver [/Users/cblanesg/.wdm/drivers/chromedriver/mac64/92.0.4515.107/chromedriver] found in cache\n"
     ]
    },
    {
     "name": "stdout",
     "output_type": "stream",
     "text": [
      " \n"
     ]
    },
    {
     "name": "stderr",
     "output_type": "stream",
     "text": [
      "  4%|▍         | 45/1130 [04:15<1:33:44,  5.18s/it][WDM] - Current google-chrome version is 92.0.4515\n",
      "[WDM] - Get LATEST driver version for 92.0.4515\n",
      "[WDM] - Driver [/Users/cblanesg/.wdm/drivers/chromedriver/mac64/92.0.4515.107/chromedriver] found in cache\n"
     ]
    },
    {
     "name": "stdout",
     "output_type": "stream",
     "text": [
      " \n"
     ]
    },
    {
     "name": "stderr",
     "output_type": "stream",
     "text": [
      "  4%|▍         | 46/1130 [04:20<1:32:51,  5.14s/it][WDM] - Current google-chrome version is 92.0.4515\n",
      "[WDM] - Get LATEST driver version for 92.0.4515\n",
      "[WDM] - Driver [/Users/cblanesg/.wdm/drivers/chromedriver/mac64/92.0.4515.107/chromedriver] found in cache\n"
     ]
    },
    {
     "name": "stdout",
     "output_type": "stream",
     "text": [
      " \n"
     ]
    },
    {
     "name": "stderr",
     "output_type": "stream",
     "text": [
      "  4%|▍         | 47/1130 [04:26<1:33:05,  5.16s/it][WDM] - Current google-chrome version is 92.0.4515\n",
      "[WDM] - Get LATEST driver version for 92.0.4515\n",
      "[WDM] - Driver [/Users/cblanesg/.wdm/drivers/chromedriver/mac64/92.0.4515.107/chromedriver] found in cache\n"
     ]
    },
    {
     "name": "stdout",
     "output_type": "stream",
     "text": [
      " \n"
     ]
    },
    {
     "name": "stderr",
     "output_type": "stream",
     "text": [
      "  4%|▍         | 48/1130 [04:31<1:32:45,  5.14s/it][WDM] - Current google-chrome version is 92.0.4515\n",
      "[WDM] - Get LATEST driver version for 92.0.4515\n",
      "[WDM] - Driver [/Users/cblanesg/.wdm/drivers/chromedriver/mac64/92.0.4515.107/chromedriver] found in cache\n"
     ]
    },
    {
     "name": "stdout",
     "output_type": "stream",
     "text": [
      " \n"
     ]
    },
    {
     "name": "stderr",
     "output_type": "stream",
     "text": [
      "  4%|▍         | 49/1130 [04:36<1:32:32,  5.14s/it][WDM] - Current google-chrome version is 92.0.4515\n",
      "[WDM] - Get LATEST driver version for 92.0.4515\n",
      "[WDM] - Driver [/Users/cblanesg/.wdm/drivers/chromedriver/mac64/92.0.4515.107/chromedriver] found in cache\n"
     ]
    },
    {
     "name": "stdout",
     "output_type": "stream",
     "text": [
      " \n"
     ]
    },
    {
     "name": "stderr",
     "output_type": "stream",
     "text": [
      "  4%|▍         | 50/1130 [04:41<1:33:25,  5.19s/it][WDM] - Current google-chrome version is 92.0.4515\n",
      "[WDM] - Get LATEST driver version for 92.0.4515\n",
      "[WDM] - Driver [/Users/cblanesg/.wdm/drivers/chromedriver/mac64/92.0.4515.107/chromedriver] found in cache\n"
     ]
    },
    {
     "name": "stdout",
     "output_type": "stream",
     "text": [
      " \n"
     ]
    },
    {
     "name": "stderr",
     "output_type": "stream",
     "text": [
      "  5%|▍         | 51/1130 [04:46<1:33:00,  5.17s/it][WDM] - Current google-chrome version is 92.0.4515\n",
      "[WDM] - Get LATEST driver version for 92.0.4515\n",
      "[WDM] - Driver [/Users/cblanesg/.wdm/drivers/chromedriver/mac64/92.0.4515.107/chromedriver] found in cache\n"
     ]
    },
    {
     "name": "stdout",
     "output_type": "stream",
     "text": [
      " \n"
     ]
    },
    {
     "name": "stderr",
     "output_type": "stream",
     "text": [
      "  5%|▍         | 52/1130 [04:51<1:32:44,  5.16s/it][WDM] - Current google-chrome version is 92.0.4515\n",
      "[WDM] - Get LATEST driver version for 92.0.4515\n",
      "[WDM] - Driver [/Users/cblanesg/.wdm/drivers/chromedriver/mac64/92.0.4515.107/chromedriver] found in cache\n"
     ]
    },
    {
     "name": "stdout",
     "output_type": "stream",
     "text": [
      " \n"
     ]
    },
    {
     "name": "stderr",
     "output_type": "stream",
     "text": [
      "  5%|▍         | 53/1130 [04:57<1:32:54,  5.18s/it][WDM] - Current google-chrome version is 92.0.4515\n",
      "[WDM] - Get LATEST driver version for 92.0.4515\n",
      "[WDM] - Driver [/Users/cblanesg/.wdm/drivers/chromedriver/mac64/92.0.4515.107/chromedriver] found in cache\n"
     ]
    },
    {
     "name": "stdout",
     "output_type": "stream",
     "text": [
      " \n"
     ]
    },
    {
     "name": "stderr",
     "output_type": "stream",
     "text": [
      "  5%|▍         | 54/1130 [05:02<1:33:45,  5.23s/it][WDM] - Current google-chrome version is 92.0.4515\n",
      "[WDM] - Get LATEST driver version for 92.0.4515\n"
     ]
    },
    {
     "name": "stdout",
     "output_type": "stream",
     "text": [
      " \n"
     ]
    },
    {
     "name": "stderr",
     "output_type": "stream",
     "text": [
      "[WDM] - Driver [/Users/cblanesg/.wdm/drivers/chromedriver/mac64/92.0.4515.107/chromedriver] found in cache\n",
      "  5%|▍         | 55/1130 [05:09<1:41:14,  5.65s/it][WDM] - Current google-chrome version is 92.0.4515\n",
      "[WDM] - Get LATEST driver version for 92.0.4515\n",
      "[WDM] - Driver [/Users/cblanesg/.wdm/drivers/chromedriver/mac64/92.0.4515.107/chromedriver] found in cache\n"
     ]
    },
    {
     "name": "stdout",
     "output_type": "stream",
     "text": [
      " \n"
     ]
    },
    {
     "name": "stderr",
     "output_type": "stream",
     "text": [
      "  5%|▍         | 56/1130 [05:14<1:37:35,  5.45s/it][WDM] - Current google-chrome version is 92.0.4515\n",
      "[WDM] - Get LATEST driver version for 92.0.4515\n",
      "[WDM] - Driver [/Users/cblanesg/.wdm/drivers/chromedriver/mac64/92.0.4515.107/chromedriver] found in cache\n"
     ]
    },
    {
     "name": "stdout",
     "output_type": "stream",
     "text": [
      " \n"
     ]
    },
    {
     "name": "stderr",
     "output_type": "stream",
     "text": [
      "  5%|▌         | 57/1130 [05:17<1:28:58,  4.97s/it][WDM] - Current google-chrome version is 92.0.4515\n",
      "[WDM] - Get LATEST driver version for 92.0.4515\n",
      "[WDM] - Driver [/Users/cblanesg/.wdm/drivers/chromedriver/mac64/92.0.4515.107/chromedriver] found in cache\n"
     ]
    },
    {
     "name": "stdout",
     "output_type": "stream",
     "text": [
      " \n"
     ]
    },
    {
     "name": "stderr",
     "output_type": "stream",
     "text": [
      "  5%|▌         | 58/1130 [05:24<1:35:36,  5.35s/it][WDM] - Current google-chrome version is 92.0.4515\n",
      "[WDM] - Get LATEST driver version for 92.0.4515\n",
      "[WDM] - Driver [/Users/cblanesg/.wdm/drivers/chromedriver/mac64/92.0.4515.107/chromedriver] found in cache\n"
     ]
    },
    {
     "name": "stdout",
     "output_type": "stream",
     "text": [
      " \n"
     ]
    },
    {
     "name": "stderr",
     "output_type": "stream",
     "text": [
      "  5%|▌         | 59/1130 [05:29<1:33:58,  5.27s/it][WDM] - Current google-chrome version is 92.0.4515\n",
      "[WDM] - Get LATEST driver version for 92.0.4515\n",
      "[WDM] - Driver [/Users/cblanesg/.wdm/drivers/chromedriver/mac64/92.0.4515.107/chromedriver] found in cache\n"
     ]
    },
    {
     "name": "stdout",
     "output_type": "stream",
     "text": [
      " \n"
     ]
    },
    {
     "name": "stderr",
     "output_type": "stream",
     "text": [
      "  5%|▌         | 60/1130 [05:34<1:32:34,  5.19s/it][WDM] - Current google-chrome version is 92.0.4515\n",
      "[WDM] - Get LATEST driver version for 92.0.4515\n",
      "[WDM] - Driver [/Users/cblanesg/.wdm/drivers/chromedriver/mac64/92.0.4515.107/chromedriver] found in cache\n"
     ]
    },
    {
     "name": "stdout",
     "output_type": "stream",
     "text": [
      " \n"
     ]
    },
    {
     "name": "stderr",
     "output_type": "stream",
     "text": [
      "  5%|▌         | 61/1130 [05:38<1:27:43,  4.92s/it][WDM] - Current google-chrome version is 92.0.4515\n",
      "[WDM] - Get LATEST driver version for 92.0.4515\n",
      "[WDM] - Driver [/Users/cblanesg/.wdm/drivers/chromedriver/mac64/92.0.4515.107/chromedriver] found in cache\n"
     ]
    },
    {
     "name": "stdout",
     "output_type": "stream",
     "text": [
      " \n"
     ]
    },
    {
     "name": "stderr",
     "output_type": "stream",
     "text": [
      "  5%|▌         | 62/1130 [05:43<1:28:43,  4.98s/it][WDM] - Current google-chrome version is 92.0.4515\n",
      "[WDM] - Get LATEST driver version for 92.0.4515\n",
      "[WDM] - Driver [/Users/cblanesg/.wdm/drivers/chromedriver/mac64/92.0.4515.107/chromedriver] found in cache\n"
     ]
    },
    {
     "name": "stdout",
     "output_type": "stream",
     "text": [
      " \n"
     ]
    },
    {
     "name": "stderr",
     "output_type": "stream",
     "text": [
      "  6%|▌         | 63/1130 [05:48<1:30:06,  5.07s/it][WDM] - Current google-chrome version is 92.0.4515\n",
      "[WDM] - Get LATEST driver version for 92.0.4515\n",
      "[WDM] - Driver [/Users/cblanesg/.wdm/drivers/chromedriver/mac64/92.0.4515.107/chromedriver] found in cache\n"
     ]
    },
    {
     "name": "stdout",
     "output_type": "stream",
     "text": [
      " \n"
     ]
    },
    {
     "name": "stderr",
     "output_type": "stream",
     "text": [
      "  6%|▌         | 64/1130 [05:52<1:24:41,  4.77s/it][WDM] - Current google-chrome version is 92.0.4515\n",
      "[WDM] - Get LATEST driver version for 92.0.4515\n",
      "[WDM] - Driver [/Users/cblanesg/.wdm/drivers/chromedriver/mac64/92.0.4515.107/chromedriver] found in cache\n"
     ]
    },
    {
     "name": "stdout",
     "output_type": "stream",
     "text": [
      " \n"
     ]
    },
    {
     "name": "stderr",
     "output_type": "stream",
     "text": [
      "  6%|▌         | 65/1130 [05:58<1:26:26,  4.87s/it][WDM] - Current google-chrome version is 92.0.4515\n",
      "[WDM] - Get LATEST driver version for 92.0.4515\n",
      "[WDM] - Driver [/Users/cblanesg/.wdm/drivers/chromedriver/mac64/92.0.4515.107/chromedriver] found in cache\n"
     ]
    },
    {
     "name": "stdout",
     "output_type": "stream",
     "text": [
      " \n"
     ]
    },
    {
     "name": "stderr",
     "output_type": "stream",
     "text": [
      "  6%|▌         | 66/1130 [06:03<1:27:12,  4.92s/it][WDM] - Current google-chrome version is 92.0.4515\n",
      "[WDM] - Get LATEST driver version for 92.0.4515\n",
      "[WDM] - Driver [/Users/cblanesg/.wdm/drivers/chromedriver/mac64/92.0.4515.107/chromedriver] found in cache\n"
     ]
    },
    {
     "name": "stdout",
     "output_type": "stream",
     "text": [
      " \n"
     ]
    },
    {
     "name": "stderr",
     "output_type": "stream",
     "text": [
      "  6%|▌         | 67/1130 [06:08<1:28:13,  4.98s/it][WDM] - Current google-chrome version is 92.0.4515\n",
      "[WDM] - Get LATEST driver version for 92.0.4515\n",
      "[WDM] - Driver [/Users/cblanesg/.wdm/drivers/chromedriver/mac64/92.0.4515.107/chromedriver] found in cache\n"
     ]
    },
    {
     "name": "stdout",
     "output_type": "stream",
     "text": [
      " \n"
     ]
    },
    {
     "name": "stderr",
     "output_type": "stream",
     "text": [
      "  6%|▌         | 68/1130 [06:13<1:30:03,  5.09s/it][WDM] - Current google-chrome version is 92.0.4515\n",
      "[WDM] - Get LATEST driver version for 92.0.4515\n",
      "[WDM] - Driver [/Users/cblanesg/.wdm/drivers/chromedriver/mac64/92.0.4515.107/chromedriver] found in cache\n"
     ]
    },
    {
     "name": "stdout",
     "output_type": "stream",
     "text": [
      " \n"
     ]
    },
    {
     "name": "stderr",
     "output_type": "stream",
     "text": [
      "  6%|▌         | 69/1130 [06:18<1:30:33,  5.12s/it][WDM] - Current google-chrome version is 92.0.4515\n",
      "[WDM] - Get LATEST driver version for 92.0.4515\n",
      "[WDM] - Driver [/Users/cblanesg/.wdm/drivers/chromedriver/mac64/92.0.4515.107/chromedriver] found in cache\n"
     ]
    },
    {
     "name": "stdout",
     "output_type": "stream",
     "text": [
      " \n"
     ]
    },
    {
     "name": "stderr",
     "output_type": "stream",
     "text": [
      "  6%|▌         | 70/1130 [06:23<1:29:27,  5.06s/it][WDM] - Current google-chrome version is 92.0.4515\n",
      "[WDM] - Get LATEST driver version for 92.0.4515\n",
      "[WDM] - Driver [/Users/cblanesg/.wdm/drivers/chromedriver/mac64/92.0.4515.107/chromedriver] found in cache\n"
     ]
    },
    {
     "name": "stdout",
     "output_type": "stream",
     "text": [
      " \n"
     ]
    },
    {
     "name": "stderr",
     "output_type": "stream",
     "text": [
      "  6%|▋         | 71/1130 [06:28<1:29:06,  5.05s/it][WDM] - Current google-chrome version is 92.0.4515\n",
      "[WDM] - Get LATEST driver version for 92.0.4515\n",
      "[WDM] - Driver [/Users/cblanesg/.wdm/drivers/chromedriver/mac64/92.0.4515.107/chromedriver] found in cache\n"
     ]
    },
    {
     "name": "stdout",
     "output_type": "stream",
     "text": [
      " \n"
     ]
    },
    {
     "name": "stderr",
     "output_type": "stream",
     "text": [
      "  6%|▋         | 72/1130 [06:33<1:30:04,  5.11s/it][WDM] - Current google-chrome version is 92.0.4515\n",
      "[WDM] - Get LATEST driver version for 92.0.4515\n",
      "[WDM] - Driver [/Users/cblanesg/.wdm/drivers/chromedriver/mac64/92.0.4515.107/chromedriver] found in cache\n"
     ]
    },
    {
     "name": "stdout",
     "output_type": "stream",
     "text": [
      " \n"
     ]
    },
    {
     "name": "stderr",
     "output_type": "stream",
     "text": [
      "  6%|▋         | 73/1130 [06:38<1:29:27,  5.08s/it][WDM] - Current google-chrome version is 92.0.4515\n",
      "[WDM] - Get LATEST driver version for 92.0.4515\n",
      "[WDM] - Driver [/Users/cblanesg/.wdm/drivers/chromedriver/mac64/92.0.4515.107/chromedriver] found in cache\n"
     ]
    },
    {
     "name": "stdout",
     "output_type": "stream",
     "text": [
      " \n"
     ]
    },
    {
     "name": "stderr",
     "output_type": "stream",
     "text": [
      "  7%|▋         | 74/1130 [06:44<1:30:38,  5.15s/it][WDM] - Current google-chrome version is 92.0.4515\n",
      "[WDM] - Get LATEST driver version for 92.0.4515\n",
      "[WDM] - Driver [/Users/cblanesg/.wdm/drivers/chromedriver/mac64/92.0.4515.107/chromedriver] found in cache\n"
     ]
    },
    {
     "name": "stdout",
     "output_type": "stream",
     "text": [
      " \n"
     ]
    },
    {
     "name": "stderr",
     "output_type": "stream",
     "text": [
      "  7%|▋         | 75/1130 [06:49<1:31:20,  5.20s/it][WDM] - Current google-chrome version is 92.0.4515\n",
      "[WDM] - Get LATEST driver version for 92.0.4515\n",
      "[WDM] - Driver [/Users/cblanesg/.wdm/drivers/chromedriver/mac64/92.0.4515.107/chromedriver] found in cache\n"
     ]
    },
    {
     "name": "stdout",
     "output_type": "stream",
     "text": [
      " \n"
     ]
    },
    {
     "name": "stderr",
     "output_type": "stream",
     "text": [
      "  7%|▋         | 76/1130 [06:54<1:31:33,  5.21s/it][WDM] - Current google-chrome version is 92.0.4515\n",
      "[WDM] - Get LATEST driver version for 92.0.4515\n",
      "[WDM] - Driver [/Users/cblanesg/.wdm/drivers/chromedriver/mac64/92.0.4515.107/chromedriver] found in cache\n"
     ]
    },
    {
     "name": "stdout",
     "output_type": "stream",
     "text": [
      " \n"
     ]
    },
    {
     "name": "stderr",
     "output_type": "stream",
     "text": [
      "  7%|▋         | 77/1130 [07:00<1:31:10,  5.20s/it][WDM] - Current google-chrome version is 92.0.4515\n",
      "[WDM] - Get LATEST driver version for 92.0.4515\n",
      "[WDM] - Driver [/Users/cblanesg/.wdm/drivers/chromedriver/mac64/92.0.4515.107/chromedriver] found in cache\n"
     ]
    },
    {
     "name": "stdout",
     "output_type": "stream",
     "text": [
      " \n"
     ]
    },
    {
     "name": "stderr",
     "output_type": "stream",
     "text": [
      "  7%|▋         | 78/1130 [07:05<1:30:03,  5.14s/it][WDM] - Current google-chrome version is 92.0.4515\n",
      "[WDM] - Get LATEST driver version for 92.0.4515\n",
      "[WDM] - Driver [/Users/cblanesg/.wdm/drivers/chromedriver/mac64/92.0.4515.107/chromedriver] found in cache\n"
     ]
    },
    {
     "name": "stdout",
     "output_type": "stream",
     "text": [
      " \n"
     ]
    },
    {
     "name": "stderr",
     "output_type": "stream",
     "text": [
      "  7%|▋         | 79/1130 [07:10<1:29:50,  5.13s/it][WDM] - Current google-chrome version is 92.0.4515\n",
      "[WDM] - Get LATEST driver version for 92.0.4515\n",
      "[WDM] - Driver [/Users/cblanesg/.wdm/drivers/chromedriver/mac64/92.0.4515.107/chromedriver] found in cache\n"
     ]
    },
    {
     "name": "stdout",
     "output_type": "stream",
     "text": [
      " \n"
     ]
    },
    {
     "name": "stderr",
     "output_type": "stream",
     "text": [
      "  7%|▋         | 80/1130 [07:15<1:29:18,  5.10s/it][WDM] - Current google-chrome version is 92.0.4515\n",
      "[WDM] - Get LATEST driver version for 92.0.4515\n",
      "[WDM] - Driver [/Users/cblanesg/.wdm/drivers/chromedriver/mac64/92.0.4515.107/chromedriver] found in cache\n"
     ]
    },
    {
     "name": "stdout",
     "output_type": "stream",
     "text": [
      " \n"
     ]
    },
    {
     "name": "stderr",
     "output_type": "stream",
     "text": [
      "  7%|▋         | 81/1130 [07:20<1:28:52,  5.08s/it][WDM] - Current google-chrome version is 92.0.4515\n",
      "[WDM] - Get LATEST driver version for 92.0.4515\n",
      "[WDM] - Driver [/Users/cblanesg/.wdm/drivers/chromedriver/mac64/92.0.4515.107/chromedriver] found in cache\n"
     ]
    },
    {
     "name": "stdout",
     "output_type": "stream",
     "text": [
      " \n"
     ]
    },
    {
     "name": "stderr",
     "output_type": "stream",
     "text": [
      "  7%|▋         | 82/1130 [07:25<1:29:10,  5.11s/it][WDM] - Current google-chrome version is 92.0.4515\n",
      "[WDM] - Get LATEST driver version for 92.0.4515\n",
      "[WDM] - Driver [/Users/cblanesg/.wdm/drivers/chromedriver/mac64/92.0.4515.107/chromedriver] found in cache\n"
     ]
    },
    {
     "name": "stdout",
     "output_type": "stream",
     "text": [
      " \n"
     ]
    },
    {
     "name": "stderr",
     "output_type": "stream",
     "text": [
      "  7%|▋         | 83/1130 [07:29<1:23:51,  4.81s/it][WDM] - Current google-chrome version is 92.0.4515\n",
      "[WDM] - Get LATEST driver version for 92.0.4515\n",
      "[WDM] - Driver [/Users/cblanesg/.wdm/drivers/chromedriver/mac64/92.0.4515.107/chromedriver] found in cache\n"
     ]
    },
    {
     "name": "stdout",
     "output_type": "stream",
     "text": [
      " \n"
     ]
    },
    {
     "name": "stderr",
     "output_type": "stream",
     "text": [
      "  7%|▋         | 84/1130 [07:34<1:25:25,  4.90s/it][WDM] - Current google-chrome version is 92.0.4515\n",
      "[WDM] - Get LATEST driver version for 92.0.4515\n",
      "[WDM] - Driver [/Users/cblanesg/.wdm/drivers/chromedriver/mac64/92.0.4515.107/chromedriver] found in cache\n"
     ]
    },
    {
     "name": "stdout",
     "output_type": "stream",
     "text": [
      " \n"
     ]
    },
    {
     "name": "stderr",
     "output_type": "stream",
     "text": [
      "  8%|▊         | 85/1130 [07:39<1:26:23,  4.96s/it][WDM] - Current google-chrome version is 92.0.4515\n",
      "[WDM] - Get LATEST driver version for 92.0.4515\n",
      "[WDM] - Driver [/Users/cblanesg/.wdm/drivers/chromedriver/mac64/92.0.4515.107/chromedriver] found in cache\n"
     ]
    },
    {
     "name": "stdout",
     "output_type": "stream",
     "text": [
      " \n"
     ]
    },
    {
     "name": "stderr",
     "output_type": "stream",
     "text": [
      "  8%|▊         | 86/1130 [07:45<1:29:12,  5.13s/it][WDM] - Current google-chrome version is 92.0.4515\n",
      "[WDM] - Get LATEST driver version for 92.0.4515\n",
      "[WDM] - Driver [/Users/cblanesg/.wdm/drivers/chromedriver/mac64/92.0.4515.107/chromedriver] found in cache\n"
     ]
    },
    {
     "name": "stdout",
     "output_type": "stream",
     "text": [
      " \n"
     ]
    },
    {
     "name": "stderr",
     "output_type": "stream",
     "text": [
      "  8%|▊         | 87/1130 [07:50<1:30:32,  5.21s/it][WDM] - Current google-chrome version is 92.0.4515\n",
      "[WDM] - Get LATEST driver version for 92.0.4515\n",
      "[WDM] - Driver [/Users/cblanesg/.wdm/drivers/chromedriver/mac64/92.0.4515.107/chromedriver] found in cache\n"
     ]
    },
    {
     "name": "stdout",
     "output_type": "stream",
     "text": [
      " \n"
     ]
    },
    {
     "name": "stderr",
     "output_type": "stream",
     "text": [
      "  8%|▊         | 88/1130 [07:55<1:29:19,  5.14s/it][WDM] - Current google-chrome version is 92.0.4515\n",
      "[WDM] - Get LATEST driver version for 92.0.4515\n",
      "[WDM] - Driver [/Users/cblanesg/.wdm/drivers/chromedriver/mac64/92.0.4515.107/chromedriver] found in cache\n"
     ]
    },
    {
     "name": "stdout",
     "output_type": "stream",
     "text": [
      " \n"
     ]
    },
    {
     "name": "stderr",
     "output_type": "stream",
     "text": [
      "  8%|▊         | 89/1130 [08:00<1:30:00,  5.19s/it][WDM] - Current google-chrome version is 92.0.4515\n",
      "[WDM] - Get LATEST driver version for 92.0.4515\n",
      "[WDM] - Driver [/Users/cblanesg/.wdm/drivers/chromedriver/mac64/92.0.4515.107/chromedriver] found in cache\n"
     ]
    },
    {
     "name": "stdout",
     "output_type": "stream",
     "text": [
      " \n"
     ]
    },
    {
     "name": "stderr",
     "output_type": "stream",
     "text": [
      "  8%|▊         | 90/1130 [08:06<1:30:48,  5.24s/it][WDM] - Current google-chrome version is 92.0.4515\n",
      "[WDM] - Get LATEST driver version for 92.0.4515\n",
      "[WDM] - Driver [/Users/cblanesg/.wdm/drivers/chromedriver/mac64/92.0.4515.107/chromedriver] found in cache\n"
     ]
    },
    {
     "name": "stdout",
     "output_type": "stream",
     "text": [
      " \n"
     ]
    },
    {
     "name": "stderr",
     "output_type": "stream",
     "text": [
      "  8%|▊         | 91/1130 [08:10<1:25:54,  4.96s/it][WDM] - Current google-chrome version is 92.0.4515\n",
      "[WDM] - Get LATEST driver version for 92.0.4515\n",
      "[WDM] - Driver [/Users/cblanesg/.wdm/drivers/chromedriver/mac64/92.0.4515.107/chromedriver] found in cache\n"
     ]
    },
    {
     "name": "stdout",
     "output_type": "stream",
     "text": [
      " \n"
     ]
    },
    {
     "name": "stderr",
     "output_type": "stream",
     "text": [
      "  8%|▊         | 92/1130 [08:15<1:27:15,  5.04s/it][WDM] - Current google-chrome version is 92.0.4515\n",
      "[WDM] - Get LATEST driver version for 92.0.4515\n",
      "[WDM] - Driver [/Users/cblanesg/.wdm/drivers/chromedriver/mac64/92.0.4515.107/chromedriver] found in cache\n"
     ]
    },
    {
     "name": "stdout",
     "output_type": "stream",
     "text": [
      " \n"
     ]
    },
    {
     "name": "stderr",
     "output_type": "stream",
     "text": [
      "  8%|▊         | 93/1130 [08:20<1:28:00,  5.09s/it][WDM] - Current google-chrome version is 92.0.4515\n",
      "[WDM] - Get LATEST driver version for 92.0.4515\n",
      "[WDM] - Driver [/Users/cblanesg/.wdm/drivers/chromedriver/mac64/92.0.4515.107/chromedriver] found in cache\n"
     ]
    },
    {
     "name": "stdout",
     "output_type": "stream",
     "text": [
      " \n"
     ]
    },
    {
     "name": "stderr",
     "output_type": "stream",
     "text": [
      "  8%|▊         | 94/1130 [08:25<1:27:19,  5.06s/it][WDM] - Current google-chrome version is 92.0.4515\n",
      "[WDM] - Get LATEST driver version for 92.0.4515\n",
      "[WDM] - Driver [/Users/cblanesg/.wdm/drivers/chromedriver/mac64/92.0.4515.107/chromedriver] found in cache\n"
     ]
    },
    {
     "name": "stdout",
     "output_type": "stream",
     "text": [
      " \n"
     ]
    },
    {
     "name": "stderr",
     "output_type": "stream",
     "text": [
      "  8%|▊         | 95/1130 [08:31<1:29:13,  5.17s/it][WDM] - Current google-chrome version is 92.0.4515\n",
      "[WDM] - Get LATEST driver version for 92.0.4515\n",
      "[WDM] - Driver [/Users/cblanesg/.wdm/drivers/chromedriver/mac64/92.0.4515.107/chromedriver] found in cache\n"
     ]
    },
    {
     "name": "stdout",
     "output_type": "stream",
     "text": [
      " \n"
     ]
    },
    {
     "name": "stderr",
     "output_type": "stream",
     "text": [
      "  8%|▊         | 96/1130 [08:36<1:27:56,  5.10s/it][WDM] - Current google-chrome version is 92.0.4515\n",
      "[WDM] - Get LATEST driver version for 92.0.4515\n",
      "[WDM] - Driver [/Users/cblanesg/.wdm/drivers/chromedriver/mac64/92.0.4515.107/chromedriver] found in cache\n"
     ]
    },
    {
     "name": "stdout",
     "output_type": "stream",
     "text": [
      " \n"
     ]
    },
    {
     "name": "stderr",
     "output_type": "stream",
     "text": [
      "  9%|▊         | 97/1130 [08:41<1:28:55,  5.17s/it][WDM] - Current google-chrome version is 92.0.4515\n",
      "[WDM] - Get LATEST driver version for 92.0.4515\n",
      "[WDM] - Driver [/Users/cblanesg/.wdm/drivers/chromedriver/mac64/92.0.4515.107/chromedriver] found in cache\n"
     ]
    },
    {
     "name": "stdout",
     "output_type": "stream",
     "text": [
      " \n"
     ]
    },
    {
     "name": "stderr",
     "output_type": "stream",
     "text": [
      "  9%|▊         | 98/1130 [08:47<1:30:28,  5.26s/it][WDM] - Current google-chrome version is 92.0.4515\n",
      "[WDM] - Get LATEST driver version for 92.0.4515\n",
      "[WDM] - Driver [/Users/cblanesg/.wdm/drivers/chromedriver/mac64/92.0.4515.107/chromedriver] found in cache\n"
     ]
    },
    {
     "name": "stdout",
     "output_type": "stream",
     "text": [
      " \n"
     ]
    },
    {
     "name": "stderr",
     "output_type": "stream",
     "text": [
      "  9%|▉         | 99/1130 [08:52<1:30:03,  5.24s/it][WDM] - Current google-chrome version is 92.0.4515\n",
      "[WDM] - Get LATEST driver version for 92.0.4515\n",
      "[WDM] - Driver [/Users/cblanesg/.wdm/drivers/chromedriver/mac64/92.0.4515.107/chromedriver] found in cache\n"
     ]
    },
    {
     "name": "stdout",
     "output_type": "stream",
     "text": [
      " \n"
     ]
    },
    {
     "name": "stderr",
     "output_type": "stream",
     "text": [
      "  9%|▉         | 100/1130 [08:57<1:29:32,  5.22s/it][WDM] - Current google-chrome version is 92.0.4515\n",
      "[WDM] - Get LATEST driver version for 92.0.4515\n",
      "[WDM] - Driver [/Users/cblanesg/.wdm/drivers/chromedriver/mac64/92.0.4515.107/chromedriver] found in cache\n"
     ]
    },
    {
     "name": "stdout",
     "output_type": "stream",
     "text": [
      " \n"
     ]
    },
    {
     "name": "stderr",
     "output_type": "stream",
     "text": [
      "  9%|▉         | 101/1130 [09:02<1:29:09,  5.20s/it][WDM] - Current google-chrome version is 92.0.4515\n",
      "[WDM] - Get LATEST driver version for 92.0.4515\n",
      "[WDM] - Driver [/Users/cblanesg/.wdm/drivers/chromedriver/mac64/92.0.4515.107/chromedriver] found in cache\n"
     ]
    },
    {
     "name": "stdout",
     "output_type": "stream",
     "text": [
      " \n"
     ]
    },
    {
     "name": "stderr",
     "output_type": "stream",
     "text": [
      "  9%|▉         | 102/1130 [09:07<1:28:32,  5.17s/it][WDM] - Current google-chrome version is 92.0.4515\n",
      "[WDM] - Get LATEST driver version for 92.0.4515\n",
      "[WDM] - Driver [/Users/cblanesg/.wdm/drivers/chromedriver/mac64/92.0.4515.107/chromedriver] found in cache\n"
     ]
    },
    {
     "name": "stdout",
     "output_type": "stream",
     "text": [
      " \n"
     ]
    },
    {
     "name": "stderr",
     "output_type": "stream",
     "text": [
      "  9%|▉         | 103/1130 [09:12<1:28:00,  5.14s/it][WDM] - Current google-chrome version is 92.0.4515\n",
      "[WDM] - Get LATEST driver version for 92.0.4515\n",
      "[WDM] - Driver [/Users/cblanesg/.wdm/drivers/chromedriver/mac64/92.0.4515.107/chromedriver] found in cache\n"
     ]
    },
    {
     "name": "stdout",
     "output_type": "stream",
     "text": [
      " \n"
     ]
    },
    {
     "name": "stderr",
     "output_type": "stream",
     "text": [
      "  9%|▉         | 104/1130 [09:16<1:22:37,  4.83s/it][WDM] - Current google-chrome version is 92.0.4515\n",
      "[WDM] - Get LATEST driver version for 92.0.4515\n",
      "[WDM] - Driver [/Users/cblanesg/.wdm/drivers/chromedriver/mac64/92.0.4515.107/chromedriver] found in cache\n"
     ]
    },
    {
     "name": "stdout",
     "output_type": "stream",
     "text": [
      " \n"
     ]
    },
    {
     "name": "stderr",
     "output_type": "stream",
     "text": [
      "  9%|▉         | 105/1130 [09:22<1:24:49,  4.97s/it][WDM] - Current google-chrome version is 92.0.4515\n",
      "[WDM] - Get LATEST driver version for 92.0.4515\n",
      "[WDM] - Driver [/Users/cblanesg/.wdm/drivers/chromedriver/mac64/92.0.4515.107/chromedriver] found in cache\n"
     ]
    },
    {
     "name": "stdout",
     "output_type": "stream",
     "text": [
      " \n"
     ]
    },
    {
     "name": "stderr",
     "output_type": "stream",
     "text": [
      "  9%|▉         | 106/1130 [09:27<1:26:21,  5.06s/it][WDM] - Current google-chrome version is 92.0.4515\n",
      "[WDM] - Get LATEST driver version for 92.0.4515\n",
      "[WDM] - Driver [/Users/cblanesg/.wdm/drivers/chromedriver/mac64/92.0.4515.107/chromedriver] found in cache\n"
     ]
    },
    {
     "name": "stdout",
     "output_type": "stream",
     "text": [
      " \n"
     ]
    },
    {
     "name": "stderr",
     "output_type": "stream",
     "text": [
      "  9%|▉         | 107/1130 [09:32<1:26:46,  5.09s/it][WDM] - Current google-chrome version is 92.0.4515\n",
      "[WDM] - Get LATEST driver version for 92.0.4515\n",
      "[WDM] - Driver [/Users/cblanesg/.wdm/drivers/chromedriver/mac64/92.0.4515.107/chromedriver] found in cache\n"
     ]
    },
    {
     "name": "stdout",
     "output_type": "stream",
     "text": [
      " \n"
     ]
    },
    {
     "name": "stderr",
     "output_type": "stream",
     "text": [
      " 10%|▉         | 108/1130 [09:37<1:26:48,  5.10s/it][WDM] - Current google-chrome version is 92.0.4515\n",
      "[WDM] - Get LATEST driver version for 92.0.4515\n",
      "[WDM] - Driver [/Users/cblanesg/.wdm/drivers/chromedriver/mac64/92.0.4515.107/chromedriver] found in cache\n"
     ]
    },
    {
     "name": "stdout",
     "output_type": "stream",
     "text": [
      " \n"
     ]
    },
    {
     "name": "stderr",
     "output_type": "stream",
     "text": [
      " 10%|▉         | 109/1130 [09:42<1:26:58,  5.11s/it][WDM] - Current google-chrome version is 92.0.4515\n",
      "[WDM] - Get LATEST driver version for 92.0.4515\n",
      "[WDM] - Driver [/Users/cblanesg/.wdm/drivers/chromedriver/mac64/92.0.4515.107/chromedriver] found in cache\n"
     ]
    },
    {
     "name": "stdout",
     "output_type": "stream",
     "text": [
      " \n"
     ]
    },
    {
     "name": "stderr",
     "output_type": "stream",
     "text": [
      " 10%|▉         | 110/1130 [09:48<1:27:01,  5.12s/it][WDM] - Current google-chrome version is 92.0.4515\n",
      "[WDM] - Get LATEST driver version for 92.0.4515\n",
      "[WDM] - Driver [/Users/cblanesg/.wdm/drivers/chromedriver/mac64/92.0.4515.107/chromedriver] found in cache\n"
     ]
    },
    {
     "name": "stdout",
     "output_type": "stream",
     "text": [
      " \n"
     ]
    },
    {
     "name": "stderr",
     "output_type": "stream",
     "text": [
      " 10%|▉         | 111/1130 [09:53<1:26:21,  5.08s/it][WDM] - Current google-chrome version is 92.0.4515\n",
      "[WDM] - Get LATEST driver version for 92.0.4515\n",
      "[WDM] - Driver [/Users/cblanesg/.wdm/drivers/chromedriver/mac64/92.0.4515.107/chromedriver] found in cache\n"
     ]
    },
    {
     "name": "stdout",
     "output_type": "stream",
     "text": [
      " \n"
     ]
    },
    {
     "name": "stderr",
     "output_type": "stream",
     "text": [
      " 10%|▉         | 112/1130 [09:58<1:27:46,  5.17s/it][WDM] - Current google-chrome version is 92.0.4515\n",
      "[WDM] - Get LATEST driver version for 92.0.4515\n",
      "[WDM] - Driver [/Users/cblanesg/.wdm/drivers/chromedriver/mac64/92.0.4515.107/chromedriver] found in cache\n"
     ]
    },
    {
     "name": "stdout",
     "output_type": "stream",
     "text": [
      " \n"
     ]
    },
    {
     "name": "stderr",
     "output_type": "stream",
     "text": [
      " 10%|█         | 113/1130 [10:04<1:34:15,  5.56s/it][WDM] - Current google-chrome version is 92.0.4515\n",
      "[WDM] - Get LATEST driver version for 92.0.4515\n",
      "[WDM] - Driver [/Users/cblanesg/.wdm/drivers/chromedriver/mac64/92.0.4515.107/chromedriver] found in cache\n"
     ]
    },
    {
     "name": "stdout",
     "output_type": "stream",
     "text": [
      " \n"
     ]
    },
    {
     "name": "stderr",
     "output_type": "stream",
     "text": [
      " 10%|█         | 114/1130 [10:10<1:35:43,  5.65s/it][WDM] - Current google-chrome version is 92.0.4515\n",
      "[WDM] - Get LATEST driver version for 92.0.4515\n",
      "[WDM] - Driver [/Users/cblanesg/.wdm/drivers/chromedriver/mac64/92.0.4515.107/chromedriver] found in cache\n"
     ]
    },
    {
     "name": "stdout",
     "output_type": "stream",
     "text": [
      " \n"
     ]
    },
    {
     "name": "stderr",
     "output_type": "stream",
     "text": [
      " 10%|█         | 115/1130 [10:14<1:27:30,  5.17s/it][WDM] - Current google-chrome version is 92.0.4515\n",
      "[WDM] - Get LATEST driver version for 92.0.4515\n",
      "[WDM] - Driver [/Users/cblanesg/.wdm/drivers/chromedriver/mac64/92.0.4515.107/chromedriver] found in cache\n"
     ]
    },
    {
     "name": "stdout",
     "output_type": "stream",
     "text": [
      " \n"
     ]
    },
    {
     "name": "stderr",
     "output_type": "stream",
     "text": [
      " 10%|█         | 116/1130 [10:20<1:27:39,  5.19s/it][WDM] - Current google-chrome version is 92.0.4515\n",
      "[WDM] - Get LATEST driver version for 92.0.4515\n",
      "[WDM] - Driver [/Users/cblanesg/.wdm/drivers/chromedriver/mac64/92.0.4515.107/chromedriver] found in cache\n"
     ]
    },
    {
     "name": "stdout",
     "output_type": "stream",
     "text": [
      " \n"
     ]
    },
    {
     "name": "stderr",
     "output_type": "stream",
     "text": [
      " 10%|█         | 117/1130 [10:24<1:23:19,  4.94s/it][WDM] - Current google-chrome version is 92.0.4515\n",
      "[WDM] - Get LATEST driver version for 92.0.4515\n",
      "[WDM] - Driver [/Users/cblanesg/.wdm/drivers/chromedriver/mac64/92.0.4515.107/chromedriver] found in cache\n"
     ]
    },
    {
     "name": "stdout",
     "output_type": "stream",
     "text": [
      " \n"
     ]
    },
    {
     "name": "stderr",
     "output_type": "stream",
     "text": [
      " 10%|█         | 118/1130 [10:29<1:24:01,  4.98s/it][WDM] - Current google-chrome version is 92.0.4515\n",
      "[WDM] - Get LATEST driver version for 92.0.4515\n",
      "[WDM] - Driver [/Users/cblanesg/.wdm/drivers/chromedriver/mac64/92.0.4515.107/chromedriver] found in cache\n"
     ]
    },
    {
     "name": "stdout",
     "output_type": "stream",
     "text": [
      " \n"
     ]
    },
    {
     "name": "stderr",
     "output_type": "stream",
     "text": [
      " 11%|█         | 119/1130 [10:34<1:24:11,  5.00s/it][WDM] - Current google-chrome version is 92.0.4515\n",
      "[WDM] - Get LATEST driver version for 92.0.4515\n",
      "[WDM] - Driver [/Users/cblanesg/.wdm/drivers/chromedriver/mac64/92.0.4515.107/chromedriver] found in cache\n"
     ]
    },
    {
     "name": "stdout",
     "output_type": "stream",
     "text": [
      " \n"
     ]
    },
    {
     "name": "stderr",
     "output_type": "stream",
     "text": [
      " 11%|█         | 120/1130 [10:39<1:23:59,  4.99s/it][WDM] - Current google-chrome version is 92.0.4515\n",
      "[WDM] - Get LATEST driver version for 92.0.4515\n",
      "[WDM] - Driver [/Users/cblanesg/.wdm/drivers/chromedriver/mac64/92.0.4515.107/chromedriver] found in cache\n"
     ]
    },
    {
     "name": "stdout",
     "output_type": "stream",
     "text": [
      " \n"
     ]
    },
    {
     "name": "stderr",
     "output_type": "stream",
     "text": [
      " 11%|█         | 121/1130 [10:44<1:23:45,  4.98s/it][WDM] - Current google-chrome version is 92.0.4515\n",
      "[WDM] - Get LATEST driver version for 92.0.4515\n",
      "[WDM] - Driver [/Users/cblanesg/.wdm/drivers/chromedriver/mac64/92.0.4515.107/chromedriver] found in cache\n"
     ]
    },
    {
     "name": "stdout",
     "output_type": "stream",
     "text": [
      " \n"
     ]
    },
    {
     "name": "stderr",
     "output_type": "stream",
     "text": [
      " 11%|█         | 122/1130 [10:49<1:24:03,  5.00s/it][WDM] - Current google-chrome version is 92.0.4515\n",
      "[WDM] - Get LATEST driver version for 92.0.4515\n",
      "[WDM] - Driver [/Users/cblanesg/.wdm/drivers/chromedriver/mac64/92.0.4515.107/chromedriver] found in cache\n"
     ]
    },
    {
     "name": "stdout",
     "output_type": "stream",
     "text": [
      " \n"
     ]
    },
    {
     "name": "stderr",
     "output_type": "stream",
     "text": [
      " 11%|█         | 123/1130 [10:54<1:24:48,  5.05s/it][WDM] - Current google-chrome version is 92.0.4515\n",
      "[WDM] - Get LATEST driver version for 92.0.4515\n",
      "[WDM] - Driver [/Users/cblanesg/.wdm/drivers/chromedriver/mac64/92.0.4515.107/chromedriver] found in cache\n"
     ]
    },
    {
     "name": "stdout",
     "output_type": "stream",
     "text": [
      " \n"
     ]
    },
    {
     "name": "stderr",
     "output_type": "stream",
     "text": [
      " 11%|█         | 124/1130 [10:59<1:26:01,  5.13s/it][WDM] - Current google-chrome version is 92.0.4515\n",
      "[WDM] - Get LATEST driver version for 92.0.4515\n",
      "[WDM] - Driver [/Users/cblanesg/.wdm/drivers/chromedriver/mac64/92.0.4515.107/chromedriver] found in cache\n"
     ]
    },
    {
     "name": "stdout",
     "output_type": "stream",
     "text": [
      " \n"
     ]
    },
    {
     "name": "stderr",
     "output_type": "stream",
     "text": [
      " 11%|█         | 125/1130 [11:04<1:21:04,  4.84s/it][WDM] - Current google-chrome version is 92.0.4515\n",
      "[WDM] - Get LATEST driver version for 92.0.4515\n",
      "[WDM] - Driver [/Users/cblanesg/.wdm/drivers/chromedriver/mac64/92.0.4515.107/chromedriver] found in cache\n"
     ]
    },
    {
     "name": "stdout",
     "output_type": "stream",
     "text": [
      " \n"
     ]
    },
    {
     "name": "stderr",
     "output_type": "stream",
     "text": [
      " 11%|█         | 126/1130 [11:09<1:22:21,  4.92s/it][WDM] - Current google-chrome version is 92.0.4515\n",
      "[WDM] - Get LATEST driver version for 92.0.4515\n",
      "[WDM] - Driver [/Users/cblanesg/.wdm/drivers/chromedriver/mac64/92.0.4515.107/chromedriver] found in cache\n"
     ]
    },
    {
     "name": "stdout",
     "output_type": "stream",
     "text": [
      " \n"
     ]
    },
    {
     "name": "stderr",
     "output_type": "stream",
     "text": [
      " 11%|█         | 127/1130 [11:14<1:22:21,  4.93s/it][WDM] - Current google-chrome version is 92.0.4515\n",
      "[WDM] - Get LATEST driver version for 92.0.4515\n",
      "[WDM] - Driver [/Users/cblanesg/.wdm/drivers/chromedriver/mac64/92.0.4515.107/chromedriver] found in cache\n"
     ]
    },
    {
     "name": "stdout",
     "output_type": "stream",
     "text": [
      " \n"
     ]
    },
    {
     "name": "stderr",
     "output_type": "stream",
     "text": [
      " 11%|█▏        | 128/1130 [11:19<1:22:12,  4.92s/it][WDM] - Current google-chrome version is 92.0.4515\n",
      "[WDM] - Get LATEST driver version for 92.0.4515\n",
      "[WDM] - Driver [/Users/cblanesg/.wdm/drivers/chromedriver/mac64/92.0.4515.107/chromedriver] found in cache\n"
     ]
    },
    {
     "name": "stdout",
     "output_type": "stream",
     "text": [
      " \n"
     ]
    },
    {
     "name": "stderr",
     "output_type": "stream",
     "text": [
      " 11%|█▏        | 129/1130 [11:24<1:22:53,  4.97s/it][WDM] - Current google-chrome version is 92.0.4515\n",
      "[WDM] - Get LATEST driver version for 92.0.4515\n",
      "[WDM] - Driver [/Users/cblanesg/.wdm/drivers/chromedriver/mac64/92.0.4515.107/chromedriver] found in cache\n"
     ]
    },
    {
     "name": "stdout",
     "output_type": "stream",
     "text": [
      " \n"
     ]
    },
    {
     "name": "stderr",
     "output_type": "stream",
     "text": [
      " 12%|█▏        | 130/1130 [11:29<1:24:11,  5.05s/it][WDM] - Current google-chrome version is 92.0.4515\n",
      "[WDM] - Get LATEST driver version for 92.0.4515\n",
      "[WDM] - Driver [/Users/cblanesg/.wdm/drivers/chromedriver/mac64/92.0.4515.107/chromedriver] found in cache\n"
     ]
    },
    {
     "name": "stdout",
     "output_type": "stream",
     "text": [
      " \n"
     ]
    },
    {
     "name": "stderr",
     "output_type": "stream",
     "text": [
      " 12%|█▏        | 131/1130 [11:34<1:24:17,  5.06s/it][WDM] - Current google-chrome version is 92.0.4515\n",
      "[WDM] - Get LATEST driver version for 92.0.4515\n",
      "[WDM] - Driver [/Users/cblanesg/.wdm/drivers/chromedriver/mac64/92.0.4515.107/chromedriver] found in cache\n"
     ]
    },
    {
     "name": "stdout",
     "output_type": "stream",
     "text": [
      " \n"
     ]
    },
    {
     "name": "stderr",
     "output_type": "stream",
     "text": [
      " 12%|█▏        | 132/1130 [11:39<1:24:40,  5.09s/it][WDM] - Current google-chrome version is 92.0.4515\n",
      "[WDM] - Get LATEST driver version for 92.0.4515\n",
      "[WDM] - Driver [/Users/cblanesg/.wdm/drivers/chromedriver/mac64/92.0.4515.107/chromedriver] found in cache\n"
     ]
    },
    {
     "name": "stdout",
     "output_type": "stream",
     "text": [
      " \n"
     ]
    },
    {
     "name": "stderr",
     "output_type": "stream",
     "text": [
      " 12%|█▏        | 133/1130 [11:44<1:24:49,  5.10s/it][WDM] - Current google-chrome version is 92.0.4515\n",
      "[WDM] - Get LATEST driver version for 92.0.4515\n",
      "[WDM] - Driver [/Users/cblanesg/.wdm/drivers/chromedriver/mac64/92.0.4515.107/chromedriver] found in cache\n"
     ]
    },
    {
     "name": "stdout",
     "output_type": "stream",
     "text": [
      " \n"
     ]
    },
    {
     "name": "stderr",
     "output_type": "stream",
     "text": [
      " 12%|█▏        | 134/1130 [11:49<1:23:30,  5.03s/it][WDM] - Current google-chrome version is 92.0.4515\n",
      "[WDM] - Get LATEST driver version for 92.0.4515\n",
      "[WDM] - Driver [/Users/cblanesg/.wdm/drivers/chromedriver/mac64/92.0.4515.107/chromedriver] found in cache\n"
     ]
    },
    {
     "name": "stdout",
     "output_type": "stream",
     "text": [
      " \n"
     ]
    },
    {
     "name": "stderr",
     "output_type": "stream",
     "text": [
      " 12%|█▏        | 135/1130 [11:54<1:23:34,  5.04s/it][WDM] - Current google-chrome version is 92.0.4515\n",
      "[WDM] - Get LATEST driver version for 92.0.4515\n",
      "[WDM] - Driver [/Users/cblanesg/.wdm/drivers/chromedriver/mac64/92.0.4515.107/chromedriver] found in cache\n"
     ]
    },
    {
     "name": "stdout",
     "output_type": "stream",
     "text": [
      " \n"
     ]
    },
    {
     "name": "stderr",
     "output_type": "stream",
     "text": [
      " 12%|█▏        | 136/1130 [12:00<1:24:40,  5.11s/it][WDM] - Current google-chrome version is 92.0.4515\n",
      "[WDM] - Get LATEST driver version for 92.0.4515\n",
      "[WDM] - Driver [/Users/cblanesg/.wdm/drivers/chromedriver/mac64/92.0.4515.107/chromedriver] found in cache\n"
     ]
    },
    {
     "name": "stdout",
     "output_type": "stream",
     "text": [
      " \n"
     ]
    },
    {
     "name": "stderr",
     "output_type": "stream",
     "text": [
      " 12%|█▏        | 137/1130 [12:04<1:23:02,  5.02s/it][WDM] - Current google-chrome version is 92.0.4515\n",
      "[WDM] - Get LATEST driver version for 92.0.4515\n",
      "[WDM] - Driver [/Users/cblanesg/.wdm/drivers/chromedriver/mac64/92.0.4515.107/chromedriver] found in cache\n"
     ]
    },
    {
     "name": "stdout",
     "output_type": "stream",
     "text": [
      " \n"
     ]
    },
    {
     "name": "stderr",
     "output_type": "stream",
     "text": [
      " 12%|█▏        | 138/1130 [12:09<1:22:25,  4.98s/it][WDM] - Current google-chrome version is 92.0.4515\n",
      "[WDM] - Get LATEST driver version for 92.0.4515\n",
      "[WDM] - Driver [/Users/cblanesg/.wdm/drivers/chromedriver/mac64/92.0.4515.107/chromedriver] found in cache\n"
     ]
    },
    {
     "name": "stdout",
     "output_type": "stream",
     "text": [
      " \n"
     ]
    },
    {
     "name": "stderr",
     "output_type": "stream",
     "text": [
      " 12%|█▏        | 139/1130 [12:14<1:22:01,  4.97s/it][WDM] - Current google-chrome version is 92.0.4515\n",
      "[WDM] - Get LATEST driver version for 92.0.4515\n",
      "[WDM] - Driver [/Users/cblanesg/.wdm/drivers/chromedriver/mac64/92.0.4515.107/chromedriver] found in cache\n"
     ]
    },
    {
     "name": "stdout",
     "output_type": "stream",
     "text": [
      " \n"
     ]
    },
    {
     "name": "stderr",
     "output_type": "stream",
     "text": [
      " 12%|█▏        | 140/1130 [12:19<1:22:06,  4.98s/it][WDM] - Current google-chrome version is 92.0.4515\n",
      "[WDM] - Get LATEST driver version for 92.0.4515\n",
      "[WDM] - Driver [/Users/cblanesg/.wdm/drivers/chromedriver/mac64/92.0.4515.107/chromedriver] found in cache\n"
     ]
    },
    {
     "name": "stdout",
     "output_type": "stream",
     "text": [
      " \n"
     ]
    },
    {
     "name": "stderr",
     "output_type": "stream",
     "text": [
      " 12%|█▏        | 141/1130 [12:23<1:18:33,  4.77s/it][WDM] - Current google-chrome version is 92.0.4515\n",
      "[WDM] - Get LATEST driver version for 92.0.4515\n",
      "[WDM] - Driver [/Users/cblanesg/.wdm/drivers/chromedriver/mac64/92.0.4515.107/chromedriver] found in cache\n"
     ]
    },
    {
     "name": "stdout",
     "output_type": "stream",
     "text": [
      " \n"
     ]
    },
    {
     "name": "stderr",
     "output_type": "stream",
     "text": [
      " 13%|█▎        | 142/1130 [12:28<1:19:32,  4.83s/it][WDM] - Current google-chrome version is 92.0.4515\n",
      "[WDM] - Get LATEST driver version for 92.0.4515\n",
      "[WDM] - Driver [/Users/cblanesg/.wdm/drivers/chromedriver/mac64/92.0.4515.107/chromedriver] found in cache\n"
     ]
    },
    {
     "name": "stdout",
     "output_type": "stream",
     "text": [
      " \n"
     ]
    },
    {
     "name": "stderr",
     "output_type": "stream",
     "text": [
      " 13%|█▎        | 143/1130 [12:34<1:22:25,  5.01s/it][WDM] - Current google-chrome version is 92.0.4515\n",
      "[WDM] - Get LATEST driver version for 92.0.4515\n",
      "[WDM] - Driver [/Users/cblanesg/.wdm/drivers/chromedriver/mac64/92.0.4515.107/chromedriver] found in cache\n"
     ]
    },
    {
     "name": "stdout",
     "output_type": "stream",
     "text": [
      " \n"
     ]
    },
    {
     "name": "stderr",
     "output_type": "stream",
     "text": [
      " 13%|█▎        | 144/1130 [12:40<1:26:36,  5.27s/it][WDM] - Current google-chrome version is 92.0.4515\n",
      "[WDM] - Get LATEST driver version for 92.0.4515\n",
      "[WDM] - Driver [/Users/cblanesg/.wdm/drivers/chromedriver/mac64/92.0.4515.107/chromedriver] found in cache\n"
     ]
    },
    {
     "name": "stdout",
     "output_type": "stream",
     "text": [
      " \n"
     ]
    },
    {
     "name": "stderr",
     "output_type": "stream",
     "text": [
      " 13%|█▎        | 145/1130 [12:46<1:29:12,  5.43s/it][WDM] - Current google-chrome version is 92.0.4515\n",
      "[WDM] - Get LATEST driver version for 92.0.4515\n",
      "[WDM] - Driver [/Users/cblanesg/.wdm/drivers/chromedriver/mac64/92.0.4515.107/chromedriver] found in cache\n"
     ]
    },
    {
     "name": "stdout",
     "output_type": "stream",
     "text": [
      " \n"
     ]
    },
    {
     "name": "stderr",
     "output_type": "stream",
     "text": [
      " 13%|█▎        | 146/1130 [12:51<1:31:29,  5.58s/it][WDM] - Current google-chrome version is 92.0.4515\n",
      "[WDM] - Get LATEST driver version for 92.0.4515\n",
      "[WDM] - Driver [/Users/cblanesg/.wdm/drivers/chromedriver/mac64/92.0.4515.107/chromedriver] found in cache\n"
     ]
    },
    {
     "name": "stdout",
     "output_type": "stream",
     "text": [
      " \n"
     ]
    },
    {
     "name": "stderr",
     "output_type": "stream",
     "text": [
      " 13%|█▎        | 147/1130 [12:57<1:33:01,  5.68s/it][WDM] - Current google-chrome version is 92.0.4515\n",
      "[WDM] - Get LATEST driver version for 92.0.4515\n",
      "[WDM] - Driver [/Users/cblanesg/.wdm/drivers/chromedriver/mac64/92.0.4515.107/chromedriver] found in cache\n"
     ]
    },
    {
     "name": "stdout",
     "output_type": "stream",
     "text": [
      " \n"
     ]
    },
    {
     "name": "stderr",
     "output_type": "stream",
     "text": [
      " 13%|█▎        | 148/1130 [13:04<1:36:24,  5.89s/it][WDM] - Current google-chrome version is 92.0.4515\n",
      "[WDM] - Get LATEST driver version for 92.0.4515\n",
      "[WDM] - Driver [/Users/cblanesg/.wdm/drivers/chromedriver/mac64/92.0.4515.107/chromedriver] found in cache\n"
     ]
    },
    {
     "name": "stdout",
     "output_type": "stream",
     "text": [
      " \n"
     ]
    },
    {
     "name": "stderr",
     "output_type": "stream",
     "text": [
      " 13%|█▎        | 149/1130 [13:10<1:35:53,  5.87s/it][WDM] - Current google-chrome version is 92.0.4515\n",
      "[WDM] - Get LATEST driver version for 92.0.4515\n",
      "[WDM] - Driver [/Users/cblanesg/.wdm/drivers/chromedriver/mac64/92.0.4515.107/chromedriver] found in cache\n"
     ]
    },
    {
     "name": "stdout",
     "output_type": "stream",
     "text": [
      " \n"
     ]
    },
    {
     "name": "stderr",
     "output_type": "stream",
     "text": [
      " 13%|█▎        | 150/1130 [13:16<1:36:30,  5.91s/it][WDM] - Current google-chrome version is 92.0.4515\n",
      "[WDM] - Get LATEST driver version for 92.0.4515\n",
      "[WDM] - Driver [/Users/cblanesg/.wdm/drivers/chromedriver/mac64/92.0.4515.107/chromedriver] found in cache\n"
     ]
    },
    {
     "name": "stdout",
     "output_type": "stream",
     "text": [
      " \n"
     ]
    },
    {
     "name": "stderr",
     "output_type": "stream",
     "text": [
      " 13%|█▎        | 151/1130 [13:20<1:28:14,  5.41s/it][WDM] - Current google-chrome version is 92.0.4515\n",
      "[WDM] - Get LATEST driver version for 92.0.4515\n",
      "[WDM] - Driver [/Users/cblanesg/.wdm/drivers/chromedriver/mac64/92.0.4515.107/chromedriver] found in cache\n"
     ]
    },
    {
     "name": "stdout",
     "output_type": "stream",
     "text": [
      " \n"
     ]
    },
    {
     "name": "stderr",
     "output_type": "stream",
     "text": [
      " 13%|█▎        | 152/1130 [13:25<1:27:07,  5.34s/it][WDM] - Current google-chrome version is 92.0.4515\n",
      "[WDM] - Get LATEST driver version for 92.0.4515\n",
      "[WDM] - Driver [/Users/cblanesg/.wdm/drivers/chromedriver/mac64/92.0.4515.107/chromedriver] found in cache\n"
     ]
    },
    {
     "name": "stdout",
     "output_type": "stream",
     "text": [
      " \n"
     ]
    },
    {
     "name": "stderr",
     "output_type": "stream",
     "text": [
      " 14%|█▎        | 153/1130 [13:29<1:20:22,  4.94s/it][WDM] - Current google-chrome version is 92.0.4515\n",
      "[WDM] - Get LATEST driver version for 92.0.4515\n",
      "[WDM] - Driver [/Users/cblanesg/.wdm/drivers/chromedriver/mac64/92.0.4515.107/chromedriver] found in cache\n"
     ]
    },
    {
     "name": "stdout",
     "output_type": "stream",
     "text": [
      " \n"
     ]
    },
    {
     "name": "stderr",
     "output_type": "stream",
     "text": [
      " 14%|█▎        | 154/1130 [13:34<1:21:58,  5.04s/it][WDM] - Current google-chrome version is 92.0.4515\n",
      "[WDM] - Get LATEST driver version for 92.0.4515\n",
      "[WDM] - Driver [/Users/cblanesg/.wdm/drivers/chromedriver/mac64/92.0.4515.107/chromedriver] found in cache\n"
     ]
    },
    {
     "name": "stdout",
     "output_type": "stream",
     "text": [
      " \n"
     ]
    },
    {
     "name": "stderr",
     "output_type": "stream",
     "text": [
      " 14%|█▎        | 155/1130 [13:39<1:21:56,  5.04s/it][WDM] - Current google-chrome version is 92.0.4515\n",
      "[WDM] - Get LATEST driver version for 92.0.4515\n",
      "[WDM] - Driver [/Users/cblanesg/.wdm/drivers/chromedriver/mac64/92.0.4515.107/chromedriver] found in cache\n"
     ]
    },
    {
     "name": "stdout",
     "output_type": "stream",
     "text": [
      " \n"
     ]
    },
    {
     "name": "stderr",
     "output_type": "stream",
     "text": [
      " 14%|█▍        | 156/1130 [13:44<1:17:44,  4.79s/it][WDM] - Current google-chrome version is 92.0.4515\n",
      "[WDM] - Get LATEST driver version for 92.0.4515\n",
      "[WDM] - Driver [/Users/cblanesg/.wdm/drivers/chromedriver/mac64/92.0.4515.107/chromedriver] found in cache\n"
     ]
    },
    {
     "name": "stdout",
     "output_type": "stream",
     "text": [
      " \n"
     ]
    },
    {
     "name": "stderr",
     "output_type": "stream",
     "text": [
      " 14%|█▍        | 157/1130 [13:49<1:18:58,  4.87s/it][WDM] - Current google-chrome version is 92.0.4515\n",
      "[WDM] - Get LATEST driver version for 92.0.4515\n",
      "[WDM] - Driver [/Users/cblanesg/.wdm/drivers/chromedriver/mac64/92.0.4515.107/chromedriver] found in cache\n"
     ]
    },
    {
     "name": "stdout",
     "output_type": "stream",
     "text": [
      " \n"
     ]
    },
    {
     "name": "stderr",
     "output_type": "stream",
     "text": [
      " 14%|█▍        | 158/1130 [13:53<1:17:51,  4.81s/it][WDM] - Current google-chrome version is 92.0.4515\n",
      "[WDM] - Get LATEST driver version for 92.0.4515\n",
      "[WDM] - Driver [/Users/cblanesg/.wdm/drivers/chromedriver/mac64/92.0.4515.107/chromedriver] found in cache\n"
     ]
    },
    {
     "name": "stdout",
     "output_type": "stream",
     "text": [
      " \n"
     ]
    },
    {
     "name": "stderr",
     "output_type": "stream",
     "text": [
      " 14%|█▍        | 159/1130 [13:59<1:24:09,  5.20s/it][WDM] - Current google-chrome version is 92.0.4515\n",
      "[WDM] - Get LATEST driver version for 92.0.4515\n",
      "[WDM] - Driver [/Users/cblanesg/.wdm/drivers/chromedriver/mac64/92.0.4515.107/chromedriver] found in cache\n"
     ]
    },
    {
     "name": "stdout",
     "output_type": "stream",
     "text": [
      " \n"
     ]
    },
    {
     "name": "stderr",
     "output_type": "stream",
     "text": [
      " 14%|█▍        | 160/1130 [14:05<1:25:50,  5.31s/it][WDM] - Current google-chrome version is 92.0.4515\n",
      "[WDM] - Get LATEST driver version for 92.0.4515\n",
      "[WDM] - Driver [/Users/cblanesg/.wdm/drivers/chromedriver/mac64/92.0.4515.107/chromedriver] found in cache\n"
     ]
    },
    {
     "name": "stdout",
     "output_type": "stream",
     "text": [
      " \n"
     ]
    },
    {
     "name": "stderr",
     "output_type": "stream",
     "text": [
      " 14%|█▍        | 161/1130 [14:11<1:27:52,  5.44s/it][WDM] - Current google-chrome version is 92.0.4515\n",
      "[WDM] - Get LATEST driver version for 92.0.4515\n",
      "[WDM] - Driver [/Users/cblanesg/.wdm/drivers/chromedriver/mac64/92.0.4515.107/chromedriver] found in cache\n"
     ]
    },
    {
     "name": "stdout",
     "output_type": "stream",
     "text": [
      " \n"
     ]
    },
    {
     "name": "stderr",
     "output_type": "stream",
     "text": [
      " 14%|█▍        | 162/1130 [14:17<1:31:24,  5.67s/it][WDM] - Current google-chrome version is 92.0.4515\n",
      "[WDM] - Get LATEST driver version for 92.0.4515\n",
      "[WDM] - Driver [/Users/cblanesg/.wdm/drivers/chromedriver/mac64/92.0.4515.107/chromedriver] found in cache\n"
     ]
    },
    {
     "name": "stdout",
     "output_type": "stream",
     "text": [
      " \n"
     ]
    },
    {
     "name": "stderr",
     "output_type": "stream",
     "text": [
      " 14%|█▍        | 163/1130 [14:23<1:31:27,  5.68s/it][WDM] - Current google-chrome version is 92.0.4515\n",
      "[WDM] - Get LATEST driver version for 92.0.4515\n",
      "[WDM] - Driver [/Users/cblanesg/.wdm/drivers/chromedriver/mac64/92.0.4515.107/chromedriver] found in cache\n"
     ]
    },
    {
     "name": "stdout",
     "output_type": "stream",
     "text": [
      " \n"
     ]
    },
    {
     "name": "stderr",
     "output_type": "stream",
     "text": [
      " 15%|█▍        | 164/1130 [14:29<1:33:36,  5.81s/it][WDM] - Current google-chrome version is 92.0.4515\n",
      "[WDM] - Get LATEST driver version for 92.0.4515\n",
      "[WDM] - Driver [/Users/cblanesg/.wdm/drivers/chromedriver/mac64/92.0.4515.107/chromedriver] found in cache\n"
     ]
    },
    {
     "name": "stdout",
     "output_type": "stream",
     "text": [
      " \n"
     ]
    },
    {
     "name": "stderr",
     "output_type": "stream",
     "text": [
      " 15%|█▍        | 165/1130 [14:35<1:34:07,  5.85s/it][WDM] - Current google-chrome version is 92.0.4515\n",
      "[WDM] - Get LATEST driver version for 92.0.4515\n",
      "[WDM] - Driver [/Users/cblanesg/.wdm/drivers/chromedriver/mac64/92.0.4515.107/chromedriver] found in cache\n"
     ]
    },
    {
     "name": "stdout",
     "output_type": "stream",
     "text": [
      " \n"
     ]
    },
    {
     "name": "stderr",
     "output_type": "stream",
     "text": [
      " 15%|█▍        | 166/1130 [14:41<1:35:35,  5.95s/it][WDM] - Current google-chrome version is 92.0.4515\n",
      "[WDM] - Get LATEST driver version for 92.0.4515\n",
      "[WDM] - Driver [/Users/cblanesg/.wdm/drivers/chromedriver/mac64/92.0.4515.107/chromedriver] found in cache\n"
     ]
    },
    {
     "name": "stdout",
     "output_type": "stream",
     "text": [
      " \n"
     ]
    },
    {
     "name": "stderr",
     "output_type": "stream",
     "text": [
      " 15%|█▍        | 167/1130 [14:46<1:33:06,  5.80s/it][WDM] - Current google-chrome version is 92.0.4515\n",
      "[WDM] - Get LATEST driver version for 92.0.4515\n",
      "[WDM] - Driver [/Users/cblanesg/.wdm/drivers/chromedriver/mac64/92.0.4515.107/chromedriver] found in cache\n"
     ]
    },
    {
     "name": "stdout",
     "output_type": "stream",
     "text": [
      " \n"
     ]
    },
    {
     "name": "stderr",
     "output_type": "stream",
     "text": [
      " 15%|█▍        | 168/1130 [14:52<1:33:17,  5.82s/it][WDM] - Current google-chrome version is 92.0.4515\n",
      "[WDM] - Get LATEST driver version for 92.0.4515\n",
      "[WDM] - Driver [/Users/cblanesg/.wdm/drivers/chromedriver/mac64/92.0.4515.107/chromedriver] found in cache\n"
     ]
    },
    {
     "name": "stdout",
     "output_type": "stream",
     "text": [
      " \n"
     ]
    },
    {
     "name": "stderr",
     "output_type": "stream",
     "text": [
      " 15%|█▍        | 169/1130 [14:58<1:33:44,  5.85s/it][WDM] - Current google-chrome version is 92.0.4515\n",
      "[WDM] - Get LATEST driver version for 92.0.4515\n",
      "[WDM] - Driver [/Users/cblanesg/.wdm/drivers/chromedriver/mac64/92.0.4515.107/chromedriver] found in cache\n"
     ]
    },
    {
     "name": "stdout",
     "output_type": "stream",
     "text": [
      " \n"
     ]
    },
    {
     "name": "stderr",
     "output_type": "stream",
     "text": [
      " 15%|█▌        | 170/1130 [15:05<1:39:15,  6.20s/it][WDM] - Current google-chrome version is 92.0.4515\n",
      "[WDM] - Get LATEST driver version for 92.0.4515\n",
      "[WDM] - Driver [/Users/cblanesg/.wdm/drivers/chromedriver/mac64/92.0.4515.107/chromedriver] found in cache\n"
     ]
    },
    {
     "name": "stdout",
     "output_type": "stream",
     "text": [
      " \n"
     ]
    },
    {
     "name": "stderr",
     "output_type": "stream",
     "text": [
      " 15%|█▌        | 171/1130 [15:11<1:39:27,  6.22s/it][WDM] - Current google-chrome version is 92.0.4515\n",
      "[WDM] - Get LATEST driver version for 92.0.4515\n",
      "[WDM] - Driver [/Users/cblanesg/.wdm/drivers/chromedriver/mac64/92.0.4515.107/chromedriver] found in cache\n"
     ]
    },
    {
     "name": "stdout",
     "output_type": "stream",
     "text": [
      " \n"
     ]
    },
    {
     "name": "stderr",
     "output_type": "stream",
     "text": [
      " 15%|█▌        | 172/1130 [15:17<1:38:28,  6.17s/it][WDM] - Current google-chrome version is 92.0.4515\n",
      "[WDM] - Get LATEST driver version for 92.0.4515\n",
      "[WDM] - Driver [/Users/cblanesg/.wdm/drivers/chromedriver/mac64/92.0.4515.107/chromedriver] found in cache\n"
     ]
    },
    {
     "name": "stdout",
     "output_type": "stream",
     "text": [
      " \n"
     ]
    },
    {
     "name": "stderr",
     "output_type": "stream",
     "text": [
      " 15%|█▌        | 173/1130 [15:23<1:37:28,  6.11s/it][WDM] - Current google-chrome version is 92.0.4515\n",
      "[WDM] - Get LATEST driver version for 92.0.4515\n",
      "[WDM] - Driver [/Users/cblanesg/.wdm/drivers/chromedriver/mac64/92.0.4515.107/chromedriver] found in cache\n"
     ]
    },
    {
     "name": "stdout",
     "output_type": "stream",
     "text": [
      " \n"
     ]
    },
    {
     "name": "stderr",
     "output_type": "stream",
     "text": [
      " 15%|█▌        | 174/1130 [15:29<1:36:19,  6.05s/it][WDM] - Current google-chrome version is 92.0.4515\n",
      "[WDM] - Get LATEST driver version for 92.0.4515\n",
      "[WDM] - Driver [/Users/cblanesg/.wdm/drivers/chromedriver/mac64/92.0.4515.107/chromedriver] found in cache\n"
     ]
    },
    {
     "name": "stdout",
     "output_type": "stream",
     "text": [
      " \n"
     ]
    },
    {
     "name": "stderr",
     "output_type": "stream",
     "text": [
      " 15%|█▌        | 175/1130 [15:35<1:36:04,  6.04s/it][WDM] - Current google-chrome version is 92.0.4515\n",
      "[WDM] - Get LATEST driver version for 92.0.4515\n",
      "[WDM] - Driver [/Users/cblanesg/.wdm/drivers/chromedriver/mac64/92.0.4515.107/chromedriver] found in cache\n"
     ]
    },
    {
     "name": "stdout",
     "output_type": "stream",
     "text": [
      " \n"
     ]
    },
    {
     "name": "stderr",
     "output_type": "stream",
     "text": [
      " 16%|█▌        | 176/1130 [15:41<1:36:04,  6.04s/it][WDM] - Current google-chrome version is 92.0.4515\n",
      "[WDM] - Get LATEST driver version for 92.0.4515\n",
      "[WDM] - Driver [/Users/cblanesg/.wdm/drivers/chromedriver/mac64/92.0.4515.107/chromedriver] found in cache\n"
     ]
    },
    {
     "name": "stdout",
     "output_type": "stream",
     "text": [
      " \n"
     ]
    },
    {
     "name": "stderr",
     "output_type": "stream",
     "text": [
      " 16%|█▌        | 177/1130 [15:47<1:33:49,  5.91s/it][WDM] - Current google-chrome version is 92.0.4515\n",
      "[WDM] - Get LATEST driver version for 92.0.4515\n",
      "[WDM] - Driver [/Users/cblanesg/.wdm/drivers/chromedriver/mac64/92.0.4515.107/chromedriver] found in cache\n"
     ]
    },
    {
     "name": "stdout",
     "output_type": "stream",
     "text": [
      " \n"
     ]
    },
    {
     "name": "stderr",
     "output_type": "stream",
     "text": [
      " 16%|█▌        | 178/1130 [15:53<1:32:56,  5.86s/it][WDM] - Current google-chrome version is 92.0.4515\n",
      "[WDM] - Get LATEST driver version for 92.0.4515\n",
      "[WDM] - Driver [/Users/cblanesg/.wdm/drivers/chromedriver/mac64/92.0.4515.107/chromedriver] found in cache\n"
     ]
    },
    {
     "name": "stdout",
     "output_type": "stream",
     "text": [
      " \n"
     ]
    },
    {
     "name": "stderr",
     "output_type": "stream",
     "text": [
      " 16%|█▌        | 179/1130 [15:59<1:33:04,  5.87s/it][WDM] - Current google-chrome version is 92.0.4515\n",
      "[WDM] - Get LATEST driver version for 92.0.4515\n",
      "[WDM] - Driver [/Users/cblanesg/.wdm/drivers/chromedriver/mac64/92.0.4515.107/chromedriver] found in cache\n"
     ]
    },
    {
     "name": "stdout",
     "output_type": "stream",
     "text": [
      " \n"
     ]
    },
    {
     "name": "stderr",
     "output_type": "stream",
     "text": [
      " 16%|█▌        | 180/1130 [16:04<1:32:55,  5.87s/it][WDM] - Current google-chrome version is 92.0.4515\n",
      "[WDM] - Get LATEST driver version for 92.0.4515\n",
      "[WDM] - Driver [/Users/cblanesg/.wdm/drivers/chromedriver/mac64/92.0.4515.107/chromedriver] found in cache\n"
     ]
    },
    {
     "name": "stdout",
     "output_type": "stream",
     "text": [
      " \n"
     ]
    },
    {
     "name": "stderr",
     "output_type": "stream",
     "text": [
      " 16%|█▌        | 181/1130 [16:10<1:30:24,  5.72s/it][WDM] - Current google-chrome version is 92.0.4515\n",
      "[WDM] - Get LATEST driver version for 92.0.4515\n",
      "[WDM] - Driver [/Users/cblanesg/.wdm/drivers/chromedriver/mac64/92.0.4515.107/chromedriver] found in cache\n"
     ]
    },
    {
     "name": "stdout",
     "output_type": "stream",
     "text": [
      " \n"
     ]
    },
    {
     "name": "stderr",
     "output_type": "stream",
     "text": [
      " 16%|█▌        | 182/1130 [16:15<1:29:55,  5.69s/it][WDM] - Current google-chrome version is 92.0.4515\n",
      "[WDM] - Get LATEST driver version for 92.0.4515\n",
      "[WDM] - Driver [/Users/cblanesg/.wdm/drivers/chromedriver/mac64/92.0.4515.107/chromedriver] found in cache\n"
     ]
    },
    {
     "name": "stdout",
     "output_type": "stream",
     "text": [
      " \n"
     ]
    },
    {
     "name": "stderr",
     "output_type": "stream",
     "text": [
      " 16%|█▌        | 183/1130 [16:21<1:29:22,  5.66s/it][WDM] - Current google-chrome version is 92.0.4515\n",
      "[WDM] - Get LATEST driver version for 92.0.4515\n",
      "[WDM] - Driver [/Users/cblanesg/.wdm/drivers/chromedriver/mac64/92.0.4515.107/chromedriver] found in cache\n"
     ]
    },
    {
     "name": "stdout",
     "output_type": "stream",
     "text": [
      " \n"
     ]
    },
    {
     "name": "stderr",
     "output_type": "stream",
     "text": [
      " 16%|█▋        | 184/1130 [16:27<1:29:21,  5.67s/it][WDM] - Current google-chrome version is 92.0.4515\n",
      "[WDM] - Get LATEST driver version for 92.0.4515\n",
      "[WDM] - Driver [/Users/cblanesg/.wdm/drivers/chromedriver/mac64/92.0.4515.107/chromedriver] found in cache\n"
     ]
    },
    {
     "name": "stdout",
     "output_type": "stream",
     "text": [
      " \n"
     ]
    },
    {
     "name": "stderr",
     "output_type": "stream",
     "text": [
      " 16%|█▋        | 185/1130 [16:32<1:29:13,  5.67s/it][WDM] - Current google-chrome version is 92.0.4515\n",
      "[WDM] - Get LATEST driver version for 92.0.4515\n",
      "[WDM] - Driver [/Users/cblanesg/.wdm/drivers/chromedriver/mac64/92.0.4515.107/chromedriver] found in cache\n"
     ]
    },
    {
     "name": "stdout",
     "output_type": "stream",
     "text": [
      " \n"
     ]
    },
    {
     "name": "stderr",
     "output_type": "stream",
     "text": [
      " 16%|█▋        | 186/1130 [16:38<1:29:42,  5.70s/it][WDM] - Current google-chrome version is 92.0.4515\n",
      "[WDM] - Get LATEST driver version for 92.0.4515\n",
      "[WDM] - Driver [/Users/cblanesg/.wdm/drivers/chromedriver/mac64/92.0.4515.107/chromedriver] found in cache\n"
     ]
    },
    {
     "name": "stdout",
     "output_type": "stream",
     "text": [
      " \n"
     ]
    },
    {
     "name": "stderr",
     "output_type": "stream",
     "text": [
      " 17%|█▋        | 187/1130 [16:44<1:30:50,  5.78s/it][WDM] - Current google-chrome version is 92.0.4515\n",
      "[WDM] - Get LATEST driver version for 92.0.4515\n",
      "[WDM] - Driver [/Users/cblanesg/.wdm/drivers/chromedriver/mac64/92.0.4515.107/chromedriver] found in cache\n"
     ]
    },
    {
     "name": "stdout",
     "output_type": "stream",
     "text": [
      " \n"
     ]
    },
    {
     "name": "stderr",
     "output_type": "stream",
     "text": [
      " 17%|█▋        | 188/1130 [16:50<1:31:34,  5.83s/it][WDM] - Current google-chrome version is 92.0.4515\n",
      "[WDM] - Get LATEST driver version for 92.0.4515\n",
      "[WDM] - Driver [/Users/cblanesg/.wdm/drivers/chromedriver/mac64/92.0.4515.107/chromedriver] found in cache\n"
     ]
    },
    {
     "name": "stdout",
     "output_type": "stream",
     "text": [
      " \n"
     ]
    },
    {
     "name": "stderr",
     "output_type": "stream",
     "text": [
      " 17%|█▋        | 189/1130 [16:56<1:29:56,  5.74s/it][WDM] - Current google-chrome version is 92.0.4515\n",
      "[WDM] - Get LATEST driver version for 92.0.4515\n",
      "[WDM] - Driver [/Users/cblanesg/.wdm/drivers/chromedriver/mac64/92.0.4515.107/chromedriver] found in cache\n"
     ]
    },
    {
     "name": "stdout",
     "output_type": "stream",
     "text": [
      " \n"
     ]
    },
    {
     "name": "stderr",
     "output_type": "stream",
     "text": [
      " 17%|█▋        | 190/1130 [17:01<1:28:39,  5.66s/it][WDM] - Current google-chrome version is 92.0.4515\n",
      "[WDM] - Get LATEST driver version for 92.0.4515\n",
      "[WDM] - Driver [/Users/cblanesg/.wdm/drivers/chromedriver/mac64/92.0.4515.107/chromedriver] found in cache\n"
     ]
    },
    {
     "name": "stdout",
     "output_type": "stream",
     "text": [
      " \n"
     ]
    },
    {
     "name": "stderr",
     "output_type": "stream",
     "text": [
      " 17%|█▋        | 191/1130 [17:07<1:29:47,  5.74s/it][WDM] - Current google-chrome version is 92.0.4515\n",
      "[WDM] - Get LATEST driver version for 92.0.4515\n",
      "[WDM] - Driver [/Users/cblanesg/.wdm/drivers/chromedriver/mac64/92.0.4515.107/chromedriver] found in cache\n"
     ]
    },
    {
     "name": "stdout",
     "output_type": "stream",
     "text": [
      " \n"
     ]
    },
    {
     "name": "stderr",
     "output_type": "stream",
     "text": [
      " 17%|█▋        | 192/1130 [17:13<1:29:30,  5.73s/it][WDM] - Current google-chrome version is 92.0.4515\n",
      "[WDM] - Get LATEST driver version for 92.0.4515\n",
      "[WDM] - Driver [/Users/cblanesg/.wdm/drivers/chromedriver/mac64/92.0.4515.107/chromedriver] found in cache\n"
     ]
    },
    {
     "name": "stdout",
     "output_type": "stream",
     "text": [
      " \n"
     ]
    },
    {
     "name": "stderr",
     "output_type": "stream",
     "text": [
      " 17%|█▋        | 193/1130 [17:18<1:28:09,  5.65s/it][WDM] - Current google-chrome version is 92.0.4515\n",
      "[WDM] - Get LATEST driver version for 92.0.4515\n",
      "[WDM] - Driver [/Users/cblanesg/.wdm/drivers/chromedriver/mac64/92.0.4515.107/chromedriver] found in cache\n"
     ]
    },
    {
     "name": "stdout",
     "output_type": "stream",
     "text": [
      " \n"
     ]
    },
    {
     "name": "stderr",
     "output_type": "stream",
     "text": [
      " 17%|█▋        | 194/1130 [17:24<1:28:28,  5.67s/it][WDM] - Current google-chrome version is 92.0.4515\n",
      "[WDM] - Get LATEST driver version for 92.0.4515\n",
      "[WDM] - Driver [/Users/cblanesg/.wdm/drivers/chromedriver/mac64/92.0.4515.107/chromedriver] found in cache\n"
     ]
    },
    {
     "name": "stdout",
     "output_type": "stream",
     "text": [
      " \n"
     ]
    },
    {
     "name": "stderr",
     "output_type": "stream",
     "text": [
      " 17%|█▋        | 195/1130 [17:29<1:27:38,  5.62s/it][WDM] - Current google-chrome version is 92.0.4515\n",
      "[WDM] - Get LATEST driver version for 92.0.4515\n",
      "[WDM] - Driver [/Users/cblanesg/.wdm/drivers/chromedriver/mac64/92.0.4515.107/chromedriver] found in cache\n"
     ]
    },
    {
     "name": "stdout",
     "output_type": "stream",
     "text": [
      " \n"
     ]
    },
    {
     "name": "stderr",
     "output_type": "stream",
     "text": [
      " 17%|█▋        | 196/1130 [17:35<1:29:12,  5.73s/it][WDM] - Current google-chrome version is 92.0.4515\n",
      "[WDM] - Get LATEST driver version for 92.0.4515\n",
      "[WDM] - Driver [/Users/cblanesg/.wdm/drivers/chromedriver/mac64/92.0.4515.107/chromedriver] found in cache\n"
     ]
    },
    {
     "name": "stdout",
     "output_type": "stream",
     "text": [
      " \n"
     ]
    },
    {
     "name": "stderr",
     "output_type": "stream",
     "text": [
      " 17%|█▋        | 197/1130 [17:41<1:28:59,  5.72s/it][WDM] - Current google-chrome version is 92.0.4515\n",
      "[WDM] - Get LATEST driver version for 92.0.4515\n",
      "[WDM] - Driver [/Users/cblanesg/.wdm/drivers/chromedriver/mac64/92.0.4515.107/chromedriver] found in cache\n"
     ]
    },
    {
     "name": "stdout",
     "output_type": "stream",
     "text": [
      " \n"
     ]
    },
    {
     "name": "stderr",
     "output_type": "stream",
     "text": [
      " 18%|█▊        | 198/1130 [17:47<1:28:20,  5.69s/it][WDM] - Current google-chrome version is 92.0.4515\n",
      "[WDM] - Get LATEST driver version for 92.0.4515\n",
      "[WDM] - Driver [/Users/cblanesg/.wdm/drivers/chromedriver/mac64/92.0.4515.107/chromedriver] found in cache\n"
     ]
    },
    {
     "name": "stdout",
     "output_type": "stream",
     "text": [
      " \n"
     ]
    },
    {
     "name": "stderr",
     "output_type": "stream",
     "text": [
      " 18%|█▊        | 199/1130 [17:52<1:27:42,  5.65s/it][WDM] - Current google-chrome version is 92.0.4515\n",
      "[WDM] - Get LATEST driver version for 92.0.4515\n",
      "[WDM] - Driver [/Users/cblanesg/.wdm/drivers/chromedriver/mac64/92.0.4515.107/chromedriver] found in cache\n"
     ]
    },
    {
     "name": "stdout",
     "output_type": "stream",
     "text": [
      " \n"
     ]
    },
    {
     "name": "stderr",
     "output_type": "stream",
     "text": [
      " 18%|█▊        | 200/1130 [17:58<1:26:56,  5.61s/it][WDM] - Current google-chrome version is 92.0.4515\n",
      "[WDM] - Get LATEST driver version for 92.0.4515\n",
      "[WDM] - Driver [/Users/cblanesg/.wdm/drivers/chromedriver/mac64/92.0.4515.107/chromedriver] found in cache\n"
     ]
    },
    {
     "name": "stdout",
     "output_type": "stream",
     "text": [
      " \n"
     ]
    },
    {
     "name": "stderr",
     "output_type": "stream",
     "text": [
      " 18%|█▊        | 201/1130 [18:03<1:27:24,  5.65s/it][WDM] - Current google-chrome version is 92.0.4515\n",
      "[WDM] - Get LATEST driver version for 92.0.4515\n",
      "[WDM] - Driver [/Users/cblanesg/.wdm/drivers/chromedriver/mac64/92.0.4515.107/chromedriver] found in cache\n"
     ]
    },
    {
     "name": "stdout",
     "output_type": "stream",
     "text": [
      " \n"
     ]
    },
    {
     "name": "stderr",
     "output_type": "stream",
     "text": [
      " 18%|█▊        | 202/1130 [18:10<1:31:30,  5.92s/it][WDM] - Current google-chrome version is 92.0.4515\n",
      "[WDM] - Get LATEST driver version for 92.0.4515\n",
      "[WDM] - Driver [/Users/cblanesg/.wdm/drivers/chromedriver/mac64/92.0.4515.107/chromedriver] found in cache\n"
     ]
    },
    {
     "name": "stdout",
     "output_type": "stream",
     "text": [
      " \n"
     ]
    },
    {
     "name": "stderr",
     "output_type": "stream",
     "text": [
      " 18%|█▊        | 203/1130 [18:15<1:29:16,  5.78s/it][WDM] - Current google-chrome version is 92.0.4515\n",
      "[WDM] - Get LATEST driver version for 92.0.4515\n",
      "[WDM] - Driver [/Users/cblanesg/.wdm/drivers/chromedriver/mac64/92.0.4515.107/chromedriver] found in cache\n"
     ]
    },
    {
     "name": "stdout",
     "output_type": "stream",
     "text": [
      " \n"
     ]
    },
    {
     "name": "stderr",
     "output_type": "stream",
     "text": [
      " 18%|█▊        | 204/1130 [18:21<1:28:59,  5.77s/it][WDM] - Current google-chrome version is 92.0.4515\n",
      "[WDM] - Get LATEST driver version for 92.0.4515\n",
      "[WDM] - Driver [/Users/cblanesg/.wdm/drivers/chromedriver/mac64/92.0.4515.107/chromedriver] found in cache\n"
     ]
    },
    {
     "name": "stdout",
     "output_type": "stream",
     "text": [
      " \n"
     ]
    },
    {
     "name": "stderr",
     "output_type": "stream",
     "text": [
      " 18%|█▊        | 205/1130 [18:27<1:27:47,  5.69s/it][WDM] - Current google-chrome version is 92.0.4515\n",
      "[WDM] - Get LATEST driver version for 92.0.4515\n",
      "[WDM] - Driver [/Users/cblanesg/.wdm/drivers/chromedriver/mac64/92.0.4515.107/chromedriver] found in cache\n"
     ]
    },
    {
     "name": "stdout",
     "output_type": "stream",
     "text": [
      " \n"
     ]
    },
    {
     "name": "stderr",
     "output_type": "stream",
     "text": [
      " 18%|█▊        | 206/1130 [18:32<1:28:02,  5.72s/it][WDM] - Current google-chrome version is 92.0.4515\n",
      "[WDM] - Get LATEST driver version for 92.0.4515\n",
      "[WDM] - Driver [/Users/cblanesg/.wdm/drivers/chromedriver/mac64/92.0.4515.107/chromedriver] found in cache\n"
     ]
    },
    {
     "name": "stdout",
     "output_type": "stream",
     "text": [
      " \n"
     ]
    },
    {
     "name": "stderr",
     "output_type": "stream",
     "text": [
      " 18%|█▊        | 207/1130 [18:38<1:25:04,  5.53s/it][WDM] - Current google-chrome version is 92.0.4515\n",
      "[WDM] - Get LATEST driver version for 92.0.4515\n",
      "[WDM] - Driver [/Users/cblanesg/.wdm/drivers/chromedriver/mac64/92.0.4515.107/chromedriver] found in cache\n"
     ]
    },
    {
     "name": "stdout",
     "output_type": "stream",
     "text": [
      " \n"
     ]
    },
    {
     "name": "stderr",
     "output_type": "stream",
     "text": [
      " 18%|█▊        | 208/1130 [18:43<1:22:56,  5.40s/it][WDM] - Current google-chrome version is 92.0.4515\n",
      "[WDM] - Get LATEST driver version for 92.0.4515\n",
      "[WDM] - Driver [/Users/cblanesg/.wdm/drivers/chromedriver/mac64/92.0.4515.107/chromedriver] found in cache\n"
     ]
    },
    {
     "name": "stdout",
     "output_type": "stream",
     "text": [
      " \n"
     ]
    },
    {
     "name": "stderr",
     "output_type": "stream",
     "text": [
      " 18%|█▊        | 209/1130 [18:47<1:19:40,  5.19s/it][WDM] - Current google-chrome version is 92.0.4515\n",
      "[WDM] - Get LATEST driver version for 92.0.4515\n",
      "[WDM] - Driver [/Users/cblanesg/.wdm/drivers/chromedriver/mac64/92.0.4515.107/chromedriver] found in cache\n"
     ]
    },
    {
     "name": "stdout",
     "output_type": "stream",
     "text": [
      " \n"
     ]
    },
    {
     "name": "stderr",
     "output_type": "stream",
     "text": [
      " 19%|█▊        | 210/1130 [18:52<1:18:02,  5.09s/it][WDM] - Current google-chrome version is 92.0.4515\n",
      "[WDM] - Get LATEST driver version for 92.0.4515\n",
      "[WDM] - Driver [/Users/cblanesg/.wdm/drivers/chromedriver/mac64/92.0.4515.107/chromedriver] found in cache\n"
     ]
    },
    {
     "name": "stdout",
     "output_type": "stream",
     "text": [
      " \n"
     ]
    },
    {
     "name": "stderr",
     "output_type": "stream",
     "text": [
      " 19%|█▊        | 211/1130 [18:57<1:17:43,  5.07s/it][WDM] - Current google-chrome version is 92.0.4515\n",
      "[WDM] - Get LATEST driver version for 92.0.4515\n",
      "[WDM] - Driver [/Users/cblanesg/.wdm/drivers/chromedriver/mac64/92.0.4515.107/chromedriver] found in cache\n"
     ]
    },
    {
     "name": "stdout",
     "output_type": "stream",
     "text": [
      " \n"
     ]
    },
    {
     "name": "stderr",
     "output_type": "stream",
     "text": [
      " 19%|█▉        | 212/1130 [19:02<1:16:58,  5.03s/it][WDM] - Current google-chrome version is 92.0.4515\n",
      "[WDM] - Get LATEST driver version for 92.0.4515\n",
      "[WDM] - Driver [/Users/cblanesg/.wdm/drivers/chromedriver/mac64/92.0.4515.107/chromedriver] found in cache\n"
     ]
    },
    {
     "name": "stdout",
     "output_type": "stream",
     "text": [
      " \n"
     ]
    },
    {
     "name": "stderr",
     "output_type": "stream",
     "text": [
      " 19%|█▉        | 213/1130 [19:07<1:15:27,  4.94s/it][WDM] - Current google-chrome version is 92.0.4515\n",
      "[WDM] - Get LATEST driver version for 92.0.4515\n",
      "[WDM] - Driver [/Users/cblanesg/.wdm/drivers/chromedriver/mac64/92.0.4515.107/chromedriver] found in cache\n"
     ]
    },
    {
     "name": "stdout",
     "output_type": "stream",
     "text": [
      " \n"
     ]
    },
    {
     "name": "stderr",
     "output_type": "stream",
     "text": [
      " 19%|█▉        | 214/1130 [19:12<1:15:46,  4.96s/it][WDM] - Current google-chrome version is 92.0.4515\n",
      "[WDM] - Get LATEST driver version for 92.0.4515\n",
      "[WDM] - Driver [/Users/cblanesg/.wdm/drivers/chromedriver/mac64/92.0.4515.107/chromedriver] found in cache\n"
     ]
    },
    {
     "name": "stdout",
     "output_type": "stream",
     "text": [
      " \n"
     ]
    },
    {
     "name": "stderr",
     "output_type": "stream",
     "text": [
      " 19%|█▉        | 215/1130 [19:18<1:18:31,  5.15s/it][WDM] - Current google-chrome version is 92.0.4515\n",
      "[WDM] - Get LATEST driver version for 92.0.4515\n",
      "[WDM] - Driver [/Users/cblanesg/.wdm/drivers/chromedriver/mac64/92.0.4515.107/chromedriver] found in cache\n"
     ]
    },
    {
     "name": "stdout",
     "output_type": "stream",
     "text": [
      " \n"
     ]
    },
    {
     "name": "stderr",
     "output_type": "stream",
     "text": [
      " 19%|█▉        | 216/1130 [19:23<1:17:38,  5.10s/it][WDM] - Current google-chrome version is 92.0.4515\n",
      "[WDM] - Get LATEST driver version for 92.0.4515\n",
      "[WDM] - Driver [/Users/cblanesg/.wdm/drivers/chromedriver/mac64/92.0.4515.107/chromedriver] found in cache\n"
     ]
    },
    {
     "name": "stdout",
     "output_type": "stream",
     "text": [
      " \n"
     ]
    },
    {
     "name": "stderr",
     "output_type": "stream",
     "text": [
      " 19%|█▉        | 217/1130 [19:27<1:12:36,  4.77s/it][WDM] - Current google-chrome version is 92.0.4515\n",
      "[WDM] - Get LATEST driver version for 92.0.4515\n",
      "[WDM] - Driver [/Users/cblanesg/.wdm/drivers/chromedriver/mac64/92.0.4515.107/chromedriver] found in cache\n"
     ]
    },
    {
     "name": "stdout",
     "output_type": "stream",
     "text": [
      " \n"
     ]
    },
    {
     "name": "stderr",
     "output_type": "stream",
     "text": [
      " 19%|█▉        | 218/1130 [19:32<1:14:31,  4.90s/it][WDM] - Current google-chrome version is 92.0.4515\n",
      "[WDM] - Get LATEST driver version for 92.0.4515\n",
      "[WDM] - Driver [/Users/cblanesg/.wdm/drivers/chromedriver/mac64/92.0.4515.107/chromedriver] found in cache\n"
     ]
    },
    {
     "name": "stdout",
     "output_type": "stream",
     "text": [
      " \n"
     ]
    },
    {
     "name": "stderr",
     "output_type": "stream",
     "text": [
      " 19%|█▉        | 219/1130 [19:36<1:13:33,  4.84s/it][WDM] - Current google-chrome version is 92.0.4515\n",
      "[WDM] - Get LATEST driver version for 92.0.4515\n",
      "[WDM] - Driver [/Users/cblanesg/.wdm/drivers/chromedriver/mac64/92.0.4515.107/chromedriver] found in cache\n"
     ]
    },
    {
     "name": "stdout",
     "output_type": "stream",
     "text": [
      " \n"
     ]
    },
    {
     "name": "stderr",
     "output_type": "stream",
     "text": [
      " 19%|█▉        | 220/1130 [19:41<1:10:37,  4.66s/it][WDM] - Current google-chrome version is 92.0.4515\n",
      "[WDM] - Get LATEST driver version for 92.0.4515\n",
      "[WDM] - Driver [/Users/cblanesg/.wdm/drivers/chromedriver/mac64/92.0.4515.107/chromedriver] found in cache\n"
     ]
    },
    {
     "name": "stdout",
     "output_type": "stream",
     "text": [
      " \n"
     ]
    },
    {
     "name": "stderr",
     "output_type": "stream",
     "text": [
      " 20%|█▉        | 221/1130 [19:46<1:12:09,  4.76s/it][WDM] - Current google-chrome version is 92.0.4515\n",
      "[WDM] - Get LATEST driver version for 92.0.4515\n",
      "[WDM] - Driver [/Users/cblanesg/.wdm/drivers/chromedriver/mac64/92.0.4515.107/chromedriver] found in cache\n"
     ]
    },
    {
     "name": "stdout",
     "output_type": "stream",
     "text": [
      " \n"
     ]
    },
    {
     "name": "stderr",
     "output_type": "stream",
     "text": [
      " 20%|█▉        | 222/1130 [19:51<1:12:35,  4.80s/it][WDM] - Current google-chrome version is 92.0.4515\n",
      "[WDM] - Get LATEST driver version for 92.0.4515\n",
      "[WDM] - Driver [/Users/cblanesg/.wdm/drivers/chromedriver/mac64/92.0.4515.107/chromedriver] found in cache\n"
     ]
    },
    {
     "name": "stdout",
     "output_type": "stream",
     "text": [
      " \n"
     ]
    },
    {
     "name": "stderr",
     "output_type": "stream",
     "text": [
      " 20%|█▉        | 223/1130 [19:55<1:12:11,  4.78s/it][WDM] - Current google-chrome version is 92.0.4515\n",
      "[WDM] - Get LATEST driver version for 92.0.4515\n",
      "[WDM] - Driver [/Users/cblanesg/.wdm/drivers/chromedriver/mac64/92.0.4515.107/chromedriver] found in cache\n"
     ]
    },
    {
     "name": "stdout",
     "output_type": "stream",
     "text": [
      " \n"
     ]
    },
    {
     "name": "stderr",
     "output_type": "stream",
     "text": [
      " 20%|█▉        | 224/1130 [20:00<1:13:39,  4.88s/it][WDM] - Current google-chrome version is 92.0.4515\n",
      "[WDM] - Get LATEST driver version for 92.0.4515\n",
      "[WDM] - Driver [/Users/cblanesg/.wdm/drivers/chromedriver/mac64/92.0.4515.107/chromedriver] found in cache\n"
     ]
    },
    {
     "name": "stdout",
     "output_type": "stream",
     "text": [
      " \n"
     ]
    },
    {
     "name": "stderr",
     "output_type": "stream",
     "text": [
      " 20%|█▉        | 225/1130 [20:07<1:21:19,  5.39s/it][WDM] - Current google-chrome version is 92.0.4515\n",
      "[WDM] - Get LATEST driver version for 92.0.4515\n",
      "[WDM] - Driver [/Users/cblanesg/.wdm/drivers/chromedriver/mac64/92.0.4515.107/chromedriver] found in cache\n"
     ]
    },
    {
     "name": "stdout",
     "output_type": "stream",
     "text": [
      " \n"
     ]
    },
    {
     "name": "stderr",
     "output_type": "stream",
     "text": [
      " 20%|██        | 226/1130 [20:12<1:21:44,  5.43s/it][WDM] - Current google-chrome version is 92.0.4515\n",
      "[WDM] - Get LATEST driver version for 92.0.4515\n",
      "[WDM] - Driver [/Users/cblanesg/.wdm/drivers/chromedriver/mac64/92.0.4515.107/chromedriver] found in cache\n"
     ]
    },
    {
     "name": "stdout",
     "output_type": "stream",
     "text": [
      " \n"
     ]
    },
    {
     "name": "stderr",
     "output_type": "stream",
     "text": [
      " 20%|██        | 227/1130 [20:17<1:17:34,  5.16s/it][WDM] - Current google-chrome version is 92.0.4515\n",
      "[WDM] - Get LATEST driver version for 92.0.4515\n",
      "[WDM] - Driver [/Users/cblanesg/.wdm/drivers/chromedriver/mac64/92.0.4515.107/chromedriver] found in cache\n"
     ]
    },
    {
     "name": "stdout",
     "output_type": "stream",
     "text": [
      " \n"
     ]
    },
    {
     "name": "stderr",
     "output_type": "stream",
     "text": [
      " 20%|██        | 228/1130 [20:23<1:22:34,  5.49s/it][WDM] - Current google-chrome version is 92.0.4515\n",
      "[WDM] - Get LATEST driver version for 92.0.4515\n",
      "[WDM] - Driver [/Users/cblanesg/.wdm/drivers/chromedriver/mac64/92.0.4515.107/chromedriver] found in cache\n"
     ]
    },
    {
     "name": "stdout",
     "output_type": "stream",
     "text": [
      " \n"
     ]
    },
    {
     "name": "stderr",
     "output_type": "stream",
     "text": [
      " 20%|██        | 229/1130 [20:29<1:22:17,  5.48s/it][WDM] - Current google-chrome version is 92.0.4515\n",
      "[WDM] - Get LATEST driver version for 92.0.4515\n",
      "[WDM] - Driver [/Users/cblanesg/.wdm/drivers/chromedriver/mac64/92.0.4515.107/chromedriver] found in cache\n"
     ]
    },
    {
     "name": "stdout",
     "output_type": "stream",
     "text": [
      " \n"
     ]
    },
    {
     "name": "stderr",
     "output_type": "stream",
     "text": [
      " 20%|██        | 230/1130 [20:34<1:22:38,  5.51s/it][WDM] - Current google-chrome version is 92.0.4515\n",
      "[WDM] - Get LATEST driver version for 92.0.4515\n",
      "[WDM] - Driver [/Users/cblanesg/.wdm/drivers/chromedriver/mac64/92.0.4515.107/chromedriver] found in cache\n"
     ]
    },
    {
     "name": "stdout",
     "output_type": "stream",
     "text": [
      " \n"
     ]
    },
    {
     "name": "stderr",
     "output_type": "stream",
     "text": [
      " 20%|██        | 231/1130 [20:40<1:24:07,  5.61s/it][WDM] - Current google-chrome version is 92.0.4515\n",
      "[WDM] - Get LATEST driver version for 92.0.4515\n",
      "[WDM] - Driver [/Users/cblanesg/.wdm/drivers/chromedriver/mac64/92.0.4515.107/chromedriver] found in cache\n"
     ]
    },
    {
     "name": "stdout",
     "output_type": "stream",
     "text": [
      " \n"
     ]
    },
    {
     "name": "stderr",
     "output_type": "stream",
     "text": [
      " 21%|██        | 232/1130 [20:46<1:24:18,  5.63s/it][WDM] - Current google-chrome version is 92.0.4515\n",
      "[WDM] - Get LATEST driver version for 92.0.4515\n",
      "[WDM] - Driver [/Users/cblanesg/.wdm/drivers/chromedriver/mac64/92.0.4515.107/chromedriver] found in cache\n"
     ]
    },
    {
     "name": "stdout",
     "output_type": "stream",
     "text": [
      " \n"
     ]
    },
    {
     "name": "stderr",
     "output_type": "stream",
     "text": [
      " 21%|██        | 233/1130 [20:52<1:24:49,  5.67s/it][WDM] - Current google-chrome version is 92.0.4515\n",
      "[WDM] - Get LATEST driver version for 92.0.4515\n",
      "[WDM] - Driver [/Users/cblanesg/.wdm/drivers/chromedriver/mac64/92.0.4515.107/chromedriver] found in cache\n"
     ]
    },
    {
     "name": "stdout",
     "output_type": "stream",
     "text": [
      " \n"
     ]
    },
    {
     "name": "stderr",
     "output_type": "stream",
     "text": [
      " 21%|██        | 234/1130 [20:57<1:24:31,  5.66s/it][WDM] - Current google-chrome version is 92.0.4515\n",
      "[WDM] - Get LATEST driver version for 92.0.4515\n",
      "[WDM] - Driver [/Users/cblanesg/.wdm/drivers/chromedriver/mac64/92.0.4515.107/chromedriver] found in cache\n"
     ]
    },
    {
     "name": "stdout",
     "output_type": "stream",
     "text": [
      " \n"
     ]
    },
    {
     "name": "stderr",
     "output_type": "stream",
     "text": [
      " 21%|██        | 235/1130 [21:02<1:21:33,  5.47s/it][WDM] - Current google-chrome version is 92.0.4515\n",
      "[WDM] - Get LATEST driver version for 92.0.4515\n",
      "[WDM] - Driver [/Users/cblanesg/.wdm/drivers/chromedriver/mac64/92.0.4515.107/chromedriver] found in cache\n"
     ]
    },
    {
     "name": "stdout",
     "output_type": "stream",
     "text": [
      " \n"
     ]
    },
    {
     "name": "stderr",
     "output_type": "stream",
     "text": [
      " 21%|██        | 236/1130 [21:08<1:24:20,  5.66s/it][WDM] - Current google-chrome version is 92.0.4515\n",
      "[WDM] - Get LATEST driver version for 92.0.4515\n",
      "[WDM] - Driver [/Users/cblanesg/.wdm/drivers/chromedriver/mac64/92.0.4515.107/chromedriver] found in cache\n"
     ]
    },
    {
     "name": "stdout",
     "output_type": "stream",
     "text": [
      " \n"
     ]
    },
    {
     "name": "stderr",
     "output_type": "stream",
     "text": [
      " 21%|██        | 237/1130 [21:14<1:24:51,  5.70s/it][WDM] - Current google-chrome version is 92.0.4515\n",
      "[WDM] - Get LATEST driver version for 92.0.4515\n",
      "[WDM] - Driver [/Users/cblanesg/.wdm/drivers/chromedriver/mac64/92.0.4515.107/chromedriver] found in cache\n"
     ]
    },
    {
     "name": "stdout",
     "output_type": "stream",
     "text": [
      " \n"
     ]
    },
    {
     "name": "stderr",
     "output_type": "stream",
     "text": [
      " 21%|██        | 238/1130 [21:20<1:25:58,  5.78s/it][WDM] - Current google-chrome version is 92.0.4515\n",
      "[WDM] - Get LATEST driver version for 92.0.4515\n",
      "[WDM] - Driver [/Users/cblanesg/.wdm/drivers/chromedriver/mac64/92.0.4515.107/chromedriver] found in cache\n"
     ]
    },
    {
     "name": "stdout",
     "output_type": "stream",
     "text": [
      " \n"
     ]
    },
    {
     "name": "stderr",
     "output_type": "stream",
     "text": [
      " 21%|██        | 239/1130 [21:26<1:26:40,  5.84s/it][WDM] - Current google-chrome version is 92.0.4515\n",
      "[WDM] - Get LATEST driver version for 92.0.4515\n",
      "[WDM] - Driver [/Users/cblanesg/.wdm/drivers/chromedriver/mac64/92.0.4515.107/chromedriver] found in cache\n"
     ]
    },
    {
     "name": "stdout",
     "output_type": "stream",
     "text": [
      " \n"
     ]
    },
    {
     "name": "stderr",
     "output_type": "stream",
     "text": [
      " 21%|██        | 240/1130 [21:32<1:27:23,  5.89s/it][WDM] - Current google-chrome version is 92.0.4515\n",
      "[WDM] - Get LATEST driver version for 92.0.4515\n",
      "[WDM] - Driver [/Users/cblanesg/.wdm/drivers/chromedriver/mac64/92.0.4515.107/chromedriver] found in cache\n"
     ]
    },
    {
     "name": "stdout",
     "output_type": "stream",
     "text": [
      " \n"
     ]
    },
    {
     "name": "stderr",
     "output_type": "stream",
     "text": [
      " 21%|██▏       | 241/1130 [21:38<1:27:07,  5.88s/it][WDM] - Current google-chrome version is 92.0.4515\n",
      "[WDM] - Get LATEST driver version for 92.0.4515\n",
      "[WDM] - Driver [/Users/cblanesg/.wdm/drivers/chromedriver/mac64/92.0.4515.107/chromedriver] found in cache\n"
     ]
    },
    {
     "name": "stdout",
     "output_type": "stream",
     "text": [
      " \n"
     ]
    },
    {
     "name": "stderr",
     "output_type": "stream",
     "text": [
      " 21%|██▏       | 242/1130 [21:44<1:26:17,  5.83s/it][WDM] - Current google-chrome version is 92.0.4515\n",
      "[WDM] - Get LATEST driver version for 92.0.4515\n",
      "[WDM] - Driver [/Users/cblanesg/.wdm/drivers/chromedriver/mac64/92.0.4515.107/chromedriver] found in cache\n"
     ]
    },
    {
     "name": "stdout",
     "output_type": "stream",
     "text": [
      " \n"
     ]
    },
    {
     "name": "stderr",
     "output_type": "stream",
     "text": [
      " 22%|██▏       | 243/1130 [21:50<1:27:21,  5.91s/it][WDM] - Current google-chrome version is 92.0.4515\n",
      "[WDM] - Get LATEST driver version for 92.0.4515\n",
      "[WDM] - Driver [/Users/cblanesg/.wdm/drivers/chromedriver/mac64/92.0.4515.107/chromedriver] found in cache\n"
     ]
    },
    {
     "name": "stdout",
     "output_type": "stream",
     "text": [
      " \n"
     ]
    },
    {
     "name": "stderr",
     "output_type": "stream",
     "text": [
      " 22%|██▏       | 244/1130 [21:56<1:27:52,  5.95s/it][WDM] - Current google-chrome version is 92.0.4515\n",
      "[WDM] - Get LATEST driver version for 92.0.4515\n",
      "[WDM] - Driver [/Users/cblanesg/.wdm/drivers/chromedriver/mac64/92.0.4515.107/chromedriver] found in cache\n"
     ]
    },
    {
     "name": "stdout",
     "output_type": "stream",
     "text": [
      " \n"
     ]
    },
    {
     "name": "stderr",
     "output_type": "stream",
     "text": [
      " 22%|██▏       | 245/1130 [22:02<1:28:01,  5.97s/it][WDM] - Current google-chrome version is 92.0.4515\n",
      "[WDM] - Get LATEST driver version for 92.0.4515\n",
      "[WDM] - Driver [/Users/cblanesg/.wdm/drivers/chromedriver/mac64/92.0.4515.107/chromedriver] found in cache\n"
     ]
    },
    {
     "name": "stdout",
     "output_type": "stream",
     "text": [
      " \n"
     ]
    },
    {
     "name": "stderr",
     "output_type": "stream",
     "text": [
      " 22%|██▏       | 246/1130 [22:07<1:26:00,  5.84s/it][WDM] - Current google-chrome version is 92.0.4515\n",
      "[WDM] - Get LATEST driver version for 92.0.4515\n",
      "[WDM] - Driver [/Users/cblanesg/.wdm/drivers/chromedriver/mac64/92.0.4515.107/chromedriver] found in cache\n"
     ]
    },
    {
     "name": "stdout",
     "output_type": "stream",
     "text": [
      " \n"
     ]
    },
    {
     "name": "stderr",
     "output_type": "stream",
     "text": [
      " 22%|██▏       | 247/1130 [22:13<1:24:33,  5.75s/it][WDM] - Current google-chrome version is 92.0.4515\n",
      "[WDM] - Get LATEST driver version for 92.0.4515\n",
      "[WDM] - Driver [/Users/cblanesg/.wdm/drivers/chromedriver/mac64/92.0.4515.107/chromedriver] found in cache\n"
     ]
    },
    {
     "name": "stdout",
     "output_type": "stream",
     "text": [
      " \n"
     ]
    },
    {
     "name": "stderr",
     "output_type": "stream",
     "text": [
      " 22%|██▏       | 248/1130 [22:19<1:23:54,  5.71s/it][WDM] - Current google-chrome version is 92.0.4515\n",
      "[WDM] - Get LATEST driver version for 92.0.4515\n",
      "[WDM] - Driver [/Users/cblanesg/.wdm/drivers/chromedriver/mac64/92.0.4515.107/chromedriver] found in cache\n"
     ]
    },
    {
     "name": "stdout",
     "output_type": "stream",
     "text": [
      " \n"
     ]
    },
    {
     "name": "stderr",
     "output_type": "stream",
     "text": [
      " 22%|██▏       | 249/1130 [22:24<1:23:48,  5.71s/it][WDM] - Current google-chrome version is 92.0.4515\n",
      "[WDM] - Get LATEST driver version for 92.0.4515\n",
      "[WDM] - Driver [/Users/cblanesg/.wdm/drivers/chromedriver/mac64/92.0.4515.107/chromedriver] found in cache\n"
     ]
    },
    {
     "name": "stdout",
     "output_type": "stream",
     "text": [
      " \n"
     ]
    },
    {
     "name": "stderr",
     "output_type": "stream",
     "text": [
      " 22%|██▏       | 250/1130 [22:30<1:24:05,  5.73s/it][WDM] - Current google-chrome version is 92.0.4515\n",
      "[WDM] - Get LATEST driver version for 92.0.4515\n",
      "[WDM] - Driver [/Users/cblanesg/.wdm/drivers/chromedriver/mac64/92.0.4515.107/chromedriver] found in cache\n"
     ]
    },
    {
     "name": "stdout",
     "output_type": "stream",
     "text": [
      " \n"
     ]
    },
    {
     "name": "stderr",
     "output_type": "stream",
     "text": [
      " 22%|██▏       | 251/1130 [22:36<1:24:18,  5.76s/it][WDM] - Current google-chrome version is 92.0.4515\n",
      "[WDM] - Get LATEST driver version for 92.0.4515\n",
      "[WDM] - Driver [/Users/cblanesg/.wdm/drivers/chromedriver/mac64/92.0.4515.107/chromedriver] found in cache\n"
     ]
    },
    {
     "name": "stdout",
     "output_type": "stream",
     "text": [
      " \n"
     ]
    },
    {
     "name": "stderr",
     "output_type": "stream",
     "text": [
      " 22%|██▏       | 252/1130 [22:42<1:25:08,  5.82s/it][WDM] - Current google-chrome version is 92.0.4515\n",
      "[WDM] - Get LATEST driver version for 92.0.4515\n",
      "[WDM] - Driver [/Users/cblanesg/.wdm/drivers/chromedriver/mac64/92.0.4515.107/chromedriver] found in cache\n"
     ]
    },
    {
     "name": "stdout",
     "output_type": "stream",
     "text": [
      " \n"
     ]
    },
    {
     "name": "stderr",
     "output_type": "stream",
     "text": [
      " 22%|██▏       | 253/1130 [22:48<1:26:03,  5.89s/it][WDM] - Current google-chrome version is 92.0.4515\n",
      "[WDM] - Get LATEST driver version for 92.0.4515\n",
      "[WDM] - Driver [/Users/cblanesg/.wdm/drivers/chromedriver/mac64/92.0.4515.107/chromedriver] found in cache\n"
     ]
    },
    {
     "name": "stdout",
     "output_type": "stream",
     "text": [
      " \n"
     ]
    },
    {
     "name": "stderr",
     "output_type": "stream",
     "text": [
      " 22%|██▏       | 254/1130 [22:54<1:26:06,  5.90s/it][WDM] - Current google-chrome version is 92.0.4515\n",
      "[WDM] - Get LATEST driver version for 92.0.4515\n",
      "[WDM] - Driver [/Users/cblanesg/.wdm/drivers/chromedriver/mac64/92.0.4515.107/chromedriver] found in cache\n"
     ]
    },
    {
     "name": "stdout",
     "output_type": "stream",
     "text": [
      " \n"
     ]
    },
    {
     "name": "stderr",
     "output_type": "stream",
     "text": [
      " 23%|██▎       | 255/1130 [23:00<1:25:29,  5.86s/it][WDM] - Current google-chrome version is 92.0.4515\n",
      "[WDM] - Get LATEST driver version for 92.0.4515\n",
      "[WDM] - Driver [/Users/cblanesg/.wdm/drivers/chromedriver/mac64/92.0.4515.107/chromedriver] found in cache\n"
     ]
    },
    {
     "name": "stdout",
     "output_type": "stream",
     "text": [
      " \n"
     ]
    },
    {
     "name": "stderr",
     "output_type": "stream",
     "text": [
      " 23%|██▎       | 256/1130 [23:07<1:30:15,  6.20s/it][WDM] - Current google-chrome version is 92.0.4515\n",
      "[WDM] - Get LATEST driver version for 92.0.4515\n",
      "[WDM] - Driver [/Users/cblanesg/.wdm/drivers/chromedriver/mac64/92.0.4515.107/chromedriver] found in cache\n"
     ]
    },
    {
     "name": "stdout",
     "output_type": "stream",
     "text": [
      " \n"
     ]
    },
    {
     "name": "stderr",
     "output_type": "stream",
     "text": [
      " 23%|██▎       | 257/1130 [23:12<1:29:02,  6.12s/it][WDM] - Current google-chrome version is 92.0.4515\n",
      "[WDM] - Get LATEST driver version for 92.0.4515\n",
      "[WDM] - Driver [/Users/cblanesg/.wdm/drivers/chromedriver/mac64/92.0.4515.107/chromedriver] found in cache\n"
     ]
    },
    {
     "name": "stdout",
     "output_type": "stream",
     "text": [
      " \n"
     ]
    },
    {
     "name": "stderr",
     "output_type": "stream",
     "text": [
      " 23%|██▎       | 258/1130 [23:19<1:29:50,  6.18s/it][WDM] - Current google-chrome version is 92.0.4515\n",
      "[WDM] - Get LATEST driver version for 92.0.4515\n",
      "[WDM] - Driver [/Users/cblanesg/.wdm/drivers/chromedriver/mac64/92.0.4515.107/chromedriver] found in cache\n"
     ]
    },
    {
     "name": "stdout",
     "output_type": "stream",
     "text": [
      " \n"
     ]
    },
    {
     "name": "stderr",
     "output_type": "stream",
     "text": [
      " 23%|██▎       | 259/1130 [23:25<1:28:02,  6.07s/it][WDM] - Current google-chrome version is 92.0.4515\n",
      "[WDM] - Get LATEST driver version for 92.0.4515\n",
      "[WDM] - Driver [/Users/cblanesg/.wdm/drivers/chromedriver/mac64/92.0.4515.107/chromedriver] found in cache\n"
     ]
    },
    {
     "name": "stdout",
     "output_type": "stream",
     "text": [
      " \n"
     ]
    },
    {
     "name": "stderr",
     "output_type": "stream",
     "text": [
      " 23%|██▎       | 260/1130 [23:30<1:26:40,  5.98s/it][WDM] - Current google-chrome version is 92.0.4515\n",
      "[WDM] - Get LATEST driver version for 92.0.4515\n",
      "[WDM] - Driver [/Users/cblanesg/.wdm/drivers/chromedriver/mac64/92.0.4515.107/chromedriver] found in cache\n"
     ]
    },
    {
     "name": "stdout",
     "output_type": "stream",
     "text": [
      " \n"
     ]
    },
    {
     "name": "stderr",
     "output_type": "stream",
     "text": [
      " 23%|██▎       | 261/1130 [23:36<1:24:59,  5.87s/it][WDM] - Current google-chrome version is 92.0.4515\n",
      "[WDM] - Get LATEST driver version for 92.0.4515\n",
      "[WDM] - Driver [/Users/cblanesg/.wdm/drivers/chromedriver/mac64/92.0.4515.107/chromedriver] found in cache\n"
     ]
    },
    {
     "name": "stdout",
     "output_type": "stream",
     "text": [
      " \n"
     ]
    },
    {
     "name": "stderr",
     "output_type": "stream",
     "text": [
      " 23%|██▎       | 262/1130 [23:41<1:23:14,  5.75s/it][WDM] - Current google-chrome version is 92.0.4515\n",
      "[WDM] - Get LATEST driver version for 92.0.4515\n",
      "[WDM] - Driver [/Users/cblanesg/.wdm/drivers/chromedriver/mac64/92.0.4515.107/chromedriver] found in cache\n"
     ]
    },
    {
     "name": "stdout",
     "output_type": "stream",
     "text": [
      " \n"
     ]
    },
    {
     "name": "stderr",
     "output_type": "stream",
     "text": [
      " 23%|██▎       | 263/1130 [23:47<1:23:31,  5.78s/it][WDM] - Current google-chrome version is 92.0.4515\n",
      "[WDM] - Get LATEST driver version for 92.0.4515\n",
      "[WDM] - Driver [/Users/cblanesg/.wdm/drivers/chromedriver/mac64/92.0.4515.107/chromedriver] found in cache\n"
     ]
    },
    {
     "name": "stdout",
     "output_type": "stream",
     "text": [
      " \n"
     ]
    },
    {
     "name": "stderr",
     "output_type": "stream",
     "text": [
      " 23%|██▎       | 264/1130 [23:53<1:23:35,  5.79s/it][WDM] - Current google-chrome version is 92.0.4515\n",
      "[WDM] - Get LATEST driver version for 92.0.4515\n"
     ]
    },
    {
     "name": "stdout",
     "output_type": "stream",
     "text": [
      " \n"
     ]
    },
    {
     "name": "stderr",
     "output_type": "stream",
     "text": [
      "[WDM] - Driver [/Users/cblanesg/.wdm/drivers/chromedriver/mac64/92.0.4515.107/chromedriver] found in cache\n",
      " 23%|██▎       | 265/1130 [23:59<1:23:07,  5.77s/it][WDM] - Current google-chrome version is 92.0.4515\n",
      "[WDM] - Get LATEST driver version for 92.0.4515\n",
      "[WDM] - Driver [/Users/cblanesg/.wdm/drivers/chromedriver/mac64/92.0.4515.107/chromedriver] found in cache\n"
     ]
    },
    {
     "name": "stdout",
     "output_type": "stream",
     "text": [
      " \n"
     ]
    },
    {
     "name": "stderr",
     "output_type": "stream",
     "text": [
      " 24%|██▎       | 266/1130 [24:05<1:22:44,  5.75s/it][WDM] - Current google-chrome version is 92.0.4515\n",
      "[WDM] - Get LATEST driver version for 92.0.4515\n",
      "[WDM] - Driver [/Users/cblanesg/.wdm/drivers/chromedriver/mac64/92.0.4515.107/chromedriver] found in cache\n"
     ]
    },
    {
     "name": "stdout",
     "output_type": "stream",
     "text": [
      " \n"
     ]
    },
    {
     "name": "stderr",
     "output_type": "stream",
     "text": [
      " 24%|██▎       | 267/1130 [24:11<1:24:05,  5.85s/it][WDM] - Current google-chrome version is 92.0.4515\n",
      "[WDM] - Get LATEST driver version for 92.0.4515\n",
      "[WDM] - Driver [/Users/cblanesg/.wdm/drivers/chromedriver/mac64/92.0.4515.107/chromedriver] found in cache\n"
     ]
    },
    {
     "name": "stdout",
     "output_type": "stream",
     "text": [
      " \n"
     ]
    },
    {
     "name": "stderr",
     "output_type": "stream",
     "text": [
      " 24%|██▎       | 268/1130 [24:17<1:27:19,  6.08s/it][WDM] - Current google-chrome version is 92.0.4515\n",
      "[WDM] - Get LATEST driver version for 92.0.4515\n",
      "[WDM] - Driver [/Users/cblanesg/.wdm/drivers/chromedriver/mac64/92.0.4515.107/chromedriver] found in cache\n"
     ]
    },
    {
     "name": "stdout",
     "output_type": "stream",
     "text": [
      " \n"
     ]
    },
    {
     "name": "stderr",
     "output_type": "stream",
     "text": [
      " 24%|██▍       | 269/1130 [24:23<1:27:04,  6.07s/it][WDM] - Current google-chrome version is 92.0.4515\n",
      "[WDM] - Get LATEST driver version for 92.0.4515\n",
      "[WDM] - Driver [/Users/cblanesg/.wdm/drivers/chromedriver/mac64/92.0.4515.107/chromedriver] found in cache\n"
     ]
    },
    {
     "name": "stdout",
     "output_type": "stream",
     "text": [
      " \n"
     ]
    },
    {
     "name": "stderr",
     "output_type": "stream",
     "text": [
      " 24%|██▍       | 270/1130 [24:29<1:26:52,  6.06s/it][WDM] - Current google-chrome version is 92.0.4515\n",
      "[WDM] - Get LATEST driver version for 92.0.4515\n",
      "[WDM] - Driver [/Users/cblanesg/.wdm/drivers/chromedriver/mac64/92.0.4515.107/chromedriver] found in cache\n"
     ]
    },
    {
     "name": "stdout",
     "output_type": "stream",
     "text": [
      " \n"
     ]
    },
    {
     "name": "stderr",
     "output_type": "stream",
     "text": [
      " 24%|██▍       | 271/1130 [24:35<1:26:43,  6.06s/it][WDM] - Current google-chrome version is 92.0.4515\n",
      "[WDM] - Get LATEST driver version for 92.0.4515\n",
      "[WDM] - Driver [/Users/cblanesg/.wdm/drivers/chromedriver/mac64/92.0.4515.107/chromedriver] found in cache\n"
     ]
    },
    {
     "name": "stdout",
     "output_type": "stream",
     "text": [
      " \n"
     ]
    },
    {
     "name": "stderr",
     "output_type": "stream",
     "text": [
      " 24%|██▍       | 272/1130 [24:42<1:28:28,  6.19s/it][WDM] - Current google-chrome version is 92.0.4515\n",
      "[WDM] - Get LATEST driver version for 92.0.4515\n",
      "[WDM] - Driver [/Users/cblanesg/.wdm/drivers/chromedriver/mac64/92.0.4515.107/chromedriver] found in cache\n"
     ]
    },
    {
     "name": "stdout",
     "output_type": "stream",
     "text": [
      " \n"
     ]
    },
    {
     "name": "stderr",
     "output_type": "stream",
     "text": [
      " 24%|██▍       | 273/1130 [24:48<1:26:15,  6.04s/it][WDM] - Current google-chrome version is 92.0.4515\n",
      "[WDM] - Get LATEST driver version for 92.0.4515\n",
      "[WDM] - Driver [/Users/cblanesg/.wdm/drivers/chromedriver/mac64/92.0.4515.107/chromedriver] found in cache\n"
     ]
    },
    {
     "name": "stdout",
     "output_type": "stream",
     "text": [
      " \n"
     ]
    },
    {
     "name": "stderr",
     "output_type": "stream",
     "text": [
      " 24%|██▍       | 274/1130 [24:53<1:24:23,  5.92s/it][WDM] - Current google-chrome version is 92.0.4515\n",
      "[WDM] - Get LATEST driver version for 92.0.4515\n",
      "[WDM] - Driver [/Users/cblanesg/.wdm/drivers/chromedriver/mac64/92.0.4515.107/chromedriver] found in cache\n"
     ]
    },
    {
     "name": "stdout",
     "output_type": "stream",
     "text": [
      " \n"
     ]
    },
    {
     "name": "stderr",
     "output_type": "stream",
     "text": [
      " 24%|██▍       | 275/1130 [24:59<1:23:01,  5.83s/it][WDM] - Current google-chrome version is 92.0.4515\n",
      "[WDM] - Get LATEST driver version for 92.0.4515\n",
      "[WDM] - Driver [/Users/cblanesg/.wdm/drivers/chromedriver/mac64/92.0.4515.107/chromedriver] found in cache\n"
     ]
    },
    {
     "name": "stdout",
     "output_type": "stream",
     "text": [
      " \n"
     ]
    },
    {
     "name": "stderr",
     "output_type": "stream",
     "text": [
      " 24%|██▍       | 276/1130 [25:06<1:27:48,  6.17s/it][WDM] - Current google-chrome version is 92.0.4515\n",
      "[WDM] - Get LATEST driver version for 92.0.4515\n",
      "[WDM] - Driver [/Users/cblanesg/.wdm/drivers/chromedriver/mac64/92.0.4515.107/chromedriver] found in cache\n"
     ]
    },
    {
     "name": "stdout",
     "output_type": "stream",
     "text": [
      " \n"
     ]
    },
    {
     "name": "stderr",
     "output_type": "stream",
     "text": [
      " 25%|██▍       | 277/1130 [25:12<1:27:08,  6.13s/it][WDM] - Current google-chrome version is 92.0.4515\n",
      "[WDM] - Get LATEST driver version for 92.0.4515\n",
      "[WDM] - Driver [/Users/cblanesg/.wdm/drivers/chromedriver/mac64/92.0.4515.107/chromedriver] found in cache\n"
     ]
    },
    {
     "name": "stdout",
     "output_type": "stream",
     "text": [
      " \n"
     ]
    },
    {
     "name": "stderr",
     "output_type": "stream",
     "text": [
      " 25%|██▍       | 278/1130 [25:18<1:27:53,  6.19s/it][WDM] - Current google-chrome version is 92.0.4515\n",
      "[WDM] - Get LATEST driver version for 92.0.4515\n",
      "[WDM] - Driver [/Users/cblanesg/.wdm/drivers/chromedriver/mac64/92.0.4515.107/chromedriver] found in cache\n"
     ]
    },
    {
     "name": "stdout",
     "output_type": "stream",
     "text": [
      " \n"
     ]
    },
    {
     "name": "stderr",
     "output_type": "stream",
     "text": [
      " 25%|██▍       | 279/1130 [25:24<1:25:11,  6.01s/it][WDM] - Current google-chrome version is 92.0.4515\n",
      "[WDM] - Get LATEST driver version for 92.0.4515\n",
      "[WDM] - Driver [/Users/cblanesg/.wdm/drivers/chromedriver/mac64/92.0.4515.107/chromedriver] found in cache\n"
     ]
    },
    {
     "name": "stdout",
     "output_type": "stream",
     "text": [
      " \n"
     ]
    },
    {
     "name": "stderr",
     "output_type": "stream",
     "text": [
      " 25%|██▍       | 280/1130 [25:29<1:22:15,  5.81s/it][WDM] - Current google-chrome version is 92.0.4515\n",
      "[WDM] - Get LATEST driver version for 92.0.4515\n",
      "[WDM] - Driver [/Users/cblanesg/.wdm/drivers/chromedriver/mac64/92.0.4515.107/chromedriver] found in cache\n"
     ]
    },
    {
     "name": "stdout",
     "output_type": "stream",
     "text": [
      " \n"
     ]
    },
    {
     "name": "stderr",
     "output_type": "stream",
     "text": [
      " 25%|██▍       | 281/1130 [25:34<1:20:27,  5.69s/it][WDM] - Current google-chrome version is 92.0.4515\n",
      "[WDM] - Get LATEST driver version for 92.0.4515\n",
      "[WDM] - Driver [/Users/cblanesg/.wdm/drivers/chromedriver/mac64/92.0.4515.107/chromedriver] found in cache\n"
     ]
    },
    {
     "name": "stdout",
     "output_type": "stream",
     "text": [
      " \n"
     ]
    },
    {
     "name": "stderr",
     "output_type": "stream",
     "text": [
      " 25%|██▍       | 282/1130 [25:40<1:17:56,  5.51s/it][WDM] - Current google-chrome version is 92.0.4515\n",
      "[WDM] - Get LATEST driver version for 92.0.4515\n",
      "[WDM] - Driver [/Users/cblanesg/.wdm/drivers/chromedriver/mac64/92.0.4515.107/chromedriver] found in cache\n"
     ]
    },
    {
     "name": "stdout",
     "output_type": "stream",
     "text": [
      " \n"
     ]
    },
    {
     "name": "stderr",
     "output_type": "stream",
     "text": [
      " 25%|██▌       | 283/1130 [25:45<1:16:04,  5.39s/it][WDM] - Current google-chrome version is 92.0.4515\n",
      "[WDM] - Get LATEST driver version for 92.0.4515\n",
      "[WDM] - Driver [/Users/cblanesg/.wdm/drivers/chromedriver/mac64/92.0.4515.107/chromedriver] found in cache\n"
     ]
    },
    {
     "name": "stdout",
     "output_type": "stream",
     "text": [
      " \n"
     ]
    },
    {
     "name": "stderr",
     "output_type": "stream",
     "text": [
      " 25%|██▌       | 284/1130 [25:50<1:16:13,  5.41s/it][WDM] - Current google-chrome version is 92.0.4515\n",
      "[WDM] - Get LATEST driver version for 92.0.4515\n",
      "[WDM] - Driver [/Users/cblanesg/.wdm/drivers/chromedriver/mac64/92.0.4515.107/chromedriver] found in cache\n"
     ]
    },
    {
     "name": "stdout",
     "output_type": "stream",
     "text": [
      " \n"
     ]
    },
    {
     "name": "stderr",
     "output_type": "stream",
     "text": [
      " 25%|██▌       | 285/1130 [25:55<1:14:38,  5.30s/it][WDM] - Current google-chrome version is 92.0.4515\n",
      "[WDM] - Get LATEST driver version for 92.0.4515\n",
      "[WDM] - Driver [/Users/cblanesg/.wdm/drivers/chromedriver/mac64/92.0.4515.107/chromedriver] found in cache\n"
     ]
    },
    {
     "name": "stdout",
     "output_type": "stream",
     "text": [
      " \n"
     ]
    },
    {
     "name": "stderr",
     "output_type": "stream",
     "text": [
      " 25%|██▌       | 286/1130 [26:01<1:17:42,  5.52s/it][WDM] - Current google-chrome version is 92.0.4515\n",
      "[WDM] - Get LATEST driver version for 92.0.4515\n",
      "[WDM] - Driver [/Users/cblanesg/.wdm/drivers/chromedriver/mac64/92.0.4515.107/chromedriver] found in cache\n"
     ]
    },
    {
     "name": "stdout",
     "output_type": "stream",
     "text": [
      " \n"
     ]
    },
    {
     "name": "stderr",
     "output_type": "stream",
     "text": [
      " 25%|██▌       | 287/1130 [26:06<1:16:22,  5.44s/it][WDM] - Current google-chrome version is 92.0.4515\n",
      "[WDM] - Get LATEST driver version for 92.0.4515\n",
      "[WDM] - Driver [/Users/cblanesg/.wdm/drivers/chromedriver/mac64/92.0.4515.107/chromedriver] found in cache\n"
     ]
    },
    {
     "name": "stdout",
     "output_type": "stream",
     "text": [
      " \n"
     ]
    },
    {
     "name": "stderr",
     "output_type": "stream",
     "text": [
      " 25%|██▌       | 288/1130 [26:12<1:16:20,  5.44s/it][WDM] - Current google-chrome version is 92.0.4515\n",
      "[WDM] - Get LATEST driver version for 92.0.4515\n",
      "[WDM] - Driver [/Users/cblanesg/.wdm/drivers/chromedriver/mac64/92.0.4515.107/chromedriver] found in cache\n"
     ]
    },
    {
     "name": "stdout",
     "output_type": "stream",
     "text": [
      " \n"
     ]
    },
    {
     "name": "stderr",
     "output_type": "stream",
     "text": [
      " 26%|██▌       | 289/1130 [26:18<1:17:48,  5.55s/it][WDM] - Current google-chrome version is 92.0.4515\n",
      "[WDM] - Get LATEST driver version for 92.0.4515\n",
      "[WDM] - Driver [/Users/cblanesg/.wdm/drivers/chromedriver/mac64/92.0.4515.107/chromedriver] found in cache\n"
     ]
    },
    {
     "name": "stdout",
     "output_type": "stream",
     "text": [
      " \n"
     ]
    },
    {
     "name": "stderr",
     "output_type": "stream",
     "text": [
      " 26%|██▌       | 290/1130 [26:23<1:17:35,  5.54s/it][WDM] - Current google-chrome version is 92.0.4515\n",
      "[WDM] - Get LATEST driver version for 92.0.4515\n",
      "[WDM] - Driver [/Users/cblanesg/.wdm/drivers/chromedriver/mac64/92.0.4515.107/chromedriver] found in cache\n"
     ]
    },
    {
     "name": "stdout",
     "output_type": "stream",
     "text": [
      " \n"
     ]
    },
    {
     "name": "stderr",
     "output_type": "stream",
     "text": [
      " 26%|██▌       | 291/1130 [26:28<1:16:03,  5.44s/it][WDM] - Current google-chrome version is 92.0.4515\n",
      "[WDM] - Get LATEST driver version for 92.0.4515\n",
      "[WDM] - Driver [/Users/cblanesg/.wdm/drivers/chromedriver/mac64/92.0.4515.107/chromedriver] found in cache\n"
     ]
    },
    {
     "name": "stdout",
     "output_type": "stream",
     "text": [
      " \n"
     ]
    },
    {
     "name": "stderr",
     "output_type": "stream",
     "text": [
      " 26%|██▌       | 292/1130 [26:34<1:17:28,  5.55s/it][WDM] - Current google-chrome version is 92.0.4515\n",
      "[WDM] - Get LATEST driver version for 92.0.4515\n",
      "[WDM] - Driver [/Users/cblanesg/.wdm/drivers/chromedriver/mac64/92.0.4515.107/chromedriver] found in cache\n"
     ]
    },
    {
     "name": "stdout",
     "output_type": "stream",
     "text": [
      " \n"
     ]
    },
    {
     "name": "stderr",
     "output_type": "stream",
     "text": [
      " 26%|██▌       | 293/1130 [26:40<1:18:10,  5.60s/it][WDM] - Current google-chrome version is 92.0.4515\n",
      "[WDM] - Get LATEST driver version for 92.0.4515\n",
      "[WDM] - Driver [/Users/cblanesg/.wdm/drivers/chromedriver/mac64/92.0.4515.107/chromedriver] found in cache\n"
     ]
    },
    {
     "name": "stdout",
     "output_type": "stream",
     "text": [
      " \n"
     ]
    },
    {
     "name": "stderr",
     "output_type": "stream",
     "text": [
      " 26%|██▌       | 294/1130 [26:45<1:16:53,  5.52s/it][WDM] - Current google-chrome version is 92.0.4515\n",
      "[WDM] - Get LATEST driver version for 92.0.4515\n",
      "[WDM] - Driver [/Users/cblanesg/.wdm/drivers/chromedriver/mac64/92.0.4515.107/chromedriver] found in cache\n"
     ]
    },
    {
     "name": "stdout",
     "output_type": "stream",
     "text": [
      " \n"
     ]
    },
    {
     "name": "stderr",
     "output_type": "stream",
     "text": [
      " 26%|██▌       | 295/1130 [26:51<1:18:31,  5.64s/it][WDM] - Current google-chrome version is 92.0.4515\n",
      "[WDM] - Get LATEST driver version for 92.0.4515\n",
      "[WDM] - Driver [/Users/cblanesg/.wdm/drivers/chromedriver/mac64/92.0.4515.107/chromedriver] found in cache\n"
     ]
    },
    {
     "name": "stdout",
     "output_type": "stream",
     "text": [
      " \n"
     ]
    },
    {
     "name": "stderr",
     "output_type": "stream",
     "text": [
      " 26%|██▌       | 296/1130 [26:57<1:17:25,  5.57s/it][WDM] - Current google-chrome version is 92.0.4515\n",
      "[WDM] - Get LATEST driver version for 92.0.4515\n",
      "[WDM] - Driver [/Users/cblanesg/.wdm/drivers/chromedriver/mac64/92.0.4515.107/chromedriver] found in cache\n"
     ]
    },
    {
     "name": "stdout",
     "output_type": "stream",
     "text": [
      " \n"
     ]
    },
    {
     "name": "stderr",
     "output_type": "stream",
     "text": [
      " 26%|██▋       | 297/1130 [27:02<1:15:11,  5.42s/it][WDM] - Current google-chrome version is 92.0.4515\n",
      "[WDM] - Get LATEST driver version for 92.0.4515\n",
      "[WDM] - Driver [/Users/cblanesg/.wdm/drivers/chromedriver/mac64/92.0.4515.107/chromedriver] found in cache\n"
     ]
    },
    {
     "name": "stdout",
     "output_type": "stream",
     "text": [
      " \n"
     ]
    },
    {
     "name": "stderr",
     "output_type": "stream",
     "text": [
      " 26%|██▋       | 298/1130 [27:07<1:14:13,  5.35s/it][WDM] - Current google-chrome version is 92.0.4515\n",
      "[WDM] - Get LATEST driver version for 92.0.4515\n",
      "[WDM] - Driver [/Users/cblanesg/.wdm/drivers/chromedriver/mac64/92.0.4515.107/chromedriver] found in cache\n"
     ]
    },
    {
     "name": "stdout",
     "output_type": "stream",
     "text": [
      " \n"
     ]
    },
    {
     "name": "stderr",
     "output_type": "stream",
     "text": [
      " 26%|██▋       | 299/1130 [27:12<1:13:58,  5.34s/it][WDM] - Current google-chrome version is 92.0.4515\n",
      "[WDM] - Get LATEST driver version for 92.0.4515\n",
      "[WDM] - Driver [/Users/cblanesg/.wdm/drivers/chromedriver/mac64/92.0.4515.107/chromedriver] found in cache\n"
     ]
    },
    {
     "name": "stdout",
     "output_type": "stream",
     "text": [
      " \n"
     ]
    },
    {
     "name": "stderr",
     "output_type": "stream",
     "text": [
      " 27%|██▋       | 300/1130 [27:18<1:13:49,  5.34s/it][WDM] - Current google-chrome version is 92.0.4515\n",
      "[WDM] - Get LATEST driver version for 92.0.4515\n",
      "[WDM] - Driver [/Users/cblanesg/.wdm/drivers/chromedriver/mac64/92.0.4515.107/chromedriver] found in cache\n"
     ]
    },
    {
     "name": "stdout",
     "output_type": "stream",
     "text": [
      " \n"
     ]
    },
    {
     "name": "stderr",
     "output_type": "stream",
     "text": [
      " 27%|██▋       | 301/1130 [27:23<1:13:30,  5.32s/it][WDM] - Current google-chrome version is 92.0.4515\n",
      "[WDM] - Get LATEST driver version for 92.0.4515\n",
      "[WDM] - Driver [/Users/cblanesg/.wdm/drivers/chromedriver/mac64/92.0.4515.107/chromedriver] found in cache\n"
     ]
    },
    {
     "name": "stdout",
     "output_type": "stream",
     "text": [
      " \n"
     ]
    },
    {
     "name": "stderr",
     "output_type": "stream",
     "text": [
      " 27%|██▋       | 302/1130 [27:28<1:12:24,  5.25s/it][WDM] - Current google-chrome version is 92.0.4515\n",
      "[WDM] - Get LATEST driver version for 92.0.4515\n",
      "[WDM] - Driver [/Users/cblanesg/.wdm/drivers/chromedriver/mac64/92.0.4515.107/chromedriver] found in cache\n"
     ]
    },
    {
     "name": "stdout",
     "output_type": "stream",
     "text": [
      " \n"
     ]
    },
    {
     "name": "stderr",
     "output_type": "stream",
     "text": [
      " 27%|██▋       | 303/1130 [27:33<1:11:51,  5.21s/it][WDM] - Current google-chrome version is 92.0.4515\n",
      "[WDM] - Get LATEST driver version for 92.0.4515\n",
      "[WDM] - Driver [/Users/cblanesg/.wdm/drivers/chromedriver/mac64/92.0.4515.107/chromedriver] found in cache\n"
     ]
    },
    {
     "name": "stdout",
     "output_type": "stream",
     "text": [
      " \n"
     ]
    },
    {
     "name": "stderr",
     "output_type": "stream",
     "text": [
      " 27%|██▋       | 304/1130 [27:39<1:15:27,  5.48s/it][WDM] - Current google-chrome version is 92.0.4515\n",
      "[WDM] - Get LATEST driver version for 92.0.4515\n",
      "[WDM] - Driver [/Users/cblanesg/.wdm/drivers/chromedriver/mac64/92.0.4515.107/chromedriver] found in cache\n"
     ]
    },
    {
     "name": "stdout",
     "output_type": "stream",
     "text": [
      " \n"
     ]
    },
    {
     "name": "stderr",
     "output_type": "stream",
     "text": [
      " 27%|██▋       | 305/1130 [27:44<1:14:48,  5.44s/it][WDM] - Current google-chrome version is 92.0.4515\n",
      "[WDM] - Get LATEST driver version for 92.0.4515\n",
      "[WDM] - Driver [/Users/cblanesg/.wdm/drivers/chromedriver/mac64/92.0.4515.107/chromedriver] found in cache\n"
     ]
    },
    {
     "name": "stdout",
     "output_type": "stream",
     "text": [
      " \n"
     ]
    },
    {
     "name": "stderr",
     "output_type": "stream",
     "text": [
      " 27%|██▋       | 306/1130 [27:50<1:15:25,  5.49s/it][WDM] - Current google-chrome version is 92.0.4515\n",
      "[WDM] - Get LATEST driver version for 92.0.4515\n",
      "[WDM] - Driver [/Users/cblanesg/.wdm/drivers/chromedriver/mac64/92.0.4515.107/chromedriver] found in cache\n"
     ]
    },
    {
     "name": "stdout",
     "output_type": "stream",
     "text": [
      " \n"
     ]
    },
    {
     "name": "stderr",
     "output_type": "stream",
     "text": [
      " 27%|██▋       | 307/1130 [27:56<1:16:07,  5.55s/it][WDM] - Current google-chrome version is 92.0.4515\n",
      "[WDM] - Get LATEST driver version for 92.0.4515\n",
      "[WDM] - Driver [/Users/cblanesg/.wdm/drivers/chromedriver/mac64/92.0.4515.107/chromedriver] found in cache\n"
     ]
    },
    {
     "name": "stdout",
     "output_type": "stream",
     "text": [
      " \n"
     ]
    },
    {
     "name": "stderr",
     "output_type": "stream",
     "text": [
      " 27%|██▋       | 308/1130 [28:01<1:14:51,  5.46s/it][WDM] - Current google-chrome version is 92.0.4515\n",
      "[WDM] - Get LATEST driver version for 92.0.4515\n",
      "[WDM] - Driver [/Users/cblanesg/.wdm/drivers/chromedriver/mac64/92.0.4515.107/chromedriver] found in cache\n"
     ]
    },
    {
     "name": "stdout",
     "output_type": "stream",
     "text": [
      " \n"
     ]
    },
    {
     "name": "stderr",
     "output_type": "stream",
     "text": [
      " 27%|██▋       | 309/1130 [28:06<1:13:50,  5.40s/it][WDM] - Current google-chrome version is 92.0.4515\n",
      "[WDM] - Get LATEST driver version for 92.0.4515\n",
      "[WDM] - Driver [/Users/cblanesg/.wdm/drivers/chromedriver/mac64/92.0.4515.107/chromedriver] found in cache\n"
     ]
    },
    {
     "name": "stdout",
     "output_type": "stream",
     "text": [
      " \n"
     ]
    },
    {
     "name": "stderr",
     "output_type": "stream",
     "text": [
      " 27%|██▋       | 310/1130 [28:12<1:13:44,  5.40s/it][WDM] - Current google-chrome version is 92.0.4515\n",
      "[WDM] - Get LATEST driver version for 92.0.4515\n",
      "[WDM] - Driver [/Users/cblanesg/.wdm/drivers/chromedriver/mac64/92.0.4515.107/chromedriver] found in cache\n"
     ]
    },
    {
     "name": "stdout",
     "output_type": "stream",
     "text": [
      " \n"
     ]
    },
    {
     "name": "stderr",
     "output_type": "stream",
     "text": [
      " 28%|██▊       | 311/1130 [28:17<1:12:43,  5.33s/it][WDM] - Current google-chrome version is 92.0.4515\n",
      "[WDM] - Get LATEST driver version for 92.0.4515\n",
      "[WDM] - Driver [/Users/cblanesg/.wdm/drivers/chromedriver/mac64/92.0.4515.107/chromedriver] found in cache\n"
     ]
    },
    {
     "name": "stdout",
     "output_type": "stream",
     "text": [
      " \n"
     ]
    },
    {
     "name": "stderr",
     "output_type": "stream",
     "text": [
      " 28%|██▊       | 312/1130 [28:22<1:12:06,  5.29s/it][WDM] - Current google-chrome version is 92.0.4515\n",
      "[WDM] - Get LATEST driver version for 92.0.4515\n",
      "[WDM] - Driver [/Users/cblanesg/.wdm/drivers/chromedriver/mac64/92.0.4515.107/chromedriver] found in cache\n"
     ]
    },
    {
     "name": "stdout",
     "output_type": "stream",
     "text": [
      " \n"
     ]
    },
    {
     "name": "stderr",
     "output_type": "stream",
     "text": [
      " 28%|██▊       | 313/1130 [28:27<1:11:59,  5.29s/it][WDM] - Current google-chrome version is 92.0.4515\n",
      "[WDM] - Get LATEST driver version for 92.0.4515\n",
      "[WDM] - Driver [/Users/cblanesg/.wdm/drivers/chromedriver/mac64/92.0.4515.107/chromedriver] found in cache\n"
     ]
    },
    {
     "name": "stdout",
     "output_type": "stream",
     "text": [
      " \n"
     ]
    },
    {
     "name": "stderr",
     "output_type": "stream",
     "text": [
      " 28%|██▊       | 314/1130 [28:33<1:12:29,  5.33s/it][WDM] - Current google-chrome version is 92.0.4515\n",
      "[WDM] - Get LATEST driver version for 92.0.4515\n",
      "[WDM] - Driver [/Users/cblanesg/.wdm/drivers/chromedriver/mac64/92.0.4515.107/chromedriver] found in cache\n"
     ]
    },
    {
     "name": "stdout",
     "output_type": "stream",
     "text": [
      " \n"
     ]
    },
    {
     "name": "stderr",
     "output_type": "stream",
     "text": [
      " 28%|██▊       | 315/1130 [28:38<1:12:45,  5.36s/it][WDM] - Current google-chrome version is 92.0.4515\n",
      "[WDM] - Get LATEST driver version for 92.0.4515\n",
      "[WDM] - Driver [/Users/cblanesg/.wdm/drivers/chromedriver/mac64/92.0.4515.107/chromedriver] found in cache\n"
     ]
    },
    {
     "name": "stdout",
     "output_type": "stream",
     "text": [
      " \n"
     ]
    },
    {
     "name": "stderr",
     "output_type": "stream",
     "text": [
      " 28%|██▊       | 316/1130 [28:43<1:12:35,  5.35s/it][WDM] - Current google-chrome version is 92.0.4515\n",
      "[WDM] - Get LATEST driver version for 92.0.4515\n",
      "[WDM] - Driver [/Users/cblanesg/.wdm/drivers/chromedriver/mac64/92.0.4515.107/chromedriver] found in cache\n"
     ]
    },
    {
     "name": "stdout",
     "output_type": "stream",
     "text": [
      " \n"
     ]
    },
    {
     "name": "stderr",
     "output_type": "stream",
     "text": [
      " 28%|██▊       | 317/1130 [28:50<1:16:01,  5.61s/it][WDM] - Current google-chrome version is 92.0.4515\n",
      "[WDM] - Get LATEST driver version for 92.0.4515\n",
      "[WDM] - Driver [/Users/cblanesg/.wdm/drivers/chromedriver/mac64/92.0.4515.107/chromedriver] found in cache\n"
     ]
    },
    {
     "name": "stdout",
     "output_type": "stream",
     "text": [
      " \n"
     ]
    },
    {
     "name": "stderr",
     "output_type": "stream",
     "text": [
      " 28%|██▊       | 318/1130 [28:55<1:16:27,  5.65s/it][WDM] - Current google-chrome version is 92.0.4515\n",
      "[WDM] - Get LATEST driver version for 92.0.4515\n",
      "[WDM] - Driver [/Users/cblanesg/.wdm/drivers/chromedriver/mac64/92.0.4515.107/chromedriver] found in cache\n"
     ]
    },
    {
     "name": "stdout",
     "output_type": "stream",
     "text": [
      " \n"
     ]
    },
    {
     "name": "stderr",
     "output_type": "stream",
     "text": [
      " 28%|██▊       | 319/1130 [29:01<1:15:04,  5.55s/it][WDM] - Current google-chrome version is 92.0.4515\n",
      "[WDM] - Get LATEST driver version for 92.0.4515\n",
      "[WDM] - Driver [/Users/cblanesg/.wdm/drivers/chromedriver/mac64/92.0.4515.107/chromedriver] found in cache\n"
     ]
    },
    {
     "name": "stdout",
     "output_type": "stream",
     "text": [
      " \n"
     ]
    },
    {
     "name": "stderr",
     "output_type": "stream",
     "text": [
      " 28%|██▊       | 320/1130 [29:06<1:14:50,  5.54s/it][WDM] - Current google-chrome version is 92.0.4515\n",
      "[WDM] - Get LATEST driver version for 92.0.4515\n",
      "[WDM] - Driver [/Users/cblanesg/.wdm/drivers/chromedriver/mac64/92.0.4515.107/chromedriver] found in cache\n"
     ]
    },
    {
     "name": "stdout",
     "output_type": "stream",
     "text": [
      " \n"
     ]
    },
    {
     "name": "stderr",
     "output_type": "stream",
     "text": [
      " 28%|██▊       | 321/1130 [29:12<1:13:41,  5.47s/it][WDM] - Current google-chrome version is 92.0.4515\n",
      "[WDM] - Get LATEST driver version for 92.0.4515\n",
      "[WDM] - Driver [/Users/cblanesg/.wdm/drivers/chromedriver/mac64/92.0.4515.107/chromedriver] found in cache\n"
     ]
    },
    {
     "name": "stdout",
     "output_type": "stream",
     "text": [
      " \n"
     ]
    },
    {
     "name": "stderr",
     "output_type": "stream",
     "text": [
      " 28%|██▊       | 322/1130 [29:17<1:13:29,  5.46s/it][WDM] - Current google-chrome version is 92.0.4515\n",
      "[WDM] - Get LATEST driver version for 92.0.4515\n",
      "[WDM] - Driver [/Users/cblanesg/.wdm/drivers/chromedriver/mac64/92.0.4515.107/chromedriver] found in cache\n"
     ]
    },
    {
     "name": "stdout",
     "output_type": "stream",
     "text": [
      " \n"
     ]
    },
    {
     "name": "stderr",
     "output_type": "stream",
     "text": [
      " 29%|██▊       | 323/1130 [29:22<1:13:10,  5.44s/it][WDM] - Current google-chrome version is 92.0.4515\n",
      "[WDM] - Get LATEST driver version for 92.0.4515\n",
      "[WDM] - Driver [/Users/cblanesg/.wdm/drivers/chromedriver/mac64/92.0.4515.107/chromedriver] found in cache\n"
     ]
    },
    {
     "name": "stdout",
     "output_type": "stream",
     "text": [
      " \n"
     ]
    },
    {
     "name": "stderr",
     "output_type": "stream",
     "text": [
      " 29%|██▊       | 324/1130 [29:27<1:09:27,  5.17s/it][WDM] - Current google-chrome version is 92.0.4515\n",
      "[WDM] - Get LATEST driver version for 92.0.4515\n",
      "[WDM] - Driver [/Users/cblanesg/.wdm/drivers/chromedriver/mac64/92.0.4515.107/chromedriver] found in cache\n"
     ]
    },
    {
     "name": "stdout",
     "output_type": "stream",
     "text": [
      " \n"
     ]
    },
    {
     "name": "stderr",
     "output_type": "stream",
     "text": [
      " 29%|██▉       | 325/1130 [29:31<1:05:49,  4.91s/it][WDM] - Current google-chrome version is 92.0.4515\n",
      "[WDM] - Get LATEST driver version for 92.0.4515\n",
      "[WDM] - Driver [/Users/cblanesg/.wdm/drivers/chromedriver/mac64/92.0.4515.107/chromedriver] found in cache\n"
     ]
    },
    {
     "name": "stdout",
     "output_type": "stream",
     "text": [
      " \n"
     ]
    },
    {
     "name": "stderr",
     "output_type": "stream",
     "text": [
      " 29%|██▉       | 326/1130 [29:35<1:02:19,  4.65s/it][WDM] - Current google-chrome version is 92.0.4515\n",
      "[WDM] - Get LATEST driver version for 92.0.4515\n",
      "[WDM] - Driver [/Users/cblanesg/.wdm/drivers/chromedriver/mac64/92.0.4515.107/chromedriver] found in cache\n"
     ]
    },
    {
     "name": "stdout",
     "output_type": "stream",
     "text": [
      " \n"
     ]
    },
    {
     "name": "stderr",
     "output_type": "stream",
     "text": [
      " 29%|██▉       | 327/1130 [29:40<1:01:45,  4.61s/it][WDM] - Current google-chrome version is 92.0.4515\n",
      "[WDM] - Get LATEST driver version for 92.0.4515\n",
      "[WDM] - Driver [/Users/cblanesg/.wdm/drivers/chromedriver/mac64/92.0.4515.107/chromedriver] found in cache\n"
     ]
    },
    {
     "name": "stdout",
     "output_type": "stream",
     "text": [
      " \n"
     ]
    },
    {
     "name": "stderr",
     "output_type": "stream",
     "text": [
      " 29%|██▉       | 328/1130 [29:44<59:35,  4.46s/it]  [WDM] - Current google-chrome version is 92.0.4515\n",
      "[WDM] - Get LATEST driver version for 92.0.4515\n",
      "[WDM] - Driver [/Users/cblanesg/.wdm/drivers/chromedriver/mac64/92.0.4515.107/chromedriver] found in cache\n"
     ]
    },
    {
     "name": "stdout",
     "output_type": "stream",
     "text": [
      " \n"
     ]
    },
    {
     "name": "stderr",
     "output_type": "stream",
     "text": [
      " 29%|██▉       | 329/1130 [29:48<58:57,  4.42s/it][WDM] - Current google-chrome version is 92.0.4515\n",
      "[WDM] - Get LATEST driver version for 92.0.4515\n",
      "[WDM] - Driver [/Users/cblanesg/.wdm/drivers/chromedriver/mac64/92.0.4515.107/chromedriver] found in cache\n"
     ]
    },
    {
     "name": "stdout",
     "output_type": "stream",
     "text": [
      " \n"
     ]
    },
    {
     "name": "stderr",
     "output_type": "stream",
     "text": [
      " 29%|██▉       | 330/1130 [29:53<59:12,  4.44s/it][WDM] - Current google-chrome version is 92.0.4515\n",
      "[WDM] - Get LATEST driver version for 92.0.4515\n",
      "[WDM] - Driver [/Users/cblanesg/.wdm/drivers/chromedriver/mac64/92.0.4515.107/chromedriver] found in cache\n"
     ]
    },
    {
     "name": "stdout",
     "output_type": "stream",
     "text": [
      " \n"
     ]
    },
    {
     "name": "stderr",
     "output_type": "stream",
     "text": [
      " 29%|██▉       | 331/1130 [29:57<57:33,  4.32s/it][WDM] - Current google-chrome version is 92.0.4515\n",
      "[WDM] - Get LATEST driver version for 92.0.4515\n",
      "[WDM] - Driver [/Users/cblanesg/.wdm/drivers/chromedriver/mac64/92.0.4515.107/chromedriver] found in cache\n"
     ]
    },
    {
     "name": "stdout",
     "output_type": "stream",
     "text": [
      " \n"
     ]
    },
    {
     "name": "stderr",
     "output_type": "stream",
     "text": [
      " 29%|██▉       | 332/1130 [30:01<58:36,  4.41s/it][WDM] - Current google-chrome version is 92.0.4515\n",
      "[WDM] - Get LATEST driver version for 92.0.4515\n",
      "[WDM] - Driver [/Users/cblanesg/.wdm/drivers/chromedriver/mac64/92.0.4515.107/chromedriver] found in cache\n"
     ]
    },
    {
     "name": "stdout",
     "output_type": "stream",
     "text": [
      " \n"
     ]
    },
    {
     "name": "stderr",
     "output_type": "stream",
     "text": [
      " 29%|██▉       | 333/1130 [30:06<1:00:31,  4.56s/it][WDM] - Current google-chrome version is 92.0.4515\n",
      "[WDM] - Get LATEST driver version for 92.0.4515\n",
      "[WDM] - Driver [/Users/cblanesg/.wdm/drivers/chromedriver/mac64/92.0.4515.107/chromedriver] found in cache\n"
     ]
    },
    {
     "name": "stdout",
     "output_type": "stream",
     "text": [
      " \n"
     ]
    },
    {
     "name": "stderr",
     "output_type": "stream",
     "text": [
      " 30%|██▉       | 334/1130 [30:11<1:00:22,  4.55s/it][WDM] - Current google-chrome version is 92.0.4515\n",
      "[WDM] - Get LATEST driver version for 92.0.4515\n",
      "[WDM] - Driver [/Users/cblanesg/.wdm/drivers/chromedriver/mac64/92.0.4515.107/chromedriver] found in cache\n"
     ]
    },
    {
     "name": "stdout",
     "output_type": "stream",
     "text": [
      " \n"
     ]
    },
    {
     "name": "stderr",
     "output_type": "stream",
     "text": [
      " 30%|██▉       | 335/1130 [30:15<1:00:25,  4.56s/it][WDM] - Current google-chrome version is 92.0.4515\n",
      "[WDM] - Get LATEST driver version for 92.0.4515\n",
      "[WDM] - Driver [/Users/cblanesg/.wdm/drivers/chromedriver/mac64/92.0.4515.107/chromedriver] found in cache\n"
     ]
    },
    {
     "name": "stdout",
     "output_type": "stream",
     "text": [
      " \n"
     ]
    },
    {
     "name": "stderr",
     "output_type": "stream",
     "text": [
      " 30%|██▉       | 336/1130 [30:20<1:01:13,  4.63s/it][WDM] - Current google-chrome version is 92.0.4515\n",
      "[WDM] - Get LATEST driver version for 92.0.4515\n",
      "[WDM] - Driver [/Users/cblanesg/.wdm/drivers/chromedriver/mac64/92.0.4515.107/chromedriver] found in cache\n"
     ]
    },
    {
     "name": "stdout",
     "output_type": "stream",
     "text": [
      " \n"
     ]
    },
    {
     "name": "stderr",
     "output_type": "stream",
     "text": [
      " 30%|██▉       | 337/1130 [30:24<59:03,  4.47s/it]  [WDM] - Current google-chrome version is 92.0.4515\n",
      "[WDM] - Get LATEST driver version for 92.0.4515\n",
      "[WDM] - Driver [/Users/cblanesg/.wdm/drivers/chromedriver/mac64/92.0.4515.107/chromedriver] found in cache\n"
     ]
    },
    {
     "name": "stdout",
     "output_type": "stream",
     "text": [
      " \n"
     ]
    },
    {
     "name": "stderr",
     "output_type": "stream",
     "text": [
      " 30%|██▉       | 338/1130 [30:29<58:03,  4.40s/it][WDM] - Current google-chrome version is 92.0.4515\n",
      "[WDM] - Get LATEST driver version for 92.0.4515\n",
      "[WDM] - Driver [/Users/cblanesg/.wdm/drivers/chromedriver/mac64/92.0.4515.107/chromedriver] found in cache\n"
     ]
    },
    {
     "name": "stdout",
     "output_type": "stream",
     "text": [
      " \n"
     ]
    },
    {
     "name": "stderr",
     "output_type": "stream",
     "text": [
      " 30%|███       | 339/1130 [30:33<59:40,  4.53s/it][WDM] - Current google-chrome version is 92.0.4515\n",
      "[WDM] - Get LATEST driver version for 92.0.4515\n",
      "[WDM] - Driver [/Users/cblanesg/.wdm/drivers/chromedriver/mac64/92.0.4515.107/chromedriver] found in cache\n"
     ]
    },
    {
     "name": "stdout",
     "output_type": "stream",
     "text": [
      " \n"
     ]
    },
    {
     "name": "stderr",
     "output_type": "stream",
     "text": [
      " 30%|███       | 340/1130 [30:38<1:01:24,  4.66s/it][WDM] - Current google-chrome version is 92.0.4515\n",
      "[WDM] - Get LATEST driver version for 92.0.4515\n",
      "[WDM] - Driver [/Users/cblanesg/.wdm/drivers/chromedriver/mac64/92.0.4515.107/chromedriver] found in cache\n"
     ]
    },
    {
     "name": "stdout",
     "output_type": "stream",
     "text": [
      " \n"
     ]
    },
    {
     "name": "stderr",
     "output_type": "stream",
     "text": [
      " 30%|███       | 341/1130 [30:43<59:48,  4.55s/it]  [WDM] - Current google-chrome version is 92.0.4515\n",
      "[WDM] - Get LATEST driver version for 92.0.4515\n",
      "[WDM] - Driver [/Users/cblanesg/.wdm/drivers/chromedriver/mac64/92.0.4515.107/chromedriver] found in cache\n"
     ]
    },
    {
     "name": "stdout",
     "output_type": "stream",
     "text": [
      " \n"
     ]
    },
    {
     "name": "stderr",
     "output_type": "stream",
     "text": [
      " 30%|███       | 342/1130 [30:47<1:00:24,  4.60s/it][WDM] - Current google-chrome version is 92.0.4515\n",
      "[WDM] - Get LATEST driver version for 92.0.4515\n",
      "[WDM] - Driver [/Users/cblanesg/.wdm/drivers/chromedriver/mac64/92.0.4515.107/chromedriver] found in cache\n"
     ]
    },
    {
     "name": "stdout",
     "output_type": "stream",
     "text": [
      " \n"
     ]
    },
    {
     "name": "stderr",
     "output_type": "stream",
     "text": [
      " 30%|███       | 343/1130 [30:54<1:07:49,  5.17s/it][WDM] - Current google-chrome version is 92.0.4515\n",
      "[WDM] - Get LATEST driver version for 92.0.4515\n",
      "[WDM] - Driver [/Users/cblanesg/.wdm/drivers/chromedriver/mac64/92.0.4515.107/chromedriver] found in cache\n"
     ]
    },
    {
     "name": "stdout",
     "output_type": "stream",
     "text": [
      " \n"
     ]
    },
    {
     "name": "stderr",
     "output_type": "stream",
     "text": [
      " 30%|███       | 344/1130 [30:58<1:04:27,  4.92s/it][WDM] - Current google-chrome version is 92.0.4515\n",
      "[WDM] - Get LATEST driver version for 92.0.4515\n",
      "[WDM] - Driver [/Users/cblanesg/.wdm/drivers/chromedriver/mac64/92.0.4515.107/chromedriver] found in cache\n"
     ]
    },
    {
     "name": "stdout",
     "output_type": "stream",
     "text": [
      " \n"
     ]
    },
    {
     "name": "stderr",
     "output_type": "stream",
     "text": [
      " 31%|███       | 345/1130 [31:02<1:01:59,  4.74s/it][WDM] - Current google-chrome version is 92.0.4515\n",
      "[WDM] - Get LATEST driver version for 92.0.4515\n",
      "[WDM] - Driver [/Users/cblanesg/.wdm/drivers/chromedriver/mac64/92.0.4515.107/chromedriver] found in cache\n"
     ]
    },
    {
     "name": "stdout",
     "output_type": "stream",
     "text": [
      " \n"
     ]
    },
    {
     "name": "stderr",
     "output_type": "stream",
     "text": [
      " 31%|███       | 346/1130 [31:06<58:08,  4.45s/it]  [WDM] - Current google-chrome version is 92.0.4515\n",
      "[WDM] - Get LATEST driver version for 92.0.4515\n",
      "[WDM] - Driver [/Users/cblanesg/.wdm/drivers/chromedriver/mac64/92.0.4515.107/chromedriver] found in cache\n"
     ]
    },
    {
     "name": "stdout",
     "output_type": "stream",
     "text": [
      " \n"
     ]
    },
    {
     "name": "stderr",
     "output_type": "stream",
     "text": [
      " 31%|███       | 347/1130 [31:11<58:02,  4.45s/it][WDM] - Current google-chrome version is 92.0.4515\n",
      "[WDM] - Get LATEST driver version for 92.0.4515\n",
      "[WDM] - Driver [/Users/cblanesg/.wdm/drivers/chromedriver/mac64/92.0.4515.107/chromedriver] found in cache\n"
     ]
    },
    {
     "name": "stdout",
     "output_type": "stream",
     "text": [
      " \n"
     ]
    },
    {
     "name": "stderr",
     "output_type": "stream",
     "text": [
      " 31%|███       | 348/1130 [31:16<1:00:14,  4.62s/it][WDM] - Current google-chrome version is 92.0.4515\n",
      "[WDM] - Get LATEST driver version for 92.0.4515\n",
      "[WDM] - Driver [/Users/cblanesg/.wdm/drivers/chromedriver/mac64/92.0.4515.107/chromedriver] found in cache\n"
     ]
    },
    {
     "name": "stdout",
     "output_type": "stream",
     "text": [
      " \n"
     ]
    },
    {
     "name": "stderr",
     "output_type": "stream",
     "text": [
      " 31%|███       | 349/1130 [31:20<1:00:38,  4.66s/it][WDM] - Current google-chrome version is 92.0.4515\n",
      "[WDM] - Get LATEST driver version for 92.0.4515\n",
      "[WDM] - Driver [/Users/cblanesg/.wdm/drivers/chromedriver/mac64/92.0.4515.107/chromedriver] found in cache\n"
     ]
    },
    {
     "name": "stdout",
     "output_type": "stream",
     "text": [
      " \n"
     ]
    },
    {
     "name": "stderr",
     "output_type": "stream",
     "text": [
      " 31%|███       | 350/1130 [31:25<1:01:27,  4.73s/it][WDM] - Current google-chrome version is 92.0.4515\n",
      "[WDM] - Get LATEST driver version for 92.0.4515\n",
      "[WDM] - Driver [/Users/cblanesg/.wdm/drivers/chromedriver/mac64/92.0.4515.107/chromedriver] found in cache\n"
     ]
    },
    {
     "name": "stdout",
     "output_type": "stream",
     "text": [
      " \n"
     ]
    },
    {
     "name": "stderr",
     "output_type": "stream",
     "text": [
      " 31%|███       | 351/1130 [31:30<1:01:52,  4.77s/it][WDM] - Current google-chrome version is 92.0.4515\n",
      "[WDM] - Get LATEST driver version for 92.0.4515\n",
      "[WDM] - Driver [/Users/cblanesg/.wdm/drivers/chromedriver/mac64/92.0.4515.107/chromedriver] found in cache\n"
     ]
    },
    {
     "name": "stdout",
     "output_type": "stream",
     "text": [
      " \n"
     ]
    },
    {
     "name": "stderr",
     "output_type": "stream",
     "text": [
      " 31%|███       | 352/1130 [31:35<1:02:26,  4.82s/it][WDM] - Current google-chrome version is 92.0.4515\n",
      "[WDM] - Get LATEST driver version for 92.0.4515\n",
      "[WDM] - Driver [/Users/cblanesg/.wdm/drivers/chromedriver/mac64/92.0.4515.107/chromedriver] found in cache\n"
     ]
    },
    {
     "name": "stdout",
     "output_type": "stream",
     "text": [
      " \n"
     ]
    },
    {
     "name": "stderr",
     "output_type": "stream",
     "text": [
      " 31%|███       | 353/1130 [31:40<1:03:49,  4.93s/it][WDM] - Current google-chrome version is 92.0.4515\n",
      "[WDM] - Get LATEST driver version for 92.0.4515\n",
      "[WDM] - Driver [/Users/cblanesg/.wdm/drivers/chromedriver/mac64/92.0.4515.107/chromedriver] found in cache\n"
     ]
    },
    {
     "name": "stdout",
     "output_type": "stream",
     "text": [
      " \n"
     ]
    },
    {
     "name": "stderr",
     "output_type": "stream",
     "text": [
      " 31%|███▏      | 354/1130 [31:46<1:06:47,  5.16s/it][WDM] - Current google-chrome version is 92.0.4515\n",
      "[WDM] - Get LATEST driver version for 92.0.4515\n",
      "[WDM] - Driver [/Users/cblanesg/.wdm/drivers/chromedriver/mac64/92.0.4515.107/chromedriver] found in cache\n"
     ]
    },
    {
     "name": "stdout",
     "output_type": "stream",
     "text": [
      " \n"
     ]
    },
    {
     "name": "stderr",
     "output_type": "stream",
     "text": [
      " 31%|███▏      | 355/1130 [31:51<1:04:36,  5.00s/it][WDM] - Current google-chrome version is 92.0.4515\n",
      "[WDM] - Get LATEST driver version for 92.0.4515\n",
      "[WDM] - Driver [/Users/cblanesg/.wdm/drivers/chromedriver/mac64/92.0.4515.107/chromedriver] found in cache\n"
     ]
    },
    {
     "name": "stdout",
     "output_type": "stream",
     "text": [
      " \n"
     ]
    },
    {
     "name": "stderr",
     "output_type": "stream",
     "text": [
      " 32%|███▏      | 356/1130 [31:56<1:05:03,  5.04s/it][WDM] - Current google-chrome version is 92.0.4515\n",
      "[WDM] - Get LATEST driver version for 92.0.4515\n",
      "[WDM] - Driver [/Users/cblanesg/.wdm/drivers/chromedriver/mac64/92.0.4515.107/chromedriver] found in cache\n"
     ]
    },
    {
     "name": "stdout",
     "output_type": "stream",
     "text": [
      " \n"
     ]
    },
    {
     "name": "stderr",
     "output_type": "stream",
     "text": [
      " 32%|███▏      | 357/1130 [32:01<1:05:39,  5.10s/it][WDM] - Current google-chrome version is 92.0.4515\n",
      "[WDM] - Get LATEST driver version for 92.0.4515\n",
      "[WDM] - Driver [/Users/cblanesg/.wdm/drivers/chromedriver/mac64/92.0.4515.107/chromedriver] found in cache\n"
     ]
    },
    {
     "name": "stdout",
     "output_type": "stream",
     "text": [
      " \n"
     ]
    },
    {
     "name": "stderr",
     "output_type": "stream",
     "text": [
      " 32%|███▏      | 358/1130 [32:06<1:04:43,  5.03s/it][WDM] - Current google-chrome version is 92.0.4515\n",
      "[WDM] - Get LATEST driver version for 92.0.4515\n",
      "[WDM] - Driver [/Users/cblanesg/.wdm/drivers/chromedriver/mac64/92.0.4515.107/chromedriver] found in cache\n"
     ]
    },
    {
     "name": "stdout",
     "output_type": "stream",
     "text": [
      " \n"
     ]
    },
    {
     "name": "stderr",
     "output_type": "stream",
     "text": [
      " 32%|███▏      | 359/1130 [32:11<1:03:29,  4.94s/it][WDM] - Current google-chrome version is 92.0.4515\n",
      "[WDM] - Get LATEST driver version for 92.0.4515\n",
      "[WDM] - Driver [/Users/cblanesg/.wdm/drivers/chromedriver/mac64/92.0.4515.107/chromedriver] found in cache\n"
     ]
    },
    {
     "name": "stdout",
     "output_type": "stream",
     "text": [
      " \n"
     ]
    },
    {
     "name": "stderr",
     "output_type": "stream",
     "text": [
      " 32%|███▏      | 360/1130 [32:15<1:02:25,  4.86s/it][WDM] - Current google-chrome version is 92.0.4515\n",
      "[WDM] - Get LATEST driver version for 92.0.4515\n",
      "[WDM] - Driver [/Users/cblanesg/.wdm/drivers/chromedriver/mac64/92.0.4515.107/chromedriver] found in cache\n"
     ]
    },
    {
     "name": "stdout",
     "output_type": "stream",
     "text": [
      " \n"
     ]
    },
    {
     "name": "stderr",
     "output_type": "stream",
     "text": [
      " 32%|███▏      | 361/1130 [32:20<1:02:57,  4.91s/it][WDM] - Current google-chrome version is 92.0.4515\n",
      "[WDM] - Get LATEST driver version for 92.0.4515\n",
      "[WDM] - Driver [/Users/cblanesg/.wdm/drivers/chromedriver/mac64/92.0.4515.107/chromedriver] found in cache\n"
     ]
    },
    {
     "name": "stdout",
     "output_type": "stream",
     "text": [
      " \n"
     ]
    },
    {
     "name": "stderr",
     "output_type": "stream",
     "text": [
      " 32%|███▏      | 362/1130 [32:25<1:02:57,  4.92s/it][WDM] - Current google-chrome version is 92.0.4515\n",
      "[WDM] - Get LATEST driver version for 92.0.4515\n",
      "[WDM] - Driver [/Users/cblanesg/.wdm/drivers/chromedriver/mac64/92.0.4515.107/chromedriver] found in cache\n"
     ]
    },
    {
     "name": "stdout",
     "output_type": "stream",
     "text": [
      " \n"
     ]
    },
    {
     "name": "stderr",
     "output_type": "stream",
     "text": [
      " 32%|███▏      | 363/1130 [32:30<1:03:00,  4.93s/it][WDM] - Current google-chrome version is 92.0.4515\n",
      "[WDM] - Get LATEST driver version for 92.0.4515\n",
      "[WDM] - Driver [/Users/cblanesg/.wdm/drivers/chromedriver/mac64/92.0.4515.107/chromedriver] found in cache\n"
     ]
    },
    {
     "name": "stdout",
     "output_type": "stream",
     "text": [
      " \n"
     ]
    },
    {
     "name": "stderr",
     "output_type": "stream",
     "text": [
      " 32%|███▏      | 364/1130 [32:35<1:03:58,  5.01s/it][WDM] - Current google-chrome version is 92.0.4515\n",
      "[WDM] - Get LATEST driver version for 92.0.4515\n",
      "[WDM] - Driver [/Users/cblanesg/.wdm/drivers/chromedriver/mac64/92.0.4515.107/chromedriver] found in cache\n"
     ]
    },
    {
     "name": "stdout",
     "output_type": "stream",
     "text": [
      " \n"
     ]
    },
    {
     "name": "stderr",
     "output_type": "stream",
     "text": [
      " 32%|███▏      | 365/1130 [32:40<1:03:02,  4.94s/it][WDM] - Current google-chrome version is 92.0.4515\n",
      "[WDM] - Get LATEST driver version for 92.0.4515\n",
      "[WDM] - Driver [/Users/cblanesg/.wdm/drivers/chromedriver/mac64/92.0.4515.107/chromedriver] found in cache\n"
     ]
    },
    {
     "name": "stdout",
     "output_type": "stream",
     "text": [
      " \n"
     ]
    },
    {
     "name": "stderr",
     "output_type": "stream",
     "text": [
      " 32%|███▏      | 366/1130 [32:45<1:02:12,  4.88s/it][WDM] - Current google-chrome version is 92.0.4515\n",
      "[WDM] - Get LATEST driver version for 92.0.4515\n",
      "[WDM] - Driver [/Users/cblanesg/.wdm/drivers/chromedriver/mac64/92.0.4515.107/chromedriver] found in cache\n"
     ]
    },
    {
     "name": "stdout",
     "output_type": "stream",
     "text": [
      " \n"
     ]
    },
    {
     "name": "stderr",
     "output_type": "stream",
     "text": [
      " 32%|███▏      | 367/1130 [32:50<1:02:27,  4.91s/it][WDM] - Current google-chrome version is 92.0.4515\n",
      "[WDM] - Get LATEST driver version for 92.0.4515\n",
      "[WDM] - Driver [/Users/cblanesg/.wdm/drivers/chromedriver/mac64/92.0.4515.107/chromedriver] found in cache\n"
     ]
    },
    {
     "name": "stdout",
     "output_type": "stream",
     "text": [
      " \n"
     ]
    },
    {
     "name": "stderr",
     "output_type": "stream",
     "text": [
      " 33%|███▎      | 368/1130 [32:55<1:02:31,  4.92s/it][WDM] - Current google-chrome version is 92.0.4515\n",
      "[WDM] - Get LATEST driver version for 92.0.4515\n",
      "[WDM] - Driver [/Users/cblanesg/.wdm/drivers/chromedriver/mac64/92.0.4515.107/chromedriver] found in cache\n"
     ]
    },
    {
     "name": "stdout",
     "output_type": "stream",
     "text": [
      " \n"
     ]
    },
    {
     "name": "stderr",
     "output_type": "stream",
     "text": [
      " 33%|███▎      | 369/1130 [32:59<1:00:24,  4.76s/it][WDM] - Current google-chrome version is 92.0.4515\n",
      "[WDM] - Get LATEST driver version for 92.0.4515\n",
      "[WDM] - Driver [/Users/cblanesg/.wdm/drivers/chromedriver/mac64/92.0.4515.107/chromedriver] found in cache\n"
     ]
    },
    {
     "name": "stdout",
     "output_type": "stream",
     "text": [
      " \n"
     ]
    },
    {
     "name": "stderr",
     "output_type": "stream",
     "text": [
      " 33%|███▎      | 370/1130 [33:04<1:00:05,  4.74s/it][WDM] - Current google-chrome version is 92.0.4515\n",
      "[WDM] - Get LATEST driver version for 92.0.4515\n",
      "[WDM] - Driver [/Users/cblanesg/.wdm/drivers/chromedriver/mac64/92.0.4515.107/chromedriver] found in cache\n"
     ]
    },
    {
     "name": "stdout",
     "output_type": "stream",
     "text": [
      " \n"
     ]
    },
    {
     "name": "stderr",
     "output_type": "stream",
     "text": [
      " 33%|███▎      | 371/1130 [33:08<57:26,  4.54s/it]  [WDM] - Current google-chrome version is 92.0.4515\n",
      "[WDM] - Get LATEST driver version for 92.0.4515\n",
      "[WDM] - Driver [/Users/cblanesg/.wdm/drivers/chromedriver/mac64/92.0.4515.107/chromedriver] found in cache\n"
     ]
    },
    {
     "name": "stdout",
     "output_type": "stream",
     "text": [
      " \n"
     ]
    },
    {
     "name": "stderr",
     "output_type": "stream",
     "text": [
      " 33%|███▎      | 372/1130 [33:13<58:12,  4.61s/it][WDM] - Current google-chrome version is 92.0.4515\n",
      "[WDM] - Get LATEST driver version for 92.0.4515\n",
      "[WDM] - Driver [/Users/cblanesg/.wdm/drivers/chromedriver/mac64/92.0.4515.107/chromedriver] found in cache\n"
     ]
    },
    {
     "name": "stdout",
     "output_type": "stream",
     "text": [
      " \n"
     ]
    },
    {
     "name": "stderr",
     "output_type": "stream",
     "text": [
      " 33%|███▎      | 373/1130 [33:18<59:06,  4.69s/it][WDM] - Current google-chrome version is 92.0.4515\n",
      "[WDM] - Get LATEST driver version for 92.0.4515\n",
      "[WDM] - Driver [/Users/cblanesg/.wdm/drivers/chromedriver/mac64/92.0.4515.107/chromedriver] found in cache\n"
     ]
    },
    {
     "name": "stdout",
     "output_type": "stream",
     "text": [
      " \n"
     ]
    },
    {
     "name": "stderr",
     "output_type": "stream",
     "text": [
      " 33%|███▎      | 374/1130 [33:22<57:57,  4.60s/it][WDM] - Current google-chrome version is 92.0.4515\n",
      "[WDM] - Get LATEST driver version for 92.0.4515\n",
      "[WDM] - Driver [/Users/cblanesg/.wdm/drivers/chromedriver/mac64/92.0.4515.107/chromedriver] found in cache\n"
     ]
    },
    {
     "name": "stdout",
     "output_type": "stream",
     "text": [
      " \n"
     ]
    },
    {
     "name": "stderr",
     "output_type": "stream",
     "text": [
      " 33%|███▎      | 375/1130 [33:26<55:56,  4.45s/it][WDM] - Current google-chrome version is 92.0.4515\n",
      "[WDM] - Get LATEST driver version for 92.0.4515\n",
      "[WDM] - Driver [/Users/cblanesg/.wdm/drivers/chromedriver/mac64/92.0.4515.107/chromedriver] found in cache\n"
     ]
    },
    {
     "name": "stdout",
     "output_type": "stream",
     "text": [
      " \n"
     ]
    },
    {
     "name": "stderr",
     "output_type": "stream",
     "text": [
      " 33%|███▎      | 376/1130 [33:31<56:36,  4.50s/it][WDM] - Current google-chrome version is 92.0.4515\n",
      "[WDM] - Get LATEST driver version for 92.0.4515\n",
      "[WDM] - Driver [/Users/cblanesg/.wdm/drivers/chromedriver/mac64/92.0.4515.107/chromedriver] found in cache\n"
     ]
    },
    {
     "name": "stdout",
     "output_type": "stream",
     "text": [
      " \n"
     ]
    },
    {
     "name": "stderr",
     "output_type": "stream",
     "text": [
      " 33%|███▎      | 377/1130 [33:36<57:48,  4.61s/it][WDM] - Current google-chrome version is 92.0.4515\n",
      "[WDM] - Get LATEST driver version for 92.0.4515\n",
      "[WDM] - Driver [/Users/cblanesg/.wdm/drivers/chromedriver/mac64/92.0.4515.107/chromedriver] found in cache\n"
     ]
    },
    {
     "name": "stdout",
     "output_type": "stream",
     "text": [
      " \n"
     ]
    },
    {
     "name": "stderr",
     "output_type": "stream",
     "text": [
      " 33%|███▎      | 378/1130 [33:42<1:04:07,  5.12s/it][WDM] - Current google-chrome version is 92.0.4515\n",
      "[WDM] - Get LATEST driver version for 92.0.4515\n",
      "[WDM] - Driver [/Users/cblanesg/.wdm/drivers/chromedriver/mac64/92.0.4515.107/chromedriver] found in cache\n"
     ]
    },
    {
     "name": "stdout",
     "output_type": "stream",
     "text": [
      " \n"
     ]
    },
    {
     "name": "stderr",
     "output_type": "stream",
     "text": [
      " 34%|███▎      | 379/1130 [33:47<1:03:13,  5.05s/it][WDM] - Current google-chrome version is 92.0.4515\n",
      "[WDM] - Get LATEST driver version for 92.0.4515\n",
      "[WDM] - Driver [/Users/cblanesg/.wdm/drivers/chromedriver/mac64/92.0.4515.107/chromedriver] found in cache\n"
     ]
    },
    {
     "name": "stdout",
     "output_type": "stream",
     "text": [
      " \n"
     ]
    },
    {
     "name": "stderr",
     "output_type": "stream",
     "text": [
      " 34%|███▎      | 380/1130 [33:52<1:01:53,  4.95s/it][WDM] - Current google-chrome version is 92.0.4515\n",
      "[WDM] - Get LATEST driver version for 92.0.4515\n",
      "[WDM] - Driver [/Users/cblanesg/.wdm/drivers/chromedriver/mac64/92.0.4515.107/chromedriver] found in cache\n"
     ]
    },
    {
     "name": "stdout",
     "output_type": "stream",
     "text": [
      " \n"
     ]
    },
    {
     "name": "stderr",
     "output_type": "stream",
     "text": [
      " 34%|███▎      | 381/1130 [33:57<1:03:34,  5.09s/it][WDM] - Current google-chrome version is 92.0.4515\n",
      "[WDM] - Get LATEST driver version for 92.0.4515\n",
      "[WDM] - Driver [/Users/cblanesg/.wdm/drivers/chromedriver/mac64/92.0.4515.107/chromedriver] found in cache\n"
     ]
    },
    {
     "name": "stdout",
     "output_type": "stream",
     "text": [
      " \n"
     ]
    },
    {
     "name": "stderr",
     "output_type": "stream",
     "text": [
      " 34%|███▍      | 382/1130 [34:02<1:02:27,  5.01s/it][WDM] - Current google-chrome version is 92.0.4515\n",
      "[WDM] - Get LATEST driver version for 92.0.4515\n",
      "[WDM] - Driver [/Users/cblanesg/.wdm/drivers/chromedriver/mac64/92.0.4515.107/chromedriver] found in cache\n"
     ]
    },
    {
     "name": "stdout",
     "output_type": "stream",
     "text": [
      " \n"
     ]
    },
    {
     "name": "stderr",
     "output_type": "stream",
     "text": [
      " 34%|███▍      | 383/1130 [34:07<1:01:50,  4.97s/it][WDM] - Current google-chrome version is 92.0.4515\n",
      "[WDM] - Get LATEST driver version for 92.0.4515\n",
      "[WDM] - Driver [/Users/cblanesg/.wdm/drivers/chromedriver/mac64/92.0.4515.107/chromedriver] found in cache\n"
     ]
    },
    {
     "name": "stdout",
     "output_type": "stream",
     "text": [
      " \n"
     ]
    },
    {
     "name": "stderr",
     "output_type": "stream",
     "text": [
      " 34%|███▍      | 384/1130 [34:12<1:01:22,  4.94s/it][WDM] - Current google-chrome version is 92.0.4515\n",
      "[WDM] - Get LATEST driver version for 92.0.4515\n"
     ]
    },
    {
     "name": "stdout",
     "output_type": "stream",
     "text": [
      " \n"
     ]
    },
    {
     "name": "stderr",
     "output_type": "stream",
     "text": [
      "[WDM] - Driver [/Users/cblanesg/.wdm/drivers/chromedriver/mac64/92.0.4515.107/chromedriver] found in cache\n",
      " 34%|███▍      | 385/1130 [34:16<1:00:32,  4.88s/it][WDM] - Current google-chrome version is 92.0.4515\n",
      "[WDM] - Get LATEST driver version for 92.0.4515\n",
      "[WDM] - Driver [/Users/cblanesg/.wdm/drivers/chromedriver/mac64/92.0.4515.107/chromedriver] found in cache\n"
     ]
    },
    {
     "name": "stdout",
     "output_type": "stream",
     "text": [
      " \n"
     ]
    },
    {
     "name": "stderr",
     "output_type": "stream",
     "text": [
      " 34%|███▍      | 386/1130 [34:21<59:15,  4.78s/it]  [WDM] - Current google-chrome version is 92.0.4515\n",
      "[WDM] - Get LATEST driver version for 92.0.4515\n",
      "[WDM] - Driver [/Users/cblanesg/.wdm/drivers/chromedriver/mac64/92.0.4515.107/chromedriver] found in cache\n"
     ]
    },
    {
     "name": "stdout",
     "output_type": "stream",
     "text": [
      " \n"
     ]
    },
    {
     "name": "stderr",
     "output_type": "stream",
     "text": [
      " 34%|███▍      | 387/1130 [34:25<58:33,  4.73s/it][WDM] - Current google-chrome version is 92.0.4515\n",
      "[WDM] - Get LATEST driver version for 92.0.4515\n",
      "[WDM] - Driver [/Users/cblanesg/.wdm/drivers/chromedriver/mac64/92.0.4515.107/chromedriver] found in cache\n"
     ]
    },
    {
     "name": "stdout",
     "output_type": "stream",
     "text": [
      " \n"
     ]
    },
    {
     "name": "stderr",
     "output_type": "stream",
     "text": [
      " 34%|███▍      | 388/1130 [34:29<55:38,  4.50s/it][WDM] - Current google-chrome version is 92.0.4515\n",
      "[WDM] - Get LATEST driver version for 92.0.4515\n",
      "[WDM] - Driver [/Users/cblanesg/.wdm/drivers/chromedriver/mac64/92.0.4515.107/chromedriver] found in cache\n"
     ]
    },
    {
     "name": "stdout",
     "output_type": "stream",
     "text": [
      " \n"
     ]
    },
    {
     "name": "stderr",
     "output_type": "stream",
     "text": [
      " 34%|███▍      | 389/1130 [34:34<56:10,  4.55s/it][WDM] - Current google-chrome version is 92.0.4515\n",
      "[WDM] - Get LATEST driver version for 92.0.4515\n",
      "[WDM] - Driver [/Users/cblanesg/.wdm/drivers/chromedriver/mac64/92.0.4515.107/chromedriver] found in cache\n"
     ]
    },
    {
     "name": "stdout",
     "output_type": "stream",
     "text": [
      " \n"
     ]
    },
    {
     "name": "stderr",
     "output_type": "stream",
     "text": [
      " 35%|███▍      | 390/1130 [34:39<57:32,  4.67s/it][WDM] - Current google-chrome version is 92.0.4515\n",
      "[WDM] - Get LATEST driver version for 92.0.4515\n",
      "[WDM] - Driver [/Users/cblanesg/.wdm/drivers/chromedriver/mac64/92.0.4515.107/chromedriver] found in cache\n"
     ]
    },
    {
     "name": "stdout",
     "output_type": "stream",
     "text": [
      " \n"
     ]
    },
    {
     "name": "stderr",
     "output_type": "stream",
     "text": [
      " 35%|███▍      | 391/1130 [34:44<57:55,  4.70s/it][WDM] - Current google-chrome version is 92.0.4515\n",
      "[WDM] - Get LATEST driver version for 92.0.4515\n",
      "[WDM] - Driver [/Users/cblanesg/.wdm/drivers/chromedriver/mac64/92.0.4515.107/chromedriver] found in cache\n"
     ]
    },
    {
     "name": "stdout",
     "output_type": "stream",
     "text": [
      " \n"
     ]
    },
    {
     "name": "stderr",
     "output_type": "stream",
     "text": [
      " 35%|███▍      | 392/1130 [34:48<57:33,  4.68s/it][WDM] - Current google-chrome version is 92.0.4515\n",
      "[WDM] - Get LATEST driver version for 92.0.4515\n",
      "[WDM] - Driver [/Users/cblanesg/.wdm/drivers/chromedriver/mac64/92.0.4515.107/chromedriver] found in cache\n"
     ]
    },
    {
     "name": "stdout",
     "output_type": "stream",
     "text": [
      " \n"
     ]
    },
    {
     "name": "stderr",
     "output_type": "stream",
     "text": [
      " 35%|███▍      | 393/1130 [34:53<55:23,  4.51s/it][WDM] - Current google-chrome version is 92.0.4515\n",
      "[WDM] - Get LATEST driver version for 92.0.4515\n",
      "[WDM] - Driver [/Users/cblanesg/.wdm/drivers/chromedriver/mac64/92.0.4515.107/chromedriver] found in cache\n"
     ]
    },
    {
     "name": "stdout",
     "output_type": "stream",
     "text": [
      " \n"
     ]
    },
    {
     "name": "stderr",
     "output_type": "stream",
     "text": [
      " 35%|███▍      | 394/1130 [34:57<55:54,  4.56s/it][WDM] - Current google-chrome version is 92.0.4515\n",
      "[WDM] - Get LATEST driver version for 92.0.4515\n",
      "[WDM] - Driver [/Users/cblanesg/.wdm/drivers/chromedriver/mac64/92.0.4515.107/chromedriver] found in cache\n"
     ]
    },
    {
     "name": "stdout",
     "output_type": "stream",
     "text": [
      " \n"
     ]
    },
    {
     "name": "stderr",
     "output_type": "stream",
     "text": [
      " 35%|███▍      | 395/1130 [35:01<54:29,  4.45s/it][WDM] - Current google-chrome version is 92.0.4515\n",
      "[WDM] - Get LATEST driver version for 92.0.4515\n",
      "[WDM] - Driver [/Users/cblanesg/.wdm/drivers/chromedriver/mac64/92.0.4515.107/chromedriver] found in cache\n"
     ]
    },
    {
     "name": "stdout",
     "output_type": "stream",
     "text": [
      " \n"
     ]
    },
    {
     "name": "stderr",
     "output_type": "stream",
     "text": [
      " 35%|███▌      | 396/1130 [35:08<1:01:42,  5.04s/it][WDM] - Current google-chrome version is 92.0.4515\n",
      "[WDM] - Get LATEST driver version for 92.0.4515\n",
      "[WDM] - Driver [/Users/cblanesg/.wdm/drivers/chromedriver/mac64/92.0.4515.107/chromedriver] found in cache\n"
     ]
    },
    {
     "name": "stdout",
     "output_type": "stream",
     "text": [
      " \n"
     ]
    },
    {
     "name": "stderr",
     "output_type": "stream",
     "text": [
      " 35%|███▌      | 397/1130 [35:13<1:00:45,  4.97s/it][WDM] - Current google-chrome version is 92.0.4515\n",
      "[WDM] - Get LATEST driver version for 92.0.4515\n",
      "[WDM] - Driver [/Users/cblanesg/.wdm/drivers/chromedriver/mac64/92.0.4515.107/chromedriver] found in cache\n"
     ]
    },
    {
     "name": "stdout",
     "output_type": "stream",
     "text": [
      " \n"
     ]
    },
    {
     "name": "stderr",
     "output_type": "stream",
     "text": [
      " 35%|███▌      | 398/1130 [35:18<1:01:37,  5.05s/it][WDM] - Current google-chrome version is 92.0.4515\n",
      "[WDM] - Get LATEST driver version for 92.0.4515\n",
      "[WDM] - Driver [/Users/cblanesg/.wdm/drivers/chromedriver/mac64/92.0.4515.107/chromedriver] found in cache\n"
     ]
    },
    {
     "name": "stdout",
     "output_type": "stream",
     "text": [
      " \n"
     ]
    },
    {
     "name": "stderr",
     "output_type": "stream",
     "text": [
      " 35%|███▌      | 399/1130 [35:23<1:01:42,  5.06s/it][WDM] - Current google-chrome version is 92.0.4515\n",
      "[WDM] - Get LATEST driver version for 92.0.4515\n",
      "[WDM] - Driver [/Users/cblanesg/.wdm/drivers/chromedriver/mac64/92.0.4515.107/chromedriver] found in cache\n"
     ]
    },
    {
     "name": "stdout",
     "output_type": "stream",
     "text": [
      " \n"
     ]
    },
    {
     "name": "stderr",
     "output_type": "stream",
     "text": [
      " 35%|███▌      | 400/1130 [35:28<1:01:23,  5.05s/it][WDM] - Current google-chrome version is 92.0.4515\n",
      "[WDM] - Get LATEST driver version for 92.0.4515\n",
      "[WDM] - Driver [/Users/cblanesg/.wdm/drivers/chromedriver/mac64/92.0.4515.107/chromedriver] found in cache\n"
     ]
    },
    {
     "name": "stdout",
     "output_type": "stream",
     "text": [
      " \n"
     ]
    },
    {
     "name": "stderr",
     "output_type": "stream",
     "text": [
      " 35%|███▌      | 401/1130 [35:33<1:01:38,  5.07s/it][WDM] - Current google-chrome version is 92.0.4515\n",
      "[WDM] - Get LATEST driver version for 92.0.4515\n",
      "[WDM] - Driver [/Users/cblanesg/.wdm/drivers/chromedriver/mac64/92.0.4515.107/chromedriver] found in cache\n"
     ]
    },
    {
     "name": "stdout",
     "output_type": "stream",
     "text": [
      " \n"
     ]
    },
    {
     "name": "stderr",
     "output_type": "stream",
     "text": [
      " 36%|███▌      | 402/1130 [35:38<1:01:39,  5.08s/it][WDM] - Current google-chrome version is 92.0.4515\n",
      "[WDM] - Get LATEST driver version for 92.0.4515\n",
      "[WDM] - Driver [/Users/cblanesg/.wdm/drivers/chromedriver/mac64/92.0.4515.107/chromedriver] found in cache\n"
     ]
    },
    {
     "name": "stdout",
     "output_type": "stream",
     "text": [
      " \n"
     ]
    },
    {
     "name": "stderr",
     "output_type": "stream",
     "text": [
      " 36%|███▌      | 403/1130 [35:43<1:00:43,  5.01s/it][WDM] - Current google-chrome version is 92.0.4515\n",
      "[WDM] - Get LATEST driver version for 92.0.4515\n",
      "[WDM] - Driver [/Users/cblanesg/.wdm/drivers/chromedriver/mac64/92.0.4515.107/chromedriver] found in cache\n"
     ]
    },
    {
     "name": "stdout",
     "output_type": "stream",
     "text": [
      " \n"
     ]
    },
    {
     "name": "stderr",
     "output_type": "stream",
     "text": [
      " 36%|███▌      | 404/1130 [35:48<1:00:04,  4.96s/it][WDM] - Current google-chrome version is 92.0.4515\n",
      "[WDM] - Get LATEST driver version for 92.0.4515\n",
      "[WDM] - Driver [/Users/cblanesg/.wdm/drivers/chromedriver/mac64/92.0.4515.107/chromedriver] found in cache\n"
     ]
    },
    {
     "name": "stdout",
     "output_type": "stream",
     "text": [
      " \n"
     ]
    },
    {
     "name": "stderr",
     "output_type": "stream",
     "text": [
      " 36%|███▌      | 405/1130 [35:53<1:00:41,  5.02s/it][WDM] - Current google-chrome version is 92.0.4515\n",
      "[WDM] - Get LATEST driver version for 92.0.4515\n",
      "[WDM] - Driver [/Users/cblanesg/.wdm/drivers/chromedriver/mac64/92.0.4515.107/chromedriver] found in cache\n"
     ]
    },
    {
     "name": "stdout",
     "output_type": "stream",
     "text": [
      " \n"
     ]
    },
    {
     "name": "stderr",
     "output_type": "stream",
     "text": [
      " 36%|███▌      | 406/1130 [35:58<1:00:39,  5.03s/it][WDM] - Current google-chrome version is 92.0.4515\n",
      "[WDM] - Get LATEST driver version for 92.0.4515\n",
      "[WDM] - Driver [/Users/cblanesg/.wdm/drivers/chromedriver/mac64/92.0.4515.107/chromedriver] found in cache\n"
     ]
    },
    {
     "name": "stdout",
     "output_type": "stream",
     "text": [
      " \n"
     ]
    },
    {
     "name": "stderr",
     "output_type": "stream",
     "text": [
      " 36%|███▌      | 407/1130 [36:03<1:00:28,  5.02s/it][WDM] - Current google-chrome version is 92.0.4515\n",
      "[WDM] - Get LATEST driver version for 92.0.4515\n",
      "[WDM] - Driver [/Users/cblanesg/.wdm/drivers/chromedriver/mac64/92.0.4515.107/chromedriver] found in cache\n"
     ]
    },
    {
     "name": "stdout",
     "output_type": "stream",
     "text": [
      " \n"
     ]
    },
    {
     "name": "stderr",
     "output_type": "stream",
     "text": [
      " 36%|███▌      | 408/1130 [36:07<57:17,  4.76s/it]  [WDM] - Current google-chrome version is 92.0.4515\n",
      "[WDM] - Get LATEST driver version for 92.0.4515\n",
      "[WDM] - Driver [/Users/cblanesg/.wdm/drivers/chromedriver/mac64/92.0.4515.107/chromedriver] found in cache\n"
     ]
    },
    {
     "name": "stdout",
     "output_type": "stream",
     "text": [
      " \n"
     ]
    },
    {
     "name": "stderr",
     "output_type": "stream",
     "text": [
      " 36%|███▌      | 409/1130 [36:12<58:45,  4.89s/it][WDM] - Current google-chrome version is 92.0.4515\n",
      "[WDM] - Get LATEST driver version for 92.0.4515\n",
      "[WDM] - Driver [/Users/cblanesg/.wdm/drivers/chromedriver/mac64/92.0.4515.107/chromedriver] found in cache\n"
     ]
    },
    {
     "name": "stdout",
     "output_type": "stream",
     "text": [
      " \n"
     ]
    },
    {
     "name": "stderr",
     "output_type": "stream",
     "text": [
      " 36%|███▋      | 410/1130 [36:16<55:13,  4.60s/it][WDM] - Current google-chrome version is 92.0.4515\n",
      "[WDM] - Get LATEST driver version for 92.0.4515\n",
      "[WDM] - Driver [/Users/cblanesg/.wdm/drivers/chromedriver/mac64/92.0.4515.107/chromedriver] found in cache\n"
     ]
    },
    {
     "name": "stdout",
     "output_type": "stream",
     "text": [
      " \n"
     ]
    },
    {
     "name": "stderr",
     "output_type": "stream",
     "text": [
      " 36%|███▋      | 411/1130 [36:21<56:24,  4.71s/it][WDM] - Current google-chrome version is 92.0.4515\n",
      "[WDM] - Get LATEST driver version for 92.0.4515\n",
      "[WDM] - Driver [/Users/cblanesg/.wdm/drivers/chromedriver/mac64/92.0.4515.107/chromedriver] found in cache\n"
     ]
    },
    {
     "name": "stdout",
     "output_type": "stream",
     "text": [
      " \n"
     ]
    },
    {
     "name": "stderr",
     "output_type": "stream",
     "text": [
      " 36%|███▋      | 412/1130 [36:26<54:54,  4.59s/it][WDM] - Current google-chrome version is 92.0.4515\n",
      "[WDM] - Get LATEST driver version for 92.0.4515\n",
      "[WDM] - Driver [/Users/cblanesg/.wdm/drivers/chromedriver/mac64/92.0.4515.107/chromedriver] found in cache\n"
     ]
    },
    {
     "name": "stdout",
     "output_type": "stream",
     "text": [
      " \n"
     ]
    },
    {
     "name": "stderr",
     "output_type": "stream",
     "text": [
      " 37%|███▋      | 413/1130 [36:30<55:33,  4.65s/it][WDM] - Current google-chrome version is 92.0.4515\n",
      "[WDM] - Get LATEST driver version for 92.0.4515\n",
      "[WDM] - Driver [/Users/cblanesg/.wdm/drivers/chromedriver/mac64/92.0.4515.107/chromedriver] found in cache\n"
     ]
    },
    {
     "name": "stdout",
     "output_type": "stream",
     "text": [
      " \n"
     ]
    },
    {
     "name": "stderr",
     "output_type": "stream",
     "text": [
      " 37%|███▋      | 414/1130 [36:35<56:46,  4.76s/it][WDM] - Current google-chrome version is 92.0.4515\n",
      "[WDM] - Get LATEST driver version for 92.0.4515\n",
      "[WDM] - Driver [/Users/cblanesg/.wdm/drivers/chromedriver/mac64/92.0.4515.107/chromedriver] found in cache\n"
     ]
    },
    {
     "name": "stdout",
     "output_type": "stream",
     "text": [
      " \n"
     ]
    },
    {
     "name": "stderr",
     "output_type": "stream",
     "text": [
      " 37%|███▋      | 415/1130 [36:40<57:23,  4.82s/it][WDM] - Current google-chrome version is 92.0.4515\n",
      "[WDM] - Get LATEST driver version for 92.0.4515\n",
      "[WDM] - Driver [/Users/cblanesg/.wdm/drivers/chromedriver/mac64/92.0.4515.107/chromedriver] found in cache\n"
     ]
    },
    {
     "name": "stdout",
     "output_type": "stream",
     "text": [
      " \n"
     ]
    },
    {
     "name": "stderr",
     "output_type": "stream",
     "text": [
      " 37%|███▋      | 416/1130 [36:45<54:46,  4.60s/it][WDM] - Current google-chrome version is 92.0.4515\n",
      "[WDM] - Get LATEST driver version for 92.0.4515\n",
      "[WDM] - Driver [/Users/cblanesg/.wdm/drivers/chromedriver/mac64/92.0.4515.107/chromedriver] found in cache\n"
     ]
    },
    {
     "name": "stdout",
     "output_type": "stream",
     "text": [
      " \n"
     ]
    },
    {
     "name": "stderr",
     "output_type": "stream",
     "text": [
      " 37%|███▋      | 417/1130 [36:49<55:43,  4.69s/it][WDM] - Current google-chrome version is 92.0.4515\n",
      "[WDM] - Get LATEST driver version for 92.0.4515\n",
      "[WDM] - Driver [/Users/cblanesg/.wdm/drivers/chromedriver/mac64/92.0.4515.107/chromedriver] found in cache\n"
     ]
    },
    {
     "name": "stdout",
     "output_type": "stream",
     "text": [
      " \n"
     ]
    },
    {
     "name": "stderr",
     "output_type": "stream",
     "text": [
      " 37%|███▋      | 418/1130 [36:54<55:38,  4.69s/it][WDM] - Current google-chrome version is 92.0.4515\n",
      "[WDM] - Get LATEST driver version for 92.0.4515\n",
      "[WDM] - Driver [/Users/cblanesg/.wdm/drivers/chromedriver/mac64/92.0.4515.107/chromedriver] found in cache\n"
     ]
    },
    {
     "name": "stdout",
     "output_type": "stream",
     "text": [
      " \n"
     ]
    },
    {
     "name": "stderr",
     "output_type": "stream",
     "text": [
      " 37%|███▋      | 419/1130 [36:59<55:51,  4.71s/it][WDM] - Current google-chrome version is 92.0.4515\n",
      "[WDM] - Get LATEST driver version for 92.0.4515\n",
      "[WDM] - Driver [/Users/cblanesg/.wdm/drivers/chromedriver/mac64/92.0.4515.107/chromedriver] found in cache\n"
     ]
    },
    {
     "name": "stdout",
     "output_type": "stream",
     "text": [
      " \n"
     ]
    },
    {
     "name": "stderr",
     "output_type": "stream",
     "text": [
      " 37%|███▋      | 420/1130 [37:04<55:52,  4.72s/it][WDM] - Current google-chrome version is 92.0.4515\n",
      "[WDM] - Get LATEST driver version for 92.0.4515\n",
      "[WDM] - Driver [/Users/cblanesg/.wdm/drivers/chromedriver/mac64/92.0.4515.107/chromedriver] found in cache\n"
     ]
    },
    {
     "name": "stdout",
     "output_type": "stream",
     "text": [
      " \n"
     ]
    },
    {
     "name": "stderr",
     "output_type": "stream",
     "text": [
      " 37%|███▋      | 421/1130 [37:08<55:47,  4.72s/it][WDM] - Current google-chrome version is 92.0.4515\n",
      "[WDM] - Get LATEST driver version for 92.0.4515\n",
      "[WDM] - Driver [/Users/cblanesg/.wdm/drivers/chromedriver/mac64/92.0.4515.107/chromedriver] found in cache\n"
     ]
    },
    {
     "name": "stdout",
     "output_type": "stream",
     "text": [
      " \n"
     ]
    },
    {
     "name": "stderr",
     "output_type": "stream",
     "text": [
      " 37%|███▋      | 422/1130 [37:13<56:08,  4.76s/it][WDM] - Current google-chrome version is 92.0.4515\n",
      "[WDM] - Get LATEST driver version for 92.0.4515\n",
      "[WDM] - Driver [/Users/cblanesg/.wdm/drivers/chromedriver/mac64/92.0.4515.107/chromedriver] found in cache\n"
     ]
    },
    {
     "name": "stdout",
     "output_type": "stream",
     "text": [
      " \n"
     ]
    },
    {
     "name": "stderr",
     "output_type": "stream",
     "text": [
      " 37%|███▋      | 423/1130 [37:19<1:00:59,  5.18s/it][WDM] - Current google-chrome version is 92.0.4515\n",
      "[WDM] - Get LATEST driver version for 92.0.4515\n",
      "[WDM] - Driver [/Users/cblanesg/.wdm/drivers/chromedriver/mac64/92.0.4515.107/chromedriver] found in cache\n"
     ]
    },
    {
     "name": "stdout",
     "output_type": "stream",
     "text": [
      " \n"
     ]
    },
    {
     "name": "stderr",
     "output_type": "stream",
     "text": [
      " 38%|███▊      | 424/1130 [37:24<1:00:35,  5.15s/it][WDM] - Current google-chrome version is 92.0.4515\n",
      "[WDM] - Get LATEST driver version for 92.0.4515\n",
      "[WDM] - Driver [/Users/cblanesg/.wdm/drivers/chromedriver/mac64/92.0.4515.107/chromedriver] found in cache\n"
     ]
    },
    {
     "name": "stdout",
     "output_type": "stream",
     "text": [
      " \n"
     ]
    },
    {
     "name": "stderr",
     "output_type": "stream",
     "text": [
      " 38%|███▊      | 425/1130 [37:29<59:34,  5.07s/it]  [WDM] - Current google-chrome version is 92.0.4515\n",
      "[WDM] - Get LATEST driver version for 92.0.4515\n",
      "[WDM] - Driver [/Users/cblanesg/.wdm/drivers/chromedriver/mac64/92.0.4515.107/chromedriver] found in cache\n"
     ]
    },
    {
     "name": "stdout",
     "output_type": "stream",
     "text": [
      " \n"
     ]
    },
    {
     "name": "stderr",
     "output_type": "stream",
     "text": [
      " 38%|███▊      | 426/1130 [37:34<59:06,  5.04s/it][WDM] - Current google-chrome version is 92.0.4515\n",
      "[WDM] - Get LATEST driver version for 92.0.4515\n",
      "[WDM] - Driver [/Users/cblanesg/.wdm/drivers/chromedriver/mac64/92.0.4515.107/chromedriver] found in cache\n"
     ]
    },
    {
     "name": "stdout",
     "output_type": "stream",
     "text": [
      " \n"
     ]
    },
    {
     "name": "stderr",
     "output_type": "stream",
     "text": [
      " 38%|███▊      | 427/1130 [37:39<57:56,  4.95s/it][WDM] - Current google-chrome version is 92.0.4515\n",
      "[WDM] - Get LATEST driver version for 92.0.4515\n",
      "[WDM] - Driver [/Users/cblanesg/.wdm/drivers/chromedriver/mac64/92.0.4515.107/chromedriver] found in cache\n"
     ]
    },
    {
     "name": "stdout",
     "output_type": "stream",
     "text": [
      " \n"
     ]
    },
    {
     "name": "stderr",
     "output_type": "stream",
     "text": [
      " 38%|███▊      | 428/1130 [37:43<54:15,  4.64s/it][WDM] - Current google-chrome version is 92.0.4515\n",
      "[WDM] - Get LATEST driver version for 92.0.4515\n",
      "[WDM] - Driver [/Users/cblanesg/.wdm/drivers/chromedriver/mac64/92.0.4515.107/chromedriver] found in cache\n"
     ]
    },
    {
     "name": "stdout",
     "output_type": "stream",
     "text": [
      " \n"
     ]
    },
    {
     "name": "stderr",
     "output_type": "stream",
     "text": [
      " 38%|███▊      | 429/1130 [37:48<55:41,  4.77s/it][WDM] - Current google-chrome version is 92.0.4515\n",
      "[WDM] - Get LATEST driver version for 92.0.4515\n",
      "[WDM] - Driver [/Users/cblanesg/.wdm/drivers/chromedriver/mac64/92.0.4515.107/chromedriver] found in cache\n"
     ]
    },
    {
     "name": "stdout",
     "output_type": "stream",
     "text": [
      " \n"
     ]
    },
    {
     "name": "stderr",
     "output_type": "stream",
     "text": [
      " 38%|███▊      | 430/1130 [37:54<59:57,  5.14s/it][WDM] - Current google-chrome version is 92.0.4515\n",
      "[WDM] - Get LATEST driver version for 92.0.4515\n",
      "[WDM] - Driver [/Users/cblanesg/.wdm/drivers/chromedriver/mac64/92.0.4515.107/chromedriver] found in cache\n"
     ]
    },
    {
     "name": "stdout",
     "output_type": "stream",
     "text": [
      " \n"
     ]
    },
    {
     "name": "stderr",
     "output_type": "stream",
     "text": [
      " 38%|███▊      | 431/1130 [37:59<59:40,  5.12s/it][WDM] - Current google-chrome version is 92.0.4515\n",
      "[WDM] - Get LATEST driver version for 92.0.4515\n",
      "[WDM] - Driver [/Users/cblanesg/.wdm/drivers/chromedriver/mac64/92.0.4515.107/chromedriver] found in cache\n"
     ]
    },
    {
     "name": "stdout",
     "output_type": "stream",
     "text": [
      " \n"
     ]
    },
    {
     "name": "stderr",
     "output_type": "stream",
     "text": [
      " 38%|███▊      | 432/1130 [38:04<59:12,  5.09s/it][WDM] - Current google-chrome version is 92.0.4515\n",
      "[WDM] - Get LATEST driver version for 92.0.4515\n",
      "[WDM] - Driver [/Users/cblanesg/.wdm/drivers/chromedriver/mac64/92.0.4515.107/chromedriver] found in cache\n"
     ]
    },
    {
     "name": "stdout",
     "output_type": "stream",
     "text": [
      " \n"
     ]
    },
    {
     "name": "stderr",
     "output_type": "stream",
     "text": [
      " 38%|███▊      | 433/1130 [38:09<58:38,  5.05s/it][WDM] - Current google-chrome version is 92.0.4515\n",
      "[WDM] - Get LATEST driver version for 92.0.4515\n",
      "[WDM] - Driver [/Users/cblanesg/.wdm/drivers/chromedriver/mac64/92.0.4515.107/chromedriver] found in cache\n"
     ]
    },
    {
     "name": "stdout",
     "output_type": "stream",
     "text": [
      " \n"
     ]
    },
    {
     "name": "stderr",
     "output_type": "stream",
     "text": [
      " 38%|███▊      | 434/1130 [38:15<1:00:43,  5.23s/it][WDM] - Current google-chrome version is 92.0.4515\n",
      "[WDM] - Get LATEST driver version for 92.0.4515\n",
      "[WDM] - Driver [/Users/cblanesg/.wdm/drivers/chromedriver/mac64/92.0.4515.107/chromedriver] found in cache\n"
     ]
    },
    {
     "name": "stdout",
     "output_type": "stream",
     "text": [
      " \n"
     ]
    },
    {
     "name": "stderr",
     "output_type": "stream",
     "text": [
      " 38%|███▊      | 435/1130 [38:19<56:00,  4.83s/it]  [WDM] - Current google-chrome version is 92.0.4515\n",
      "[WDM] - Get LATEST driver version for 92.0.4515\n",
      "[WDM] - Driver [/Users/cblanesg/.wdm/drivers/chromedriver/mac64/92.0.4515.107/chromedriver] found in cache\n"
     ]
    },
    {
     "name": "stdout",
     "output_type": "stream",
     "text": [
      " \n"
     ]
    },
    {
     "name": "stderr",
     "output_type": "stream",
     "text": [
      " 39%|███▊      | 436/1130 [38:23<55:43,  4.82s/it][WDM] - Current google-chrome version is 92.0.4515\n",
      "[WDM] - Get LATEST driver version for 92.0.4515\n",
      "[WDM] - Driver [/Users/cblanesg/.wdm/drivers/chromedriver/mac64/92.0.4515.107/chromedriver] found in cache\n"
     ]
    },
    {
     "name": "stdout",
     "output_type": "stream",
     "text": [
      " \n"
     ]
    },
    {
     "name": "stderr",
     "output_type": "stream",
     "text": [
      " 39%|███▊      | 437/1130 [38:28<55:09,  4.78s/it][WDM] - Current google-chrome version is 92.0.4515\n",
      "[WDM] - Get LATEST driver version for 92.0.4515\n",
      "[WDM] - Driver [/Users/cblanesg/.wdm/drivers/chromedriver/mac64/92.0.4515.107/chromedriver] found in cache\n"
     ]
    },
    {
     "name": "stdout",
     "output_type": "stream",
     "text": [
      " \n"
     ]
    },
    {
     "name": "stderr",
     "output_type": "stream",
     "text": [
      " 39%|███▉      | 438/1130 [38:33<54:45,  4.75s/it][WDM] - Current google-chrome version is 92.0.4515\n",
      "[WDM] - Get LATEST driver version for 92.0.4515\n",
      "[WDM] - Driver [/Users/cblanesg/.wdm/drivers/chromedriver/mac64/92.0.4515.107/chromedriver] found in cache\n"
     ]
    },
    {
     "name": "stdout",
     "output_type": "stream",
     "text": [
      " \n"
     ]
    },
    {
     "name": "stderr",
     "output_type": "stream",
     "text": [
      " 39%|███▉      | 439/1130 [38:38<55:25,  4.81s/it][WDM] - Current google-chrome version is 92.0.4515\n",
      "[WDM] - Get LATEST driver version for 92.0.4515\n",
      "[WDM] - Driver [/Users/cblanesg/.wdm/drivers/chromedriver/mac64/92.0.4515.107/chromedriver] found in cache\n"
     ]
    },
    {
     "name": "stdout",
     "output_type": "stream",
     "text": [
      " \n"
     ]
    },
    {
     "name": "stderr",
     "output_type": "stream",
     "text": [
      " 39%|███▉      | 440/1130 [38:43<55:56,  4.86s/it][WDM] - Current google-chrome version is 92.0.4515\n",
      "[WDM] - Get LATEST driver version for 92.0.4515\n",
      "[WDM] - Driver [/Users/cblanesg/.wdm/drivers/chromedriver/mac64/92.0.4515.107/chromedriver] found in cache\n"
     ]
    },
    {
     "name": "stdout",
     "output_type": "stream",
     "text": [
      " \n"
     ]
    },
    {
     "name": "stderr",
     "output_type": "stream",
     "text": [
      " 39%|███▉      | 441/1130 [38:47<55:10,  4.80s/it][WDM] - Current google-chrome version is 92.0.4515\n",
      "[WDM] - Get LATEST driver version for 92.0.4515\n",
      "[WDM] - Driver [/Users/cblanesg/.wdm/drivers/chromedriver/mac64/92.0.4515.107/chromedriver] found in cache\n"
     ]
    },
    {
     "name": "stdout",
     "output_type": "stream",
     "text": [
      " \n"
     ]
    },
    {
     "name": "stderr",
     "output_type": "stream",
     "text": [
      " 39%|███▉      | 442/1130 [38:53<56:14,  4.91s/it][WDM] - Current google-chrome version is 92.0.4515\n",
      "[WDM] - Get LATEST driver version for 92.0.4515\n",
      "[WDM] - Driver [/Users/cblanesg/.wdm/drivers/chromedriver/mac64/92.0.4515.107/chromedriver] found in cache\n"
     ]
    },
    {
     "name": "stdout",
     "output_type": "stream",
     "text": [
      " \n"
     ]
    },
    {
     "name": "stderr",
     "output_type": "stream",
     "text": [
      " 39%|███▉      | 443/1130 [38:57<56:18,  4.92s/it][WDM] - Current google-chrome version is 92.0.4515\n",
      "[WDM] - Get LATEST driver version for 92.0.4515\n",
      "[WDM] - Driver [/Users/cblanesg/.wdm/drivers/chromedriver/mac64/92.0.4515.107/chromedriver] found in cache\n"
     ]
    },
    {
     "name": "stdout",
     "output_type": "stream",
     "text": [
      " \n"
     ]
    },
    {
     "name": "stderr",
     "output_type": "stream",
     "text": [
      " 39%|███▉      | 444/1130 [39:02<55:12,  4.83s/it][WDM] - Current google-chrome version is 92.0.4515\n",
      "[WDM] - Get LATEST driver version for 92.0.4515\n",
      "[WDM] - Driver [/Users/cblanesg/.wdm/drivers/chromedriver/mac64/92.0.4515.107/chromedriver] found in cache\n"
     ]
    },
    {
     "name": "stdout",
     "output_type": "stream",
     "text": [
      " \n"
     ]
    },
    {
     "name": "stderr",
     "output_type": "stream",
     "text": [
      " 39%|███▉      | 445/1130 [39:07<54:13,  4.75s/it][WDM] - Current google-chrome version is 92.0.4515\n",
      "[WDM] - Get LATEST driver version for 92.0.4515\n",
      "[WDM] - Driver [/Users/cblanesg/.wdm/drivers/chromedriver/mac64/92.0.4515.107/chromedriver] found in cache\n"
     ]
    },
    {
     "name": "stdout",
     "output_type": "stream",
     "text": [
      " \n"
     ]
    },
    {
     "name": "stderr",
     "output_type": "stream",
     "text": [
      " 39%|███▉      | 446/1130 [39:11<52:46,  4.63s/it][WDM] - Current google-chrome version is 92.0.4515\n",
      "[WDM] - Get LATEST driver version for 92.0.4515\n",
      "[WDM] - Driver [/Users/cblanesg/.wdm/drivers/chromedriver/mac64/92.0.4515.107/chromedriver] found in cache\n"
     ]
    },
    {
     "name": "stdout",
     "output_type": "stream",
     "text": [
      " \n"
     ]
    },
    {
     "name": "stderr",
     "output_type": "stream",
     "text": [
      " 40%|███▉      | 447/1130 [39:15<51:46,  4.55s/it][WDM] - Current google-chrome version is 92.0.4515\n",
      "[WDM] - Get LATEST driver version for 92.0.4515\n",
      "[WDM] - Driver [/Users/cblanesg/.wdm/drivers/chromedriver/mac64/92.0.4515.107/chromedriver] found in cache\n"
     ]
    },
    {
     "name": "stdout",
     "output_type": "stream",
     "text": [
      " \n"
     ]
    },
    {
     "name": "stderr",
     "output_type": "stream",
     "text": [
      " 40%|███▉      | 448/1130 [39:20<50:26,  4.44s/it][WDM] - Current google-chrome version is 92.0.4515\n",
      "[WDM] - Get LATEST driver version for 92.0.4515\n",
      "[WDM] - Driver [/Users/cblanesg/.wdm/drivers/chromedriver/mac64/92.0.4515.107/chromedriver] found in cache\n"
     ]
    },
    {
     "name": "stdout",
     "output_type": "stream",
     "text": [
      " \n"
     ]
    },
    {
     "name": "stderr",
     "output_type": "stream",
     "text": [
      " 40%|███▉      | 449/1130 [39:23<47:17,  4.17s/it][WDM] - Current google-chrome version is 92.0.4515\n",
      "[WDM] - Get LATEST driver version for 92.0.4515\n",
      "[WDM] - Driver [/Users/cblanesg/.wdm/drivers/chromedriver/mac64/92.0.4515.107/chromedriver] found in cache\n"
     ]
    },
    {
     "name": "stdout",
     "output_type": "stream",
     "text": [
      " \n"
     ]
    },
    {
     "name": "stderr",
     "output_type": "stream",
     "text": [
      " 40%|███▉      | 450/1130 [39:27<47:00,  4.15s/it][WDM] - Current google-chrome version is 92.0.4515\n",
      "[WDM] - Get LATEST driver version for 92.0.4515\n",
      "[WDM] - Driver [/Users/cblanesg/.wdm/drivers/chromedriver/mac64/92.0.4515.107/chromedriver] found in cache\n"
     ]
    },
    {
     "name": "stdout",
     "output_type": "stream",
     "text": [
      " \n"
     ]
    },
    {
     "name": "stderr",
     "output_type": "stream",
     "text": [
      " 40%|███▉      | 451/1130 [39:32<47:46,  4.22s/it][WDM] - Current google-chrome version is 92.0.4515\n",
      "[WDM] - Get LATEST driver version for 92.0.4515\n",
      "[WDM] - Driver [/Users/cblanesg/.wdm/drivers/chromedriver/mac64/92.0.4515.107/chromedriver] found in cache\n"
     ]
    },
    {
     "name": "stdout",
     "output_type": "stream",
     "text": [
      " \n"
     ]
    },
    {
     "name": "stderr",
     "output_type": "stream",
     "text": [
      " 40%|████      | 452/1130 [39:36<49:10,  4.35s/it][WDM] - Current google-chrome version is 92.0.4515\n",
      "[WDM] - Get LATEST driver version for 92.0.4515\n",
      "[WDM] - Driver [/Users/cblanesg/.wdm/drivers/chromedriver/mac64/92.0.4515.107/chromedriver] found in cache\n"
     ]
    },
    {
     "name": "stdout",
     "output_type": "stream",
     "text": [
      " \n"
     ]
    },
    {
     "name": "stderr",
     "output_type": "stream",
     "text": [
      " 40%|████      | 453/1130 [39:41<49:17,  4.37s/it][WDM] - Current google-chrome version is 92.0.4515\n",
      "[WDM] - Get LATEST driver version for 92.0.4515\n",
      "[WDM] - Driver [/Users/cblanesg/.wdm/drivers/chromedriver/mac64/92.0.4515.107/chromedriver] found in cache\n"
     ]
    },
    {
     "name": "stdout",
     "output_type": "stream",
     "text": [
      " \n"
     ]
    },
    {
     "name": "stderr",
     "output_type": "stream",
     "text": [
      " 40%|████      | 454/1130 [39:45<48:57,  4.34s/it][WDM] - Current google-chrome version is 92.0.4515\n",
      "[WDM] - Get LATEST driver version for 92.0.4515\n",
      "[WDM] - Driver [/Users/cblanesg/.wdm/drivers/chromedriver/mac64/92.0.4515.107/chromedriver] found in cache\n"
     ]
    },
    {
     "name": "stdout",
     "output_type": "stream",
     "text": [
      " \n"
     ]
    },
    {
     "name": "stderr",
     "output_type": "stream",
     "text": [
      " 40%|████      | 455/1130 [39:49<47:58,  4.26s/it][WDM] - Current google-chrome version is 92.0.4515\n",
      "[WDM] - Get LATEST driver version for 92.0.4515\n",
      "[WDM] - Driver [/Users/cblanesg/.wdm/drivers/chromedriver/mac64/92.0.4515.107/chromedriver] found in cache\n"
     ]
    },
    {
     "name": "stdout",
     "output_type": "stream",
     "text": [
      " \n"
     ]
    },
    {
     "name": "stderr",
     "output_type": "stream",
     "text": [
      " 40%|████      | 456/1130 [39:53<47:39,  4.24s/it][WDM] - Current google-chrome version is 92.0.4515\n",
      "[WDM] - Get LATEST driver version for 92.0.4515\n",
      "[WDM] - Driver [/Users/cblanesg/.wdm/drivers/chromedriver/mac64/92.0.4515.107/chromedriver] found in cache\n"
     ]
    },
    {
     "name": "stdout",
     "output_type": "stream",
     "text": [
      " \n"
     ]
    },
    {
     "name": "stderr",
     "output_type": "stream",
     "text": [
      " 40%|████      | 457/1130 [39:58<48:17,  4.30s/it][WDM] - Current google-chrome version is 92.0.4515\n",
      "[WDM] - Get LATEST driver version for 92.0.4515\n",
      "[WDM] - Driver [/Users/cblanesg/.wdm/drivers/chromedriver/mac64/92.0.4515.107/chromedriver] found in cache\n"
     ]
    },
    {
     "name": "stdout",
     "output_type": "stream",
     "text": [
      " \n"
     ]
    },
    {
     "name": "stderr",
     "output_type": "stream",
     "text": [
      " 41%|████      | 458/1130 [40:02<48:13,  4.31s/it][WDM] - Current google-chrome version is 92.0.4515\n",
      "[WDM] - Get LATEST driver version for 92.0.4515\n",
      "[WDM] - Driver [/Users/cblanesg/.wdm/drivers/chromedriver/mac64/92.0.4515.107/chromedriver] found in cache\n"
     ]
    },
    {
     "name": "stdout",
     "output_type": "stream",
     "text": [
      " \n"
     ]
    },
    {
     "name": "stderr",
     "output_type": "stream",
     "text": [
      " 41%|████      | 459/1130 [40:07<51:00,  4.56s/it][WDM] - Current google-chrome version is 92.0.4515\n",
      "[WDM] - Get LATEST driver version for 92.0.4515\n",
      "[WDM] - Driver [/Users/cblanesg/.wdm/drivers/chromedriver/mac64/92.0.4515.107/chromedriver] found in cache\n"
     ]
    },
    {
     "name": "stdout",
     "output_type": "stream",
     "text": [
      " \n"
     ]
    },
    {
     "name": "stderr",
     "output_type": "stream",
     "text": [
      " 41%|████      | 460/1130 [40:12<51:19,  4.60s/it][WDM] - Current google-chrome version is 92.0.4515\n",
      "[WDM] - Get LATEST driver version for 92.0.4515\n",
      "[WDM] - Driver [/Users/cblanesg/.wdm/drivers/chromedriver/mac64/92.0.4515.107/chromedriver] found in cache\n"
     ]
    },
    {
     "name": "stdout",
     "output_type": "stream",
     "text": [
      " \n"
     ]
    },
    {
     "name": "stderr",
     "output_type": "stream",
     "text": [
      " 41%|████      | 461/1130 [40:16<50:11,  4.50s/it][WDM] - Current google-chrome version is 92.0.4515\n",
      "[WDM] - Get LATEST driver version for 92.0.4515\n",
      "[WDM] - Driver [/Users/cblanesg/.wdm/drivers/chromedriver/mac64/92.0.4515.107/chromedriver] found in cache\n"
     ]
    },
    {
     "name": "stdout",
     "output_type": "stream",
     "text": [
      " \n"
     ]
    },
    {
     "name": "stderr",
     "output_type": "stream",
     "text": [
      " 41%|████      | 462/1130 [40:20<48:10,  4.33s/it][WDM] - Current google-chrome version is 92.0.4515\n",
      "[WDM] - Get LATEST driver version for 92.0.4515\n",
      "[WDM] - Driver [/Users/cblanesg/.wdm/drivers/chromedriver/mac64/92.0.4515.107/chromedriver] found in cache\n"
     ]
    },
    {
     "name": "stdout",
     "output_type": "stream",
     "text": [
      " \n"
     ]
    },
    {
     "name": "stderr",
     "output_type": "stream",
     "text": [
      " 41%|████      | 463/1130 [40:24<45:50,  4.12s/it][WDM] - Current google-chrome version is 92.0.4515\n",
      "[WDM] - Get LATEST driver version for 92.0.4515\n",
      "[WDM] - Driver [/Users/cblanesg/.wdm/drivers/chromedriver/mac64/92.0.4515.107/chromedriver] found in cache\n"
     ]
    },
    {
     "name": "stdout",
     "output_type": "stream",
     "text": [
      " \n"
     ]
    },
    {
     "name": "stderr",
     "output_type": "stream",
     "text": [
      " 41%|████      | 464/1130 [40:28<47:11,  4.25s/it][WDM] - Current google-chrome version is 92.0.4515\n",
      "[WDM] - Get LATEST driver version for 92.0.4515\n",
      "[WDM] - Driver [/Users/cblanesg/.wdm/drivers/chromedriver/mac64/92.0.4515.107/chromedriver] found in cache\n"
     ]
    },
    {
     "name": "stdout",
     "output_type": "stream",
     "text": [
      " \n"
     ]
    },
    {
     "name": "stderr",
     "output_type": "stream",
     "text": [
      " 41%|████      | 465/1130 [40:32<46:19,  4.18s/it][WDM] - Current google-chrome version is 92.0.4515\n",
      "[WDM] - Get LATEST driver version for 92.0.4515\n",
      "[WDM] - Driver [/Users/cblanesg/.wdm/drivers/chromedriver/mac64/92.0.4515.107/chromedriver] found in cache\n"
     ]
    },
    {
     "name": "stdout",
     "output_type": "stream",
     "text": [
      " \n"
     ]
    },
    {
     "name": "stderr",
     "output_type": "stream",
     "text": [
      " 41%|████      | 466/1130 [40:37<47:32,  4.30s/it][WDM] - Current google-chrome version is 92.0.4515\n",
      "[WDM] - Get LATEST driver version for 92.0.4515\n",
      "[WDM] - Driver [/Users/cblanesg/.wdm/drivers/chromedriver/mac64/92.0.4515.107/chromedriver] found in cache\n"
     ]
    },
    {
     "name": "stdout",
     "output_type": "stream",
     "text": [
      " \n"
     ]
    },
    {
     "name": "stderr",
     "output_type": "stream",
     "text": [
      " 41%|████▏     | 467/1130 [40:41<45:59,  4.16s/it][WDM] - Current google-chrome version is 92.0.4515\n",
      "[WDM] - Get LATEST driver version for 92.0.4515\n",
      "[WDM] - Driver [/Users/cblanesg/.wdm/drivers/chromedriver/mac64/92.0.4515.107/chromedriver] found in cache\n"
     ]
    },
    {
     "name": "stdout",
     "output_type": "stream",
     "text": [
      " \n"
     ]
    },
    {
     "name": "stderr",
     "output_type": "stream",
     "text": [
      " 41%|████▏     | 468/1130 [40:45<46:32,  4.22s/it][WDM] - Current google-chrome version is 92.0.4515\n",
      "[WDM] - Get LATEST driver version for 92.0.4515\n",
      "[WDM] - Driver [/Users/cblanesg/.wdm/drivers/chromedriver/mac64/92.0.4515.107/chromedriver] found in cache\n"
     ]
    },
    {
     "name": "stdout",
     "output_type": "stream",
     "text": [
      " \n"
     ]
    },
    {
     "name": "stderr",
     "output_type": "stream",
     "text": [
      " 42%|████▏     | 469/1130 [40:49<44:51,  4.07s/it][WDM] - Current google-chrome version is 92.0.4515\n",
      "[WDM] - Get LATEST driver version for 92.0.4515\n",
      "[WDM] - Driver [/Users/cblanesg/.wdm/drivers/chromedriver/mac64/92.0.4515.107/chromedriver] found in cache\n"
     ]
    },
    {
     "name": "stdout",
     "output_type": "stream",
     "text": [
      " \n"
     ]
    },
    {
     "name": "stderr",
     "output_type": "stream",
     "text": [
      " 42%|████▏     | 470/1130 [40:54<49:20,  4.49s/it][WDM] - Current google-chrome version is 92.0.4515\n",
      "[WDM] - Get LATEST driver version for 92.0.4515\n",
      "[WDM] - Driver [/Users/cblanesg/.wdm/drivers/chromedriver/mac64/92.0.4515.107/chromedriver] found in cache\n"
     ]
    },
    {
     "name": "stdout",
     "output_type": "stream",
     "text": [
      " \n"
     ]
    },
    {
     "name": "stderr",
     "output_type": "stream",
     "text": [
      " 42%|████▏     | 471/1130 [40:59<49:05,  4.47s/it][WDM] - Current google-chrome version is 92.0.4515\n",
      "[WDM] - Get LATEST driver version for 92.0.4515\n",
      "[WDM] - Driver [/Users/cblanesg/.wdm/drivers/chromedriver/mac64/92.0.4515.107/chromedriver] found in cache\n"
     ]
    },
    {
     "name": "stdout",
     "output_type": "stream",
     "text": [
      " \n"
     ]
    },
    {
     "name": "stderr",
     "output_type": "stream",
     "text": [
      " 42%|████▏     | 472/1130 [41:02<46:45,  4.26s/it][WDM] - Current google-chrome version is 92.0.4515\n",
      "[WDM] - Get LATEST driver version for 92.0.4515\n",
      "[WDM] - Driver [/Users/cblanesg/.wdm/drivers/chromedriver/mac64/92.0.4515.107/chromedriver] found in cache\n"
     ]
    },
    {
     "name": "stdout",
     "output_type": "stream",
     "text": [
      " \n"
     ]
    },
    {
     "name": "stderr",
     "output_type": "stream",
     "text": [
      " 42%|████▏     | 473/1130 [41:07<48:03,  4.39s/it][WDM] - Current google-chrome version is 92.0.4515\n",
      "[WDM] - Get LATEST driver version for 92.0.4515\n",
      "[WDM] - Driver [/Users/cblanesg/.wdm/drivers/chromedriver/mac64/92.0.4515.107/chromedriver] found in cache\n"
     ]
    },
    {
     "name": "stdout",
     "output_type": "stream",
     "text": [
      " \n"
     ]
    },
    {
     "name": "stderr",
     "output_type": "stream",
     "text": [
      " 42%|████▏     | 474/1130 [41:11<45:50,  4.19s/it][WDM] - Current google-chrome version is 92.0.4515\n",
      "[WDM] - Get LATEST driver version for 92.0.4515\n",
      "[WDM] - Driver [/Users/cblanesg/.wdm/drivers/chromedriver/mac64/92.0.4515.107/chromedriver] found in cache\n"
     ]
    },
    {
     "name": "stdout",
     "output_type": "stream",
     "text": [
      " \n"
     ]
    },
    {
     "name": "stderr",
     "output_type": "stream",
     "text": [
      " 42%|████▏     | 475/1130 [41:15<46:12,  4.23s/it][WDM] - Current google-chrome version is 92.0.4515\n",
      "[WDM] - Get LATEST driver version for 92.0.4515\n",
      "[WDM] - Driver [/Users/cblanesg/.wdm/drivers/chromedriver/mac64/92.0.4515.107/chromedriver] found in cache\n"
     ]
    },
    {
     "name": "stdout",
     "output_type": "stream",
     "text": [
      " \n"
     ]
    },
    {
     "name": "stderr",
     "output_type": "stream",
     "text": [
      " 42%|████▏     | 476/1130 [41:20<47:09,  4.33s/it][WDM] - Current google-chrome version is 92.0.4515\n",
      "[WDM] - Get LATEST driver version for 92.0.4515\n",
      "[WDM] - Driver [/Users/cblanesg/.wdm/drivers/chromedriver/mac64/92.0.4515.107/chromedriver] found in cache\n"
     ]
    },
    {
     "name": "stdout",
     "output_type": "stream",
     "text": [
      " \n"
     ]
    },
    {
     "name": "stderr",
     "output_type": "stream",
     "text": [
      " 42%|████▏     | 477/1130 [41:24<47:22,  4.35s/it][WDM] - Current google-chrome version is 92.0.4515\n",
      "[WDM] - Get LATEST driver version for 92.0.4515\n",
      "[WDM] - Driver [/Users/cblanesg/.wdm/drivers/chromedriver/mac64/92.0.4515.107/chromedriver] found in cache\n"
     ]
    },
    {
     "name": "stdout",
     "output_type": "stream",
     "text": [
      " \n"
     ]
    },
    {
     "name": "stderr",
     "output_type": "stream",
     "text": [
      " 42%|████▏     | 478/1130 [41:29<48:01,  4.42s/it][WDM] - Current google-chrome version is 92.0.4515\n",
      "[WDM] - Get LATEST driver version for 92.0.4515\n",
      "[WDM] - Driver [/Users/cblanesg/.wdm/drivers/chromedriver/mac64/92.0.4515.107/chromedriver] found in cache\n"
     ]
    },
    {
     "name": "stdout",
     "output_type": "stream",
     "text": [
      " \n"
     ]
    },
    {
     "name": "stderr",
     "output_type": "stream",
     "text": [
      " 42%|████▏     | 479/1130 [41:33<48:16,  4.45s/it][WDM] - Current google-chrome version is 92.0.4515\n",
      "[WDM] - Get LATEST driver version for 92.0.4515\n",
      "[WDM] - Driver [/Users/cblanesg/.wdm/drivers/chromedriver/mac64/92.0.4515.107/chromedriver] found in cache\n"
     ]
    },
    {
     "name": "stdout",
     "output_type": "stream",
     "text": [
      " \n"
     ]
    },
    {
     "name": "stderr",
     "output_type": "stream",
     "text": [
      " 42%|████▏     | 480/1130 [41:38<48:44,  4.50s/it][WDM] - Current google-chrome version is 92.0.4515\n",
      "[WDM] - Get LATEST driver version for 92.0.4515\n",
      "[WDM] - Driver [/Users/cblanesg/.wdm/drivers/chromedriver/mac64/92.0.4515.107/chromedriver] found in cache\n"
     ]
    },
    {
     "name": "stdout",
     "output_type": "stream",
     "text": [
      " \n"
     ]
    },
    {
     "name": "stderr",
     "output_type": "stream",
     "text": [
      " 43%|████▎     | 481/1130 [41:42<48:14,  4.46s/it][WDM] - Current google-chrome version is 92.0.4515\n",
      "[WDM] - Get LATEST driver version for 92.0.4515\n",
      "[WDM] - Driver [/Users/cblanesg/.wdm/drivers/chromedriver/mac64/92.0.4515.107/chromedriver] found in cache\n"
     ]
    },
    {
     "name": "stdout",
     "output_type": "stream",
     "text": [
      " \n"
     ]
    },
    {
     "name": "stderr",
     "output_type": "stream",
     "text": [
      " 43%|████▎     | 482/1130 [41:47<48:02,  4.45s/it][WDM] - Current google-chrome version is 92.0.4515\n",
      "[WDM] - Get LATEST driver version for 92.0.4515\n",
      "[WDM] - Driver [/Users/cblanesg/.wdm/drivers/chromedriver/mac64/92.0.4515.107/chromedriver] found in cache\n"
     ]
    },
    {
     "name": "stdout",
     "output_type": "stream",
     "text": [
      " \n"
     ]
    },
    {
     "name": "stderr",
     "output_type": "stream",
     "text": [
      " 43%|████▎     | 483/1130 [41:51<48:37,  4.51s/it][WDM] - Current google-chrome version is 92.0.4515\n",
      "[WDM] - Get LATEST driver version for 92.0.4515\n",
      "[WDM] - Driver [/Users/cblanesg/.wdm/drivers/chromedriver/mac64/92.0.4515.107/chromedriver] found in cache\n"
     ]
    },
    {
     "name": "stdout",
     "output_type": "stream",
     "text": [
      " \n"
     ]
    },
    {
     "name": "stderr",
     "output_type": "stream",
     "text": [
      " 43%|████▎     | 484/1130 [41:55<46:00,  4.27s/it][WDM] - Current google-chrome version is 92.0.4515\n",
      "[WDM] - Get LATEST driver version for 92.0.4515\n",
      "[WDM] - Driver [/Users/cblanesg/.wdm/drivers/chromedriver/mac64/92.0.4515.107/chromedriver] found in cache\n"
     ]
    },
    {
     "name": "stdout",
     "output_type": "stream",
     "text": [
      " \n"
     ]
    },
    {
     "name": "stderr",
     "output_type": "stream",
     "text": [
      " 43%|████▎     | 485/1130 [41:59<46:50,  4.36s/it][WDM] - Current google-chrome version is 92.0.4515\n",
      "[WDM] - Get LATEST driver version for 92.0.4515\n",
      "[WDM] - Driver [/Users/cblanesg/.wdm/drivers/chromedriver/mac64/92.0.4515.107/chromedriver] found in cache\n"
     ]
    },
    {
     "name": "stdout",
     "output_type": "stream",
     "text": [
      " \n"
     ]
    },
    {
     "name": "stderr",
     "output_type": "stream",
     "text": [
      " 43%|████▎     | 486/1130 [42:04<47:12,  4.40s/it][WDM] - Current google-chrome version is 92.0.4515\n",
      "[WDM] - Get LATEST driver version for 92.0.4515\n",
      "[WDM] - Driver [/Users/cblanesg/.wdm/drivers/chromedriver/mac64/92.0.4515.107/chromedriver] found in cache\n"
     ]
    },
    {
     "name": "stdout",
     "output_type": "stream",
     "text": [
      " \n"
     ]
    },
    {
     "name": "stderr",
     "output_type": "stream",
     "text": [
      " 43%|████▎     | 487/1130 [42:08<47:26,  4.43s/it][WDM] - Current google-chrome version is 92.0.4515\n",
      "[WDM] - Get LATEST driver version for 92.0.4515\n",
      "[WDM] - Driver [/Users/cblanesg/.wdm/drivers/chromedriver/mac64/92.0.4515.107/chromedriver] found in cache\n"
     ]
    },
    {
     "name": "stdout",
     "output_type": "stream",
     "text": [
      " \n"
     ]
    },
    {
     "name": "stderr",
     "output_type": "stream",
     "text": [
      " 43%|████▎     | 488/1130 [42:13<48:32,  4.54s/it][WDM] - Current google-chrome version is 92.0.4515\n",
      "[WDM] - Get LATEST driver version for 92.0.4515\n",
      "[WDM] - Driver [/Users/cblanesg/.wdm/drivers/chromedriver/mac64/92.0.4515.107/chromedriver] found in cache\n"
     ]
    },
    {
     "name": "stdout",
     "output_type": "stream",
     "text": [
      " \n"
     ]
    },
    {
     "name": "stderr",
     "output_type": "stream",
     "text": [
      " 43%|████▎     | 489/1130 [42:18<48:35,  4.55s/it][WDM] - Current google-chrome version is 92.0.4515\n",
      "[WDM] - Get LATEST driver version for 92.0.4515\n",
      "[WDM] - Driver [/Users/cblanesg/.wdm/drivers/chromedriver/mac64/92.0.4515.107/chromedriver] found in cache\n"
     ]
    },
    {
     "name": "stdout",
     "output_type": "stream",
     "text": [
      " \n"
     ]
    },
    {
     "name": "stderr",
     "output_type": "stream",
     "text": [
      " 43%|████▎     | 490/1130 [42:22<47:41,  4.47s/it][WDM] - Current google-chrome version is 92.0.4515\n",
      "[WDM] - Get LATEST driver version for 92.0.4515\n",
      "[WDM] - Driver [/Users/cblanesg/.wdm/drivers/chromedriver/mac64/92.0.4515.107/chromedriver] found in cache\n"
     ]
    },
    {
     "name": "stdout",
     "output_type": "stream",
     "text": [
      " \n"
     ]
    },
    {
     "name": "stderr",
     "output_type": "stream",
     "text": [
      " 43%|████▎     | 491/1130 [42:27<48:54,  4.59s/it][WDM] - Current google-chrome version is 92.0.4515\n",
      "[WDM] - Get LATEST driver version for 92.0.4515\n",
      "[WDM] - Driver [/Users/cblanesg/.wdm/drivers/chromedriver/mac64/92.0.4515.107/chromedriver] found in cache\n"
     ]
    },
    {
     "name": "stdout",
     "output_type": "stream",
     "text": [
      " \n"
     ]
    },
    {
     "name": "stderr",
     "output_type": "stream",
     "text": [
      " 44%|████▎     | 492/1130 [42:32<48:50,  4.59s/it][WDM] - Current google-chrome version is 92.0.4515\n",
      "[WDM] - Get LATEST driver version for 92.0.4515\n",
      "[WDM] - Driver [/Users/cblanesg/.wdm/drivers/chromedriver/mac64/92.0.4515.107/chromedriver] found in cache\n"
     ]
    },
    {
     "name": "stdout",
     "output_type": "stream",
     "text": [
      " \n"
     ]
    },
    {
     "name": "stderr",
     "output_type": "stream",
     "text": [
      " 44%|████▎     | 493/1130 [42:36<48:20,  4.55s/it][WDM] - Current google-chrome version is 92.0.4515\n",
      "[WDM] - Get LATEST driver version for 92.0.4515\n",
      "[WDM] - Driver [/Users/cblanesg/.wdm/drivers/chromedriver/mac64/92.0.4515.107/chromedriver] found in cache\n"
     ]
    },
    {
     "name": "stdout",
     "output_type": "stream",
     "text": [
      " \n"
     ]
    },
    {
     "name": "stderr",
     "output_type": "stream",
     "text": [
      " 44%|████▎     | 494/1130 [42:41<48:45,  4.60s/it][WDM] - Current google-chrome version is 92.0.4515\n",
      "[WDM] - Get LATEST driver version for 92.0.4515\n",
      "[WDM] - Driver [/Users/cblanesg/.wdm/drivers/chromedriver/mac64/92.0.4515.107/chromedriver] found in cache\n"
     ]
    },
    {
     "name": "stdout",
     "output_type": "stream",
     "text": [
      " \n"
     ]
    },
    {
     "name": "stderr",
     "output_type": "stream",
     "text": [
      " 44%|████▍     | 495/1130 [42:46<49:10,  4.65s/it][WDM] - Current google-chrome version is 92.0.4515\n",
      "[WDM] - Get LATEST driver version for 92.0.4515\n",
      "[WDM] - Driver [/Users/cblanesg/.wdm/drivers/chromedriver/mac64/92.0.4515.107/chromedriver] found in cache\n"
     ]
    },
    {
     "name": "stdout",
     "output_type": "stream",
     "text": [
      " \n"
     ]
    },
    {
     "name": "stderr",
     "output_type": "stream",
     "text": [
      " 44%|████▍     | 496/1130 [42:50<48:24,  4.58s/it][WDM] - Current google-chrome version is 92.0.4515\n",
      "[WDM] - Get LATEST driver version for 92.0.4515\n",
      "[WDM] - Driver [/Users/cblanesg/.wdm/drivers/chromedriver/mac64/92.0.4515.107/chromedriver] found in cache\n"
     ]
    },
    {
     "name": "stdout",
     "output_type": "stream",
     "text": [
      " \n"
     ]
    },
    {
     "name": "stderr",
     "output_type": "stream",
     "text": [
      " 44%|████▍     | 497/1130 [42:54<47:47,  4.53s/it][WDM] - Current google-chrome version is 92.0.4515\n",
      "[WDM] - Get LATEST driver version for 92.0.4515\n",
      "[WDM] - Driver [/Users/cblanesg/.wdm/drivers/chromedriver/mac64/92.0.4515.107/chromedriver] found in cache\n"
     ]
    },
    {
     "name": "stdout",
     "output_type": "stream",
     "text": [
      " \n"
     ]
    },
    {
     "name": "stderr",
     "output_type": "stream",
     "text": [
      " 44%|████▍     | 498/1130 [42:59<47:39,  4.52s/it][WDM] - Current google-chrome version is 92.0.4515\n",
      "[WDM] - Get LATEST driver version for 92.0.4515\n",
      "[WDM] - Driver [/Users/cblanesg/.wdm/drivers/chromedriver/mac64/92.0.4515.107/chromedriver] found in cache\n"
     ]
    },
    {
     "name": "stdout",
     "output_type": "stream",
     "text": [
      " \n"
     ]
    },
    {
     "name": "stderr",
     "output_type": "stream",
     "text": [
      " 44%|████▍     | 499/1130 [43:04<47:59,  4.56s/it][WDM] - Current google-chrome version is 92.0.4515\n",
      "[WDM] - Get LATEST driver version for 92.0.4515\n",
      "[WDM] - Driver [/Users/cblanesg/.wdm/drivers/chromedriver/mac64/92.0.4515.107/chromedriver] found in cache\n"
     ]
    },
    {
     "name": "stdout",
     "output_type": "stream",
     "text": [
      " \n"
     ]
    },
    {
     "name": "stderr",
     "output_type": "stream",
     "text": [
      " 44%|████▍     | 500/1130 [43:08<47:09,  4.49s/it][WDM] - Current google-chrome version is 92.0.4515\n",
      "[WDM] - Get LATEST driver version for 92.0.4515\n",
      "[WDM] - Driver [/Users/cblanesg/.wdm/drivers/chromedriver/mac64/92.0.4515.107/chromedriver] found in cache\n"
     ]
    },
    {
     "name": "stdout",
     "output_type": "stream",
     "text": [
      " \n"
     ]
    },
    {
     "name": "stderr",
     "output_type": "stream",
     "text": [
      " 44%|████▍     | 501/1130 [43:12<46:58,  4.48s/it][WDM] - Current google-chrome version is 92.0.4515\n",
      "[WDM] - Get LATEST driver version for 92.0.4515\n",
      "[WDM] - Driver [/Users/cblanesg/.wdm/drivers/chromedriver/mac64/92.0.4515.107/chromedriver] found in cache\n"
     ]
    },
    {
     "name": "stdout",
     "output_type": "stream",
     "text": [
      " \n"
     ]
    },
    {
     "name": "stderr",
     "output_type": "stream",
     "text": [
      " 44%|████▍     | 502/1130 [43:17<47:08,  4.50s/it][WDM] - Current google-chrome version is 92.0.4515\n",
      "[WDM] - Get LATEST driver version for 92.0.4515\n",
      "[WDM] - Driver [/Users/cblanesg/.wdm/drivers/chromedriver/mac64/92.0.4515.107/chromedriver] found in cache\n"
     ]
    },
    {
     "name": "stdout",
     "output_type": "stream",
     "text": [
      " \n"
     ]
    },
    {
     "name": "stderr",
     "output_type": "stream",
     "text": [
      " 45%|████▍     | 503/1130 [43:21<47:07,  4.51s/it][WDM] - Current google-chrome version is 92.0.4515\n",
      "[WDM] - Get LATEST driver version for 92.0.4515\n",
      "[WDM] - Driver [/Users/cblanesg/.wdm/drivers/chromedriver/mac64/92.0.4515.107/chromedriver] found in cache\n"
     ]
    },
    {
     "name": "stdout",
     "output_type": "stream",
     "text": [
      " \n"
     ]
    },
    {
     "name": "stderr",
     "output_type": "stream",
     "text": [
      " 45%|████▍     | 504/1130 [43:26<46:30,  4.46s/it][WDM] - Current google-chrome version is 92.0.4515\n",
      "[WDM] - Get LATEST driver version for 92.0.4515\n"
     ]
    },
    {
     "name": "stdout",
     "output_type": "stream",
     "text": [
      " \n"
     ]
    },
    {
     "name": "stderr",
     "output_type": "stream",
     "text": [
      "[WDM] - Driver [/Users/cblanesg/.wdm/drivers/chromedriver/mac64/92.0.4515.107/chromedriver] found in cache\n",
      " 45%|████▍     | 505/1130 [43:30<47:11,  4.53s/it][WDM] - Current google-chrome version is 92.0.4515\n",
      "[WDM] - Get LATEST driver version for 92.0.4515\n",
      "[WDM] - Driver [/Users/cblanesg/.wdm/drivers/chromedriver/mac64/92.0.4515.107/chromedriver] found in cache\n"
     ]
    },
    {
     "name": "stdout",
     "output_type": "stream",
     "text": [
      " \n"
     ]
    },
    {
     "name": "stderr",
     "output_type": "stream",
     "text": [
      " 45%|████▍     | 506/1130 [43:35<45:52,  4.41s/it][WDM] - Current google-chrome version is 92.0.4515\n",
      "[WDM] - Get LATEST driver version for 92.0.4515\n",
      "[WDM] - Driver [/Users/cblanesg/.wdm/drivers/chromedriver/mac64/92.0.4515.107/chromedriver] found in cache\n"
     ]
    },
    {
     "name": "stdout",
     "output_type": "stream",
     "text": [
      " \n"
     ]
    },
    {
     "name": "stderr",
     "output_type": "stream",
     "text": [
      " 45%|████▍     | 507/1130 [43:39<45:05,  4.34s/it][WDM] - Current google-chrome version is 92.0.4515\n",
      "[WDM] - Get LATEST driver version for 92.0.4515\n",
      "[WDM] - Driver [/Users/cblanesg/.wdm/drivers/chromedriver/mac64/92.0.4515.107/chromedriver] found in cache\n"
     ]
    },
    {
     "name": "stdout",
     "output_type": "stream",
     "text": [
      " \n"
     ]
    },
    {
     "name": "stderr",
     "output_type": "stream",
     "text": [
      " 45%|████▍     | 508/1130 [43:43<46:00,  4.44s/it][WDM] - Current google-chrome version is 92.0.4515\n",
      "[WDM] - Get LATEST driver version for 92.0.4515\n",
      "[WDM] - Driver [/Users/cblanesg/.wdm/drivers/chromedriver/mac64/92.0.4515.107/chromedriver] found in cache\n"
     ]
    },
    {
     "name": "stdout",
     "output_type": "stream",
     "text": [
      " \n"
     ]
    },
    {
     "name": "stderr",
     "output_type": "stream",
     "text": [
      " 45%|████▌     | 509/1130 [43:48<46:27,  4.49s/it][WDM] - Current google-chrome version is 92.0.4515\n",
      "[WDM] - Get LATEST driver version for 92.0.4515\n",
      "[WDM] - Driver [/Users/cblanesg/.wdm/drivers/chromedriver/mac64/92.0.4515.107/chromedriver] found in cache\n"
     ]
    },
    {
     "name": "stdout",
     "output_type": "stream",
     "text": [
      " \n"
     ]
    },
    {
     "name": "stderr",
     "output_type": "stream",
     "text": [
      " 45%|████▌     | 510/1130 [43:52<46:17,  4.48s/it][WDM] - Current google-chrome version is 92.0.4515\n",
      "[WDM] - Get LATEST driver version for 92.0.4515\n",
      "[WDM] - Driver [/Users/cblanesg/.wdm/drivers/chromedriver/mac64/92.0.4515.107/chromedriver] found in cache\n"
     ]
    },
    {
     "name": "stdout",
     "output_type": "stream",
     "text": [
      " \n"
     ]
    },
    {
     "name": "stderr",
     "output_type": "stream",
     "text": [
      " 45%|████▌     | 511/1130 [43:57<46:57,  4.55s/it][WDM] - Current google-chrome version is 92.0.4515\n",
      "[WDM] - Get LATEST driver version for 92.0.4515\n",
      "[WDM] - Driver [/Users/cblanesg/.wdm/drivers/chromedriver/mac64/92.0.4515.107/chromedriver] found in cache\n"
     ]
    },
    {
     "name": "stdout",
     "output_type": "stream",
     "text": [
      " \n"
     ]
    },
    {
     "name": "stderr",
     "output_type": "stream",
     "text": [
      " 45%|████▌     | 512/1130 [44:02<48:03,  4.67s/it][WDM] - Current google-chrome version is 92.0.4515\n",
      "[WDM] - Get LATEST driver version for 92.0.4515\n",
      "[WDM] - Driver [/Users/cblanesg/.wdm/drivers/chromedriver/mac64/92.0.4515.107/chromedriver] found in cache\n"
     ]
    },
    {
     "name": "stdout",
     "output_type": "stream",
     "text": [
      " \n"
     ]
    },
    {
     "name": "stderr",
     "output_type": "stream",
     "text": [
      " 45%|████▌     | 513/1130 [44:06<46:53,  4.56s/it][WDM] - Current google-chrome version is 92.0.4515\n",
      "[WDM] - Get LATEST driver version for 92.0.4515\n",
      "[WDM] - Driver [/Users/cblanesg/.wdm/drivers/chromedriver/mac64/92.0.4515.107/chromedriver] found in cache\n"
     ]
    },
    {
     "name": "stdout",
     "output_type": "stream",
     "text": [
      " \n"
     ]
    },
    {
     "name": "stderr",
     "output_type": "stream",
     "text": [
      " 45%|████▌     | 514/1130 [44:12<48:31,  4.73s/it][WDM] - Current google-chrome version is 92.0.4515\n",
      "[WDM] - Get LATEST driver version for 92.0.4515\n",
      "[WDM] - Driver [/Users/cblanesg/.wdm/drivers/chromedriver/mac64/92.0.4515.107/chromedriver] found in cache\n"
     ]
    },
    {
     "name": "stdout",
     "output_type": "stream",
     "text": [
      " \n"
     ]
    },
    {
     "name": "stderr",
     "output_type": "stream",
     "text": [
      " 46%|████▌     | 515/1130 [44:17<50:05,  4.89s/it][WDM] - Current google-chrome version is 92.0.4515\n",
      "[WDM] - Get LATEST driver version for 92.0.4515\n",
      "[WDM] - Driver [/Users/cblanesg/.wdm/drivers/chromedriver/mac64/92.0.4515.107/chromedriver] found in cache\n"
     ]
    },
    {
     "name": "stdout",
     "output_type": "stream",
     "text": [
      " \n"
     ]
    },
    {
     "name": "stderr",
     "output_type": "stream",
     "text": [
      " 46%|████▌     | 516/1130 [44:22<50:09,  4.90s/it][WDM] - Current google-chrome version is 92.0.4515\n",
      "[WDM] - Get LATEST driver version for 92.0.4515\n",
      "[WDM] - Driver [/Users/cblanesg/.wdm/drivers/chromedriver/mac64/92.0.4515.107/chromedriver] found in cache\n"
     ]
    },
    {
     "name": "stdout",
     "output_type": "stream",
     "text": [
      " \n"
     ]
    },
    {
     "name": "stderr",
     "output_type": "stream",
     "text": [
      " 46%|████▌     | 517/1130 [44:27<50:31,  4.95s/it][WDM] - Current google-chrome version is 92.0.4515\n",
      "[WDM] - Get LATEST driver version for 92.0.4515\n",
      "[WDM] - Driver [/Users/cblanesg/.wdm/drivers/chromedriver/mac64/92.0.4515.107/chromedriver] found in cache\n"
     ]
    },
    {
     "name": "stdout",
     "output_type": "stream",
     "text": [
      " \n"
     ]
    },
    {
     "name": "stderr",
     "output_type": "stream",
     "text": [
      " 46%|████▌     | 518/1130 [44:32<52:00,  5.10s/it][WDM] - Current google-chrome version is 92.0.4515\n",
      "[WDM] - Get LATEST driver version for 92.0.4515\n",
      "[WDM] - Driver [/Users/cblanesg/.wdm/drivers/chromedriver/mac64/92.0.4515.107/chromedriver] found in cache\n"
     ]
    },
    {
     "name": "stdout",
     "output_type": "stream",
     "text": [
      " \n"
     ]
    },
    {
     "name": "stderr",
     "output_type": "stream",
     "text": [
      " 46%|████▌     | 519/1130 [44:37<51:58,  5.10s/it][WDM] - Current google-chrome version is 92.0.4515\n",
      "[WDM] - Get LATEST driver version for 92.0.4515\n",
      "[WDM] - Driver [/Users/cblanesg/.wdm/drivers/chromedriver/mac64/92.0.4515.107/chromedriver] found in cache\n"
     ]
    },
    {
     "name": "stdout",
     "output_type": "stream",
     "text": [
      " \n"
     ]
    },
    {
     "name": "stderr",
     "output_type": "stream",
     "text": [
      " 46%|████▌     | 520/1130 [44:43<52:21,  5.15s/it][WDM] - Current google-chrome version is 92.0.4515\n",
      "[WDM] - Get LATEST driver version for 92.0.4515\n",
      "[WDM] - Driver [/Users/cblanesg/.wdm/drivers/chromedriver/mac64/92.0.4515.107/chromedriver] found in cache\n"
     ]
    },
    {
     "name": "stdout",
     "output_type": "stream",
     "text": [
      " \n"
     ]
    },
    {
     "name": "stderr",
     "output_type": "stream",
     "text": [
      " 46%|████▌     | 521/1130 [44:48<52:21,  5.16s/it][WDM] - Current google-chrome version is 92.0.4515\n",
      "[WDM] - Get LATEST driver version for 92.0.4515\n",
      "[WDM] - Driver [/Users/cblanesg/.wdm/drivers/chromedriver/mac64/92.0.4515.107/chromedriver] found in cache\n"
     ]
    },
    {
     "name": "stdout",
     "output_type": "stream",
     "text": [
      " \n"
     ]
    },
    {
     "name": "stderr",
     "output_type": "stream",
     "text": [
      " 46%|████▌     | 522/1130 [44:52<49:52,  4.92s/it][WDM] - Current google-chrome version is 92.0.4515\n",
      "[WDM] - Get LATEST driver version for 92.0.4515\n",
      "[WDM] - Driver [/Users/cblanesg/.wdm/drivers/chromedriver/mac64/92.0.4515.107/chromedriver] found in cache\n"
     ]
    },
    {
     "name": "stdout",
     "output_type": "stream",
     "text": [
      " \n"
     ]
    },
    {
     "name": "stderr",
     "output_type": "stream",
     "text": [
      " 46%|████▋     | 523/1130 [44:57<50:13,  4.97s/it][WDM] - Current google-chrome version is 92.0.4515\n",
      "[WDM] - Get LATEST driver version for 92.0.4515\n",
      "[WDM] - Driver [/Users/cblanesg/.wdm/drivers/chromedriver/mac64/92.0.4515.107/chromedriver] found in cache\n"
     ]
    },
    {
     "name": "stdout",
     "output_type": "stream",
     "text": [
      " \n"
     ]
    },
    {
     "name": "stderr",
     "output_type": "stream",
     "text": [
      " 46%|████▋     | 524/1130 [45:02<49:20,  4.89s/it][WDM] - Current google-chrome version is 92.0.4515\n",
      "[WDM] - Get LATEST driver version for 92.0.4515\n",
      "[WDM] - Driver [/Users/cblanesg/.wdm/drivers/chromedriver/mac64/92.0.4515.107/chromedriver] found in cache\n"
     ]
    },
    {
     "name": "stdout",
     "output_type": "stream",
     "text": [
      " \n"
     ]
    },
    {
     "name": "stderr",
     "output_type": "stream",
     "text": [
      " 46%|████▋     | 525/1130 [45:07<50:54,  5.05s/it][WDM] - Current google-chrome version is 92.0.4515\n",
      "[WDM] - Get LATEST driver version for 92.0.4515\n",
      "[WDM] - Driver [/Users/cblanesg/.wdm/drivers/chromedriver/mac64/92.0.4515.107/chromedriver] found in cache\n"
     ]
    },
    {
     "name": "stdout",
     "output_type": "stream",
     "text": [
      " \n"
     ]
    },
    {
     "name": "stderr",
     "output_type": "stream",
     "text": [
      " 47%|████▋     | 526/1130 [45:12<50:46,  5.04s/it][WDM] - Current google-chrome version is 92.0.4515\n",
      "[WDM] - Get LATEST driver version for 92.0.4515\n",
      "[WDM] - Driver [/Users/cblanesg/.wdm/drivers/chromedriver/mac64/92.0.4515.107/chromedriver] found in cache\n"
     ]
    },
    {
     "name": "stdout",
     "output_type": "stream",
     "text": [
      " \n"
     ]
    },
    {
     "name": "stderr",
     "output_type": "stream",
     "text": [
      " 47%|████▋     | 527/1130 [45:17<49:47,  4.95s/it][WDM] - Current google-chrome version is 92.0.4515\n",
      "[WDM] - Get LATEST driver version for 92.0.4515\n",
      "[WDM] - Driver [/Users/cblanesg/.wdm/drivers/chromedriver/mac64/92.0.4515.107/chromedriver] found in cache\n"
     ]
    },
    {
     "name": "stdout",
     "output_type": "stream",
     "text": [
      " \n"
     ]
    },
    {
     "name": "stderr",
     "output_type": "stream",
     "text": [
      " 47%|████▋     | 528/1130 [45:22<48:49,  4.87s/it][WDM] - Current google-chrome version is 92.0.4515\n",
      "[WDM] - Get LATEST driver version for 92.0.4515\n",
      "[WDM] - Driver [/Users/cblanesg/.wdm/drivers/chromedriver/mac64/92.0.4515.107/chromedriver] found in cache\n"
     ]
    },
    {
     "name": "stdout",
     "output_type": "stream",
     "text": [
      " \n"
     ]
    },
    {
     "name": "stderr",
     "output_type": "stream",
     "text": [
      " 47%|████▋     | 529/1130 [45:26<47:31,  4.74s/it][WDM] - Current google-chrome version is 92.0.4515\n",
      "[WDM] - Get LATEST driver version for 92.0.4515\n",
      "[WDM] - Driver [/Users/cblanesg/.wdm/drivers/chromedriver/mac64/92.0.4515.107/chromedriver] found in cache\n"
     ]
    },
    {
     "name": "stdout",
     "output_type": "stream",
     "text": [
      " \n"
     ]
    },
    {
     "name": "stderr",
     "output_type": "stream",
     "text": [
      " 47%|████▋     | 530/1130 [45:31<46:22,  4.64s/it][WDM] - Current google-chrome version is 92.0.4515\n",
      "[WDM] - Get LATEST driver version for 92.0.4515\n",
      "[WDM] - Driver [/Users/cblanesg/.wdm/drivers/chromedriver/mac64/92.0.4515.107/chromedriver] found in cache\n"
     ]
    },
    {
     "name": "stdout",
     "output_type": "stream",
     "text": [
      " \n"
     ]
    },
    {
     "name": "stderr",
     "output_type": "stream",
     "text": [
      " 47%|████▋     | 531/1130 [45:35<45:45,  4.58s/it][WDM] - Current google-chrome version is 92.0.4515\n",
      "[WDM] - Get LATEST driver version for 92.0.4515\n",
      "[WDM] - Driver [/Users/cblanesg/.wdm/drivers/chromedriver/mac64/92.0.4515.107/chromedriver] found in cache\n"
     ]
    },
    {
     "name": "stdout",
     "output_type": "stream",
     "text": [
      " \n"
     ]
    },
    {
     "name": "stderr",
     "output_type": "stream",
     "text": [
      " 47%|████▋     | 532/1130 [45:39<44:20,  4.45s/it][WDM] - Current google-chrome version is 92.0.4515\n",
      "[WDM] - Get LATEST driver version for 92.0.4515\n",
      "[WDM] - Driver [/Users/cblanesg/.wdm/drivers/chromedriver/mac64/92.0.4515.107/chromedriver] found in cache\n"
     ]
    },
    {
     "name": "stdout",
     "output_type": "stream",
     "text": [
      " \n"
     ]
    },
    {
     "name": "stderr",
     "output_type": "stream",
     "text": [
      " 47%|████▋     | 533/1130 [45:43<42:59,  4.32s/it][WDM] - Current google-chrome version is 92.0.4515\n",
      "[WDM] - Get LATEST driver version for 92.0.4515\n",
      "[WDM] - Driver [/Users/cblanesg/.wdm/drivers/chromedriver/mac64/92.0.4515.107/chromedriver] found in cache\n"
     ]
    },
    {
     "name": "stdout",
     "output_type": "stream",
     "text": [
      " \n"
     ]
    },
    {
     "name": "stderr",
     "output_type": "stream",
     "text": [
      " 47%|████▋     | 534/1130 [45:48<42:52,  4.32s/it][WDM] - Current google-chrome version is 92.0.4515\n",
      "[WDM] - Get LATEST driver version for 92.0.4515\n",
      "[WDM] - Driver [/Users/cblanesg/.wdm/drivers/chromedriver/mac64/92.0.4515.107/chromedriver] found in cache\n"
     ]
    },
    {
     "name": "stdout",
     "output_type": "stream",
     "text": [
      " \n"
     ]
    },
    {
     "name": "stderr",
     "output_type": "stream",
     "text": [
      " 47%|████▋     | 535/1130 [45:52<44:18,  4.47s/it][WDM] - Current google-chrome version is 92.0.4515\n",
      "[WDM] - Get LATEST driver version for 92.0.4515\n",
      "[WDM] - Driver [/Users/cblanesg/.wdm/drivers/chromedriver/mac64/92.0.4515.107/chromedriver] found in cache\n"
     ]
    },
    {
     "name": "stdout",
     "output_type": "stream",
     "text": [
      " \n"
     ]
    },
    {
     "name": "stderr",
     "output_type": "stream",
     "text": [
      " 47%|████▋     | 536/1130 [45:58<47:08,  4.76s/it][WDM] - Current google-chrome version is 92.0.4515\n",
      "[WDM] - Get LATEST driver version for 92.0.4515\n",
      "[WDM] - Driver [/Users/cblanesg/.wdm/drivers/chromedriver/mac64/92.0.4515.107/chromedriver] found in cache\n"
     ]
    },
    {
     "name": "stdout",
     "output_type": "stream",
     "text": [
      " \n"
     ]
    },
    {
     "name": "stderr",
     "output_type": "stream",
     "text": [
      " 48%|████▊     | 537/1130 [46:03<47:52,  4.84s/it][WDM] - Current google-chrome version is 92.0.4515\n",
      "[WDM] - Get LATEST driver version for 92.0.4515\n",
      "[WDM] - Driver [/Users/cblanesg/.wdm/drivers/chromedriver/mac64/92.0.4515.107/chromedriver] found in cache\n"
     ]
    },
    {
     "name": "stdout",
     "output_type": "stream",
     "text": [
      " \n"
     ]
    },
    {
     "name": "stderr",
     "output_type": "stream",
     "text": [
      " 48%|████▊     | 538/1130 [46:08<48:41,  4.93s/it][WDM] - Current google-chrome version is 92.0.4515\n",
      "[WDM] - Get LATEST driver version for 92.0.4515\n",
      "[WDM] - Driver [/Users/cblanesg/.wdm/drivers/chromedriver/mac64/92.0.4515.107/chromedriver] found in cache\n"
     ]
    },
    {
     "name": "stdout",
     "output_type": "stream",
     "text": [
      " \n"
     ]
    },
    {
     "name": "stderr",
     "output_type": "stream",
     "text": [
      " 48%|████▊     | 539/1130 [46:13<50:08,  5.09s/it][WDM] - Current google-chrome version is 92.0.4515\n",
      "[WDM] - Get LATEST driver version for 92.0.4515\n",
      "[WDM] - Driver [/Users/cblanesg/.wdm/drivers/chromedriver/mac64/92.0.4515.107/chromedriver] found in cache\n"
     ]
    },
    {
     "name": "stdout",
     "output_type": "stream",
     "text": [
      " \n"
     ]
    },
    {
     "name": "stderr",
     "output_type": "stream",
     "text": [
      " 48%|████▊     | 540/1130 [46:19<51:31,  5.24s/it][WDM] - Current google-chrome version is 92.0.4515\n",
      "[WDM] - Get LATEST driver version for 92.0.4515\n",
      "[WDM] - Driver [/Users/cblanesg/.wdm/drivers/chromedriver/mac64/92.0.4515.107/chromedriver] found in cache\n"
     ]
    },
    {
     "name": "stdout",
     "output_type": "stream",
     "text": [
      " \n"
     ]
    },
    {
     "name": "stderr",
     "output_type": "stream",
     "text": [
      " 48%|████▊     | 541/1130 [46:24<49:08,  5.01s/it][WDM] - Current google-chrome version is 92.0.4515\n",
      "[WDM] - Get LATEST driver version for 92.0.4515\n",
      "[WDM] - Driver [/Users/cblanesg/.wdm/drivers/chromedriver/mac64/92.0.4515.107/chromedriver] found in cache\n"
     ]
    },
    {
     "name": "stdout",
     "output_type": "stream",
     "text": [
      " \n"
     ]
    },
    {
     "name": "stderr",
     "output_type": "stream",
     "text": [
      " 48%|████▊     | 542/1130 [46:29<49:27,  5.05s/it][WDM] - Current google-chrome version is 92.0.4515\n",
      "[WDM] - Get LATEST driver version for 92.0.4515\n",
      "[WDM] - Driver [/Users/cblanesg/.wdm/drivers/chromedriver/mac64/92.0.4515.107/chromedriver] found in cache\n"
     ]
    },
    {
     "name": "stdout",
     "output_type": "stream",
     "text": [
      " \n"
     ]
    },
    {
     "name": "stderr",
     "output_type": "stream",
     "text": [
      " 48%|████▊     | 543/1130 [46:34<49:20,  5.04s/it][WDM] - Current google-chrome version is 92.0.4515\n",
      "[WDM] - Get LATEST driver version for 92.0.4515\n",
      "[WDM] - Driver [/Users/cblanesg/.wdm/drivers/chromedriver/mac64/92.0.4515.107/chromedriver] found in cache\n"
     ]
    },
    {
     "name": "stdout",
     "output_type": "stream",
     "text": [
      " \n"
     ]
    },
    {
     "name": "stderr",
     "output_type": "stream",
     "text": [
      " 48%|████▊     | 544/1130 [46:40<53:29,  5.48s/it][WDM] - Current google-chrome version is 92.0.4515\n",
      "[WDM] - Get LATEST driver version for 92.0.4515\n",
      "[WDM] - Driver [/Users/cblanesg/.wdm/drivers/chromedriver/mac64/92.0.4515.107/chromedriver] found in cache\n"
     ]
    },
    {
     "name": "stdout",
     "output_type": "stream",
     "text": [
      " \n"
     ]
    },
    {
     "name": "stderr",
     "output_type": "stream",
     "text": [
      " 48%|████▊     | 545/1130 [46:46<53:55,  5.53s/it][WDM] - Current google-chrome version is 92.0.4515\n",
      "[WDM] - Get LATEST driver version for 92.0.4515\n",
      "[WDM] - Driver [/Users/cblanesg/.wdm/drivers/chromedriver/mac64/92.0.4515.107/chromedriver] found in cache\n"
     ]
    },
    {
     "name": "stdout",
     "output_type": "stream",
     "text": [
      " \n"
     ]
    },
    {
     "name": "stderr",
     "output_type": "stream",
     "text": [
      " 48%|████▊     | 546/1130 [46:52<56:16,  5.78s/it][WDM] - Current google-chrome version is 92.0.4515\n",
      "[WDM] - Get LATEST driver version for 92.0.4515\n",
      "[WDM] - Driver [/Users/cblanesg/.wdm/drivers/chromedriver/mac64/92.0.4515.107/chromedriver] found in cache\n"
     ]
    },
    {
     "name": "stdout",
     "output_type": "stream",
     "text": [
      " \n"
     ]
    },
    {
     "name": "stderr",
     "output_type": "stream",
     "text": [
      " 48%|████▊     | 547/1130 [46:58<55:10,  5.68s/it][WDM] - Current google-chrome version is 92.0.4515\n",
      "[WDM] - Get LATEST driver version for 92.0.4515\n",
      "[WDM] - Driver [/Users/cblanesg/.wdm/drivers/chromedriver/mac64/92.0.4515.107/chromedriver] found in cache\n"
     ]
    },
    {
     "name": "stdout",
     "output_type": "stream",
     "text": [
      " \n"
     ]
    },
    {
     "name": "stderr",
     "output_type": "stream",
     "text": [
      " 48%|████▊     | 548/1130 [47:03<53:53,  5.56s/it][WDM] - Current google-chrome version is 92.0.4515\n",
      "[WDM] - Get LATEST driver version for 92.0.4515\n",
      "[WDM] - Driver [/Users/cblanesg/.wdm/drivers/chromedriver/mac64/92.0.4515.107/chromedriver] found in cache\n"
     ]
    },
    {
     "name": "stdout",
     "output_type": "stream",
     "text": [
      " \n"
     ]
    },
    {
     "name": "stderr",
     "output_type": "stream",
     "text": [
      " 49%|████▊     | 549/1130 [47:08<52:12,  5.39s/it][WDM] - Current google-chrome version is 92.0.4515\n",
      "[WDM] - Get LATEST driver version for 92.0.4515\n",
      "[WDM] - Driver [/Users/cblanesg/.wdm/drivers/chromedriver/mac64/92.0.4515.107/chromedriver] found in cache\n"
     ]
    },
    {
     "name": "stdout",
     "output_type": "stream",
     "text": [
      " \n"
     ]
    },
    {
     "name": "stderr",
     "output_type": "stream",
     "text": [
      " 49%|████▊     | 550/1130 [47:14<52:54,  5.47s/it][WDM] - Current google-chrome version is 92.0.4515\n",
      "[WDM] - Get LATEST driver version for 92.0.4515\n",
      "[WDM] - Driver [/Users/cblanesg/.wdm/drivers/chromedriver/mac64/92.0.4515.107/chromedriver] found in cache\n"
     ]
    },
    {
     "name": "stdout",
     "output_type": "stream",
     "text": [
      " \n"
     ]
    },
    {
     "name": "stderr",
     "output_type": "stream",
     "text": [
      " 49%|████▉     | 551/1130 [47:19<52:32,  5.45s/it][WDM] - Current google-chrome version is 92.0.4515\n",
      "[WDM] - Get LATEST driver version for 92.0.4515\n",
      "[WDM] - Driver [/Users/cblanesg/.wdm/drivers/chromedriver/mac64/92.0.4515.107/chromedriver] found in cache\n"
     ]
    },
    {
     "name": "stdout",
     "output_type": "stream",
     "text": [
      " \n"
     ]
    },
    {
     "name": "stderr",
     "output_type": "stream",
     "text": [
      " 49%|████▉     | 552/1130 [47:24<51:40,  5.36s/it][WDM] - Current google-chrome version is 92.0.4515\n",
      "[WDM] - Get LATEST driver version for 92.0.4515\n",
      "[WDM] - Driver [/Users/cblanesg/.wdm/drivers/chromedriver/mac64/92.0.4515.107/chromedriver] found in cache\n"
     ]
    },
    {
     "name": "stdout",
     "output_type": "stream",
     "text": [
      " \n"
     ]
    },
    {
     "name": "stderr",
     "output_type": "stream",
     "text": [
      " 49%|████▉     | 553/1130 [47:29<51:30,  5.36s/it][WDM] - Current google-chrome version is 92.0.4515\n",
      "[WDM] - Get LATEST driver version for 92.0.4515\n",
      "[WDM] - Driver [/Users/cblanesg/.wdm/drivers/chromedriver/mac64/92.0.4515.107/chromedriver] found in cache\n"
     ]
    },
    {
     "name": "stdout",
     "output_type": "stream",
     "text": [
      " \n"
     ]
    },
    {
     "name": "stderr",
     "output_type": "stream",
     "text": [
      " 49%|████▉     | 554/1130 [47:35<51:25,  5.36s/it][WDM] - Current google-chrome version is 92.0.4515\n",
      "[WDM] - Get LATEST driver version for 92.0.4515\n",
      "[WDM] - Driver [/Users/cblanesg/.wdm/drivers/chromedriver/mac64/92.0.4515.107/chromedriver] found in cache\n"
     ]
    },
    {
     "name": "stdout",
     "output_type": "stream",
     "text": [
      " \n"
     ]
    },
    {
     "name": "stderr",
     "output_type": "stream",
     "text": [
      " 49%|████▉     | 555/1130 [47:41<52:26,  5.47s/it][WDM] - Current google-chrome version is 92.0.4515\n",
      "[WDM] - Get LATEST driver version for 92.0.4515\n",
      "[WDM] - Driver [/Users/cblanesg/.wdm/drivers/chromedriver/mac64/92.0.4515.107/chromedriver] found in cache\n"
     ]
    },
    {
     "name": "stdout",
     "output_type": "stream",
     "text": [
      " \n"
     ]
    },
    {
     "name": "stderr",
     "output_type": "stream",
     "text": [
      " 49%|████▉     | 556/1130 [47:46<52:05,  5.45s/it][WDM] - Current google-chrome version is 92.0.4515\n",
      "[WDM] - Get LATEST driver version for 92.0.4515\n",
      "[WDM] - Driver [/Users/cblanesg/.wdm/drivers/chromedriver/mac64/92.0.4515.107/chromedriver] found in cache\n"
     ]
    },
    {
     "name": "stdout",
     "output_type": "stream",
     "text": [
      " \n"
     ]
    },
    {
     "name": "stderr",
     "output_type": "stream",
     "text": [
      " 49%|████▉     | 557/1130 [47:51<51:30,  5.39s/it][WDM] - Current google-chrome version is 92.0.4515\n",
      "[WDM] - Get LATEST driver version for 92.0.4515\n",
      "[WDM] - Driver [/Users/cblanesg/.wdm/drivers/chromedriver/mac64/92.0.4515.107/chromedriver] found in cache\n"
     ]
    },
    {
     "name": "stdout",
     "output_type": "stream",
     "text": [
      " \n"
     ]
    },
    {
     "name": "stderr",
     "output_type": "stream",
     "text": [
      " 49%|████▉     | 558/1130 [47:56<50:46,  5.33s/it][WDM] - Current google-chrome version is 92.0.4515\n",
      "[WDM] - Get LATEST driver version for 92.0.4515\n",
      "[WDM] - Driver [/Users/cblanesg/.wdm/drivers/chromedriver/mac64/92.0.4515.107/chromedriver] found in cache\n"
     ]
    },
    {
     "name": "stdout",
     "output_type": "stream",
     "text": [
      " \n"
     ]
    },
    {
     "name": "stderr",
     "output_type": "stream",
     "text": [
      " 49%|████▉     | 559/1130 [48:02<51:21,  5.40s/it][WDM] - Current google-chrome version is 92.0.4515\n",
      "[WDM] - Get LATEST driver version for 92.0.4515\n",
      "[WDM] - Driver [/Users/cblanesg/.wdm/drivers/chromedriver/mac64/92.0.4515.107/chromedriver] found in cache\n"
     ]
    },
    {
     "name": "stdout",
     "output_type": "stream",
     "text": [
      " \n"
     ]
    },
    {
     "name": "stderr",
     "output_type": "stream",
     "text": [
      " 50%|████▉     | 560/1130 [48:07<50:59,  5.37s/it][WDM] - Current google-chrome version is 92.0.4515\n",
      "[WDM] - Get LATEST driver version for 92.0.4515\n",
      "[WDM] - Driver [/Users/cblanesg/.wdm/drivers/chromedriver/mac64/92.0.4515.107/chromedriver] found in cache\n"
     ]
    },
    {
     "name": "stdout",
     "output_type": "stream",
     "text": [
      " \n"
     ]
    },
    {
     "name": "stderr",
     "output_type": "stream",
     "text": [
      " 50%|████▉     | 561/1130 [48:13<52:05,  5.49s/it][WDM] - Current google-chrome version is 92.0.4515\n",
      "[WDM] - Get LATEST driver version for 92.0.4515\n",
      "[WDM] - Driver [/Users/cblanesg/.wdm/drivers/chromedriver/mac64/92.0.4515.107/chromedriver] found in cache\n"
     ]
    },
    {
     "name": "stdout",
     "output_type": "stream",
     "text": [
      " \n"
     ]
    },
    {
     "name": "stderr",
     "output_type": "stream",
     "text": [
      " 50%|████▉     | 562/1130 [48:19<52:09,  5.51s/it][WDM] - Current google-chrome version is 92.0.4515\n",
      "[WDM] - Get LATEST driver version for 92.0.4515\n",
      "[WDM] - Driver [/Users/cblanesg/.wdm/drivers/chromedriver/mac64/92.0.4515.107/chromedriver] found in cache\n"
     ]
    },
    {
     "name": "stdout",
     "output_type": "stream",
     "text": [
      " \n"
     ]
    },
    {
     "name": "stderr",
     "output_type": "stream",
     "text": [
      " 50%|████▉     | 563/1130 [48:24<51:57,  5.50s/it][WDM] - Current google-chrome version is 92.0.4515\n",
      "[WDM] - Get LATEST driver version for 92.0.4515\n",
      "[WDM] - Driver [/Users/cblanesg/.wdm/drivers/chromedriver/mac64/92.0.4515.107/chromedriver] found in cache\n"
     ]
    },
    {
     "name": "stdout",
     "output_type": "stream",
     "text": [
      " \n"
     ]
    },
    {
     "name": "stderr",
     "output_type": "stream",
     "text": [
      " 50%|████▉     | 564/1130 [48:30<52:14,  5.54s/it][WDM] - Current google-chrome version is 92.0.4515\n",
      "[WDM] - Get LATEST driver version for 92.0.4515\n",
      "[WDM] - Driver [/Users/cblanesg/.wdm/drivers/chromedriver/mac64/92.0.4515.107/chromedriver] found in cache\n"
     ]
    },
    {
     "name": "stdout",
     "output_type": "stream",
     "text": [
      " \n"
     ]
    },
    {
     "name": "stderr",
     "output_type": "stream",
     "text": [
      " 50%|█████     | 565/1130 [48:35<51:30,  5.47s/it][WDM] - Current google-chrome version is 92.0.4515\n",
      "[WDM] - Get LATEST driver version for 92.0.4515\n",
      "[WDM] - Driver [/Users/cblanesg/.wdm/drivers/chromedriver/mac64/92.0.4515.107/chromedriver] found in cache\n"
     ]
    },
    {
     "name": "stdout",
     "output_type": "stream",
     "text": [
      " \n"
     ]
    },
    {
     "name": "stderr",
     "output_type": "stream",
     "text": [
      " 50%|█████     | 566/1130 [48:40<51:01,  5.43s/it][WDM] - Current google-chrome version is 92.0.4515\n",
      "[WDM] - Get LATEST driver version for 92.0.4515\n",
      "[WDM] - Driver [/Users/cblanesg/.wdm/drivers/chromedriver/mac64/92.0.4515.107/chromedriver] found in cache\n"
     ]
    },
    {
     "name": "stdout",
     "output_type": "stream",
     "text": [
      " \n"
     ]
    },
    {
     "name": "stderr",
     "output_type": "stream",
     "text": [
      " 50%|█████     | 567/1130 [48:46<50:46,  5.41s/it][WDM] - Current google-chrome version is 92.0.4515\n",
      "[WDM] - Get LATEST driver version for 92.0.4515\n",
      "[WDM] - Driver [/Users/cblanesg/.wdm/drivers/chromedriver/mac64/92.0.4515.107/chromedriver] found in cache\n"
     ]
    },
    {
     "name": "stdout",
     "output_type": "stream",
     "text": [
      " \n"
     ]
    },
    {
     "name": "stderr",
     "output_type": "stream",
     "text": [
      " 50%|█████     | 568/1130 [48:51<50:42,  5.41s/it][WDM] - Current google-chrome version is 92.0.4515\n",
      "[WDM] - Get LATEST driver version for 92.0.4515\n",
      "[WDM] - Driver [/Users/cblanesg/.wdm/drivers/chromedriver/mac64/92.0.4515.107/chromedriver] found in cache\n"
     ]
    },
    {
     "name": "stdout",
     "output_type": "stream",
     "text": [
      " \n"
     ]
    },
    {
     "name": "stderr",
     "output_type": "stream",
     "text": [
      " 50%|█████     | 569/1130 [48:56<50:13,  5.37s/it][WDM] - Current google-chrome version is 92.0.4515\n",
      "[WDM] - Get LATEST driver version for 92.0.4515\n",
      "[WDM] - Driver [/Users/cblanesg/.wdm/drivers/chromedriver/mac64/92.0.4515.107/chromedriver] found in cache\n"
     ]
    },
    {
     "name": "stdout",
     "output_type": "stream",
     "text": [
      " \n"
     ]
    },
    {
     "name": "stderr",
     "output_type": "stream",
     "text": [
      " 50%|█████     | 570/1130 [49:02<51:43,  5.54s/it][WDM] - Current google-chrome version is 92.0.4515\n",
      "[WDM] - Get LATEST driver version for 92.0.4515\n",
      "[WDM] - Driver [/Users/cblanesg/.wdm/drivers/chromedriver/mac64/92.0.4515.107/chromedriver] found in cache\n"
     ]
    },
    {
     "name": "stdout",
     "output_type": "stream",
     "text": [
      " \n"
     ]
    },
    {
     "name": "stderr",
     "output_type": "stream",
     "text": [
      " 51%|█████     | 571/1130 [49:08<51:19,  5.51s/it][WDM] - Current google-chrome version is 92.0.4515\n",
      "[WDM] - Get LATEST driver version for 92.0.4515\n",
      "[WDM] - Driver [/Users/cblanesg/.wdm/drivers/chromedriver/mac64/92.0.4515.107/chromedriver] found in cache\n"
     ]
    },
    {
     "name": "stdout",
     "output_type": "stream",
     "text": [
      " \n"
     ]
    },
    {
     "name": "stderr",
     "output_type": "stream",
     "text": [
      " 51%|█████     | 572/1130 [49:13<51:23,  5.53s/it][WDM] - Current google-chrome version is 92.0.4515\n",
      "[WDM] - Get LATEST driver version for 92.0.4515\n",
      "[WDM] - Driver [/Users/cblanesg/.wdm/drivers/chromedriver/mac64/92.0.4515.107/chromedriver] found in cache\n"
     ]
    },
    {
     "name": "stdout",
     "output_type": "stream",
     "text": [
      " \n"
     ]
    },
    {
     "name": "stderr",
     "output_type": "stream",
     "text": [
      " 51%|█████     | 573/1130 [49:18<49:44,  5.36s/it][WDM] - Current google-chrome version is 92.0.4515\n",
      "[WDM] - Get LATEST driver version for 92.0.4515\n",
      "[WDM] - Driver [/Users/cblanesg/.wdm/drivers/chromedriver/mac64/92.0.4515.107/chromedriver] found in cache\n"
     ]
    },
    {
     "name": "stdout",
     "output_type": "stream",
     "text": [
      " \n"
     ]
    },
    {
     "name": "stderr",
     "output_type": "stream",
     "text": [
      " 51%|█████     | 574/1130 [49:23<49:02,  5.29s/it][WDM] - Current google-chrome version is 92.0.4515\n",
      "[WDM] - Get LATEST driver version for 92.0.4515\n",
      "[WDM] - Driver [/Users/cblanesg/.wdm/drivers/chromedriver/mac64/92.0.4515.107/chromedriver] found in cache\n"
     ]
    },
    {
     "name": "stdout",
     "output_type": "stream",
     "text": [
      " \n"
     ]
    },
    {
     "name": "stderr",
     "output_type": "stream",
     "text": [
      " 51%|█████     | 575/1130 [49:29<49:04,  5.31s/it][WDM] - Current google-chrome version is 92.0.4515\n",
      "[WDM] - Get LATEST driver version for 92.0.4515\n",
      "[WDM] - Driver [/Users/cblanesg/.wdm/drivers/chromedriver/mac64/92.0.4515.107/chromedriver] found in cache\n"
     ]
    },
    {
     "name": "stdout",
     "output_type": "stream",
     "text": [
      " \n"
     ]
    },
    {
     "name": "stderr",
     "output_type": "stream",
     "text": [
      " 51%|█████     | 576/1130 [49:34<49:08,  5.32s/it][WDM] - Current google-chrome version is 92.0.4515\n",
      "[WDM] - Get LATEST driver version for 92.0.4515\n",
      "[WDM] - Driver [/Users/cblanesg/.wdm/drivers/chromedriver/mac64/92.0.4515.107/chromedriver] found in cache\n"
     ]
    },
    {
     "name": "stdout",
     "output_type": "stream",
     "text": [
      " \n"
     ]
    },
    {
     "name": "stderr",
     "output_type": "stream",
     "text": [
      " 51%|█████     | 577/1130 [49:40<50:09,  5.44s/it][WDM] - Current google-chrome version is 92.0.4515\n",
      "[WDM] - Get LATEST driver version for 92.0.4515\n",
      "[WDM] - Driver [/Users/cblanesg/.wdm/drivers/chromedriver/mac64/92.0.4515.107/chromedriver] found in cache\n"
     ]
    },
    {
     "name": "stdout",
     "output_type": "stream",
     "text": [
      " \n"
     ]
    },
    {
     "name": "stderr",
     "output_type": "stream",
     "text": [
      " 51%|█████     | 578/1130 [49:45<50:15,  5.46s/it][WDM] - Current google-chrome version is 92.0.4515\n",
      "[WDM] - Get LATEST driver version for 92.0.4515\n",
      "[WDM] - Driver [/Users/cblanesg/.wdm/drivers/chromedriver/mac64/92.0.4515.107/chromedriver] found in cache\n"
     ]
    },
    {
     "name": "stdout",
     "output_type": "stream",
     "text": [
      " \n"
     ]
    },
    {
     "name": "stderr",
     "output_type": "stream",
     "text": [
      " 51%|█████     | 579/1130 [49:51<49:48,  5.42s/it][WDM] - Current google-chrome version is 92.0.4515\n",
      "[WDM] - Get LATEST driver version for 92.0.4515\n",
      "[WDM] - Driver [/Users/cblanesg/.wdm/drivers/chromedriver/mac64/92.0.4515.107/chromedriver] found in cache\n"
     ]
    },
    {
     "name": "stdout",
     "output_type": "stream",
     "text": [
      " \n"
     ]
    },
    {
     "name": "stderr",
     "output_type": "stream",
     "text": [
      " 51%|█████▏    | 580/1130 [49:57<51:02,  5.57s/it][WDM] - Current google-chrome version is 92.0.4515\n",
      "[WDM] - Get LATEST driver version for 92.0.4515\n",
      "[WDM] - Driver [/Users/cblanesg/.wdm/drivers/chromedriver/mac64/92.0.4515.107/chromedriver] found in cache\n"
     ]
    },
    {
     "name": "stdout",
     "output_type": "stream",
     "text": [
      " \n"
     ]
    },
    {
     "name": "stderr",
     "output_type": "stream",
     "text": [
      " 51%|█████▏    | 581/1130 [50:02<50:58,  5.57s/it][WDM] - Current google-chrome version is 92.0.4515\n",
      "[WDM] - Get LATEST driver version for 92.0.4515\n",
      "[WDM] - Driver [/Users/cblanesg/.wdm/drivers/chromedriver/mac64/92.0.4515.107/chromedriver] found in cache\n"
     ]
    },
    {
     "name": "stdout",
     "output_type": "stream",
     "text": [
      " \n"
     ]
    },
    {
     "name": "stderr",
     "output_type": "stream",
     "text": [
      " 52%|█████▏    | 582/1130 [50:09<53:51,  5.90s/it][WDM] - Current google-chrome version is 92.0.4515\n",
      "[WDM] - Get LATEST driver version for 92.0.4515\n",
      "[WDM] - Driver [/Users/cblanesg/.wdm/drivers/chromedriver/mac64/92.0.4515.107/chromedriver] found in cache\n"
     ]
    },
    {
     "name": "stdout",
     "output_type": "stream",
     "text": [
      " \n"
     ]
    },
    {
     "name": "stderr",
     "output_type": "stream",
     "text": [
      " 52%|█████▏    | 583/1130 [50:14<52:13,  5.73s/it][WDM] - Current google-chrome version is 92.0.4515\n",
      "[WDM] - Get LATEST driver version for 92.0.4515\n",
      "[WDM] - Driver [/Users/cblanesg/.wdm/drivers/chromedriver/mac64/92.0.4515.107/chromedriver] found in cache\n"
     ]
    },
    {
     "name": "stdout",
     "output_type": "stream",
     "text": [
      " \n"
     ]
    },
    {
     "name": "stderr",
     "output_type": "stream",
     "text": [
      " 52%|█████▏    | 584/1130 [50:18<48:04,  5.28s/it][WDM] - Current google-chrome version is 92.0.4515\n",
      "[WDM] - Get LATEST driver version for 92.0.4515\n",
      "[WDM] - Driver [/Users/cblanesg/.wdm/drivers/chromedriver/mac64/92.0.4515.107/chromedriver] found in cache\n"
     ]
    },
    {
     "name": "stdout",
     "output_type": "stream",
     "text": [
      " \n"
     ]
    },
    {
     "name": "stderr",
     "output_type": "stream",
     "text": [
      " 52%|█████▏    | 585/1130 [50:24<48:02,  5.29s/it][WDM] - Current google-chrome version is 92.0.4515\n",
      "[WDM] - Get LATEST driver version for 92.0.4515\n",
      "[WDM] - Driver [/Users/cblanesg/.wdm/drivers/chromedriver/mac64/92.0.4515.107/chromedriver] found in cache\n"
     ]
    },
    {
     "name": "stdout",
     "output_type": "stream",
     "text": [
      " \n"
     ]
    },
    {
     "name": "stderr",
     "output_type": "stream",
     "text": [
      " 52%|█████▏    | 586/1130 [50:29<47:24,  5.23s/it][WDM] - Current google-chrome version is 92.0.4515\n",
      "[WDM] - Get LATEST driver version for 92.0.4515\n",
      "[WDM] - Driver [/Users/cblanesg/.wdm/drivers/chromedriver/mac64/92.0.4515.107/chromedriver] found in cache\n"
     ]
    },
    {
     "name": "stdout",
     "output_type": "stream",
     "text": [
      " \n"
     ]
    },
    {
     "name": "stderr",
     "output_type": "stream",
     "text": [
      " 52%|█████▏    | 587/1130 [50:34<46:57,  5.19s/it][WDM] - Current google-chrome version is 92.0.4515\n",
      "[WDM] - Get LATEST driver version for 92.0.4515\n",
      "[WDM] - Driver [/Users/cblanesg/.wdm/drivers/chromedriver/mac64/92.0.4515.107/chromedriver] found in cache\n"
     ]
    },
    {
     "name": "stdout",
     "output_type": "stream",
     "text": [
      " \n"
     ]
    },
    {
     "name": "stderr",
     "output_type": "stream",
     "text": [
      " 52%|█████▏    | 588/1130 [50:39<47:49,  5.30s/it][WDM] - Current google-chrome version is 92.0.4515\n",
      "[WDM] - Get LATEST driver version for 92.0.4515\n",
      "[WDM] - Driver [/Users/cblanesg/.wdm/drivers/chromedriver/mac64/92.0.4515.107/chromedriver] found in cache\n"
     ]
    },
    {
     "name": "stdout",
     "output_type": "stream",
     "text": [
      " \n"
     ]
    },
    {
     "name": "stderr",
     "output_type": "stream",
     "text": [
      " 52%|█████▏    | 589/1130 [50:45<47:46,  5.30s/it][WDM] - Current google-chrome version is 92.0.4515\n",
      "[WDM] - Get LATEST driver version for 92.0.4515\n",
      "[WDM] - Driver [/Users/cblanesg/.wdm/drivers/chromedriver/mac64/92.0.4515.107/chromedriver] found in cache\n"
     ]
    },
    {
     "name": "stdout",
     "output_type": "stream",
     "text": [
      " \n"
     ]
    },
    {
     "name": "stderr",
     "output_type": "stream",
     "text": [
      " 52%|█████▏    | 590/1130 [50:50<47:15,  5.25s/it][WDM] - Current google-chrome version is 92.0.4515\n",
      "[WDM] - Get LATEST driver version for 92.0.4515\n",
      "[WDM] - Driver [/Users/cblanesg/.wdm/drivers/chromedriver/mac64/92.0.4515.107/chromedriver] found in cache\n"
     ]
    },
    {
     "name": "stdout",
     "output_type": "stream",
     "text": [
      " \n"
     ]
    },
    {
     "name": "stderr",
     "output_type": "stream",
     "text": [
      " 52%|█████▏    | 591/1130 [50:55<47:41,  5.31s/it][WDM] - Current google-chrome version is 92.0.4515\n",
      "[WDM] - Get LATEST driver version for 92.0.4515\n",
      "[WDM] - Driver [/Users/cblanesg/.wdm/drivers/chromedriver/mac64/92.0.4515.107/chromedriver] found in cache\n"
     ]
    },
    {
     "name": "stdout",
     "output_type": "stream",
     "text": [
      " \n"
     ]
    },
    {
     "name": "stderr",
     "output_type": "stream",
     "text": [
      " 52%|█████▏    | 592/1130 [51:01<47:14,  5.27s/it][WDM] - Current google-chrome version is 92.0.4515\n",
      "[WDM] - Get LATEST driver version for 92.0.4515\n",
      "[WDM] - Driver [/Users/cblanesg/.wdm/drivers/chromedriver/mac64/92.0.4515.107/chromedriver] found in cache\n"
     ]
    },
    {
     "name": "stdout",
     "output_type": "stream",
     "text": [
      " \n"
     ]
    },
    {
     "name": "stderr",
     "output_type": "stream",
     "text": [
      " 52%|█████▏    | 593/1130 [51:06<47:29,  5.31s/it][WDM] - Current google-chrome version is 92.0.4515\n",
      "[WDM] - Get LATEST driver version for 92.0.4515\n",
      "[WDM] - Driver [/Users/cblanesg/.wdm/drivers/chromedriver/mac64/92.0.4515.107/chromedriver] found in cache\n"
     ]
    },
    {
     "name": "stdout",
     "output_type": "stream",
     "text": [
      " \n"
     ]
    },
    {
     "name": "stderr",
     "output_type": "stream",
     "text": [
      " 53%|█████▎    | 594/1130 [51:12<49:28,  5.54s/it][WDM] - Current google-chrome version is 92.0.4515\n",
      "[WDM] - Get LATEST driver version for 92.0.4515\n",
      "[WDM] - Driver [/Users/cblanesg/.wdm/drivers/chromedriver/mac64/92.0.4515.107/chromedriver] found in cache\n"
     ]
    },
    {
     "name": "stdout",
     "output_type": "stream",
     "text": [
      " \n"
     ]
    },
    {
     "name": "stderr",
     "output_type": "stream",
     "text": [
      " 53%|█████▎    | 595/1130 [51:18<51:26,  5.77s/it][WDM] - Current google-chrome version is 92.0.4515\n",
      "[WDM] - Get LATEST driver version for 92.0.4515\n",
      "[WDM] - Driver [/Users/cblanesg/.wdm/drivers/chromedriver/mac64/92.0.4515.107/chromedriver] found in cache\n"
     ]
    },
    {
     "name": "stdout",
     "output_type": "stream",
     "text": [
      " \n"
     ]
    },
    {
     "name": "stderr",
     "output_type": "stream",
     "text": [
      " 53%|█████▎    | 596/1130 [51:24<51:12,  5.75s/it][WDM] - Current google-chrome version is 92.0.4515\n",
      "[WDM] - Get LATEST driver version for 92.0.4515\n",
      "[WDM] - Driver [/Users/cblanesg/.wdm/drivers/chromedriver/mac64/92.0.4515.107/chromedriver] found in cache\n"
     ]
    },
    {
     "name": "stdout",
     "output_type": "stream",
     "text": [
      " \n"
     ]
    },
    {
     "name": "stderr",
     "output_type": "stream",
     "text": [
      " 53%|█████▎    | 597/1130 [51:29<50:04,  5.64s/it][WDM] - Current google-chrome version is 92.0.4515\n",
      "[WDM] - Get LATEST driver version for 92.0.4515\n",
      "[WDM] - Driver [/Users/cblanesg/.wdm/drivers/chromedriver/mac64/92.0.4515.107/chromedriver] found in cache\n"
     ]
    },
    {
     "name": "stdout",
     "output_type": "stream",
     "text": [
      " \n"
     ]
    },
    {
     "name": "stderr",
     "output_type": "stream",
     "text": [
      " 53%|█████▎    | 598/1130 [51:35<50:50,  5.73s/it][WDM] - Current google-chrome version is 92.0.4515\n",
      "[WDM] - Get LATEST driver version for 92.0.4515\n",
      "[WDM] - Driver [/Users/cblanesg/.wdm/drivers/chromedriver/mac64/92.0.4515.107/chromedriver] found in cache\n"
     ]
    },
    {
     "name": "stdout",
     "output_type": "stream",
     "text": [
      " \n"
     ]
    },
    {
     "name": "stderr",
     "output_type": "stream",
     "text": [
      " 53%|█████▎    | 599/1130 [51:41<51:24,  5.81s/it][WDM] - Current google-chrome version is 92.0.4515\n",
      "[WDM] - Get LATEST driver version for 92.0.4515\n",
      "[WDM] - Driver [/Users/cblanesg/.wdm/drivers/chromedriver/mac64/92.0.4515.107/chromedriver] found in cache\n"
     ]
    },
    {
     "name": "stdout",
     "output_type": "stream",
     "text": [
      " \n"
     ]
    },
    {
     "name": "stderr",
     "output_type": "stream",
     "text": [
      " 53%|█████▎    | 600/1130 [51:47<51:26,  5.82s/it][WDM] - Current google-chrome version is 92.0.4515\n",
      "[WDM] - Get LATEST driver version for 92.0.4515\n",
      "[WDM] - Driver [/Users/cblanesg/.wdm/drivers/chromedriver/mac64/92.0.4515.107/chromedriver] found in cache\n"
     ]
    },
    {
     "name": "stdout",
     "output_type": "stream",
     "text": [
      " \n"
     ]
    },
    {
     "name": "stderr",
     "output_type": "stream",
     "text": [
      " 53%|█████▎    | 601/1130 [51:53<50:40,  5.75s/it][WDM] - Current google-chrome version is 92.0.4515\n",
      "[WDM] - Get LATEST driver version for 92.0.4515\n",
      "[WDM] - Driver [/Users/cblanesg/.wdm/drivers/chromedriver/mac64/92.0.4515.107/chromedriver] found in cache\n"
     ]
    },
    {
     "name": "stdout",
     "output_type": "stream",
     "text": [
      " \n"
     ]
    },
    {
     "name": "stderr",
     "output_type": "stream",
     "text": [
      " 53%|█████▎    | 602/1130 [51:59<52:13,  5.93s/it][WDM] - Current google-chrome version is 92.0.4515\n",
      "[WDM] - Get LATEST driver version for 92.0.4515\n",
      "[WDM] - Driver [/Users/cblanesg/.wdm/drivers/chromedriver/mac64/92.0.4515.107/chromedriver] found in cache\n"
     ]
    },
    {
     "name": "stdout",
     "output_type": "stream",
     "text": [
      " \n"
     ]
    },
    {
     "name": "stderr",
     "output_type": "stream",
     "text": [
      " 53%|█████▎    | 603/1130 [52:05<51:38,  5.88s/it][WDM] - Current google-chrome version is 92.0.4515\n",
      "[WDM] - Get LATEST driver version for 92.0.4515\n",
      "[WDM] - Driver [/Users/cblanesg/.wdm/drivers/chromedriver/mac64/92.0.4515.107/chromedriver] found in cache\n"
     ]
    },
    {
     "name": "stdout",
     "output_type": "stream",
     "text": [
      " \n"
     ]
    },
    {
     "name": "stderr",
     "output_type": "stream",
     "text": [
      " 53%|█████▎    | 604/1130 [52:11<52:22,  5.97s/it][WDM] - Current google-chrome version is 92.0.4515\n",
      "[WDM] - Get LATEST driver version for 92.0.4515\n",
      "[WDM] - Driver [/Users/cblanesg/.wdm/drivers/chromedriver/mac64/92.0.4515.107/chromedriver] found in cache\n"
     ]
    },
    {
     "name": "stdout",
     "output_type": "stream",
     "text": [
      " \n"
     ]
    },
    {
     "name": "stderr",
     "output_type": "stream",
     "text": [
      " 54%|█████▎    | 605/1130 [52:17<51:56,  5.94s/it][WDM] - Current google-chrome version is 92.0.4515\n",
      "[WDM] - Get LATEST driver version for 92.0.4515\n",
      "[WDM] - Driver [/Users/cblanesg/.wdm/drivers/chromedriver/mac64/92.0.4515.107/chromedriver] found in cache\n"
     ]
    },
    {
     "name": "stdout",
     "output_type": "stream",
     "text": [
      " \n"
     ]
    },
    {
     "name": "stderr",
     "output_type": "stream",
     "text": [
      " 54%|█████▎    | 606/1130 [52:23<52:07,  5.97s/it][WDM] - Current google-chrome version is 92.0.4515\n",
      "[WDM] - Get LATEST driver version for 92.0.4515\n",
      "[WDM] - Driver [/Users/cblanesg/.wdm/drivers/chromedriver/mac64/92.0.4515.107/chromedriver] found in cache\n"
     ]
    },
    {
     "name": "stdout",
     "output_type": "stream",
     "text": [
      " \n"
     ]
    },
    {
     "name": "stderr",
     "output_type": "stream",
     "text": [
      " 54%|█████▎    | 607/1130 [52:29<51:41,  5.93s/it][WDM] - Current google-chrome version is 92.0.4515\n",
      "[WDM] - Get LATEST driver version for 92.0.4515\n",
      "[WDM] - Driver [/Users/cblanesg/.wdm/drivers/chromedriver/mac64/92.0.4515.107/chromedriver] found in cache\n"
     ]
    },
    {
     "name": "stdout",
     "output_type": "stream",
     "text": [
      " \n"
     ]
    },
    {
     "name": "stderr",
     "output_type": "stream",
     "text": [
      " 54%|█████▍    | 608/1130 [52:35<50:57,  5.86s/it][WDM] - Current google-chrome version is 92.0.4515\n",
      "[WDM] - Get LATEST driver version for 92.0.4515\n",
      "[WDM] - Driver [/Users/cblanesg/.wdm/drivers/chromedriver/mac64/92.0.4515.107/chromedriver] found in cache\n"
     ]
    },
    {
     "name": "stdout",
     "output_type": "stream",
     "text": [
      " \n"
     ]
    },
    {
     "name": "stderr",
     "output_type": "stream",
     "text": [
      " 54%|█████▍    | 609/1130 [52:41<51:19,  5.91s/it][WDM] - Current google-chrome version is 92.0.4515\n",
      "[WDM] - Get LATEST driver version for 92.0.4515\n",
      "[WDM] - Driver [/Users/cblanesg/.wdm/drivers/chromedriver/mac64/92.0.4515.107/chromedriver] found in cache\n"
     ]
    },
    {
     "name": "stdout",
     "output_type": "stream",
     "text": [
      " \n"
     ]
    },
    {
     "name": "stderr",
     "output_type": "stream",
     "text": [
      " 54%|█████▍    | 610/1130 [52:47<52:41,  6.08s/it][WDM] - Current google-chrome version is 92.0.4515\n",
      "[WDM] - Get LATEST driver version for 92.0.4515\n",
      "[WDM] - Driver [/Users/cblanesg/.wdm/drivers/chromedriver/mac64/92.0.4515.107/chromedriver] found in cache\n"
     ]
    },
    {
     "name": "stdout",
     "output_type": "stream",
     "text": [
      " \n"
     ]
    },
    {
     "name": "stderr",
     "output_type": "stream",
     "text": [
      " 54%|█████▍    | 611/1130 [52:53<52:10,  6.03s/it][WDM] - Current google-chrome version is 92.0.4515\n",
      "[WDM] - Get LATEST driver version for 92.0.4515\n",
      "[WDM] - Driver [/Users/cblanesg/.wdm/drivers/chromedriver/mac64/92.0.4515.107/chromedriver] found in cache\n"
     ]
    },
    {
     "name": "stdout",
     "output_type": "stream",
     "text": [
      " \n"
     ]
    },
    {
     "name": "stderr",
     "output_type": "stream",
     "text": [
      " 54%|█████▍    | 612/1130 [52:59<53:00,  6.14s/it][WDM] - Current google-chrome version is 92.0.4515\n",
      "[WDM] - Get LATEST driver version for 92.0.4515\n",
      "[WDM] - Driver [/Users/cblanesg/.wdm/drivers/chromedriver/mac64/92.0.4515.107/chromedriver] found in cache\n"
     ]
    },
    {
     "name": "stdout",
     "output_type": "stream",
     "text": [
      " \n"
     ]
    },
    {
     "name": "stderr",
     "output_type": "stream",
     "text": [
      " 54%|█████▍    | 613/1130 [53:05<52:45,  6.12s/it][WDM] - Current google-chrome version is 92.0.4515\n",
      "[WDM] - Get LATEST driver version for 92.0.4515\n",
      "[WDM] - Driver [/Users/cblanesg/.wdm/drivers/chromedriver/mac64/92.0.4515.107/chromedriver] found in cache\n"
     ]
    },
    {
     "name": "stdout",
     "output_type": "stream",
     "text": [
      " \n"
     ]
    },
    {
     "name": "stderr",
     "output_type": "stream",
     "text": [
      " 54%|█████▍    | 614/1130 [53:11<51:40,  6.01s/it][WDM] - Current google-chrome version is 92.0.4515\n",
      "[WDM] - Get LATEST driver version for 92.0.4515\n",
      "[WDM] - Driver [/Users/cblanesg/.wdm/drivers/chromedriver/mac64/92.0.4515.107/chromedriver] found in cache\n"
     ]
    },
    {
     "name": "stdout",
     "output_type": "stream",
     "text": [
      " \n"
     ]
    },
    {
     "name": "stderr",
     "output_type": "stream",
     "text": [
      " 54%|█████▍    | 615/1130 [53:17<51:35,  6.01s/it][WDM] - Current google-chrome version is 92.0.4515\n",
      "[WDM] - Get LATEST driver version for 92.0.4515\n",
      "[WDM] - Driver [/Users/cblanesg/.wdm/drivers/chromedriver/mac64/92.0.4515.107/chromedriver] found in cache\n"
     ]
    },
    {
     "name": "stdout",
     "output_type": "stream",
     "text": [
      " \n"
     ]
    },
    {
     "name": "stderr",
     "output_type": "stream",
     "text": [
      " 55%|█████▍    | 616/1130 [53:23<50:52,  5.94s/it][WDM] - Current google-chrome version is 92.0.4515\n",
      "[WDM] - Get LATEST driver version for 92.0.4515\n",
      "[WDM] - Driver [/Users/cblanesg/.wdm/drivers/chromedriver/mac64/92.0.4515.107/chromedriver] found in cache\n"
     ]
    },
    {
     "name": "stdout",
     "output_type": "stream",
     "text": [
      " \n"
     ]
    },
    {
     "name": "stderr",
     "output_type": "stream",
     "text": [
      " 55%|█████▍    | 617/1130 [53:28<49:32,  5.79s/it][WDM] - Current google-chrome version is 92.0.4515\n",
      "[WDM] - Get LATEST driver version for 92.0.4515\n",
      "[WDM] - Driver [/Users/cblanesg/.wdm/drivers/chromedriver/mac64/92.0.4515.107/chromedriver] found in cache\n"
     ]
    },
    {
     "name": "stdout",
     "output_type": "stream",
     "text": [
      " \n"
     ]
    },
    {
     "name": "stderr",
     "output_type": "stream",
     "text": [
      " 55%|█████▍    | 618/1130 [53:33<47:21,  5.55s/it][WDM] - Current google-chrome version is 92.0.4515\n",
      "[WDM] - Get LATEST driver version for 92.0.4515\n",
      "[WDM] - Driver [/Users/cblanesg/.wdm/drivers/chromedriver/mac64/92.0.4515.107/chromedriver] found in cache\n"
     ]
    },
    {
     "name": "stdout",
     "output_type": "stream",
     "text": [
      " \n"
     ]
    },
    {
     "name": "stderr",
     "output_type": "stream",
     "text": [
      " 55%|█████▍    | 619/1130 [53:38<45:59,  5.40s/it][WDM] - Current google-chrome version is 92.0.4515\n",
      "[WDM] - Get LATEST driver version for 92.0.4515\n",
      "[WDM] - Driver [/Users/cblanesg/.wdm/drivers/chromedriver/mac64/92.0.4515.107/chromedriver] found in cache\n"
     ]
    },
    {
     "name": "stdout",
     "output_type": "stream",
     "text": [
      " \n"
     ]
    },
    {
     "name": "stderr",
     "output_type": "stream",
     "text": [
      " 55%|█████▍    | 620/1130 [53:43<42:44,  5.03s/it][WDM] - Current google-chrome version is 92.0.4515\n",
      "[WDM] - Get LATEST driver version for 92.0.4515\n",
      "[WDM] - Driver [/Users/cblanesg/.wdm/drivers/chromedriver/mac64/92.0.4515.107/chromedriver] found in cache\n"
     ]
    },
    {
     "name": "stdout",
     "output_type": "stream",
     "text": [
      " \n"
     ]
    },
    {
     "name": "stderr",
     "output_type": "stream",
     "text": [
      " 55%|█████▍    | 621/1130 [53:48<43:23,  5.11s/it][WDM] - Current google-chrome version is 92.0.4515\n",
      "[WDM] - Get LATEST driver version for 92.0.4515\n",
      "[WDM] - Driver [/Users/cblanesg/.wdm/drivers/chromedriver/mac64/92.0.4515.107/chromedriver] found in cache\n"
     ]
    },
    {
     "name": "stdout",
     "output_type": "stream",
     "text": [
      " \n"
     ]
    },
    {
     "name": "stderr",
     "output_type": "stream",
     "text": [
      " 55%|█████▌    | 622/1130 [53:53<43:41,  5.16s/it][WDM] - Current google-chrome version is 92.0.4515\n",
      "[WDM] - Get LATEST driver version for 92.0.4515\n",
      "[WDM] - Driver [/Users/cblanesg/.wdm/drivers/chromedriver/mac64/92.0.4515.107/chromedriver] found in cache\n"
     ]
    },
    {
     "name": "stdout",
     "output_type": "stream",
     "text": [
      " \n"
     ]
    },
    {
     "name": "stderr",
     "output_type": "stream",
     "text": [
      " 55%|█████▌    | 623/1130 [53:58<43:07,  5.10s/it][WDM] - Current google-chrome version is 92.0.4515\n",
      "[WDM] - Get LATEST driver version for 92.0.4515\n",
      "[WDM] - Driver [/Users/cblanesg/.wdm/drivers/chromedriver/mac64/92.0.4515.107/chromedriver] found in cache\n"
     ]
    },
    {
     "name": "stdout",
     "output_type": "stream",
     "text": [
      " \n"
     ]
    },
    {
     "name": "stderr",
     "output_type": "stream",
     "text": [
      " 55%|█████▌    | 624/1130 [54:03<43:29,  5.16s/it][WDM] - Current google-chrome version is 92.0.4515\n",
      "[WDM] - Get LATEST driver version for 92.0.4515\n",
      "[WDM] - Driver [/Users/cblanesg/.wdm/drivers/chromedriver/mac64/92.0.4515.107/chromedriver] found in cache\n"
     ]
    },
    {
     "name": "stdout",
     "output_type": "stream",
     "text": [
      " \n"
     ]
    },
    {
     "name": "stderr",
     "output_type": "stream",
     "text": [
      " 55%|█████▌    | 625/1130 [54:09<43:14,  5.14s/it][WDM] - Current google-chrome version is 92.0.4515\n",
      "[WDM] - Get LATEST driver version for 92.0.4515\n",
      "[WDM] - Driver [/Users/cblanesg/.wdm/drivers/chromedriver/mac64/92.0.4515.107/chromedriver] found in cache\n"
     ]
    },
    {
     "name": "stdout",
     "output_type": "stream",
     "text": [
      " \n"
     ]
    },
    {
     "name": "stderr",
     "output_type": "stream",
     "text": [
      " 55%|█████▌    | 626/1130 [54:13<42:19,  5.04s/it][WDM] - Current google-chrome version is 92.0.4515\n",
      "[WDM] - Get LATEST driver version for 92.0.4515\n",
      "[WDM] - Driver [/Users/cblanesg/.wdm/drivers/chromedriver/mac64/92.0.4515.107/chromedriver] found in cache\n"
     ]
    },
    {
     "name": "stdout",
     "output_type": "stream",
     "text": [
      " \n"
     ]
    },
    {
     "name": "stderr",
     "output_type": "stream",
     "text": [
      " 55%|█████▌    | 627/1130 [54:18<41:21,  4.93s/it][WDM] - Current google-chrome version is 92.0.4515\n",
      "[WDM] - Get LATEST driver version for 92.0.4515\n",
      "[WDM] - Driver [/Users/cblanesg/.wdm/drivers/chromedriver/mac64/92.0.4515.107/chromedriver] found in cache\n"
     ]
    },
    {
     "name": "stdout",
     "output_type": "stream",
     "text": [
      " \n"
     ]
    },
    {
     "name": "stderr",
     "output_type": "stream",
     "text": [
      " 56%|█████▌    | 628/1130 [54:22<39:16,  4.69s/it][WDM] - Current google-chrome version is 92.0.4515\n",
      "[WDM] - Get LATEST driver version for 92.0.4515\n",
      "[WDM] - Driver [/Users/cblanesg/.wdm/drivers/chromedriver/mac64/92.0.4515.107/chromedriver] found in cache\n"
     ]
    },
    {
     "name": "stdout",
     "output_type": "stream",
     "text": [
      " \n"
     ]
    },
    {
     "name": "stderr",
     "output_type": "stream",
     "text": [
      " 56%|█████▌    | 629/1130 [54:26<37:52,  4.54s/it][WDM] - Current google-chrome version is 92.0.4515\n",
      "[WDM] - Get LATEST driver version for 92.0.4515\n",
      "[WDM] - Driver [/Users/cblanesg/.wdm/drivers/chromedriver/mac64/92.0.4515.107/chromedriver] found in cache\n"
     ]
    },
    {
     "name": "stdout",
     "output_type": "stream",
     "text": [
      " \n"
     ]
    },
    {
     "name": "stderr",
     "output_type": "stream",
     "text": [
      " 56%|█████▌    | 630/1130 [54:31<39:10,  4.70s/it][WDM] - Current google-chrome version is 92.0.4515\n",
      "[WDM] - Get LATEST driver version for 92.0.4515\n",
      "[WDM] - Driver [/Users/cblanesg/.wdm/drivers/chromedriver/mac64/92.0.4515.107/chromedriver] found in cache\n"
     ]
    },
    {
     "name": "stdout",
     "output_type": "stream",
     "text": [
      " \n"
     ]
    },
    {
     "name": "stderr",
     "output_type": "stream",
     "text": [
      " 56%|█████▌    | 631/1130 [54:36<39:38,  4.77s/it][WDM] - Current google-chrome version is 92.0.4515\n",
      "[WDM] - Get LATEST driver version for 92.0.4515\n",
      "[WDM] - Driver [/Users/cblanesg/.wdm/drivers/chromedriver/mac64/92.0.4515.107/chromedriver] found in cache\n"
     ]
    },
    {
     "name": "stdout",
     "output_type": "stream",
     "text": [
      " \n"
     ]
    },
    {
     "name": "stderr",
     "output_type": "stream",
     "text": [
      " 56%|█████▌    | 632/1130 [54:41<38:11,  4.60s/it][WDM] - Current google-chrome version is 92.0.4515\n",
      "[WDM] - Get LATEST driver version for 92.0.4515\n",
      "[WDM] - Driver [/Users/cblanesg/.wdm/drivers/chromedriver/mac64/92.0.4515.107/chromedriver] found in cache\n"
     ]
    },
    {
     "name": "stdout",
     "output_type": "stream",
     "text": [
      " \n"
     ]
    },
    {
     "name": "stderr",
     "output_type": "stream",
     "text": [
      " 56%|█████▌    | 633/1130 [54:47<42:21,  5.11s/it][WDM] - Current google-chrome version is 92.0.4515\n",
      "[WDM] - Get LATEST driver version for 92.0.4515\n",
      "[WDM] - Driver [/Users/cblanesg/.wdm/drivers/chromedriver/mac64/92.0.4515.107/chromedriver] found in cache\n"
     ]
    },
    {
     "name": "stdout",
     "output_type": "stream",
     "text": [
      " \n"
     ]
    },
    {
     "name": "stderr",
     "output_type": "stream",
     "text": [
      " 56%|█████▌    | 634/1130 [54:52<42:39,  5.16s/it][WDM] - Current google-chrome version is 92.0.4515\n",
      "[WDM] - Get LATEST driver version for 92.0.4515\n",
      "[WDM] - Driver [/Users/cblanesg/.wdm/drivers/chromedriver/mac64/92.0.4515.107/chromedriver] found in cache\n"
     ]
    },
    {
     "name": "stdout",
     "output_type": "stream",
     "text": [
      " \n"
     ]
    },
    {
     "name": "stderr",
     "output_type": "stream",
     "text": [
      " 56%|█████▌    | 635/1130 [54:57<42:27,  5.15s/it][WDM] - Current google-chrome version is 92.0.4515\n",
      "[WDM] - Get LATEST driver version for 92.0.4515\n",
      "[WDM] - Driver [/Users/cblanesg/.wdm/drivers/chromedriver/mac64/92.0.4515.107/chromedriver] found in cache\n"
     ]
    },
    {
     "name": "stdout",
     "output_type": "stream",
     "text": [
      " \n"
     ]
    },
    {
     "name": "stderr",
     "output_type": "stream",
     "text": [
      " 56%|█████▋    | 636/1130 [55:02<42:36,  5.17s/it][WDM] - Current google-chrome version is 92.0.4515\n",
      "[WDM] - Get LATEST driver version for 92.0.4515\n",
      "[WDM] - Driver [/Users/cblanesg/.wdm/drivers/chromedriver/mac64/92.0.4515.107/chromedriver] found in cache\n"
     ]
    },
    {
     "name": "stdout",
     "output_type": "stream",
     "text": [
      " \n"
     ]
    },
    {
     "name": "stderr",
     "output_type": "stream",
     "text": [
      " 56%|█████▋    | 637/1130 [55:09<45:23,  5.52s/it][WDM] - Current google-chrome version is 92.0.4515\n",
      "[WDM] - Get LATEST driver version for 92.0.4515\n",
      "[WDM] - Driver [/Users/cblanesg/.wdm/drivers/chromedriver/mac64/92.0.4515.107/chromedriver] found in cache\n"
     ]
    },
    {
     "name": "stdout",
     "output_type": "stream",
     "text": [
      " \n"
     ]
    },
    {
     "name": "stderr",
     "output_type": "stream",
     "text": [
      " 56%|█████▋    | 638/1130 [55:14<44:33,  5.43s/it][WDM] - Current google-chrome version is 92.0.4515\n",
      "[WDM] - Get LATEST driver version for 92.0.4515\n",
      "[WDM] - Driver [/Users/cblanesg/.wdm/drivers/chromedriver/mac64/92.0.4515.107/chromedriver] found in cache\n"
     ]
    },
    {
     "name": "stdout",
     "output_type": "stream",
     "text": [
      " \n"
     ]
    },
    {
     "name": "stderr",
     "output_type": "stream",
     "text": [
      " 57%|█████▋    | 639/1130 [55:19<43:33,  5.32s/it][WDM] - Current google-chrome version is 92.0.4515\n",
      "[WDM] - Get LATEST driver version for 92.0.4515\n",
      "[WDM] - Driver [/Users/cblanesg/.wdm/drivers/chromedriver/mac64/92.0.4515.107/chromedriver] found in cache\n"
     ]
    },
    {
     "name": "stdout",
     "output_type": "stream",
     "text": [
      " \n"
     ]
    },
    {
     "name": "stderr",
     "output_type": "stream",
     "text": [
      " 57%|█████▋    | 640/1130 [55:24<42:46,  5.24s/it][WDM] - Current google-chrome version is 92.0.4515\n",
      "[WDM] - Get LATEST driver version for 92.0.4515\n",
      "[WDM] - Driver [/Users/cblanesg/.wdm/drivers/chromedriver/mac64/92.0.4515.107/chromedriver] found in cache\n"
     ]
    },
    {
     "name": "stdout",
     "output_type": "stream",
     "text": [
      " \n"
     ]
    },
    {
     "name": "stderr",
     "output_type": "stream",
     "text": [
      " 57%|█████▋    | 641/1130 [55:29<42:56,  5.27s/it][WDM] - Current google-chrome version is 92.0.4515\n",
      "[WDM] - Get LATEST driver version for 92.0.4515\n",
      "[WDM] - Driver [/Users/cblanesg/.wdm/drivers/chromedriver/mac64/92.0.4515.107/chromedriver] found in cache\n"
     ]
    },
    {
     "name": "stdout",
     "output_type": "stream",
     "text": [
      " \n"
     ]
    },
    {
     "name": "stderr",
     "output_type": "stream",
     "text": [
      " 57%|█████▋    | 642/1130 [55:34<42:08,  5.18s/it][WDM] - Current google-chrome version is 92.0.4515\n",
      "[WDM] - Get LATEST driver version for 92.0.4515\n",
      "[WDM] - Driver [/Users/cblanesg/.wdm/drivers/chromedriver/mac64/92.0.4515.107/chromedriver] found in cache\n"
     ]
    },
    {
     "name": "stdout",
     "output_type": "stream",
     "text": [
      " \n"
     ]
    },
    {
     "name": "stderr",
     "output_type": "stream",
     "text": [
      " 57%|█████▋    | 643/1130 [55:39<41:37,  5.13s/it][WDM] - Current google-chrome version is 92.0.4515\n",
      "[WDM] - Get LATEST driver version for 92.0.4515\n",
      "[WDM] - Driver [/Users/cblanesg/.wdm/drivers/chromedriver/mac64/92.0.4515.107/chromedriver] found in cache\n"
     ]
    },
    {
     "name": "stdout",
     "output_type": "stream",
     "text": [
      " \n"
     ]
    },
    {
     "name": "stderr",
     "output_type": "stream",
     "text": [
      " 57%|█████▋    | 644/1130 [55:44<39:24,  4.86s/it][WDM] - Current google-chrome version is 92.0.4515\n",
      "[WDM] - Get LATEST driver version for 92.0.4515\n",
      "[WDM] - Driver [/Users/cblanesg/.wdm/drivers/chromedriver/mac64/92.0.4515.107/chromedriver] found in cache\n"
     ]
    },
    {
     "name": "stdout",
     "output_type": "stream",
     "text": [
      " \n"
     ]
    },
    {
     "name": "stderr",
     "output_type": "stream",
     "text": [
      " 57%|█████▋    | 645/1130 [55:48<37:50,  4.68s/it][WDM] - Current google-chrome version is 92.0.4515\n",
      "[WDM] - Get LATEST driver version for 92.0.4515\n",
      "[WDM] - Driver [/Users/cblanesg/.wdm/drivers/chromedriver/mac64/92.0.4515.107/chromedriver] found in cache\n"
     ]
    },
    {
     "name": "stdout",
     "output_type": "stream",
     "text": [
      " \n"
     ]
    },
    {
     "name": "stderr",
     "output_type": "stream",
     "text": [
      " 57%|█████▋    | 646/1130 [55:53<39:19,  4.87s/it][WDM] - Current google-chrome version is 92.0.4515\n",
      "[WDM] - Get LATEST driver version for 92.0.4515\n",
      "[WDM] - Driver [/Users/cblanesg/.wdm/drivers/chromedriver/mac64/92.0.4515.107/chromedriver] found in cache\n"
     ]
    },
    {
     "name": "stdout",
     "output_type": "stream",
     "text": [
      " \n"
     ]
    },
    {
     "name": "stderr",
     "output_type": "stream",
     "text": [
      " 57%|█████▋    | 647/1130 [55:58<39:32,  4.91s/it][WDM] - Current google-chrome version is 92.0.4515\n",
      "[WDM] - Get LATEST driver version for 92.0.4515\n",
      "[WDM] - Driver [/Users/cblanesg/.wdm/drivers/chromedriver/mac64/92.0.4515.107/chromedriver] found in cache\n"
     ]
    },
    {
     "name": "stdout",
     "output_type": "stream",
     "text": [
      " \n"
     ]
    },
    {
     "name": "stderr",
     "output_type": "stream",
     "text": [
      " 57%|█████▋    | 648/1130 [56:03<39:51,  4.96s/it][WDM] - Current google-chrome version is 92.0.4515\n",
      "[WDM] - Get LATEST driver version for 92.0.4515\n",
      "[WDM] - Driver [/Users/cblanesg/.wdm/drivers/chromedriver/mac64/92.0.4515.107/chromedriver] found in cache\n"
     ]
    },
    {
     "name": "stdout",
     "output_type": "stream",
     "text": [
      " \n"
     ]
    },
    {
     "name": "stderr",
     "output_type": "stream",
     "text": [
      " 57%|█████▋    | 649/1130 [56:08<38:13,  4.77s/it][WDM] - Current google-chrome version is 92.0.4515\n",
      "[WDM] - Get LATEST driver version for 92.0.4515\n",
      "[WDM] - Driver [/Users/cblanesg/.wdm/drivers/chromedriver/mac64/92.0.4515.107/chromedriver] found in cache\n"
     ]
    },
    {
     "name": "stdout",
     "output_type": "stream",
     "text": [
      " \n"
     ]
    },
    {
     "name": "stderr",
     "output_type": "stream",
     "text": [
      " 58%|█████▊    | 650/1130 [56:13<38:52,  4.86s/it][WDM] - Current google-chrome version is 92.0.4515\n",
      "[WDM] - Get LATEST driver version for 92.0.4515\n",
      "[WDM] - Driver [/Users/cblanesg/.wdm/drivers/chromedriver/mac64/92.0.4515.107/chromedriver] found in cache\n"
     ]
    },
    {
     "name": "stdout",
     "output_type": "stream",
     "text": [
      " \n"
     ]
    },
    {
     "name": "stderr",
     "output_type": "stream",
     "text": [
      " 58%|█████▊    | 651/1130 [56:18<39:40,  4.97s/it][WDM] - Current google-chrome version is 92.0.4515\n",
      "[WDM] - Get LATEST driver version for 92.0.4515\n"
     ]
    },
    {
     "name": "stdout",
     "output_type": "stream",
     "text": [
      " \n"
     ]
    },
    {
     "name": "stderr",
     "output_type": "stream",
     "text": [
      "[WDM] - Driver [/Users/cblanesg/.wdm/drivers/chromedriver/mac64/92.0.4515.107/chromedriver] found in cache\n",
      " 58%|█████▊    | 652/1130 [56:23<40:40,  5.11s/it][WDM] - Current google-chrome version is 92.0.4515\n",
      "[WDM] - Get LATEST driver version for 92.0.4515\n",
      "[WDM] - Driver [/Users/cblanesg/.wdm/drivers/chromedriver/mac64/92.0.4515.107/chromedriver] found in cache\n"
     ]
    },
    {
     "name": "stdout",
     "output_type": "stream",
     "text": [
      " \n"
     ]
    },
    {
     "name": "stderr",
     "output_type": "stream",
     "text": [
      " 58%|█████▊    | 653/1130 [56:28<39:52,  5.01s/it][WDM] - Current google-chrome version is 92.0.4515\n",
      "[WDM] - Get LATEST driver version for 92.0.4515\n",
      "[WDM] - Driver [/Users/cblanesg/.wdm/drivers/chromedriver/mac64/92.0.4515.107/chromedriver] found in cache\n"
     ]
    },
    {
     "name": "stdout",
     "output_type": "stream",
     "text": [
      " \n"
     ]
    },
    {
     "name": "stderr",
     "output_type": "stream",
     "text": [
      " 58%|█████▊    | 654/1130 [56:33<39:11,  4.94s/it][WDM] - Current google-chrome version is 92.0.4515\n",
      "[WDM] - Get LATEST driver version for 92.0.4515\n",
      "[WDM] - Driver [/Users/cblanesg/.wdm/drivers/chromedriver/mac64/92.0.4515.107/chromedriver] found in cache\n"
     ]
    },
    {
     "name": "stdout",
     "output_type": "stream",
     "text": [
      " \n"
     ]
    },
    {
     "name": "stderr",
     "output_type": "stream",
     "text": [
      " 58%|█████▊    | 655/1130 [56:37<37:51,  4.78s/it][WDM] - Current google-chrome version is 92.0.4515\n",
      "[WDM] - Get LATEST driver version for 92.0.4515\n",
      "[WDM] - Driver [/Users/cblanesg/.wdm/drivers/chromedriver/mac64/92.0.4515.107/chromedriver] found in cache\n"
     ]
    },
    {
     "name": "stdout",
     "output_type": "stream",
     "text": [
      " \n"
     ]
    },
    {
     "name": "stderr",
     "output_type": "stream",
     "text": [
      " 58%|█████▊    | 656/1130 [56:42<36:35,  4.63s/it][WDM] - Current google-chrome version is 92.0.4515\n",
      "[WDM] - Get LATEST driver version for 92.0.4515\n",
      "[WDM] - Driver [/Users/cblanesg/.wdm/drivers/chromedriver/mac64/92.0.4515.107/chromedriver] found in cache\n"
     ]
    },
    {
     "name": "stdout",
     "output_type": "stream",
     "text": [
      " \n"
     ]
    },
    {
     "name": "stderr",
     "output_type": "stream",
     "text": [
      " 58%|█████▊    | 657/1130 [56:48<40:39,  5.16s/it][WDM] - Current google-chrome version is 92.0.4515\n",
      "[WDM] - Get LATEST driver version for 92.0.4515\n",
      "[WDM] - Driver [/Users/cblanesg/.wdm/drivers/chromedriver/mac64/92.0.4515.107/chromedriver] found in cache\n"
     ]
    },
    {
     "name": "stdout",
     "output_type": "stream",
     "text": [
      " \n"
     ]
    },
    {
     "name": "stderr",
     "output_type": "stream",
     "text": [
      " 58%|█████▊    | 658/1130 [56:53<39:15,  4.99s/it][WDM] - Current google-chrome version is 92.0.4515\n",
      "[WDM] - Get LATEST driver version for 92.0.4515\n",
      "[WDM] - Driver [/Users/cblanesg/.wdm/drivers/chromedriver/mac64/92.0.4515.107/chromedriver] found in cache\n"
     ]
    },
    {
     "name": "stdout",
     "output_type": "stream",
     "text": [
      " \n"
     ]
    },
    {
     "name": "stderr",
     "output_type": "stream",
     "text": [
      " 58%|█████▊    | 659/1130 [56:58<39:09,  4.99s/it][WDM] - Current google-chrome version is 92.0.4515\n",
      "[WDM] - Get LATEST driver version for 92.0.4515\n",
      "[WDM] - Driver [/Users/cblanesg/.wdm/drivers/chromedriver/mac64/92.0.4515.107/chromedriver] found in cache\n"
     ]
    },
    {
     "name": "stdout",
     "output_type": "stream",
     "text": [
      " \n"
     ]
    },
    {
     "name": "stderr",
     "output_type": "stream",
     "text": [
      " 58%|█████▊    | 660/1130 [57:03<38:59,  4.98s/it][WDM] - Current google-chrome version is 92.0.4515\n",
      "[WDM] - Get LATEST driver version for 92.0.4515\n",
      "[WDM] - Driver [/Users/cblanesg/.wdm/drivers/chromedriver/mac64/92.0.4515.107/chromedriver] found in cache\n"
     ]
    },
    {
     "name": "stdout",
     "output_type": "stream",
     "text": [
      " \n"
     ]
    },
    {
     "name": "stderr",
     "output_type": "stream",
     "text": [
      " 58%|█████▊    | 661/1130 [57:07<37:52,  4.85s/it][WDM] - Current google-chrome version is 92.0.4515\n",
      "[WDM] - Get LATEST driver version for 92.0.4515\n",
      "[WDM] - Driver [/Users/cblanesg/.wdm/drivers/chromedriver/mac64/92.0.4515.107/chromedriver] found in cache\n"
     ]
    },
    {
     "name": "stdout",
     "output_type": "stream",
     "text": [
      " \n"
     ]
    },
    {
     "name": "stderr",
     "output_type": "stream",
     "text": [
      " 59%|█████▊    | 662/1130 [57:12<37:33,  4.82s/it][WDM] - Current google-chrome version is 92.0.4515\n",
      "[WDM] - Get LATEST driver version for 92.0.4515\n",
      "[WDM] - Driver [/Users/cblanesg/.wdm/drivers/chromedriver/mac64/92.0.4515.107/chromedriver] found in cache\n"
     ]
    },
    {
     "name": "stdout",
     "output_type": "stream",
     "text": [
      " \n"
     ]
    },
    {
     "name": "stderr",
     "output_type": "stream",
     "text": [
      " 59%|█████▊    | 663/1130 [57:17<37:39,  4.84s/it][WDM] - Current google-chrome version is 92.0.4515\n",
      "[WDM] - Get LATEST driver version for 92.0.4515\n",
      "[WDM] - Driver [/Users/cblanesg/.wdm/drivers/chromedriver/mac64/92.0.4515.107/chromedriver] found in cache\n"
     ]
    },
    {
     "name": "stdout",
     "output_type": "stream",
     "text": [
      " \n"
     ]
    },
    {
     "name": "stderr",
     "output_type": "stream",
     "text": [
      " 59%|█████▉    | 664/1130 [57:22<37:50,  4.87s/it][WDM] - Current google-chrome version is 92.0.4515\n",
      "[WDM] - Get LATEST driver version for 92.0.4515\n",
      "[WDM] - Driver [/Users/cblanesg/.wdm/drivers/chromedriver/mac64/92.0.4515.107/chromedriver] found in cache\n"
     ]
    },
    {
     "name": "stdout",
     "output_type": "stream",
     "text": [
      " \n"
     ]
    },
    {
     "name": "stderr",
     "output_type": "stream",
     "text": [
      " 59%|█████▉    | 665/1130 [57:26<37:29,  4.84s/it][WDM] - Current google-chrome version is 92.0.4515\n",
      "[WDM] - Get LATEST driver version for 92.0.4515\n",
      "[WDM] - Driver [/Users/cblanesg/.wdm/drivers/chromedriver/mac64/92.0.4515.107/chromedriver] found in cache\n"
     ]
    },
    {
     "name": "stdout",
     "output_type": "stream",
     "text": [
      " \n"
     ]
    },
    {
     "name": "stderr",
     "output_type": "stream",
     "text": [
      " 59%|█████▉    | 666/1130 [57:31<36:03,  4.66s/it][WDM] - Current google-chrome version is 92.0.4515\n",
      "[WDM] - Get LATEST driver version for 92.0.4515\n",
      "[WDM] - Driver [/Users/cblanesg/.wdm/drivers/chromedriver/mac64/92.0.4515.107/chromedriver] found in cache\n"
     ]
    },
    {
     "name": "stdout",
     "output_type": "stream",
     "text": [
      " \n"
     ]
    },
    {
     "name": "stderr",
     "output_type": "stream",
     "text": [
      " 59%|█████▉    | 667/1130 [57:36<37:08,  4.81s/it][WDM] - Current google-chrome version is 92.0.4515\n",
      "[WDM] - Get LATEST driver version for 92.0.4515\n",
      "[WDM] - Driver [/Users/cblanesg/.wdm/drivers/chromedriver/mac64/92.0.4515.107/chromedriver] found in cache\n"
     ]
    },
    {
     "name": "stdout",
     "output_type": "stream",
     "text": [
      " \n"
     ]
    },
    {
     "name": "stderr",
     "output_type": "stream",
     "text": [
      " 59%|█████▉    | 668/1130 [57:41<37:57,  4.93s/it][WDM] - Current google-chrome version is 92.0.4515\n",
      "[WDM] - Get LATEST driver version for 92.0.4515\n",
      "[WDM] - Driver [/Users/cblanesg/.wdm/drivers/chromedriver/mac64/92.0.4515.107/chromedriver] found in cache\n"
     ]
    },
    {
     "name": "stdout",
     "output_type": "stream",
     "text": [
      " \n"
     ]
    },
    {
     "name": "stderr",
     "output_type": "stream",
     "text": [
      " 59%|█████▉    | 669/1130 [57:47<39:18,  5.12s/it][WDM] - Current google-chrome version is 92.0.4515\n",
      "[WDM] - Get LATEST driver version for 92.0.4515\n",
      "[WDM] - Driver [/Users/cblanesg/.wdm/drivers/chromedriver/mac64/92.0.4515.107/chromedriver] found in cache\n"
     ]
    },
    {
     "name": "stdout",
     "output_type": "stream",
     "text": [
      " \n"
     ]
    },
    {
     "name": "stderr",
     "output_type": "stream",
     "text": [
      " 59%|█████▉    | 670/1130 [57:52<40:25,  5.27s/it][WDM] - Current google-chrome version is 92.0.4515\n",
      "[WDM] - Get LATEST driver version for 92.0.4515\n",
      "[WDM] - Driver [/Users/cblanesg/.wdm/drivers/chromedriver/mac64/92.0.4515.107/chromedriver] found in cache\n"
     ]
    },
    {
     "name": "stdout",
     "output_type": "stream",
     "text": [
      " \n"
     ]
    },
    {
     "name": "stderr",
     "output_type": "stream",
     "text": [
      " 59%|█████▉    | 671/1130 [57:57<38:37,  5.05s/it][WDM] - Current google-chrome version is 92.0.4515\n",
      "[WDM] - Get LATEST driver version for 92.0.4515\n",
      "[WDM] - Driver [/Users/cblanesg/.wdm/drivers/chromedriver/mac64/92.0.4515.107/chromedriver] found in cache\n"
     ]
    },
    {
     "name": "stdout",
     "output_type": "stream",
     "text": [
      " \n"
     ]
    },
    {
     "name": "stderr",
     "output_type": "stream",
     "text": [
      " 59%|█████▉    | 672/1130 [58:02<39:38,  5.19s/it][WDM] - Current google-chrome version is 92.0.4515\n",
      "[WDM] - Get LATEST driver version for 92.0.4515\n",
      "[WDM] - Driver [/Users/cblanesg/.wdm/drivers/chromedriver/mac64/92.0.4515.107/chromedriver] found in cache\n"
     ]
    },
    {
     "name": "stdout",
     "output_type": "stream",
     "text": [
      " \n"
     ]
    },
    {
     "name": "stderr",
     "output_type": "stream",
     "text": [
      " 60%|█████▉    | 673/1130 [58:08<40:32,  5.32s/it][WDM] - Current google-chrome version is 92.0.4515\n",
      "[WDM] - Get LATEST driver version for 92.0.4515\n",
      "[WDM] - Driver [/Users/cblanesg/.wdm/drivers/chromedriver/mac64/92.0.4515.107/chromedriver] found in cache\n"
     ]
    },
    {
     "name": "stdout",
     "output_type": "stream",
     "text": [
      " \n"
     ]
    },
    {
     "name": "stderr",
     "output_type": "stream",
     "text": [
      " 60%|█████▉    | 674/1130 [58:14<41:07,  5.41s/it][WDM] - Current google-chrome version is 92.0.4515\n",
      "[WDM] - Get LATEST driver version for 92.0.4515\n",
      "[WDM] - Driver [/Users/cblanesg/.wdm/drivers/chromedriver/mac64/92.0.4515.107/chromedriver] found in cache\n"
     ]
    },
    {
     "name": "stdout",
     "output_type": "stream",
     "text": [
      " \n"
     ]
    },
    {
     "name": "stderr",
     "output_type": "stream",
     "text": [
      " 60%|█████▉    | 675/1130 [58:19<40:59,  5.41s/it][WDM] - Current google-chrome version is 92.0.4515\n",
      "[WDM] - Get LATEST driver version for 92.0.4515\n",
      "[WDM] - Driver [/Users/cblanesg/.wdm/drivers/chromedriver/mac64/92.0.4515.107/chromedriver] found in cache\n"
     ]
    },
    {
     "name": "stdout",
     "output_type": "stream",
     "text": [
      " \n"
     ]
    },
    {
     "name": "stderr",
     "output_type": "stream",
     "text": [
      " 60%|█████▉    | 676/1130 [58:24<40:56,  5.41s/it][WDM] - Current google-chrome version is 92.0.4515\n",
      "[WDM] - Get LATEST driver version for 92.0.4515\n",
      "[WDM] - Driver [/Users/cblanesg/.wdm/drivers/chromedriver/mac64/92.0.4515.107/chromedriver] found in cache\n"
     ]
    },
    {
     "name": "stdout",
     "output_type": "stream",
     "text": [
      " \n"
     ]
    },
    {
     "name": "stderr",
     "output_type": "stream",
     "text": [
      " 60%|█████▉    | 677/1130 [58:30<41:02,  5.44s/it][WDM] - Current google-chrome version is 92.0.4515\n",
      "[WDM] - Get LATEST driver version for 92.0.4515\n",
      "[WDM] - Driver [/Users/cblanesg/.wdm/drivers/chromedriver/mac64/92.0.4515.107/chromedriver] found in cache\n"
     ]
    },
    {
     "name": "stdout",
     "output_type": "stream",
     "text": [
      " \n"
     ]
    },
    {
     "name": "stderr",
     "output_type": "stream",
     "text": [
      " 60%|██████    | 678/1130 [58:35<40:58,  5.44s/it][WDM] - Current google-chrome version is 92.0.4515\n",
      "[WDM] - Get LATEST driver version for 92.0.4515\n",
      "[WDM] - Driver [/Users/cblanesg/.wdm/drivers/chromedriver/mac64/92.0.4515.107/chromedriver] found in cache\n"
     ]
    },
    {
     "name": "stdout",
     "output_type": "stream",
     "text": [
      " \n"
     ]
    },
    {
     "name": "stderr",
     "output_type": "stream",
     "text": [
      " 60%|██████    | 679/1130 [58:41<40:49,  5.43s/it][WDM] - Current google-chrome version is 92.0.4515\n",
      "[WDM] - Get LATEST driver version for 92.0.4515\n",
      "[WDM] - Driver [/Users/cblanesg/.wdm/drivers/chromedriver/mac64/92.0.4515.107/chromedriver] found in cache\n"
     ]
    },
    {
     "name": "stdout",
     "output_type": "stream",
     "text": [
      " \n"
     ]
    },
    {
     "name": "stderr",
     "output_type": "stream",
     "text": [
      " 60%|██████    | 680/1130 [58:46<41:23,  5.52s/it][WDM] - Current google-chrome version is 92.0.4515\n",
      "[WDM] - Get LATEST driver version for 92.0.4515\n",
      "[WDM] - Driver [/Users/cblanesg/.wdm/drivers/chromedriver/mac64/92.0.4515.107/chromedriver] found in cache\n"
     ]
    },
    {
     "name": "stdout",
     "output_type": "stream",
     "text": [
      " \n"
     ]
    },
    {
     "name": "stderr",
     "output_type": "stream",
     "text": [
      " 60%|██████    | 681/1130 [58:52<41:44,  5.58s/it][WDM] - Current google-chrome version is 92.0.4515\n",
      "[WDM] - Get LATEST driver version for 92.0.4515\n",
      "[WDM] - Driver [/Users/cblanesg/.wdm/drivers/chromedriver/mac64/92.0.4515.107/chromedriver] found in cache\n"
     ]
    },
    {
     "name": "stdout",
     "output_type": "stream",
     "text": [
      " \n"
     ]
    },
    {
     "name": "stderr",
     "output_type": "stream",
     "text": [
      " 60%|██████    | 682/1130 [58:58<41:53,  5.61s/it][WDM] - Current google-chrome version is 92.0.4515\n",
      "[WDM] - Get LATEST driver version for 92.0.4515\n",
      "[WDM] - Driver [/Users/cblanesg/.wdm/drivers/chromedriver/mac64/92.0.4515.107/chromedriver] found in cache\n"
     ]
    },
    {
     "name": "stdout",
     "output_type": "stream",
     "text": [
      " \n"
     ]
    },
    {
     "name": "stderr",
     "output_type": "stream",
     "text": [
      " 60%|██████    | 683/1130 [59:03<41:31,  5.57s/it][WDM] - Current google-chrome version is 92.0.4515\n",
      "[WDM] - Get LATEST driver version for 92.0.4515\n",
      "[WDM] - Driver [/Users/cblanesg/.wdm/drivers/chromedriver/mac64/92.0.4515.107/chromedriver] found in cache\n"
     ]
    },
    {
     "name": "stdout",
     "output_type": "stream",
     "text": [
      " \n"
     ]
    },
    {
     "name": "stderr",
     "output_type": "stream",
     "text": [
      " 61%|██████    | 684/1130 [59:09<41:42,  5.61s/it][WDM] - Current google-chrome version is 92.0.4515\n",
      "[WDM] - Get LATEST driver version for 92.0.4515\n",
      "[WDM] - Driver [/Users/cblanesg/.wdm/drivers/chromedriver/mac64/92.0.4515.107/chromedriver] found in cache\n"
     ]
    },
    {
     "name": "stdout",
     "output_type": "stream",
     "text": [
      " \n"
     ]
    },
    {
     "name": "stderr",
     "output_type": "stream",
     "text": [
      " 61%|██████    | 685/1130 [59:15<41:40,  5.62s/it][WDM] - Current google-chrome version is 92.0.4515\n",
      "[WDM] - Get LATEST driver version for 92.0.4515\n",
      "[WDM] - Driver [/Users/cblanesg/.wdm/drivers/chromedriver/mac64/92.0.4515.107/chromedriver] found in cache\n"
     ]
    },
    {
     "name": "stdout",
     "output_type": "stream",
     "text": [
      " \n"
     ]
    },
    {
     "name": "stderr",
     "output_type": "stream",
     "text": [
      " 61%|██████    | 686/1130 [59:20<41:55,  5.67s/it][WDM] - Current google-chrome version is 92.0.4515\n",
      "[WDM] - Get LATEST driver version for 92.0.4515\n",
      "[WDM] - Driver [/Users/cblanesg/.wdm/drivers/chromedriver/mac64/92.0.4515.107/chromedriver] found in cache\n"
     ]
    },
    {
     "name": "stdout",
     "output_type": "stream",
     "text": [
      " \n"
     ]
    },
    {
     "name": "stderr",
     "output_type": "stream",
     "text": [
      " 61%|██████    | 687/1130 [59:26<41:06,  5.57s/it][WDM] - Current google-chrome version is 92.0.4515\n",
      "[WDM] - Get LATEST driver version for 92.0.4515\n",
      "[WDM] - Driver [/Users/cblanesg/.wdm/drivers/chromedriver/mac64/92.0.4515.107/chromedriver] found in cache\n"
     ]
    },
    {
     "name": "stdout",
     "output_type": "stream",
     "text": [
      " \n"
     ]
    },
    {
     "name": "stderr",
     "output_type": "stream",
     "text": [
      " 61%|██████    | 688/1130 [59:31<40:51,  5.55s/it][WDM] - Current google-chrome version is 92.0.4515\n",
      "[WDM] - Get LATEST driver version for 92.0.4515\n",
      "[WDM] - Driver [/Users/cblanesg/.wdm/drivers/chromedriver/mac64/92.0.4515.107/chromedriver] found in cache\n"
     ]
    },
    {
     "name": "stdout",
     "output_type": "stream",
     "text": [
      " \n"
     ]
    },
    {
     "name": "stderr",
     "output_type": "stream",
     "text": [
      " 61%|██████    | 689/1130 [59:37<40:02,  5.45s/it][WDM] - Current google-chrome version is 92.0.4515\n",
      "[WDM] - Get LATEST driver version for 92.0.4515\n",
      "[WDM] - Driver [/Users/cblanesg/.wdm/drivers/chromedriver/mac64/92.0.4515.107/chromedriver] found in cache\n"
     ]
    },
    {
     "name": "stdout",
     "output_type": "stream",
     "text": [
      " \n"
     ]
    },
    {
     "name": "stderr",
     "output_type": "stream",
     "text": [
      " 61%|██████    | 690/1130 [59:42<39:51,  5.44s/it][WDM] - Current google-chrome version is 92.0.4515\n",
      "[WDM] - Get LATEST driver version for 92.0.4515\n",
      "[WDM] - Driver [/Users/cblanesg/.wdm/drivers/chromedriver/mac64/92.0.4515.107/chromedriver] found in cache\n"
     ]
    },
    {
     "name": "stdout",
     "output_type": "stream",
     "text": [
      " \n"
     ]
    },
    {
     "name": "stderr",
     "output_type": "stream",
     "text": [
      " 61%|██████    | 691/1130 [59:48<40:26,  5.53s/it][WDM] - Current google-chrome version is 92.0.4515\n",
      "[WDM] - Get LATEST driver version for 92.0.4515\n",
      "[WDM] - Driver [/Users/cblanesg/.wdm/drivers/chromedriver/mac64/92.0.4515.107/chromedriver] found in cache\n"
     ]
    },
    {
     "name": "stdout",
     "output_type": "stream",
     "text": [
      " \n"
     ]
    },
    {
     "name": "stderr",
     "output_type": "stream",
     "text": [
      " 61%|██████    | 692/1130 [59:53<40:50,  5.60s/it][WDM] - Current google-chrome version is 92.0.4515\n",
      "[WDM] - Get LATEST driver version for 92.0.4515\n",
      "[WDM] - Driver [/Users/cblanesg/.wdm/drivers/chromedriver/mac64/92.0.4515.107/chromedriver] found in cache\n"
     ]
    },
    {
     "name": "stdout",
     "output_type": "stream",
     "text": [
      " \n"
     ]
    },
    {
     "name": "stderr",
     "output_type": "stream",
     "text": [
      " 61%|██████▏   | 693/1130 [59:59<41:35,  5.71s/it][WDM] - Current google-chrome version is 92.0.4515\n",
      "[WDM] - Get LATEST driver version for 92.0.4515\n",
      "[WDM] - Driver [/Users/cblanesg/.wdm/drivers/chromedriver/mac64/92.0.4515.107/chromedriver] found in cache\n"
     ]
    },
    {
     "name": "stdout",
     "output_type": "stream",
     "text": [
      " \n"
     ]
    },
    {
     "name": "stderr",
     "output_type": "stream",
     "text": [
      " 61%|██████▏   | 694/1130 [1:00:05<41:09,  5.66s/it][WDM] - Current google-chrome version is 92.0.4515\n",
      "[WDM] - Get LATEST driver version for 92.0.4515\n"
     ]
    },
    {
     "name": "stdout",
     "output_type": "stream",
     "text": [
      " \n"
     ]
    },
    {
     "name": "stderr",
     "output_type": "stream",
     "text": [
      "[WDM] - Driver [/Users/cblanesg/.wdm/drivers/chromedriver/mac64/92.0.4515.107/chromedriver] found in cache\n",
      " 62%|██████▏   | 695/1130 [1:00:12<44:05,  6.08s/it][WDM] - Current google-chrome version is 92.0.4515\n",
      "[WDM] - Get LATEST driver version for 92.0.4515\n",
      "[WDM] - Driver [/Users/cblanesg/.wdm/drivers/chromedriver/mac64/92.0.4515.107/chromedriver] found in cache\n"
     ]
    },
    {
     "name": "stdout",
     "output_type": "stream",
     "text": [
      " \n"
     ]
    },
    {
     "name": "stderr",
     "output_type": "stream",
     "text": [
      " 62%|██████▏   | 696/1130 [1:00:18<42:51,  5.92s/it][WDM] - Current google-chrome version is 92.0.4515\n",
      "[WDM] - Get LATEST driver version for 92.0.4515\n",
      "[WDM] - Driver [/Users/cblanesg/.wdm/drivers/chromedriver/mac64/92.0.4515.107/chromedriver] found in cache\n"
     ]
    },
    {
     "name": "stdout",
     "output_type": "stream",
     "text": [
      " \n"
     ]
    },
    {
     "name": "stderr",
     "output_type": "stream",
     "text": [
      " 62%|██████▏   | 697/1130 [1:00:23<41:46,  5.79s/it][WDM] - Current google-chrome version is 92.0.4515\n",
      "[WDM] - Get LATEST driver version for 92.0.4515\n",
      "[WDM] - Driver [/Users/cblanesg/.wdm/drivers/chromedriver/mac64/92.0.4515.107/chromedriver] found in cache\n"
     ]
    },
    {
     "name": "stdout",
     "output_type": "stream",
     "text": [
      " \n"
     ]
    },
    {
     "name": "stderr",
     "output_type": "stream",
     "text": [
      " 62%|██████▏   | 698/1130 [1:00:29<42:05,  5.84s/it][WDM] - Current google-chrome version is 92.0.4515\n",
      "[WDM] - Get LATEST driver version for 92.0.4515\n",
      "[WDM] - Driver [/Users/cblanesg/.wdm/drivers/chromedriver/mac64/92.0.4515.107/chromedriver] found in cache\n"
     ]
    },
    {
     "name": "stdout",
     "output_type": "stream",
     "text": [
      " \n"
     ]
    },
    {
     "name": "stderr",
     "output_type": "stream",
     "text": [
      " 62%|██████▏   | 699/1130 [1:00:35<41:41,  5.80s/it][WDM] - Current google-chrome version is 92.0.4515\n",
      "[WDM] - Get LATEST driver version for 92.0.4515\n",
      "[WDM] - Driver [/Users/cblanesg/.wdm/drivers/chromedriver/mac64/92.0.4515.107/chromedriver] found in cache\n"
     ]
    },
    {
     "name": "stdout",
     "output_type": "stream",
     "text": [
      " \n"
     ]
    },
    {
     "name": "stderr",
     "output_type": "stream",
     "text": [
      " 62%|██████▏   | 700/1130 [1:00:41<41:37,  5.81s/it][WDM] - Current google-chrome version is 92.0.4515\n",
      "[WDM] - Get LATEST driver version for 92.0.4515\n",
      "[WDM] - Driver [/Users/cblanesg/.wdm/drivers/chromedriver/mac64/92.0.4515.107/chromedriver] found in cache\n"
     ]
    },
    {
     "name": "stdout",
     "output_type": "stream",
     "text": [
      " \n"
     ]
    },
    {
     "name": "stderr",
     "output_type": "stream",
     "text": [
      " 62%|██████▏   | 701/1130 [1:00:46<41:37,  5.82s/it][WDM] - Current google-chrome version is 92.0.4515\n",
      "[WDM] - Get LATEST driver version for 92.0.4515\n",
      "[WDM] - Driver [/Users/cblanesg/.wdm/drivers/chromedriver/mac64/92.0.4515.107/chromedriver] found in cache\n"
     ]
    },
    {
     "name": "stdout",
     "output_type": "stream",
     "text": [
      " \n"
     ]
    },
    {
     "name": "stderr",
     "output_type": "stream",
     "text": [
      " 62%|██████▏   | 702/1130 [1:00:52<41:41,  5.84s/it][WDM] - Current google-chrome version is 92.0.4515\n",
      "[WDM] - Get LATEST driver version for 92.0.4515\n",
      "[WDM] - Driver [/Users/cblanesg/.wdm/drivers/chromedriver/mac64/92.0.4515.107/chromedriver] found in cache\n"
     ]
    },
    {
     "name": "stdout",
     "output_type": "stream",
     "text": [
      " \n"
     ]
    },
    {
     "name": "stderr",
     "output_type": "stream",
     "text": [
      " 62%|██████▏   | 703/1130 [1:00:58<40:42,  5.72s/it][WDM] - Current google-chrome version is 92.0.4515\n",
      "[WDM] - Get LATEST driver version for 92.0.4515\n",
      "[WDM] - Driver [/Users/cblanesg/.wdm/drivers/chromedriver/mac64/92.0.4515.107/chromedriver] found in cache\n"
     ]
    },
    {
     "name": "stdout",
     "output_type": "stream",
     "text": [
      " \n"
     ]
    },
    {
     "name": "stderr",
     "output_type": "stream",
     "text": [
      " 62%|██████▏   | 704/1130 [1:01:03<40:04,  5.65s/it][WDM] - Current google-chrome version is 92.0.4515\n",
      "[WDM] - Get LATEST driver version for 92.0.4515\n",
      "[WDM] - Driver [/Users/cblanesg/.wdm/drivers/chromedriver/mac64/92.0.4515.107/chromedriver] found in cache\n"
     ]
    },
    {
     "name": "stdout",
     "output_type": "stream",
     "text": [
      " \n"
     ]
    },
    {
     "name": "stderr",
     "output_type": "stream",
     "text": [
      " 62%|██████▏   | 705/1130 [1:01:10<41:23,  5.84s/it][WDM] - Current google-chrome version is 92.0.4515\n",
      "[WDM] - Get LATEST driver version for 92.0.4515\n",
      "[WDM] - Driver [/Users/cblanesg/.wdm/drivers/chromedriver/mac64/92.0.4515.107/chromedriver] found in cache\n"
     ]
    },
    {
     "name": "stdout",
     "output_type": "stream",
     "text": [
      " \n"
     ]
    },
    {
     "name": "stderr",
     "output_type": "stream",
     "text": [
      " 62%|██████▏   | 706/1130 [1:01:15<41:20,  5.85s/it][WDM] - Current google-chrome version is 92.0.4515\n",
      "[WDM] - Get LATEST driver version for 92.0.4515\n",
      "[WDM] - Driver [/Users/cblanesg/.wdm/drivers/chromedriver/mac64/92.0.4515.107/chromedriver] found in cache\n"
     ]
    },
    {
     "name": "stdout",
     "output_type": "stream",
     "text": [
      " \n"
     ]
    },
    {
     "name": "stderr",
     "output_type": "stream",
     "text": [
      " 63%|██████▎   | 707/1130 [1:01:21<40:55,  5.80s/it][WDM] - Current google-chrome version is 92.0.4515\n",
      "[WDM] - Get LATEST driver version for 92.0.4515\n",
      "[WDM] - Driver [/Users/cblanesg/.wdm/drivers/chromedriver/mac64/92.0.4515.107/chromedriver] found in cache\n"
     ]
    },
    {
     "name": "stdout",
     "output_type": "stream",
     "text": [
      " \n"
     ]
    },
    {
     "name": "stderr",
     "output_type": "stream",
     "text": [
      " 63%|██████▎   | 708/1130 [1:01:27<40:20,  5.74s/it][WDM] - Current google-chrome version is 92.0.4515\n",
      "[WDM] - Get LATEST driver version for 92.0.4515\n",
      "[WDM] - Driver [/Users/cblanesg/.wdm/drivers/chromedriver/mac64/92.0.4515.107/chromedriver] found in cache\n"
     ]
    },
    {
     "name": "stdout",
     "output_type": "stream",
     "text": [
      " \n"
     ]
    },
    {
     "name": "stderr",
     "output_type": "stream",
     "text": [
      " 63%|██████▎   | 709/1130 [1:01:32<39:39,  5.65s/it][WDM] - Current google-chrome version is 92.0.4515\n",
      "[WDM] - Get LATEST driver version for 92.0.4515\n",
      "[WDM] - Driver [/Users/cblanesg/.wdm/drivers/chromedriver/mac64/92.0.4515.107/chromedriver] found in cache\n"
     ]
    },
    {
     "name": "stdout",
     "output_type": "stream",
     "text": [
      " \n"
     ]
    },
    {
     "name": "stderr",
     "output_type": "stream",
     "text": [
      " 63%|██████▎   | 710/1130 [1:01:37<38:36,  5.52s/it][WDM] - Current google-chrome version is 92.0.4515\n",
      "[WDM] - Get LATEST driver version for 92.0.4515\n",
      "[WDM] - Driver [/Users/cblanesg/.wdm/drivers/chromedriver/mac64/92.0.4515.107/chromedriver] found in cache\n"
     ]
    },
    {
     "name": "stdout",
     "output_type": "stream",
     "text": [
      " \n"
     ]
    },
    {
     "name": "stderr",
     "output_type": "stream",
     "text": [
      " 63%|██████▎   | 711/1130 [1:01:43<38:59,  5.58s/it][WDM] - Current google-chrome version is 92.0.4515\n",
      "[WDM] - Get LATEST driver version for 92.0.4515\n",
      "[WDM] - Driver [/Users/cblanesg/.wdm/drivers/chromedriver/mac64/92.0.4515.107/chromedriver] found in cache\n"
     ]
    },
    {
     "name": "stdout",
     "output_type": "stream",
     "text": [
      " \n"
     ]
    },
    {
     "name": "stderr",
     "output_type": "stream",
     "text": [
      " 63%|██████▎   | 712/1130 [1:01:49<39:46,  5.71s/it][WDM] - Current google-chrome version is 92.0.4515\n",
      "[WDM] - Get LATEST driver version for 92.0.4515\n",
      "[WDM] - Driver [/Users/cblanesg/.wdm/drivers/chromedriver/mac64/92.0.4515.107/chromedriver] found in cache\n"
     ]
    },
    {
     "name": "stdout",
     "output_type": "stream",
     "text": [
      " \n"
     ]
    },
    {
     "name": "stderr",
     "output_type": "stream",
     "text": [
      " 63%|██████▎   | 713/1130 [1:01:55<39:39,  5.71s/it][WDM] - Current google-chrome version is 92.0.4515\n",
      "[WDM] - Get LATEST driver version for 92.0.4515\n",
      "[WDM] - Driver [/Users/cblanesg/.wdm/drivers/chromedriver/mac64/92.0.4515.107/chromedriver] found in cache\n"
     ]
    },
    {
     "name": "stdout",
     "output_type": "stream",
     "text": [
      " \n"
     ]
    },
    {
     "name": "stderr",
     "output_type": "stream",
     "text": [
      " 63%|██████▎   | 714/1130 [1:02:00<39:11,  5.65s/it][WDM] - Current google-chrome version is 92.0.4515\n",
      "[WDM] - Get LATEST driver version for 92.0.4515\n",
      "[WDM] - Driver [/Users/cblanesg/.wdm/drivers/chromedriver/mac64/92.0.4515.107/chromedriver] found in cache\n"
     ]
    },
    {
     "name": "stdout",
     "output_type": "stream",
     "text": [
      " \n"
     ]
    },
    {
     "name": "stderr",
     "output_type": "stream",
     "text": [
      " 63%|██████▎   | 715/1130 [1:02:06<38:57,  5.63s/it][WDM] - Current google-chrome version is 92.0.4515\n",
      "[WDM] - Get LATEST driver version for 92.0.4515\n",
      "[WDM] - Driver [/Users/cblanesg/.wdm/drivers/chromedriver/mac64/92.0.4515.107/chromedriver] found in cache\n"
     ]
    },
    {
     "name": "stdout",
     "output_type": "stream",
     "text": [
      " \n"
     ]
    },
    {
     "name": "stderr",
     "output_type": "stream",
     "text": [
      " 63%|██████▎   | 716/1130 [1:02:11<38:31,  5.58s/it][WDM] - Current google-chrome version is 92.0.4515\n",
      "[WDM] - Get LATEST driver version for 92.0.4515\n",
      "[WDM] - Driver [/Users/cblanesg/.wdm/drivers/chromedriver/mac64/92.0.4515.107/chromedriver] found in cache\n"
     ]
    },
    {
     "name": "stdout",
     "output_type": "stream",
     "text": [
      " \n"
     ]
    },
    {
     "name": "stderr",
     "output_type": "stream",
     "text": [
      " 63%|██████▎   | 717/1130 [1:02:17<38:12,  5.55s/it][WDM] - Current google-chrome version is 92.0.4515\n",
      "[WDM] - Get LATEST driver version for 92.0.4515\n",
      "[WDM] - Driver [/Users/cblanesg/.wdm/drivers/chromedriver/mac64/92.0.4515.107/chromedriver] found in cache\n"
     ]
    },
    {
     "name": "stdout",
     "output_type": "stream",
     "text": [
      " \n"
     ]
    },
    {
     "name": "stderr",
     "output_type": "stream",
     "text": [
      " 64%|██████▎   | 718/1130 [1:02:22<38:22,  5.59s/it][WDM] - Current google-chrome version is 92.0.4515\n",
      "[WDM] - Get LATEST driver version for 92.0.4515\n",
      "[WDM] - Driver [/Users/cblanesg/.wdm/drivers/chromedriver/mac64/92.0.4515.107/chromedriver] found in cache\n"
     ]
    },
    {
     "name": "stdout",
     "output_type": "stream",
     "text": [
      " \n"
     ]
    },
    {
     "name": "stderr",
     "output_type": "stream",
     "text": [
      " 64%|██████▎   | 719/1130 [1:02:28<37:17,  5.44s/it][WDM] - Current google-chrome version is 92.0.4515\n",
      "[WDM] - Get LATEST driver version for 92.0.4515\n",
      "[WDM] - Driver [/Users/cblanesg/.wdm/drivers/chromedriver/mac64/92.0.4515.107/chromedriver] found in cache\n"
     ]
    },
    {
     "name": "stdout",
     "output_type": "stream",
     "text": [
      " \n"
     ]
    },
    {
     "name": "stderr",
     "output_type": "stream",
     "text": [
      " 64%|██████▎   | 720/1130 [1:02:33<37:34,  5.50s/it][WDM] - Current google-chrome version is 92.0.4515\n",
      "[WDM] - Get LATEST driver version for 92.0.4515\n",
      "[WDM] - Driver [/Users/cblanesg/.wdm/drivers/chromedriver/mac64/92.0.4515.107/chromedriver] found in cache\n"
     ]
    },
    {
     "name": "stdout",
     "output_type": "stream",
     "text": [
      " \n"
     ]
    },
    {
     "name": "stderr",
     "output_type": "stream",
     "text": [
      " 64%|██████▍   | 721/1130 [1:02:39<37:02,  5.43s/it][WDM] - Current google-chrome version is 92.0.4515\n",
      "[WDM] - Get LATEST driver version for 92.0.4515\n",
      "[WDM] - Driver [/Users/cblanesg/.wdm/drivers/chromedriver/mac64/92.0.4515.107/chromedriver] found in cache\n"
     ]
    },
    {
     "name": "stdout",
     "output_type": "stream",
     "text": [
      " \n"
     ]
    },
    {
     "name": "stderr",
     "output_type": "stream",
     "text": [
      " 64%|██████▍   | 722/1130 [1:02:44<37:55,  5.58s/it][WDM] - Current google-chrome version is 92.0.4515\n",
      "[WDM] - Get LATEST driver version for 92.0.4515\n",
      "[WDM] - Driver [/Users/cblanesg/.wdm/drivers/chromedriver/mac64/92.0.4515.107/chromedriver] found in cache\n"
     ]
    },
    {
     "name": "stdout",
     "output_type": "stream",
     "text": [
      " \n"
     ]
    },
    {
     "name": "stderr",
     "output_type": "stream",
     "text": [
      " 64%|██████▍   | 723/1130 [1:02:50<38:17,  5.64s/it][WDM] - Current google-chrome version is 92.0.4515\n",
      "[WDM] - Get LATEST driver version for 92.0.4515\n",
      "[WDM] - Driver [/Users/cblanesg/.wdm/drivers/chromedriver/mac64/92.0.4515.107/chromedriver] found in cache\n"
     ]
    },
    {
     "name": "stdout",
     "output_type": "stream",
     "text": [
      " \n"
     ]
    },
    {
     "name": "stderr",
     "output_type": "stream",
     "text": [
      " 64%|██████▍   | 724/1130 [1:02:56<38:29,  5.69s/it][WDM] - Current google-chrome version is 92.0.4515\n",
      "[WDM] - Get LATEST driver version for 92.0.4515\n",
      "[WDM] - Driver [/Users/cblanesg/.wdm/drivers/chromedriver/mac64/92.0.4515.107/chromedriver] found in cache\n"
     ]
    },
    {
     "name": "stdout",
     "output_type": "stream",
     "text": [
      " \n"
     ]
    },
    {
     "name": "stderr",
     "output_type": "stream",
     "text": [
      " 64%|██████▍   | 725/1130 [1:03:02<38:28,  5.70s/it][WDM] - Current google-chrome version is 92.0.4515\n",
      "[WDM] - Get LATEST driver version for 92.0.4515\n",
      "[WDM] - Driver [/Users/cblanesg/.wdm/drivers/chromedriver/mac64/92.0.4515.107/chromedriver] found in cache\n"
     ]
    },
    {
     "name": "stdout",
     "output_type": "stream",
     "text": [
      " \n"
     ]
    },
    {
     "name": "stderr",
     "output_type": "stream",
     "text": [
      " 64%|██████▍   | 726/1130 [1:03:07<38:18,  5.69s/it][WDM] - Current google-chrome version is 92.0.4515\n",
      "[WDM] - Get LATEST driver version for 92.0.4515\n",
      "[WDM] - Driver [/Users/cblanesg/.wdm/drivers/chromedriver/mac64/92.0.4515.107/chromedriver] found in cache\n"
     ]
    },
    {
     "name": "stdout",
     "output_type": "stream",
     "text": [
      " \n"
     ]
    },
    {
     "name": "stderr",
     "output_type": "stream",
     "text": [
      " 64%|██████▍   | 727/1130 [1:03:14<39:47,  5.93s/it][WDM] - Current google-chrome version is 92.0.4515\n",
      "[WDM] - Get LATEST driver version for 92.0.4515\n",
      "[WDM] - Driver [/Users/cblanesg/.wdm/drivers/chromedriver/mac64/92.0.4515.107/chromedriver] found in cache\n"
     ]
    },
    {
     "name": "stdout",
     "output_type": "stream",
     "text": [
      " \n"
     ]
    },
    {
     "name": "stderr",
     "output_type": "stream",
     "text": [
      " 64%|██████▍   | 728/1130 [1:03:20<39:17,  5.86s/it][WDM] - Current google-chrome version is 92.0.4515\n",
      "[WDM] - Get LATEST driver version for 92.0.4515\n",
      "[WDM] - Driver [/Users/cblanesg/.wdm/drivers/chromedriver/mac64/92.0.4515.107/chromedriver] found in cache\n"
     ]
    },
    {
     "name": "stdout",
     "output_type": "stream",
     "text": [
      " \n"
     ]
    },
    {
     "name": "stderr",
     "output_type": "stream",
     "text": [
      " 65%|██████▍   | 729/1130 [1:03:25<38:31,  5.76s/it][WDM] - Current google-chrome version is 92.0.4515\n",
      "[WDM] - Get LATEST driver version for 92.0.4515\n",
      "[WDM] - Driver [/Users/cblanesg/.wdm/drivers/chromedriver/mac64/92.0.4515.107/chromedriver] found in cache\n"
     ]
    },
    {
     "name": "stdout",
     "output_type": "stream",
     "text": [
      " \n"
     ]
    },
    {
     "name": "stderr",
     "output_type": "stream",
     "text": [
      " 65%|██████▍   | 730/1130 [1:03:31<38:32,  5.78s/it][WDM] - Current google-chrome version is 92.0.4515\n",
      "[WDM] - Get LATEST driver version for 92.0.4515\n",
      "[WDM] - Driver [/Users/cblanesg/.wdm/drivers/chromedriver/mac64/92.0.4515.107/chromedriver] found in cache\n"
     ]
    },
    {
     "name": "stdout",
     "output_type": "stream",
     "text": [
      " \n"
     ]
    },
    {
     "name": "stderr",
     "output_type": "stream",
     "text": [
      " 65%|██████▍   | 731/1130 [1:03:37<38:47,  5.83s/it][WDM] - Current google-chrome version is 92.0.4515\n",
      "[WDM] - Get LATEST driver version for 92.0.4515\n",
      "[WDM] - Driver [/Users/cblanesg/.wdm/drivers/chromedriver/mac64/92.0.4515.107/chromedriver] found in cache\n"
     ]
    },
    {
     "name": "stdout",
     "output_type": "stream",
     "text": [
      " \n"
     ]
    },
    {
     "name": "stderr",
     "output_type": "stream",
     "text": [
      " 65%|██████▍   | 732/1130 [1:03:42<37:47,  5.70s/it][WDM] - Current google-chrome version is 92.0.4515\n",
      "[WDM] - Get LATEST driver version for 92.0.4515\n",
      "[WDM] - Driver [/Users/cblanesg/.wdm/drivers/chromedriver/mac64/92.0.4515.107/chromedriver] found in cache\n"
     ]
    },
    {
     "name": "stdout",
     "output_type": "stream",
     "text": [
      " \n"
     ]
    },
    {
     "name": "stderr",
     "output_type": "stream",
     "text": [
      " 65%|██████▍   | 733/1130 [1:03:48<37:34,  5.68s/it][WDM] - Current google-chrome version is 92.0.4515\n",
      "[WDM] - Get LATEST driver version for 92.0.4515\n",
      "[WDM] - Driver [/Users/cblanesg/.wdm/drivers/chromedriver/mac64/92.0.4515.107/chromedriver] found in cache\n"
     ]
    },
    {
     "name": "stdout",
     "output_type": "stream",
     "text": [
      " \n"
     ]
    },
    {
     "name": "stderr",
     "output_type": "stream",
     "text": [
      " 65%|██████▍   | 734/1130 [1:03:53<36:52,  5.59s/it][WDM] - Current google-chrome version is 92.0.4515\n",
      "[WDM] - Get LATEST driver version for 92.0.4515\n",
      "[WDM] - Driver [/Users/cblanesg/.wdm/drivers/chromedriver/mac64/92.0.4515.107/chromedriver] found in cache\n"
     ]
    },
    {
     "name": "stdout",
     "output_type": "stream",
     "text": [
      " \n"
     ]
    },
    {
     "name": "stderr",
     "output_type": "stream",
     "text": [
      " 65%|██████▌   | 735/1130 [1:03:58<35:29,  5.39s/it][WDM] - Current google-chrome version is 92.0.4515\n",
      "[WDM] - Get LATEST driver version for 92.0.4515\n",
      "[WDM] - Driver [/Users/cblanesg/.wdm/drivers/chromedriver/mac64/92.0.4515.107/chromedriver] found in cache\n"
     ]
    },
    {
     "name": "stdout",
     "output_type": "stream",
     "text": [
      " \n"
     ]
    },
    {
     "name": "stderr",
     "output_type": "stream",
     "text": [
      " 65%|██████▌   | 736/1130 [1:04:04<35:11,  5.36s/it][WDM] - Current google-chrome version is 92.0.4515\n",
      "[WDM] - Get LATEST driver version for 92.0.4515\n",
      "[WDM] - Driver [/Users/cblanesg/.wdm/drivers/chromedriver/mac64/92.0.4515.107/chromedriver] found in cache\n"
     ]
    },
    {
     "name": "stdout",
     "output_type": "stream",
     "text": [
      " \n"
     ]
    },
    {
     "name": "stderr",
     "output_type": "stream",
     "text": [
      " 65%|██████▌   | 737/1130 [1:04:09<35:30,  5.42s/it][WDM] - Current google-chrome version is 92.0.4515\n",
      "[WDM] - Get LATEST driver version for 92.0.4515\n",
      "[WDM] - Driver [/Users/cblanesg/.wdm/drivers/chromedriver/mac64/92.0.4515.107/chromedriver] found in cache\n"
     ]
    },
    {
     "name": "stdout",
     "output_type": "stream",
     "text": [
      " \n"
     ]
    },
    {
     "name": "stderr",
     "output_type": "stream",
     "text": [
      " 65%|██████▌   | 738/1130 [1:04:15<35:50,  5.49s/it][WDM] - Current google-chrome version is 92.0.4515\n",
      "[WDM] - Get LATEST driver version for 92.0.4515\n",
      "[WDM] - Driver [/Users/cblanesg/.wdm/drivers/chromedriver/mac64/92.0.4515.107/chromedriver] found in cache\n"
     ]
    },
    {
     "name": "stdout",
     "output_type": "stream",
     "text": [
      " \n"
     ]
    },
    {
     "name": "stderr",
     "output_type": "stream",
     "text": [
      " 65%|██████▌   | 739/1130 [1:04:20<35:21,  5.43s/it][WDM] - Current google-chrome version is 92.0.4515\n",
      "[WDM] - Get LATEST driver version for 92.0.4515\n",
      "[WDM] - Driver [/Users/cblanesg/.wdm/drivers/chromedriver/mac64/92.0.4515.107/chromedriver] found in cache\n"
     ]
    },
    {
     "name": "stdout",
     "output_type": "stream",
     "text": [
      " \n"
     ]
    },
    {
     "name": "stderr",
     "output_type": "stream",
     "text": [
      " 65%|██████▌   | 740/1130 [1:04:25<35:21,  5.44s/it][WDM] - Current google-chrome version is 92.0.4515\n",
      "[WDM] - Get LATEST driver version for 92.0.4515\n",
      "[WDM] - Driver [/Users/cblanesg/.wdm/drivers/chromedriver/mac64/92.0.4515.107/chromedriver] found in cache\n"
     ]
    },
    {
     "name": "stdout",
     "output_type": "stream",
     "text": [
      " \n"
     ]
    },
    {
     "name": "stderr",
     "output_type": "stream",
     "text": [
      " 66%|██████▌   | 741/1130 [1:04:31<35:26,  5.47s/it][WDM] - Current google-chrome version is 92.0.4515\n",
      "[WDM] - Get LATEST driver version for 92.0.4515\n",
      "[WDM] - Driver [/Users/cblanesg/.wdm/drivers/chromedriver/mac64/92.0.4515.107/chromedriver] found in cache\n"
     ]
    },
    {
     "name": "stdout",
     "output_type": "stream",
     "text": [
      " \n"
     ]
    },
    {
     "name": "stderr",
     "output_type": "stream",
     "text": [
      " 66%|██████▌   | 742/1130 [1:04:36<35:00,  5.41s/it][WDM] - Current google-chrome version is 92.0.4515\n",
      "[WDM] - Get LATEST driver version for 92.0.4515\n",
      "[WDM] - Driver [/Users/cblanesg/.wdm/drivers/chromedriver/mac64/92.0.4515.107/chromedriver] found in cache\n"
     ]
    },
    {
     "name": "stdout",
     "output_type": "stream",
     "text": [
      " \n"
     ]
    },
    {
     "name": "stderr",
     "output_type": "stream",
     "text": [
      " 66%|██████▌   | 743/1130 [1:04:42<35:27,  5.50s/it][WDM] - Current google-chrome version is 92.0.4515\n",
      "[WDM] - Get LATEST driver version for 92.0.4515\n",
      "[WDM] - Driver [/Users/cblanesg/.wdm/drivers/chromedriver/mac64/92.0.4515.107/chromedriver] found in cache\n"
     ]
    },
    {
     "name": "stdout",
     "output_type": "stream",
     "text": [
      " \n"
     ]
    },
    {
     "name": "stderr",
     "output_type": "stream",
     "text": [
      " 66%|██████▌   | 744/1130 [1:04:47<34:46,  5.41s/it][WDM] - Current google-chrome version is 92.0.4515\n",
      "[WDM] - Get LATEST driver version for 92.0.4515\n"
     ]
    },
    {
     "name": "stdout",
     "output_type": "stream",
     "text": [
      " \n"
     ]
    },
    {
     "name": "stderr",
     "output_type": "stream",
     "text": [
      "[WDM] - Driver [/Users/cblanesg/.wdm/drivers/chromedriver/mac64/92.0.4515.107/chromedriver] found in cache\n",
      " 66%|██████▌   | 745/1130 [1:04:52<33:40,  5.25s/it][WDM] - Current google-chrome version is 92.0.4515\n",
      "[WDM] - Get LATEST driver version for 92.0.4515\n",
      "[WDM] - Driver [/Users/cblanesg/.wdm/drivers/chromedriver/mac64/92.0.4515.107/chromedriver] found in cache\n"
     ]
    },
    {
     "name": "stdout",
     "output_type": "stream",
     "text": [
      " \n"
     ]
    },
    {
     "name": "stderr",
     "output_type": "stream",
     "text": [
      " 66%|██████▌   | 746/1130 [1:04:57<33:49,  5.28s/it][WDM] - Current google-chrome version is 92.0.4515\n",
      "[WDM] - Get LATEST driver version for 92.0.4515\n",
      "[WDM] - Driver [/Users/cblanesg/.wdm/drivers/chromedriver/mac64/92.0.4515.107/chromedriver] found in cache\n"
     ]
    },
    {
     "name": "stdout",
     "output_type": "stream",
     "text": [
      " \n"
     ]
    },
    {
     "name": "stderr",
     "output_type": "stream",
     "text": [
      " 66%|██████▌   | 747/1130 [1:05:03<35:09,  5.51s/it][WDM] - Current google-chrome version is 92.0.4515\n",
      "[WDM] - Get LATEST driver version for 92.0.4515\n",
      "[WDM] - Driver [/Users/cblanesg/.wdm/drivers/chromedriver/mac64/92.0.4515.107/chromedriver] found in cache\n"
     ]
    },
    {
     "name": "stdout",
     "output_type": "stream",
     "text": [
      " \n"
     ]
    },
    {
     "name": "stderr",
     "output_type": "stream",
     "text": [
      " 66%|██████▌   | 748/1130 [1:05:08<33:33,  5.27s/it][WDM] - Current google-chrome version is 92.0.4515\n",
      "[WDM] - Get LATEST driver version for 92.0.4515\n",
      "[WDM] - Driver [/Users/cblanesg/.wdm/drivers/chromedriver/mac64/92.0.4515.107/chromedriver] found in cache\n"
     ]
    },
    {
     "name": "stdout",
     "output_type": "stream",
     "text": [
      " \n"
     ]
    },
    {
     "name": "stderr",
     "output_type": "stream",
     "text": [
      " 66%|██████▋   | 749/1130 [1:05:15<35:34,  5.60s/it][WDM] - Current google-chrome version is 92.0.4515\n",
      "[WDM] - Get LATEST driver version for 92.0.4515\n",
      "[WDM] - Driver [/Users/cblanesg/.wdm/drivers/chromedriver/mac64/92.0.4515.107/chromedriver] found in cache\n"
     ]
    },
    {
     "name": "stdout",
     "output_type": "stream",
     "text": [
      " \n"
     ]
    },
    {
     "name": "stderr",
     "output_type": "stream",
     "text": [
      " 66%|██████▋   | 750/1130 [1:05:20<35:32,  5.61s/it][WDM] - Current google-chrome version is 92.0.4515\n",
      "[WDM] - Get LATEST driver version for 92.0.4515\n",
      "[WDM] - Driver [/Users/cblanesg/.wdm/drivers/chromedriver/mac64/92.0.4515.107/chromedriver] found in cache\n"
     ]
    },
    {
     "name": "stdout",
     "output_type": "stream",
     "text": [
      " \n"
     ]
    },
    {
     "name": "stderr",
     "output_type": "stream",
     "text": [
      " 66%|██████▋   | 751/1130 [1:05:26<35:19,  5.59s/it][WDM] - Current google-chrome version is 92.0.4515\n",
      "[WDM] - Get LATEST driver version for 92.0.4515\n",
      "[WDM] - Driver [/Users/cblanesg/.wdm/drivers/chromedriver/mac64/92.0.4515.107/chromedriver] found in cache\n"
     ]
    },
    {
     "name": "stdout",
     "output_type": "stream",
     "text": [
      " \n"
     ]
    },
    {
     "name": "stderr",
     "output_type": "stream",
     "text": [
      " 67%|██████▋   | 752/1130 [1:05:31<34:34,  5.49s/it][WDM] - Current google-chrome version is 92.0.4515\n",
      "[WDM] - Get LATEST driver version for 92.0.4515\n",
      "[WDM] - Driver [/Users/cblanesg/.wdm/drivers/chromedriver/mac64/92.0.4515.107/chromedriver] found in cache\n"
     ]
    },
    {
     "name": "stdout",
     "output_type": "stream",
     "text": [
      " \n"
     ]
    },
    {
     "name": "stderr",
     "output_type": "stream",
     "text": [
      " 67%|██████▋   | 753/1130 [1:05:36<33:53,  5.39s/it][WDM] - Current google-chrome version is 92.0.4515\n",
      "[WDM] - Get LATEST driver version for 92.0.4515\n",
      "[WDM] - Driver [/Users/cblanesg/.wdm/drivers/chromedriver/mac64/92.0.4515.107/chromedriver] found in cache\n"
     ]
    },
    {
     "name": "stdout",
     "output_type": "stream",
     "text": [
      " \n"
     ]
    },
    {
     "name": "stderr",
     "output_type": "stream",
     "text": [
      " 67%|██████▋   | 754/1130 [1:05:41<32:58,  5.26s/it][WDM] - Current google-chrome version is 92.0.4515\n",
      "[WDM] - Get LATEST driver version for 92.0.4515\n",
      "[WDM] - Driver [/Users/cblanesg/.wdm/drivers/chromedriver/mac64/92.0.4515.107/chromedriver] found in cache\n"
     ]
    },
    {
     "name": "stdout",
     "output_type": "stream",
     "text": [
      " \n"
     ]
    },
    {
     "name": "stderr",
     "output_type": "stream",
     "text": [
      " 67%|██████▋   | 755/1130 [1:05:46<32:00,  5.12s/it][WDM] - Current google-chrome version is 92.0.4515\n",
      "[WDM] - Get LATEST driver version for 92.0.4515\n",
      "[WDM] - Driver [/Users/cblanesg/.wdm/drivers/chromedriver/mac64/92.0.4515.107/chromedriver] found in cache\n"
     ]
    },
    {
     "name": "stdout",
     "output_type": "stream",
     "text": [
      " \n"
     ]
    },
    {
     "name": "stderr",
     "output_type": "stream",
     "text": [
      " 67%|██████▋   | 756/1130 [1:05:51<32:24,  5.20s/it][WDM] - Current google-chrome version is 92.0.4515\n",
      "[WDM] - Get LATEST driver version for 92.0.4515\n",
      "[WDM] - Driver [/Users/cblanesg/.wdm/drivers/chromedriver/mac64/92.0.4515.107/chromedriver] found in cache\n"
     ]
    },
    {
     "name": "stdout",
     "output_type": "stream",
     "text": [
      " \n"
     ]
    },
    {
     "name": "stderr",
     "output_type": "stream",
     "text": [
      " 67%|██████▋   | 757/1130 [1:05:57<32:29,  5.23s/it][WDM] - Current google-chrome version is 92.0.4515\n",
      "[WDM] - Get LATEST driver version for 92.0.4515\n",
      "[WDM] - Driver [/Users/cblanesg/.wdm/drivers/chromedriver/mac64/92.0.4515.107/chromedriver] found in cache\n"
     ]
    },
    {
     "name": "stdout",
     "output_type": "stream",
     "text": [
      " \n"
     ]
    },
    {
     "name": "stderr",
     "output_type": "stream",
     "text": [
      " 67%|██████▋   | 758/1130 [1:06:02<31:59,  5.16s/it][WDM] - Current google-chrome version is 92.0.4515\n",
      "[WDM] - Get LATEST driver version for 92.0.4515\n",
      "[WDM] - Driver [/Users/cblanesg/.wdm/drivers/chromedriver/mac64/92.0.4515.107/chromedriver] found in cache\n"
     ]
    },
    {
     "name": "stdout",
     "output_type": "stream",
     "text": [
      " \n"
     ]
    },
    {
     "name": "stderr",
     "output_type": "stream",
     "text": [
      " 67%|██████▋   | 759/1130 [1:06:07<31:45,  5.14s/it][WDM] - Current google-chrome version is 92.0.4515\n",
      "[WDM] - Get LATEST driver version for 92.0.4515\n",
      "[WDM] - Driver [/Users/cblanesg/.wdm/drivers/chromedriver/mac64/92.0.4515.107/chromedriver] found in cache\n"
     ]
    },
    {
     "name": "stdout",
     "output_type": "stream",
     "text": [
      " \n"
     ]
    },
    {
     "name": "stderr",
     "output_type": "stream",
     "text": [
      " 67%|██████▋   | 760/1130 [1:06:12<31:32,  5.12s/it][WDM] - Current google-chrome version is 92.0.4515\n",
      "[WDM] - Get LATEST driver version for 92.0.4515\n",
      "[WDM] - Driver [/Users/cblanesg/.wdm/drivers/chromedriver/mac64/92.0.4515.107/chromedriver] found in cache\n"
     ]
    },
    {
     "name": "stdout",
     "output_type": "stream",
     "text": [
      " \n"
     ]
    },
    {
     "name": "stderr",
     "output_type": "stream",
     "text": [
      " 67%|██████▋   | 761/1130 [1:06:17<31:03,  5.05s/it][WDM] - Current google-chrome version is 92.0.4515\n",
      "[WDM] - Get LATEST driver version for 92.0.4515\n",
      "[WDM] - Driver [/Users/cblanesg/.wdm/drivers/chromedriver/mac64/92.0.4515.107/chromedriver] found in cache\n"
     ]
    },
    {
     "name": "stdout",
     "output_type": "stream",
     "text": [
      " \n"
     ]
    },
    {
     "name": "stderr",
     "output_type": "stream",
     "text": [
      " 67%|██████▋   | 762/1130 [1:06:22<30:47,  5.02s/it][WDM] - Current google-chrome version is 92.0.4515\n",
      "[WDM] - Get LATEST driver version for 92.0.4515\n",
      "[WDM] - Driver [/Users/cblanesg/.wdm/drivers/chromedriver/mac64/92.0.4515.107/chromedriver] found in cache\n"
     ]
    },
    {
     "name": "stdout",
     "output_type": "stream",
     "text": [
      " \n"
     ]
    },
    {
     "name": "stderr",
     "output_type": "stream",
     "text": [
      " 68%|██████▊   | 763/1130 [1:06:27<30:50,  5.04s/it][WDM] - Current google-chrome version is 92.0.4515\n",
      "[WDM] - Get LATEST driver version for 92.0.4515\n",
      "[WDM] - Driver [/Users/cblanesg/.wdm/drivers/chromedriver/mac64/92.0.4515.107/chromedriver] found in cache\n"
     ]
    },
    {
     "name": "stdout",
     "output_type": "stream",
     "text": [
      " \n"
     ]
    },
    {
     "name": "stderr",
     "output_type": "stream",
     "text": [
      " 68%|██████▊   | 764/1130 [1:06:32<30:51,  5.06s/it][WDM] - Current google-chrome version is 92.0.4515\n",
      "[WDM] - Get LATEST driver version for 92.0.4515\n",
      "[WDM] - Driver [/Users/cblanesg/.wdm/drivers/chromedriver/mac64/92.0.4515.107/chromedriver] found in cache\n"
     ]
    },
    {
     "name": "stdout",
     "output_type": "stream",
     "text": [
      " \n"
     ]
    },
    {
     "name": "stderr",
     "output_type": "stream",
     "text": [
      " 68%|██████▊   | 765/1130 [1:06:37<30:20,  4.99s/it][WDM] - Current google-chrome version is 92.0.4515\n",
      "[WDM] - Get LATEST driver version for 92.0.4515\n",
      "[WDM] - Driver [/Users/cblanesg/.wdm/drivers/chromedriver/mac64/92.0.4515.107/chromedriver] found in cache\n"
     ]
    },
    {
     "name": "stdout",
     "output_type": "stream",
     "text": [
      " \n"
     ]
    },
    {
     "name": "stderr",
     "output_type": "stream",
     "text": [
      " 68%|██████▊   | 766/1130 [1:06:42<30:45,  5.07s/it][WDM] - Current google-chrome version is 92.0.4515\n",
      "[WDM] - Get LATEST driver version for 92.0.4515\n",
      "[WDM] - Driver [/Users/cblanesg/.wdm/drivers/chromedriver/mac64/92.0.4515.107/chromedriver] found in cache\n"
     ]
    },
    {
     "name": "stdout",
     "output_type": "stream",
     "text": [
      " \n"
     ]
    },
    {
     "name": "stderr",
     "output_type": "stream",
     "text": [
      " 68%|██████▊   | 767/1130 [1:06:47<30:38,  5.06s/it][WDM] - Current google-chrome version is 92.0.4515\n",
      "[WDM] - Get LATEST driver version for 92.0.4515\n",
      "[WDM] - Driver [/Users/cblanesg/.wdm/drivers/chromedriver/mac64/92.0.4515.107/chromedriver] found in cache\n"
     ]
    },
    {
     "name": "stdout",
     "output_type": "stream",
     "text": [
      " \n"
     ]
    },
    {
     "name": "stderr",
     "output_type": "stream",
     "text": [
      " 68%|██████▊   | 768/1130 [1:06:52<30:28,  5.05s/it][WDM] - Current google-chrome version is 92.0.4515\n",
      "[WDM] - Get LATEST driver version for 92.0.4515\n",
      "[WDM] - Driver [/Users/cblanesg/.wdm/drivers/chromedriver/mac64/92.0.4515.107/chromedriver] found in cache\n"
     ]
    },
    {
     "name": "stdout",
     "output_type": "stream",
     "text": [
      " \n"
     ]
    },
    {
     "name": "stderr",
     "output_type": "stream",
     "text": [
      " 68%|██████▊   | 769/1130 [1:06:57<30:14,  5.03s/it][WDM] - Current google-chrome version is 92.0.4515\n",
      "[WDM] - Get LATEST driver version for 92.0.4515\n",
      "[WDM] - Driver [/Users/cblanesg/.wdm/drivers/chromedriver/mac64/92.0.4515.107/chromedriver] found in cache\n"
     ]
    },
    {
     "name": "stdout",
     "output_type": "stream",
     "text": [
      " \n"
     ]
    },
    {
     "name": "stderr",
     "output_type": "stream",
     "text": [
      " 68%|██████▊   | 770/1130 [1:07:02<29:37,  4.94s/it][WDM] - Current google-chrome version is 92.0.4515\n",
      "[WDM] - Get LATEST driver version for 92.0.4515\n",
      "[WDM] - Driver [/Users/cblanesg/.wdm/drivers/chromedriver/mac64/92.0.4515.107/chromedriver] found in cache\n"
     ]
    },
    {
     "name": "stdout",
     "output_type": "stream",
     "text": [
      " \n"
     ]
    },
    {
     "name": "stderr",
     "output_type": "stream",
     "text": [
      " 68%|██████▊   | 771/1130 [1:07:07<29:34,  4.94s/it][WDM] - Current google-chrome version is 92.0.4515\n",
      "[WDM] - Get LATEST driver version for 92.0.4515\n",
      "[WDM] - Driver [/Users/cblanesg/.wdm/drivers/chromedriver/mac64/92.0.4515.107/chromedriver] found in cache\n"
     ]
    },
    {
     "name": "stdout",
     "output_type": "stream",
     "text": [
      " \n"
     ]
    },
    {
     "name": "stderr",
     "output_type": "stream",
     "text": [
      " 68%|██████▊   | 772/1130 [1:07:12<30:29,  5.11s/it][WDM] - Current google-chrome version is 92.0.4515\n",
      "[WDM] - Get LATEST driver version for 92.0.4515\n",
      "[WDM] - Driver [/Users/cblanesg/.wdm/drivers/chromedriver/mac64/92.0.4515.107/chromedriver] found in cache\n"
     ]
    },
    {
     "name": "stdout",
     "output_type": "stream",
     "text": [
      " \n"
     ]
    },
    {
     "name": "stderr",
     "output_type": "stream",
     "text": [
      " 68%|██████▊   | 773/1130 [1:07:17<30:14,  5.08s/it][WDM] - Current google-chrome version is 92.0.4515\n",
      "[WDM] - Get LATEST driver version for 92.0.4515\n",
      "[WDM] - Driver [/Users/cblanesg/.wdm/drivers/chromedriver/mac64/92.0.4515.107/chromedriver] found in cache\n"
     ]
    },
    {
     "name": "stdout",
     "output_type": "stream",
     "text": [
      " \n"
     ]
    },
    {
     "name": "stderr",
     "output_type": "stream",
     "text": [
      " 68%|██████▊   | 774/1130 [1:07:22<29:42,  5.01s/it][WDM] - Current google-chrome version is 92.0.4515\n",
      "[WDM] - Get LATEST driver version for 92.0.4515\n",
      "[WDM] - Driver [/Users/cblanesg/.wdm/drivers/chromedriver/mac64/92.0.4515.107/chromedriver] found in cache\n"
     ]
    },
    {
     "name": "stdout",
     "output_type": "stream",
     "text": [
      " \n"
     ]
    },
    {
     "name": "stderr",
     "output_type": "stream",
     "text": [
      " 69%|██████▊   | 775/1130 [1:07:27<29:07,  4.92s/it][WDM] - Current google-chrome version is 92.0.4515\n",
      "[WDM] - Get LATEST driver version for 92.0.4515\n",
      "[WDM] - Driver [/Users/cblanesg/.wdm/drivers/chromedriver/mac64/92.0.4515.107/chromedriver] found in cache\n"
     ]
    },
    {
     "name": "stdout",
     "output_type": "stream",
     "text": [
      " \n"
     ]
    },
    {
     "name": "stderr",
     "output_type": "stream",
     "text": [
      " 69%|██████▊   | 776/1130 [1:07:32<28:57,  4.91s/it][WDM] - Current google-chrome version is 92.0.4515\n",
      "[WDM] - Get LATEST driver version for 92.0.4515\n",
      "[WDM] - Driver [/Users/cblanesg/.wdm/drivers/chromedriver/mac64/92.0.4515.107/chromedriver] found in cache\n"
     ]
    },
    {
     "name": "stdout",
     "output_type": "stream",
     "text": [
      " \n"
     ]
    },
    {
     "name": "stderr",
     "output_type": "stream",
     "text": [
      " 69%|██████▉   | 777/1130 [1:07:37<29:21,  4.99s/it][WDM] - Current google-chrome version is 92.0.4515\n",
      "[WDM] - Get LATEST driver version for 92.0.4515\n",
      "[WDM] - Driver [/Users/cblanesg/.wdm/drivers/chromedriver/mac64/92.0.4515.107/chromedriver] found in cache\n"
     ]
    },
    {
     "name": "stdout",
     "output_type": "stream",
     "text": [
      " \n"
     ]
    },
    {
     "name": "stderr",
     "output_type": "stream",
     "text": [
      " 69%|██████▉   | 778/1130 [1:07:43<31:48,  5.42s/it][WDM] - Current google-chrome version is 92.0.4515\n",
      "[WDM] - Get LATEST driver version for 92.0.4515\n",
      "[WDM] - Driver [/Users/cblanesg/.wdm/drivers/chromedriver/mac64/92.0.4515.107/chromedriver] found in cache\n"
     ]
    },
    {
     "name": "stdout",
     "output_type": "stream",
     "text": [
      " \n"
     ]
    },
    {
     "name": "stderr",
     "output_type": "stream",
     "text": [
      " 69%|██████▉   | 779/1130 [1:07:48<31:02,  5.31s/it][WDM] - Current google-chrome version is 92.0.4515\n",
      "[WDM] - Get LATEST driver version for 92.0.4515\n",
      "[WDM] - Driver [/Users/cblanesg/.wdm/drivers/chromedriver/mac64/92.0.4515.107/chromedriver] found in cache\n"
     ]
    },
    {
     "name": "stdout",
     "output_type": "stream",
     "text": [
      " \n"
     ]
    },
    {
     "name": "stderr",
     "output_type": "stream",
     "text": [
      " 69%|██████▉   | 780/1130 [1:07:53<30:31,  5.23s/it][WDM] - Current google-chrome version is 92.0.4515\n",
      "[WDM] - Get LATEST driver version for 92.0.4515\n",
      "[WDM] - Driver [/Users/cblanesg/.wdm/drivers/chromedriver/mac64/92.0.4515.107/chromedriver] found in cache\n"
     ]
    },
    {
     "name": "stdout",
     "output_type": "stream",
     "text": [
      " \n"
     ]
    },
    {
     "name": "stderr",
     "output_type": "stream",
     "text": [
      " 69%|██████▉   | 781/1130 [1:07:59<30:45,  5.29s/it][WDM] - Current google-chrome version is 92.0.4515\n",
      "[WDM] - Get LATEST driver version for 92.0.4515\n",
      "[WDM] - Driver [/Users/cblanesg/.wdm/drivers/chromedriver/mac64/92.0.4515.107/chromedriver] found in cache\n"
     ]
    },
    {
     "name": "stdout",
     "output_type": "stream",
     "text": [
      " \n"
     ]
    },
    {
     "name": "stderr",
     "output_type": "stream",
     "text": [
      " 69%|██████▉   | 782/1130 [1:08:03<29:49,  5.14s/it][WDM] - Current google-chrome version is 92.0.4515\n",
      "[WDM] - Get LATEST driver version for 92.0.4515\n",
      "[WDM] - Driver [/Users/cblanesg/.wdm/drivers/chromedriver/mac64/92.0.4515.107/chromedriver] found in cache\n"
     ]
    },
    {
     "name": "stdout",
     "output_type": "stream",
     "text": [
      " \n"
     ]
    },
    {
     "name": "stderr",
     "output_type": "stream",
     "text": [
      " 69%|██████▉   | 783/1130 [1:08:08<29:35,  5.12s/it][WDM] - Current google-chrome version is 92.0.4515\n",
      "[WDM] - Get LATEST driver version for 92.0.4515\n",
      "[WDM] - Driver [/Users/cblanesg/.wdm/drivers/chromedriver/mac64/92.0.4515.107/chromedriver] found in cache\n"
     ]
    },
    {
     "name": "stdout",
     "output_type": "stream",
     "text": [
      " \n"
     ]
    },
    {
     "name": "stderr",
     "output_type": "stream",
     "text": [
      " 69%|██████▉   | 784/1130 [1:08:14<29:19,  5.09s/it][WDM] - Current google-chrome version is 92.0.4515\n",
      "[WDM] - Get LATEST driver version for 92.0.4515\n",
      "[WDM] - Driver [/Users/cblanesg/.wdm/drivers/chromedriver/mac64/92.0.4515.107/chromedriver] found in cache\n"
     ]
    },
    {
     "name": "stdout",
     "output_type": "stream",
     "text": [
      " \n"
     ]
    },
    {
     "name": "stderr",
     "output_type": "stream",
     "text": [
      " 69%|██████▉   | 785/1130 [1:08:19<29:06,  5.06s/it][WDM] - Current google-chrome version is 92.0.4515\n",
      "[WDM] - Get LATEST driver version for 92.0.4515\n",
      "[WDM] - Driver [/Users/cblanesg/.wdm/drivers/chromedriver/mac64/92.0.4515.107/chromedriver] found in cache\n"
     ]
    },
    {
     "name": "stdout",
     "output_type": "stream",
     "text": [
      " \n"
     ]
    },
    {
     "name": "stderr",
     "output_type": "stream",
     "text": [
      " 70%|██████▉   | 786/1130 [1:08:24<29:34,  5.16s/it][WDM] - Current google-chrome version is 92.0.4515\n",
      "[WDM] - Get LATEST driver version for 92.0.4515\n",
      "[WDM] - Driver [/Users/cblanesg/.wdm/drivers/chromedriver/mac64/92.0.4515.107/chromedriver] found in cache\n"
     ]
    },
    {
     "name": "stdout",
     "output_type": "stream",
     "text": [
      " \n"
     ]
    },
    {
     "name": "stderr",
     "output_type": "stream",
     "text": [
      " 70%|██████▉   | 787/1130 [1:08:29<29:03,  5.08s/it][WDM] - Current google-chrome version is 92.0.4515\n",
      "[WDM] - Get LATEST driver version for 92.0.4515\n",
      "[WDM] - Driver [/Users/cblanesg/.wdm/drivers/chromedriver/mac64/92.0.4515.107/chromedriver] found in cache\n"
     ]
    },
    {
     "name": "stdout",
     "output_type": "stream",
     "text": [
      " \n"
     ]
    },
    {
     "name": "stderr",
     "output_type": "stream",
     "text": [
      " 70%|██████▉   | 788/1130 [1:08:34<28:47,  5.05s/it][WDM] - Current google-chrome version is 92.0.4515\n",
      "[WDM] - Get LATEST driver version for 92.0.4515\n",
      "[WDM] - Driver [/Users/cblanesg/.wdm/drivers/chromedriver/mac64/92.0.4515.107/chromedriver] found in cache\n"
     ]
    },
    {
     "name": "stdout",
     "output_type": "stream",
     "text": [
      " \n"
     ]
    },
    {
     "name": "stderr",
     "output_type": "stream",
     "text": [
      " 70%|██████▉   | 789/1130 [1:08:39<28:16,  4.97s/it][WDM] - Current google-chrome version is 92.0.4515\n",
      "[WDM] - Get LATEST driver version for 92.0.4515\n",
      "[WDM] - Driver [/Users/cblanesg/.wdm/drivers/chromedriver/mac64/92.0.4515.107/chromedriver] found in cache\n"
     ]
    },
    {
     "name": "stdout",
     "output_type": "stream",
     "text": [
      " \n"
     ]
    },
    {
     "name": "stderr",
     "output_type": "stream",
     "text": [
      " 70%|██████▉   | 790/1130 [1:08:43<27:56,  4.93s/it][WDM] - Current google-chrome version is 92.0.4515\n",
      "[WDM] - Get LATEST driver version for 92.0.4515\n",
      "[WDM] - Driver [/Users/cblanesg/.wdm/drivers/chromedriver/mac64/92.0.4515.107/chromedriver] found in cache\n"
     ]
    },
    {
     "name": "stdout",
     "output_type": "stream",
     "text": [
      " \n"
     ]
    },
    {
     "name": "stderr",
     "output_type": "stream",
     "text": [
      " 70%|███████   | 791/1130 [1:08:48<27:18,  4.83s/it][WDM] - Current google-chrome version is 92.0.4515\n",
      "[WDM] - Get LATEST driver version for 92.0.4515\n",
      "[WDM] - Driver [/Users/cblanesg/.wdm/drivers/chromedriver/mac64/92.0.4515.107/chromedriver] found in cache\n"
     ]
    },
    {
     "name": "stdout",
     "output_type": "stream",
     "text": [
      " \n"
     ]
    },
    {
     "name": "stderr",
     "output_type": "stream",
     "text": [
      " 70%|███████   | 792/1130 [1:08:52<26:27,  4.70s/it][WDM] - Current google-chrome version is 92.0.4515\n",
      "[WDM] - Get LATEST driver version for 92.0.4515\n",
      "[WDM] - Driver [/Users/cblanesg/.wdm/drivers/chromedriver/mac64/92.0.4515.107/chromedriver] found in cache\n"
     ]
    },
    {
     "name": "stdout",
     "output_type": "stream",
     "text": [
      " \n"
     ]
    },
    {
     "name": "stderr",
     "output_type": "stream",
     "text": [
      " 70%|███████   | 793/1130 [1:08:57<26:06,  4.65s/it][WDM] - Current google-chrome version is 92.0.4515\n",
      "[WDM] - Get LATEST driver version for 92.0.4515\n",
      "[WDM] - Driver [/Users/cblanesg/.wdm/drivers/chromedriver/mac64/92.0.4515.107/chromedriver] found in cache\n"
     ]
    },
    {
     "name": "stdout",
     "output_type": "stream",
     "text": [
      " \n"
     ]
    },
    {
     "name": "stderr",
     "output_type": "stream",
     "text": [
      " 70%|███████   | 794/1130 [1:09:02<26:19,  4.70s/it][WDM] - Current google-chrome version is 92.0.4515\n",
      "[WDM] - Get LATEST driver version for 92.0.4515\n",
      "[WDM] - Driver [/Users/cblanesg/.wdm/drivers/chromedriver/mac64/92.0.4515.107/chromedriver] found in cache\n"
     ]
    },
    {
     "name": "stdout",
     "output_type": "stream",
     "text": [
      " \n"
     ]
    },
    {
     "name": "stderr",
     "output_type": "stream",
     "text": [
      " 70%|███████   | 795/1130 [1:09:07<26:47,  4.80s/it][WDM] - Current google-chrome version is 92.0.4515\n",
      "[WDM] - Get LATEST driver version for 92.0.4515\n",
      "[WDM] - Driver [/Users/cblanesg/.wdm/drivers/chromedriver/mac64/92.0.4515.107/chromedriver] found in cache\n"
     ]
    },
    {
     "name": "stdout",
     "output_type": "stream",
     "text": [
      " \n"
     ]
    },
    {
     "name": "stderr",
     "output_type": "stream",
     "text": [
      " 70%|███████   | 796/1130 [1:09:12<27:02,  4.86s/it][WDM] - Current google-chrome version is 92.0.4515\n",
      "[WDM] - Get LATEST driver version for 92.0.4515\n",
      "[WDM] - Driver [/Users/cblanesg/.wdm/drivers/chromedriver/mac64/92.0.4515.107/chromedriver] found in cache\n"
     ]
    },
    {
     "name": "stdout",
     "output_type": "stream",
     "text": [
      " \n"
     ]
    },
    {
     "name": "stderr",
     "output_type": "stream",
     "text": [
      " 71%|███████   | 797/1130 [1:09:16<26:40,  4.81s/it][WDM] - Current google-chrome version is 92.0.4515\n",
      "[WDM] - Get LATEST driver version for 92.0.4515\n",
      "[WDM] - Driver [/Users/cblanesg/.wdm/drivers/chromedriver/mac64/92.0.4515.107/chromedriver] found in cache\n"
     ]
    },
    {
     "name": "stdout",
     "output_type": "stream",
     "text": [
      " \n"
     ]
    },
    {
     "name": "stderr",
     "output_type": "stream",
     "text": [
      " 71%|███████   | 798/1130 [1:09:21<26:32,  4.80s/it][WDM] - Current google-chrome version is 92.0.4515\n",
      "[WDM] - Get LATEST driver version for 92.0.4515\n",
      "[WDM] - Driver [/Users/cblanesg/.wdm/drivers/chromedriver/mac64/92.0.4515.107/chromedriver] found in cache\n"
     ]
    },
    {
     "name": "stdout",
     "output_type": "stream",
     "text": [
      " \n"
     ]
    },
    {
     "name": "stderr",
     "output_type": "stream",
     "text": [
      " 71%|███████   | 799/1130 [1:09:27<27:26,  4.97s/it][WDM] - Current google-chrome version is 92.0.4515\n",
      "[WDM] - Get LATEST driver version for 92.0.4515\n",
      "[WDM] - Driver [/Users/cblanesg/.wdm/drivers/chromedriver/mac64/92.0.4515.107/chromedriver] found in cache\n"
     ]
    },
    {
     "name": "stdout",
     "output_type": "stream",
     "text": [
      " \n"
     ]
    },
    {
     "name": "stderr",
     "output_type": "stream",
     "text": [
      " 71%|███████   | 800/1130 [1:09:32<27:26,  4.99s/it][WDM] - Current google-chrome version is 92.0.4515\n",
      "[WDM] - Get LATEST driver version for 92.0.4515\n",
      "[WDM] - Driver [/Users/cblanesg/.wdm/drivers/chromedriver/mac64/92.0.4515.107/chromedriver] found in cache\n"
     ]
    },
    {
     "name": "stdout",
     "output_type": "stream",
     "text": [
      " \n"
     ]
    },
    {
     "name": "stderr",
     "output_type": "stream",
     "text": [
      " 71%|███████   | 801/1130 [1:09:37<27:59,  5.10s/it][WDM] - Current google-chrome version is 92.0.4515\n",
      "[WDM] - Get LATEST driver version for 92.0.4515\n",
      "[WDM] - Driver [/Users/cblanesg/.wdm/drivers/chromedriver/mac64/92.0.4515.107/chromedriver] found in cache\n"
     ]
    },
    {
     "name": "stdout",
     "output_type": "stream",
     "text": [
      " \n"
     ]
    },
    {
     "name": "stderr",
     "output_type": "stream",
     "text": [
      " 71%|███████   | 802/1130 [1:09:42<27:48,  5.09s/it][WDM] - Current google-chrome version is 92.0.4515\n",
      "[WDM] - Get LATEST driver version for 92.0.4515\n",
      "[WDM] - Driver [/Users/cblanesg/.wdm/drivers/chromedriver/mac64/92.0.4515.107/chromedriver] found in cache\n"
     ]
    },
    {
     "name": "stdout",
     "output_type": "stream",
     "text": [
      " \n"
     ]
    },
    {
     "name": "stderr",
     "output_type": "stream",
     "text": [
      " 71%|███████   | 803/1130 [1:09:46<26:27,  4.85s/it][WDM] - Current google-chrome version is 92.0.4515\n",
      "[WDM] - Get LATEST driver version for 92.0.4515\n",
      "[WDM] - Driver [/Users/cblanesg/.wdm/drivers/chromedriver/mac64/92.0.4515.107/chromedriver] found in cache\n"
     ]
    },
    {
     "name": "stdout",
     "output_type": "stream",
     "text": [
      " \n"
     ]
    },
    {
     "name": "stderr",
     "output_type": "stream",
     "text": [
      " 71%|███████   | 804/1130 [1:09:52<27:23,  5.04s/it][WDM] - Current google-chrome version is 92.0.4515\n",
      "[WDM] - Get LATEST driver version for 92.0.4515\n",
      "[WDM] - Driver [/Users/cblanesg/.wdm/drivers/chromedriver/mac64/92.0.4515.107/chromedriver] found in cache\n"
     ]
    },
    {
     "name": "stdout",
     "output_type": "stream",
     "text": [
      " \n"
     ]
    },
    {
     "name": "stderr",
     "output_type": "stream",
     "text": [
      " 71%|███████   | 805/1130 [1:09:57<27:28,  5.07s/it][WDM] - Current google-chrome version is 92.0.4515\n",
      "[WDM] - Get LATEST driver version for 92.0.4515\n",
      "[WDM] - Driver [/Users/cblanesg/.wdm/drivers/chromedriver/mac64/92.0.4515.107/chromedriver] found in cache\n"
     ]
    },
    {
     "name": "stdout",
     "output_type": "stream",
     "text": [
      " \n"
     ]
    },
    {
     "name": "stderr",
     "output_type": "stream",
     "text": [
      " 71%|███████▏  | 806/1130 [1:10:02<27:45,  5.14s/it][WDM] - Current google-chrome version is 92.0.4515\n",
      "[WDM] - Get LATEST driver version for 92.0.4515\n",
      "[WDM] - Driver [/Users/cblanesg/.wdm/drivers/chromedriver/mac64/92.0.4515.107/chromedriver] found in cache\n"
     ]
    },
    {
     "name": "stdout",
     "output_type": "stream",
     "text": [
      " \n"
     ]
    },
    {
     "name": "stderr",
     "output_type": "stream",
     "text": [
      " 71%|███████▏  | 807/1130 [1:10:09<29:30,  5.48s/it][WDM] - Current google-chrome version is 92.0.4515\n",
      "[WDM] - Get LATEST driver version for 92.0.4515\n",
      "[WDM] - Driver [/Users/cblanesg/.wdm/drivers/chromedriver/mac64/92.0.4515.107/chromedriver] found in cache\n"
     ]
    },
    {
     "name": "stdout",
     "output_type": "stream",
     "text": [
      " \n"
     ]
    },
    {
     "name": "stderr",
     "output_type": "stream",
     "text": [
      " 72%|███████▏  | 808/1130 [1:10:15<30:13,  5.63s/it][WDM] - Current google-chrome version is 92.0.4515\n",
      "[WDM] - Get LATEST driver version for 92.0.4515\n",
      "[WDM] - Driver [/Users/cblanesg/.wdm/drivers/chromedriver/mac64/92.0.4515.107/chromedriver] found in cache\n"
     ]
    },
    {
     "name": "stdout",
     "output_type": "stream",
     "text": [
      " \n"
     ]
    },
    {
     "name": "stderr",
     "output_type": "stream",
     "text": [
      " 72%|███████▏  | 809/1130 [1:10:20<29:48,  5.57s/it][WDM] - Current google-chrome version is 92.0.4515\n",
      "[WDM] - Get LATEST driver version for 92.0.4515\n",
      "[WDM] - Driver [/Users/cblanesg/.wdm/drivers/chromedriver/mac64/92.0.4515.107/chromedriver] found in cache\n"
     ]
    },
    {
     "name": "stdout",
     "output_type": "stream",
     "text": [
      " \n"
     ]
    },
    {
     "name": "stderr",
     "output_type": "stream",
     "text": [
      " 72%|███████▏  | 810/1130 [1:10:25<29:13,  5.48s/it][WDM] - Current google-chrome version is 92.0.4515\n",
      "[WDM] - Get LATEST driver version for 92.0.4515\n",
      "[WDM] - Driver [/Users/cblanesg/.wdm/drivers/chromedriver/mac64/92.0.4515.107/chromedriver] found in cache\n"
     ]
    },
    {
     "name": "stdout",
     "output_type": "stream",
     "text": [
      " \n"
     ]
    },
    {
     "name": "stderr",
     "output_type": "stream",
     "text": [
      " 72%|███████▏  | 811/1130 [1:10:31<29:28,  5.54s/it][WDM] - Current google-chrome version is 92.0.4515\n",
      "[WDM] - Get LATEST driver version for 92.0.4515\n",
      "[WDM] - Driver [/Users/cblanesg/.wdm/drivers/chromedriver/mac64/92.0.4515.107/chromedriver] found in cache\n"
     ]
    },
    {
     "name": "stdout",
     "output_type": "stream",
     "text": [
      " \n"
     ]
    },
    {
     "name": "stderr",
     "output_type": "stream",
     "text": [
      " 72%|███████▏  | 812/1130 [1:10:36<29:18,  5.53s/it][WDM] - Current google-chrome version is 92.0.4515\n",
      "[WDM] - Get LATEST driver version for 92.0.4515\n",
      "[WDM] - Driver [/Users/cblanesg/.wdm/drivers/chromedriver/mac64/92.0.4515.107/chromedriver] found in cache\n"
     ]
    },
    {
     "name": "stdout",
     "output_type": "stream",
     "text": [
      " \n"
     ]
    },
    {
     "name": "stderr",
     "output_type": "stream",
     "text": [
      " 72%|███████▏  | 813/1130 [1:10:42<29:13,  5.53s/it][WDM] - Current google-chrome version is 92.0.4515\n",
      "[WDM] - Get LATEST driver version for 92.0.4515\n",
      "[WDM] - Driver [/Users/cblanesg/.wdm/drivers/chromedriver/mac64/92.0.4515.107/chromedriver] found in cache\n"
     ]
    },
    {
     "name": "stdout",
     "output_type": "stream",
     "text": [
      " \n"
     ]
    },
    {
     "name": "stderr",
     "output_type": "stream",
     "text": [
      " 72%|███████▏  | 814/1130 [1:10:47<28:52,  5.48s/it][WDM] - Current google-chrome version is 92.0.4515\n",
      "[WDM] - Get LATEST driver version for 92.0.4515\n",
      "[WDM] - Driver [/Users/cblanesg/.wdm/drivers/chromedriver/mac64/92.0.4515.107/chromedriver] found in cache\n"
     ]
    },
    {
     "name": "stdout",
     "output_type": "stream",
     "text": [
      " \n"
     ]
    },
    {
     "name": "stderr",
     "output_type": "stream",
     "text": [
      " 72%|███████▏  | 815/1130 [1:10:53<28:42,  5.47s/it][WDM] - Current google-chrome version is 92.0.4515\n",
      "[WDM] - Get LATEST driver version for 92.0.4515\n",
      "[WDM] - Driver [/Users/cblanesg/.wdm/drivers/chromedriver/mac64/92.0.4515.107/chromedriver] found in cache\n"
     ]
    },
    {
     "name": "stdout",
     "output_type": "stream",
     "text": [
      " \n"
     ]
    },
    {
     "name": "stderr",
     "output_type": "stream",
     "text": [
      " 72%|███████▏  | 816/1130 [1:10:58<28:31,  5.45s/it][WDM] - Current google-chrome version is 92.0.4515\n",
      "[WDM] - Get LATEST driver version for 92.0.4515\n",
      "[WDM] - Driver [/Users/cblanesg/.wdm/drivers/chromedriver/mac64/92.0.4515.107/chromedriver] found in cache\n"
     ]
    },
    {
     "name": "stdout",
     "output_type": "stream",
     "text": [
      " \n"
     ]
    },
    {
     "name": "stderr",
     "output_type": "stream",
     "text": [
      " 72%|███████▏  | 817/1130 [1:11:03<27:34,  5.29s/it][WDM] - Current google-chrome version is 92.0.4515\n",
      "[WDM] - Get LATEST driver version for 92.0.4515\n",
      "[WDM] - Driver [/Users/cblanesg/.wdm/drivers/chromedriver/mac64/92.0.4515.107/chromedriver] found in cache\n"
     ]
    },
    {
     "name": "stdout",
     "output_type": "stream",
     "text": [
      " \n"
     ]
    },
    {
     "name": "stderr",
     "output_type": "stream",
     "text": [
      " 72%|███████▏  | 818/1130 [1:11:08<27:07,  5.22s/it][WDM] - Current google-chrome version is 92.0.4515\n",
      "[WDM] - Get LATEST driver version for 92.0.4515\n",
      "[WDM] - Driver [/Users/cblanesg/.wdm/drivers/chromedriver/mac64/92.0.4515.107/chromedriver] found in cache\n"
     ]
    },
    {
     "name": "stdout",
     "output_type": "stream",
     "text": [
      " \n"
     ]
    },
    {
     "name": "stderr",
     "output_type": "stream",
     "text": [
      " 72%|███████▏  | 819/1130 [1:11:13<25:52,  4.99s/it][WDM] - Current google-chrome version is 92.0.4515\n",
      "[WDM] - Get LATEST driver version for 92.0.4515\n",
      "[WDM] - Driver [/Users/cblanesg/.wdm/drivers/chromedriver/mac64/92.0.4515.107/chromedriver] found in cache\n"
     ]
    },
    {
     "name": "stdout",
     "output_type": "stream",
     "text": [
      " \n"
     ]
    },
    {
     "name": "stderr",
     "output_type": "stream",
     "text": [
      " 73%|███████▎  | 820/1130 [1:11:17<25:30,  4.94s/it][WDM] - Current google-chrome version is 92.0.4515\n",
      "[WDM] - Get LATEST driver version for 92.0.4515\n",
      "[WDM] - Driver [/Users/cblanesg/.wdm/drivers/chromedriver/mac64/92.0.4515.107/chromedriver] found in cache\n"
     ]
    },
    {
     "name": "stdout",
     "output_type": "stream",
     "text": [
      " \n"
     ]
    },
    {
     "name": "stderr",
     "output_type": "stream",
     "text": [
      " 73%|███████▎  | 821/1130 [1:11:22<24:54,  4.84s/it][WDM] - Current google-chrome version is 92.0.4515\n",
      "[WDM] - Get LATEST driver version for 92.0.4515\n",
      "[WDM] - Driver [/Users/cblanesg/.wdm/drivers/chromedriver/mac64/92.0.4515.107/chromedriver] found in cache\n"
     ]
    },
    {
     "name": "stdout",
     "output_type": "stream",
     "text": [
      " \n"
     ]
    },
    {
     "name": "stderr",
     "output_type": "stream",
     "text": [
      " 73%|███████▎  | 822/1130 [1:11:27<24:29,  4.77s/it][WDM] - Current google-chrome version is 92.0.4515\n",
      "[WDM] - Get LATEST driver version for 92.0.4515\n",
      "[WDM] - Driver [/Users/cblanesg/.wdm/drivers/chromedriver/mac64/92.0.4515.107/chromedriver] found in cache\n"
     ]
    },
    {
     "name": "stdout",
     "output_type": "stream",
     "text": [
      " \n"
     ]
    },
    {
     "name": "stderr",
     "output_type": "stream",
     "text": [
      " 73%|███████▎  | 823/1130 [1:11:31<23:59,  4.69s/it][WDM] - Current google-chrome version is 92.0.4515\n",
      "[WDM] - Get LATEST driver version for 92.0.4515\n",
      "[WDM] - Driver [/Users/cblanesg/.wdm/drivers/chromedriver/mac64/92.0.4515.107/chromedriver] found in cache\n"
     ]
    },
    {
     "name": "stdout",
     "output_type": "stream",
     "text": [
      " \n"
     ]
    },
    {
     "name": "stderr",
     "output_type": "stream",
     "text": [
      " 73%|███████▎  | 824/1130 [1:11:36<23:47,  4.67s/it][WDM] - Current google-chrome version is 92.0.4515\n",
      "[WDM] - Get LATEST driver version for 92.0.4515\n",
      "[WDM] - Driver [/Users/cblanesg/.wdm/drivers/chromedriver/mac64/92.0.4515.107/chromedriver] found in cache\n"
     ]
    },
    {
     "name": "stdout",
     "output_type": "stream",
     "text": [
      " \n"
     ]
    },
    {
     "name": "stderr",
     "output_type": "stream",
     "text": [
      " 73%|███████▎  | 825/1130 [1:11:40<23:44,  4.67s/it][WDM] - Current google-chrome version is 92.0.4515\n",
      "[WDM] - Get LATEST driver version for 92.0.4515\n",
      "[WDM] - Driver [/Users/cblanesg/.wdm/drivers/chromedriver/mac64/92.0.4515.107/chromedriver] found in cache\n"
     ]
    },
    {
     "name": "stdout",
     "output_type": "stream",
     "text": [
      " \n"
     ]
    },
    {
     "name": "stderr",
     "output_type": "stream",
     "text": [
      " 73%|███████▎  | 826/1130 [1:11:45<23:33,  4.65s/it][WDM] - Current google-chrome version is 92.0.4515\n",
      "[WDM] - Get LATEST driver version for 92.0.4515\n",
      "[WDM] - Driver [/Users/cblanesg/.wdm/drivers/chromedriver/mac64/92.0.4515.107/chromedriver] found in cache\n"
     ]
    },
    {
     "name": "stdout",
     "output_type": "stream",
     "text": [
      " \n"
     ]
    },
    {
     "name": "stderr",
     "output_type": "stream",
     "text": [
      " 73%|███████▎  | 827/1130 [1:11:50<23:57,  4.74s/it][WDM] - Current google-chrome version is 92.0.4515\n",
      "[WDM] - Get LATEST driver version for 92.0.4515\n",
      "[WDM] - Driver [/Users/cblanesg/.wdm/drivers/chromedriver/mac64/92.0.4515.107/chromedriver] found in cache\n"
     ]
    },
    {
     "name": "stdout",
     "output_type": "stream",
     "text": [
      " \n"
     ]
    },
    {
     "name": "stderr",
     "output_type": "stream",
     "text": [
      " 73%|███████▎  | 828/1130 [1:11:54<23:06,  4.59s/it][WDM] - Current google-chrome version is 92.0.4515\n",
      "[WDM] - Get LATEST driver version for 92.0.4515\n",
      "[WDM] - Driver [/Users/cblanesg/.wdm/drivers/chromedriver/mac64/92.0.4515.107/chromedriver] found in cache\n"
     ]
    },
    {
     "name": "stdout",
     "output_type": "stream",
     "text": [
      " \n"
     ]
    },
    {
     "name": "stderr",
     "output_type": "stream",
     "text": [
      " 73%|███████▎  | 829/1130 [1:11:59<22:48,  4.55s/it][WDM] - Current google-chrome version is 92.0.4515\n",
      "[WDM] - Get LATEST driver version for 92.0.4515\n",
      "[WDM] - Driver [/Users/cblanesg/.wdm/drivers/chromedriver/mac64/92.0.4515.107/chromedriver] found in cache\n"
     ]
    },
    {
     "name": "stdout",
     "output_type": "stream",
     "text": [
      " \n"
     ]
    },
    {
     "name": "stderr",
     "output_type": "stream",
     "text": [
      " 73%|███████▎  | 830/1130 [1:12:03<22:42,  4.54s/it][WDM] - Current google-chrome version is 92.0.4515\n",
      "[WDM] - Get LATEST driver version for 92.0.4515\n",
      "[WDM] - Driver [/Users/cblanesg/.wdm/drivers/chromedriver/mac64/92.0.4515.107/chromedriver] found in cache\n"
     ]
    },
    {
     "name": "stdout",
     "output_type": "stream",
     "text": [
      " \n"
     ]
    },
    {
     "name": "stderr",
     "output_type": "stream",
     "text": [
      " 74%|███████▎  | 831/1130 [1:12:08<22:34,  4.53s/it][WDM] - Current google-chrome version is 92.0.4515\n",
      "[WDM] - Get LATEST driver version for 92.0.4515\n",
      "[WDM] - Driver [/Users/cblanesg/.wdm/drivers/chromedriver/mac64/92.0.4515.107/chromedriver] found in cache\n"
     ]
    },
    {
     "name": "stdout",
     "output_type": "stream",
     "text": [
      " \n"
     ]
    },
    {
     "name": "stderr",
     "output_type": "stream",
     "text": [
      " 74%|███████▎  | 832/1130 [1:12:12<21:36,  4.35s/it][WDM] - Current google-chrome version is 92.0.4515\n",
      "[WDM] - Get LATEST driver version for 92.0.4515\n",
      "[WDM] - Driver [/Users/cblanesg/.wdm/drivers/chromedriver/mac64/92.0.4515.107/chromedriver] found in cache\n"
     ]
    },
    {
     "name": "stdout",
     "output_type": "stream",
     "text": [
      " \n"
     ]
    },
    {
     "name": "stderr",
     "output_type": "stream",
     "text": [
      " 74%|███████▎  | 833/1130 [1:12:17<22:30,  4.55s/it][WDM] - Current google-chrome version is 92.0.4515\n",
      "[WDM] - Get LATEST driver version for 92.0.4515\n",
      "[WDM] - Driver [/Users/cblanesg/.wdm/drivers/chromedriver/mac64/92.0.4515.107/chromedriver] found in cache\n"
     ]
    },
    {
     "name": "stdout",
     "output_type": "stream",
     "text": [
      " \n"
     ]
    },
    {
     "name": "stderr",
     "output_type": "stream",
     "text": [
      " 74%|███████▍  | 834/1130 [1:12:21<22:41,  4.60s/it][WDM] - Current google-chrome version is 92.0.4515\n",
      "[WDM] - Get LATEST driver version for 92.0.4515\n",
      "[WDM] - Driver [/Users/cblanesg/.wdm/drivers/chromedriver/mac64/92.0.4515.107/chromedriver] found in cache\n"
     ]
    },
    {
     "name": "stdout",
     "output_type": "stream",
     "text": [
      " \n"
     ]
    },
    {
     "name": "stderr",
     "output_type": "stream",
     "text": [
      " 74%|███████▍  | 835/1130 [1:12:27<23:48,  4.84s/it][WDM] - Current google-chrome version is 92.0.4515\n",
      "[WDM] - Get LATEST driver version for 92.0.4515\n",
      "[WDM] - Driver [/Users/cblanesg/.wdm/drivers/chromedriver/mac64/92.0.4515.107/chromedriver] found in cache\n"
     ]
    },
    {
     "name": "stdout",
     "output_type": "stream",
     "text": [
      " \n"
     ]
    },
    {
     "name": "stderr",
     "output_type": "stream",
     "text": [
      " 74%|███████▍  | 836/1130 [1:12:31<23:12,  4.74s/it][WDM] - Current google-chrome version is 92.0.4515\n",
      "[WDM] - Get LATEST driver version for 92.0.4515\n",
      "[WDM] - Driver [/Users/cblanesg/.wdm/drivers/chromedriver/mac64/92.0.4515.107/chromedriver] found in cache\n"
     ]
    },
    {
     "name": "stdout",
     "output_type": "stream",
     "text": [
      " \n"
     ]
    },
    {
     "name": "stderr",
     "output_type": "stream",
     "text": [
      " 74%|███████▍  | 837/1130 [1:12:36<22:40,  4.64s/it][WDM] - Current google-chrome version is 92.0.4515\n",
      "[WDM] - Get LATEST driver version for 92.0.4515\n",
      "[WDM] - Driver [/Users/cblanesg/.wdm/drivers/chromedriver/mac64/92.0.4515.107/chromedriver] found in cache\n"
     ]
    },
    {
     "name": "stdout",
     "output_type": "stream",
     "text": [
      " \n"
     ]
    },
    {
     "name": "stderr",
     "output_type": "stream",
     "text": [
      " 74%|███████▍  | 838/1130 [1:12:40<22:30,  4.63s/it][WDM] - Current google-chrome version is 92.0.4515\n",
      "[WDM] - Get LATEST driver version for 92.0.4515\n",
      "[WDM] - Driver [/Users/cblanesg/.wdm/drivers/chromedriver/mac64/92.0.4515.107/chromedriver] found in cache\n"
     ]
    },
    {
     "name": "stdout",
     "output_type": "stream",
     "text": [
      " \n"
     ]
    },
    {
     "name": "stderr",
     "output_type": "stream",
     "text": [
      " 74%|███████▍  | 839/1130 [1:12:45<22:16,  4.59s/it][WDM] - Current google-chrome version is 92.0.4515\n",
      "[WDM] - Get LATEST driver version for 92.0.4515\n",
      "[WDM] - Driver [/Users/cblanesg/.wdm/drivers/chromedriver/mac64/92.0.4515.107/chromedriver] found in cache\n"
     ]
    },
    {
     "name": "stdout",
     "output_type": "stream",
     "text": [
      " \n"
     ]
    },
    {
     "name": "stderr",
     "output_type": "stream",
     "text": [
      " 74%|███████▍  | 840/1130 [1:12:50<22:22,  4.63s/it][WDM] - Current google-chrome version is 92.0.4515\n",
      "[WDM] - Get LATEST driver version for 92.0.4515\n",
      "[WDM] - Driver [/Users/cblanesg/.wdm/drivers/chromedriver/mac64/92.0.4515.107/chromedriver] found in cache\n"
     ]
    },
    {
     "name": "stdout",
     "output_type": "stream",
     "text": [
      " \n"
     ]
    },
    {
     "name": "stderr",
     "output_type": "stream",
     "text": [
      " 74%|███████▍  | 841/1130 [1:12:55<22:49,  4.74s/it][WDM] - Current google-chrome version is 92.0.4515\n",
      "[WDM] - Get LATEST driver version for 92.0.4515\n",
      "[WDM] - Driver [/Users/cblanesg/.wdm/drivers/chromedriver/mac64/92.0.4515.107/chromedriver] found in cache\n"
     ]
    },
    {
     "name": "stdout",
     "output_type": "stream",
     "text": [
      " \n"
     ]
    },
    {
     "name": "stderr",
     "output_type": "stream",
     "text": [
      " 75%|███████▍  | 842/1130 [1:12:59<22:56,  4.78s/it][WDM] - Current google-chrome version is 92.0.4515\n",
      "[WDM] - Get LATEST driver version for 92.0.4515\n",
      "[WDM] - Driver [/Users/cblanesg/.wdm/drivers/chromedriver/mac64/92.0.4515.107/chromedriver] found in cache\n"
     ]
    },
    {
     "name": "stdout",
     "output_type": "stream",
     "text": [
      " \n"
     ]
    },
    {
     "name": "stderr",
     "output_type": "stream",
     "text": [
      " 75%|███████▍  | 843/1130 [1:13:04<22:43,  4.75s/it][WDM] - Current google-chrome version is 92.0.4515\n",
      "[WDM] - Get LATEST driver version for 92.0.4515\n",
      "[WDM] - Driver [/Users/cblanesg/.wdm/drivers/chromedriver/mac64/92.0.4515.107/chromedriver] found in cache\n"
     ]
    },
    {
     "name": "stdout",
     "output_type": "stream",
     "text": [
      " \n"
     ]
    },
    {
     "name": "stderr",
     "output_type": "stream",
     "text": [
      " 75%|███████▍  | 844/1130 [1:13:09<23:28,  4.93s/it][WDM] - Current google-chrome version is 92.0.4515\n",
      "[WDM] - Get LATEST driver version for 92.0.4515\n",
      "[WDM] - Driver [/Users/cblanesg/.wdm/drivers/chromedriver/mac64/92.0.4515.107/chromedriver] found in cache\n"
     ]
    },
    {
     "name": "stdout",
     "output_type": "stream",
     "text": [
      " \n"
     ]
    },
    {
     "name": "stderr",
     "output_type": "stream",
     "text": [
      " 75%|███████▍  | 845/1130 [1:13:15<23:53,  5.03s/it][WDM] - Current google-chrome version is 92.0.4515\n",
      "[WDM] - Get LATEST driver version for 92.0.4515\n",
      "[WDM] - Driver [/Users/cblanesg/.wdm/drivers/chromedriver/mac64/92.0.4515.107/chromedriver] found in cache\n"
     ]
    },
    {
     "name": "stdout",
     "output_type": "stream",
     "text": [
      " \n"
     ]
    },
    {
     "name": "stderr",
     "output_type": "stream",
     "text": [
      " 75%|███████▍  | 846/1130 [1:13:19<22:27,  4.75s/it][WDM] - Current google-chrome version is 92.0.4515\n",
      "[WDM] - Get LATEST driver version for 92.0.4515\n",
      "[WDM] - Driver [/Users/cblanesg/.wdm/drivers/chromedriver/mac64/92.0.4515.107/chromedriver] found in cache\n"
     ]
    },
    {
     "name": "stdout",
     "output_type": "stream",
     "text": [
      " \n"
     ]
    },
    {
     "name": "stderr",
     "output_type": "stream",
     "text": [
      " 75%|███████▍  | 847/1130 [1:13:24<22:37,  4.80s/it][WDM] - Current google-chrome version is 92.0.4515\n",
      "[WDM] - Get LATEST driver version for 92.0.4515\n",
      "[WDM] - Driver [/Users/cblanesg/.wdm/drivers/chromedriver/mac64/92.0.4515.107/chromedriver] found in cache\n"
     ]
    },
    {
     "name": "stdout",
     "output_type": "stream",
     "text": [
      " \n"
     ]
    },
    {
     "name": "stderr",
     "output_type": "stream",
     "text": [
      " 75%|███████▌  | 848/1130 [1:13:29<22:45,  4.84s/it][WDM] - Current google-chrome version is 92.0.4515\n",
      "[WDM] - Get LATEST driver version for 92.0.4515\n",
      "[WDM] - Driver [/Users/cblanesg/.wdm/drivers/chromedriver/mac64/92.0.4515.107/chromedriver] found in cache\n"
     ]
    },
    {
     "name": "stdout",
     "output_type": "stream",
     "text": [
      " \n"
     ]
    },
    {
     "name": "stderr",
     "output_type": "stream",
     "text": [
      " 75%|███████▌  | 849/1130 [1:13:34<23:46,  5.08s/it][WDM] - Current google-chrome version is 92.0.4515\n",
      "[WDM] - Get LATEST driver version for 92.0.4515\n",
      "[WDM] - Driver [/Users/cblanesg/.wdm/drivers/chromedriver/mac64/92.0.4515.107/chromedriver] found in cache\n"
     ]
    },
    {
     "name": "stdout",
     "output_type": "stream",
     "text": [
      " \n"
     ]
    },
    {
     "name": "stderr",
     "output_type": "stream",
     "text": [
      " 75%|███████▌  | 850/1130 [1:13:39<23:16,  4.99s/it][WDM] - Current google-chrome version is 92.0.4515\n",
      "[WDM] - Get LATEST driver version for 92.0.4515\n",
      "[WDM] - Driver [/Users/cblanesg/.wdm/drivers/chromedriver/mac64/92.0.4515.107/chromedriver] found in cache\n"
     ]
    },
    {
     "name": "stdout",
     "output_type": "stream",
     "text": [
      " \n"
     ]
    },
    {
     "name": "stderr",
     "output_type": "stream",
     "text": [
      " 75%|███████▌  | 851/1130 [1:13:44<22:44,  4.89s/it][WDM] - Current google-chrome version is 92.0.4515\n",
      "[WDM] - Get LATEST driver version for 92.0.4515\n",
      "[WDM] - Driver [/Users/cblanesg/.wdm/drivers/chromedriver/mac64/92.0.4515.107/chromedriver] found in cache\n"
     ]
    },
    {
     "name": "stdout",
     "output_type": "stream",
     "text": [
      " \n"
     ]
    },
    {
     "name": "stderr",
     "output_type": "stream",
     "text": [
      " 75%|███████▌  | 852/1130 [1:13:48<22:20,  4.82s/it][WDM] - Current google-chrome version is 92.0.4515\n",
      "[WDM] - Get LATEST driver version for 92.0.4515\n",
      "[WDM] - Driver [/Users/cblanesg/.wdm/drivers/chromedriver/mac64/92.0.4515.107/chromedriver] found in cache\n"
     ]
    },
    {
     "name": "stdout",
     "output_type": "stream",
     "text": [
      " \n"
     ]
    },
    {
     "name": "stderr",
     "output_type": "stream",
     "text": [
      " 75%|███████▌  | 853/1130 [1:13:53<22:27,  4.87s/it][WDM] - Current google-chrome version is 92.0.4515\n",
      "[WDM] - Get LATEST driver version for 92.0.4515\n",
      "[WDM] - Driver [/Users/cblanesg/.wdm/drivers/chromedriver/mac64/92.0.4515.107/chromedriver] found in cache\n"
     ]
    },
    {
     "name": "stdout",
     "output_type": "stream",
     "text": [
      " \n"
     ]
    },
    {
     "name": "stderr",
     "output_type": "stream",
     "text": [
      " 76%|███████▌  | 854/1130 [1:13:59<23:27,  5.10s/it][WDM] - Current google-chrome version is 92.0.4515\n",
      "[WDM] - Get LATEST driver version for 92.0.4515\n",
      "[WDM] - Driver [/Users/cblanesg/.wdm/drivers/chromedriver/mac64/92.0.4515.107/chromedriver] found in cache\n"
     ]
    },
    {
     "name": "stdout",
     "output_type": "stream",
     "text": [
      " \n"
     ]
    },
    {
     "name": "stderr",
     "output_type": "stream",
     "text": [
      " 76%|███████▌  | 855/1130 [1:14:04<23:09,  5.05s/it][WDM] - Current google-chrome version is 92.0.4515\n",
      "[WDM] - Get LATEST driver version for 92.0.4515\n",
      "[WDM] - Driver [/Users/cblanesg/.wdm/drivers/chromedriver/mac64/92.0.4515.107/chromedriver] found in cache\n"
     ]
    },
    {
     "name": "stdout",
     "output_type": "stream",
     "text": [
      " \n"
     ]
    },
    {
     "name": "stderr",
     "output_type": "stream",
     "text": [
      " 76%|███████▌  | 856/1130 [1:14:09<23:02,  5.05s/it][WDM] - Current google-chrome version is 92.0.4515\n",
      "[WDM] - Get LATEST driver version for 92.0.4515\n",
      "[WDM] - Driver [/Users/cblanesg/.wdm/drivers/chromedriver/mac64/92.0.4515.107/chromedriver] found in cache\n"
     ]
    },
    {
     "name": "stdout",
     "output_type": "stream",
     "text": [
      " \n"
     ]
    },
    {
     "name": "stderr",
     "output_type": "stream",
     "text": [
      " 76%|███████▌  | 857/1130 [1:14:14<22:44,  5.00s/it][WDM] - Current google-chrome version is 92.0.4515\n",
      "[WDM] - Get LATEST driver version for 92.0.4515\n",
      "[WDM] - Driver [/Users/cblanesg/.wdm/drivers/chromedriver/mac64/92.0.4515.107/chromedriver] found in cache\n"
     ]
    },
    {
     "name": "stdout",
     "output_type": "stream",
     "text": [
      " \n"
     ]
    },
    {
     "name": "stderr",
     "output_type": "stream",
     "text": [
      " 76%|███████▌  | 858/1130 [1:14:19<22:34,  4.98s/it][WDM] - Current google-chrome version is 92.0.4515\n",
      "[WDM] - Get LATEST driver version for 92.0.4515\n",
      "[WDM] - Driver [/Users/cblanesg/.wdm/drivers/chromedriver/mac64/92.0.4515.107/chromedriver] found in cache\n"
     ]
    },
    {
     "name": "stdout",
     "output_type": "stream",
     "text": [
      " \n"
     ]
    },
    {
     "name": "stderr",
     "output_type": "stream",
     "text": [
      " 76%|███████▌  | 859/1130 [1:14:24<22:37,  5.01s/it][WDM] - Current google-chrome version is 92.0.4515\n",
      "[WDM] - Get LATEST driver version for 92.0.4515\n",
      "[WDM] - Driver [/Users/cblanesg/.wdm/drivers/chromedriver/mac64/92.0.4515.107/chromedriver] found in cache\n"
     ]
    },
    {
     "name": "stdout",
     "output_type": "stream",
     "text": [
      " \n"
     ]
    },
    {
     "name": "stderr",
     "output_type": "stream",
     "text": [
      " 76%|███████▌  | 860/1130 [1:14:29<22:19,  4.96s/it][WDM] - Current google-chrome version is 92.0.4515\n",
      "[WDM] - Get LATEST driver version for 92.0.4515\n",
      "[WDM] - Driver [/Users/cblanesg/.wdm/drivers/chromedriver/mac64/92.0.4515.107/chromedriver] found in cache\n"
     ]
    },
    {
     "name": "stdout",
     "output_type": "stream",
     "text": [
      " \n"
     ]
    },
    {
     "name": "stderr",
     "output_type": "stream",
     "text": [
      " 76%|███████▌  | 861/1130 [1:14:34<22:01,  4.91s/it][WDM] - Current google-chrome version is 92.0.4515\n",
      "[WDM] - Get LATEST driver version for 92.0.4515\n",
      "[WDM] - Driver [/Users/cblanesg/.wdm/drivers/chromedriver/mac64/92.0.4515.107/chromedriver] found in cache\n"
     ]
    },
    {
     "name": "stdout",
     "output_type": "stream",
     "text": [
      " \n"
     ]
    },
    {
     "name": "stderr",
     "output_type": "stream",
     "text": [
      " 76%|███████▋  | 862/1130 [1:14:39<22:06,  4.95s/it][WDM] - Current google-chrome version is 92.0.4515\n",
      "[WDM] - Get LATEST driver version for 92.0.4515\n",
      "[WDM] - Driver [/Users/cblanesg/.wdm/drivers/chromedriver/mac64/92.0.4515.107/chromedriver] found in cache\n"
     ]
    },
    {
     "name": "stdout",
     "output_type": "stream",
     "text": [
      " \n"
     ]
    },
    {
     "name": "stderr",
     "output_type": "stream",
     "text": [
      " 76%|███████▋  | 863/1130 [1:14:44<22:08,  4.98s/it][WDM] - Current google-chrome version is 92.0.4515\n",
      "[WDM] - Get LATEST driver version for 92.0.4515\n",
      "[WDM] - Driver [/Users/cblanesg/.wdm/drivers/chromedriver/mac64/92.0.4515.107/chromedriver] found in cache\n"
     ]
    },
    {
     "name": "stdout",
     "output_type": "stream",
     "text": [
      " \n"
     ]
    },
    {
     "name": "stderr",
     "output_type": "stream",
     "text": [
      " 76%|███████▋  | 864/1130 [1:14:49<22:24,  5.05s/it][WDM] - Current google-chrome version is 92.0.4515\n",
      "[WDM] - Get LATEST driver version for 92.0.4515\n"
     ]
    },
    {
     "name": "stdout",
     "output_type": "stream",
     "text": [
      " \n"
     ]
    },
    {
     "name": "stderr",
     "output_type": "stream",
     "text": [
      "[WDM] - Driver [/Users/cblanesg/.wdm/drivers/chromedriver/mac64/92.0.4515.107/chromedriver] found in cache\n",
      " 77%|███████▋  | 865/1130 [1:14:54<22:16,  5.04s/it][WDM] - Current google-chrome version is 92.0.4515\n",
      "[WDM] - Get LATEST driver version for 92.0.4515\n",
      "[WDM] - Driver [/Users/cblanesg/.wdm/drivers/chromedriver/mac64/92.0.4515.107/chromedriver] found in cache\n"
     ]
    },
    {
     "name": "stdout",
     "output_type": "stream",
     "text": [
      " \n"
     ]
    },
    {
     "name": "stderr",
     "output_type": "stream",
     "text": [
      " 77%|███████▋  | 866/1130 [1:14:58<21:20,  4.85s/it][WDM] - Current google-chrome version is 92.0.4515\n",
      "[WDM] - Get LATEST driver version for 92.0.4515\n",
      "[WDM] - Driver [/Users/cblanesg/.wdm/drivers/chromedriver/mac64/92.0.4515.107/chromedriver] found in cache\n"
     ]
    },
    {
     "name": "stdout",
     "output_type": "stream",
     "text": [
      " \n"
     ]
    },
    {
     "name": "stderr",
     "output_type": "stream",
     "text": [
      " 77%|███████▋  | 867/1130 [1:15:03<20:36,  4.70s/it][WDM] - Current google-chrome version is 92.0.4515\n",
      "[WDM] - Get LATEST driver version for 92.0.4515\n",
      "[WDM] - Driver [/Users/cblanesg/.wdm/drivers/chromedriver/mac64/92.0.4515.107/chromedriver] found in cache\n"
     ]
    },
    {
     "name": "stdout",
     "output_type": "stream",
     "text": [
      " \n"
     ]
    },
    {
     "name": "stderr",
     "output_type": "stream",
     "text": [
      " 77%|███████▋  | 868/1130 [1:15:09<22:13,  5.09s/it][WDM] - Current google-chrome version is 92.0.4515\n",
      "[WDM] - Get LATEST driver version for 92.0.4515\n",
      "[WDM] - Driver [/Users/cblanesg/.wdm/drivers/chromedriver/mac64/92.0.4515.107/chromedriver] found in cache\n"
     ]
    },
    {
     "name": "stdout",
     "output_type": "stream",
     "text": [
      " \n"
     ]
    },
    {
     "name": "stderr",
     "output_type": "stream",
     "text": [
      " 77%|███████▋  | 869/1130 [1:15:15<23:25,  5.38s/it][WDM] - Current google-chrome version is 92.0.4515\n",
      "[WDM] - Get LATEST driver version for 92.0.4515\n",
      "[WDM] - Driver [/Users/cblanesg/.wdm/drivers/chromedriver/mac64/92.0.4515.107/chromedriver] found in cache\n"
     ]
    },
    {
     "name": "stdout",
     "output_type": "stream",
     "text": [
      " \n"
     ]
    },
    {
     "name": "stderr",
     "output_type": "stream",
     "text": [
      " 77%|███████▋  | 870/1130 [1:15:20<22:41,  5.24s/it][WDM] - Current google-chrome version is 92.0.4515\n",
      "[WDM] - Get LATEST driver version for 92.0.4515\n",
      "[WDM] - Driver [/Users/cblanesg/.wdm/drivers/chromedriver/mac64/92.0.4515.107/chromedriver] found in cache\n"
     ]
    },
    {
     "name": "stdout",
     "output_type": "stream",
     "text": [
      " \n"
     ]
    },
    {
     "name": "stderr",
     "output_type": "stream",
     "text": [
      " 77%|███████▋  | 871/1130 [1:15:25<22:43,  5.27s/it][WDM] - Current google-chrome version is 92.0.4515\n",
      "[WDM] - Get LATEST driver version for 92.0.4515\n",
      "[WDM] - Driver [/Users/cblanesg/.wdm/drivers/chromedriver/mac64/92.0.4515.107/chromedriver] found in cache\n"
     ]
    },
    {
     "name": "stdout",
     "output_type": "stream",
     "text": [
      " \n"
     ]
    },
    {
     "name": "stderr",
     "output_type": "stream",
     "text": [
      " 77%|███████▋  | 872/1130 [1:15:30<22:45,  5.29s/it][WDM] - Current google-chrome version is 92.0.4515\n",
      "[WDM] - Get LATEST driver version for 92.0.4515\n",
      "[WDM] - Driver [/Users/cblanesg/.wdm/drivers/chromedriver/mac64/92.0.4515.107/chromedriver] found in cache\n"
     ]
    },
    {
     "name": "stdout",
     "output_type": "stream",
     "text": [
      " \n"
     ]
    },
    {
     "name": "stderr",
     "output_type": "stream",
     "text": [
      " 77%|███████▋  | 873/1130 [1:15:35<22:32,  5.26s/it][WDM] - Current google-chrome version is 92.0.4515\n",
      "[WDM] - Get LATEST driver version for 92.0.4515\n",
      "[WDM] - Driver [/Users/cblanesg/.wdm/drivers/chromedriver/mac64/92.0.4515.107/chromedriver] found in cache\n"
     ]
    },
    {
     "name": "stdout",
     "output_type": "stream",
     "text": [
      " \n"
     ]
    },
    {
     "name": "stderr",
     "output_type": "stream",
     "text": [
      " 77%|███████▋  | 874/1130 [1:15:41<22:50,  5.35s/it][WDM] - Current google-chrome version is 92.0.4515\n",
      "[WDM] - Get LATEST driver version for 92.0.4515\n",
      "[WDM] - Driver [/Users/cblanesg/.wdm/drivers/chromedriver/mac64/92.0.4515.107/chromedriver] found in cache\n"
     ]
    },
    {
     "name": "stdout",
     "output_type": "stream",
     "text": [
      " \n"
     ]
    },
    {
     "name": "stderr",
     "output_type": "stream",
     "text": [
      " 77%|███████▋  | 875/1130 [1:15:46<22:24,  5.27s/it][WDM] - Current google-chrome version is 92.0.4515\n",
      "[WDM] - Get LATEST driver version for 92.0.4515\n",
      "[WDM] - Driver [/Users/cblanesg/.wdm/drivers/chromedriver/mac64/92.0.4515.107/chromedriver] found in cache\n"
     ]
    },
    {
     "name": "stdout",
     "output_type": "stream",
     "text": [
      " \n"
     ]
    },
    {
     "name": "stderr",
     "output_type": "stream",
     "text": [
      " 78%|███████▊  | 876/1130 [1:15:50<20:56,  4.95s/it][WDM] - Current google-chrome version is 92.0.4515\n",
      "[WDM] - Get LATEST driver version for 92.0.4515\n",
      "[WDM] - Driver [/Users/cblanesg/.wdm/drivers/chromedriver/mac64/92.0.4515.107/chromedriver] found in cache\n"
     ]
    },
    {
     "name": "stdout",
     "output_type": "stream",
     "text": [
      " \n"
     ]
    },
    {
     "name": "stderr",
     "output_type": "stream",
     "text": [
      " 78%|███████▊  | 877/1130 [1:15:55<20:59,  4.98s/it][WDM] - Current google-chrome version is 92.0.4515\n",
      "[WDM] - Get LATEST driver version for 92.0.4515\n",
      "[WDM] - Driver [/Users/cblanesg/.wdm/drivers/chromedriver/mac64/92.0.4515.107/chromedriver] found in cache\n"
     ]
    },
    {
     "name": "stdout",
     "output_type": "stream",
     "text": [
      " \n"
     ]
    },
    {
     "name": "stderr",
     "output_type": "stream",
     "text": [
      " 78%|███████▊  | 878/1130 [1:16:01<21:24,  5.10s/it][WDM] - Current google-chrome version is 92.0.4515\n",
      "[WDM] - Get LATEST driver version for 92.0.4515\n",
      "[WDM] - Driver [/Users/cblanesg/.wdm/drivers/chromedriver/mac64/92.0.4515.107/chromedriver] found in cache\n"
     ]
    },
    {
     "name": "stdout",
     "output_type": "stream",
     "text": [
      " \n"
     ]
    },
    {
     "name": "stderr",
     "output_type": "stream",
     "text": [
      " 78%|███████▊  | 879/1130 [1:16:06<21:38,  5.18s/it][WDM] - Current google-chrome version is 92.0.4515\n",
      "[WDM] - Get LATEST driver version for 92.0.4515\n",
      "[WDM] - Driver [/Users/cblanesg/.wdm/drivers/chromedriver/mac64/92.0.4515.107/chromedriver] found in cache\n"
     ]
    },
    {
     "name": "stdout",
     "output_type": "stream",
     "text": [
      " \n"
     ]
    },
    {
     "name": "stderr",
     "output_type": "stream",
     "text": [
      " 78%|███████▊  | 880/1130 [1:16:11<21:29,  5.16s/it][WDM] - Current google-chrome version is 92.0.4515\n",
      "[WDM] - Get LATEST driver version for 92.0.4515\n",
      "[WDM] - Driver [/Users/cblanesg/.wdm/drivers/chromedriver/mac64/92.0.4515.107/chromedriver] found in cache\n"
     ]
    },
    {
     "name": "stdout",
     "output_type": "stream",
     "text": [
      " \n"
     ]
    },
    {
     "name": "stderr",
     "output_type": "stream",
     "text": [
      " 78%|███████▊  | 881/1130 [1:16:15<20:17,  4.89s/it][WDM] - Current google-chrome version is 92.0.4515\n",
      "[WDM] - Get LATEST driver version for 92.0.4515\n",
      "[WDM] - Driver [/Users/cblanesg/.wdm/drivers/chromedriver/mac64/92.0.4515.107/chromedriver] found in cache\n"
     ]
    },
    {
     "name": "stdout",
     "output_type": "stream",
     "text": [
      " \n"
     ]
    },
    {
     "name": "stderr",
     "output_type": "stream",
     "text": [
      " 78%|███████▊  | 882/1130 [1:16:21<20:34,  4.98s/it][WDM] - Current google-chrome version is 92.0.4515\n",
      "[WDM] - Get LATEST driver version for 92.0.4515\n",
      "[WDM] - Driver [/Users/cblanesg/.wdm/drivers/chromedriver/mac64/92.0.4515.107/chromedriver] found in cache\n"
     ]
    },
    {
     "name": "stdout",
     "output_type": "stream",
     "text": [
      " \n"
     ]
    },
    {
     "name": "stderr",
     "output_type": "stream",
     "text": [
      " 78%|███████▊  | 883/1130 [1:16:26<20:45,  5.04s/it][WDM] - Current google-chrome version is 92.0.4515\n",
      "[WDM] - Get LATEST driver version for 92.0.4515\n",
      "[WDM] - Driver [/Users/cblanesg/.wdm/drivers/chromedriver/mac64/92.0.4515.107/chromedriver] found in cache\n"
     ]
    },
    {
     "name": "stdout",
     "output_type": "stream",
     "text": [
      " \n"
     ]
    },
    {
     "name": "stderr",
     "output_type": "stream",
     "text": [
      " 78%|███████▊  | 884/1130 [1:16:31<20:48,  5.08s/it][WDM] - Current google-chrome version is 92.0.4515\n",
      "[WDM] - Get LATEST driver version for 92.0.4515\n",
      "[WDM] - Driver [/Users/cblanesg/.wdm/drivers/chromedriver/mac64/92.0.4515.107/chromedriver] found in cache\n"
     ]
    },
    {
     "name": "stdout",
     "output_type": "stream",
     "text": [
      " \n"
     ]
    },
    {
     "name": "stderr",
     "output_type": "stream",
     "text": [
      " 78%|███████▊  | 885/1130 [1:16:36<20:35,  5.04s/it][WDM] - Current google-chrome version is 92.0.4515\n",
      "[WDM] - Get LATEST driver version for 92.0.4515\n",
      "[WDM] - Driver [/Users/cblanesg/.wdm/drivers/chromedriver/mac64/92.0.4515.107/chromedriver] found in cache\n"
     ]
    },
    {
     "name": "stdout",
     "output_type": "stream",
     "text": [
      " \n"
     ]
    },
    {
     "name": "stderr",
     "output_type": "stream",
     "text": [
      " 78%|███████▊  | 886/1130 [1:16:41<20:46,  5.11s/it][WDM] - Current google-chrome version is 92.0.4515\n",
      "[WDM] - Get LATEST driver version for 92.0.4515\n",
      "[WDM] - Driver [/Users/cblanesg/.wdm/drivers/chromedriver/mac64/92.0.4515.107/chromedriver] found in cache\n"
     ]
    },
    {
     "name": "stdout",
     "output_type": "stream",
     "text": [
      " \n"
     ]
    },
    {
     "name": "stderr",
     "output_type": "stream",
     "text": [
      " 78%|███████▊  | 887/1130 [1:16:47<22:01,  5.44s/it][WDM] - Current google-chrome version is 92.0.4515\n",
      "[WDM] - Get LATEST driver version for 92.0.4515\n",
      "[WDM] - Driver [/Users/cblanesg/.wdm/drivers/chromedriver/mac64/92.0.4515.107/chromedriver] found in cache\n"
     ]
    },
    {
     "name": "stdout",
     "output_type": "stream",
     "text": [
      " \n"
     ]
    },
    {
     "name": "stderr",
     "output_type": "stream",
     "text": [
      " 79%|███████▊  | 888/1130 [1:16:53<21:45,  5.39s/it][WDM] - Current google-chrome version is 92.0.4515\n",
      "[WDM] - Get LATEST driver version for 92.0.4515\n",
      "[WDM] - Driver [/Users/cblanesg/.wdm/drivers/chromedriver/mac64/92.0.4515.107/chromedriver] found in cache\n"
     ]
    },
    {
     "name": "stdout",
     "output_type": "stream",
     "text": [
      " \n"
     ]
    },
    {
     "name": "stderr",
     "output_type": "stream",
     "text": [
      " 79%|███████▊  | 889/1130 [1:16:58<21:29,  5.35s/it][WDM] - Current google-chrome version is 92.0.4515\n",
      "[WDM] - Get LATEST driver version for 92.0.4515\n",
      "[WDM] - Driver [/Users/cblanesg/.wdm/drivers/chromedriver/mac64/92.0.4515.107/chromedriver] found in cache\n"
     ]
    },
    {
     "name": "stdout",
     "output_type": "stream",
     "text": [
      " \n"
     ]
    },
    {
     "name": "stderr",
     "output_type": "stream",
     "text": [
      " 79%|███████▉  | 890/1130 [1:17:03<21:24,  5.35s/it][WDM] - Current google-chrome version is 92.0.4515\n",
      "[WDM] - Get LATEST driver version for 92.0.4515\n",
      "[WDM] - Driver [/Users/cblanesg/.wdm/drivers/chromedriver/mac64/92.0.4515.107/chromedriver] found in cache\n"
     ]
    },
    {
     "name": "stdout",
     "output_type": "stream",
     "text": [
      " \n"
     ]
    },
    {
     "name": "stderr",
     "output_type": "stream",
     "text": [
      " 79%|███████▉  | 891/1130 [1:17:07<19:53,  4.99s/it][WDM] - Current google-chrome version is 92.0.4515\n",
      "[WDM] - Get LATEST driver version for 92.0.4515\n",
      "[WDM] - Driver [/Users/cblanesg/.wdm/drivers/chromedriver/mac64/92.0.4515.107/chromedriver] found in cache\n"
     ]
    },
    {
     "name": "stdout",
     "output_type": "stream",
     "text": [
      " \n"
     ]
    },
    {
     "name": "stderr",
     "output_type": "stream",
     "text": [
      " 79%|███████▉  | 892/1130 [1:17:12<19:46,  4.99s/it][WDM] - Current google-chrome version is 92.0.4515\n",
      "[WDM] - Get LATEST driver version for 92.0.4515\n",
      "[WDM] - Driver [/Users/cblanesg/.wdm/drivers/chromedriver/mac64/92.0.4515.107/chromedriver] found in cache\n"
     ]
    },
    {
     "name": "stdout",
     "output_type": "stream",
     "text": [
      " \n"
     ]
    },
    {
     "name": "stderr",
     "output_type": "stream",
     "text": [
      " 79%|███████▉  | 893/1130 [1:17:18<19:56,  5.05s/it][WDM] - Current google-chrome version is 92.0.4515\n",
      "[WDM] - Get LATEST driver version for 92.0.4515\n",
      "[WDM] - Driver [/Users/cblanesg/.wdm/drivers/chromedriver/mac64/92.0.4515.107/chromedriver] found in cache\n"
     ]
    },
    {
     "name": "stdout",
     "output_type": "stream",
     "text": [
      " \n"
     ]
    },
    {
     "name": "stderr",
     "output_type": "stream",
     "text": [
      " 79%|███████▉  | 894/1130 [1:17:23<19:51,  5.05s/it][WDM] - Current google-chrome version is 92.0.4515\n",
      "[WDM] - Get LATEST driver version for 92.0.4515\n",
      "[WDM] - Driver [/Users/cblanesg/.wdm/drivers/chromedriver/mac64/92.0.4515.107/chromedriver] found in cache\n"
     ]
    },
    {
     "name": "stdout",
     "output_type": "stream",
     "text": [
      " \n"
     ]
    },
    {
     "name": "stderr",
     "output_type": "stream",
     "text": [
      " 79%|███████▉  | 895/1130 [1:17:28<20:05,  5.13s/it][WDM] - Current google-chrome version is 92.0.4515\n",
      "[WDM] - Get LATEST driver version for 92.0.4515\n",
      "[WDM] - Driver [/Users/cblanesg/.wdm/drivers/chromedriver/mac64/92.0.4515.107/chromedriver] found in cache\n"
     ]
    },
    {
     "name": "stdout",
     "output_type": "stream",
     "text": [
      " \n"
     ]
    },
    {
     "name": "stderr",
     "output_type": "stream",
     "text": [
      " 79%|███████▉  | 896/1130 [1:17:33<20:03,  5.14s/it][WDM] - Current google-chrome version is 92.0.4515\n",
      "[WDM] - Get LATEST driver version for 92.0.4515\n",
      "[WDM] - Driver [/Users/cblanesg/.wdm/drivers/chromedriver/mac64/92.0.4515.107/chromedriver] found in cache\n"
     ]
    },
    {
     "name": "stdout",
     "output_type": "stream",
     "text": [
      " \n"
     ]
    },
    {
     "name": "stderr",
     "output_type": "stream",
     "text": [
      " 79%|███████▉  | 897/1130 [1:17:38<20:08,  5.19s/it][WDM] - Current google-chrome version is 92.0.4515\n",
      "[WDM] - Get LATEST driver version for 92.0.4515\n",
      "[WDM] - Driver [/Users/cblanesg/.wdm/drivers/chromedriver/mac64/92.0.4515.107/chromedriver] found in cache\n"
     ]
    },
    {
     "name": "stdout",
     "output_type": "stream",
     "text": [
      " \n"
     ]
    },
    {
     "name": "stderr",
     "output_type": "stream",
     "text": [
      " 79%|███████▉  | 898/1130 [1:17:44<20:00,  5.18s/it][WDM] - Current google-chrome version is 92.0.4515\n",
      "[WDM] - Get LATEST driver version for 92.0.4515\n",
      "[WDM] - Driver [/Users/cblanesg/.wdm/drivers/chromedriver/mac64/92.0.4515.107/chromedriver] found in cache\n"
     ]
    },
    {
     "name": "stdout",
     "output_type": "stream",
     "text": [
      " \n"
     ]
    },
    {
     "name": "stderr",
     "output_type": "stream",
     "text": [
      " 80%|███████▉  | 899/1130 [1:17:49<20:28,  5.32s/it][WDM] - Current google-chrome version is 92.0.4515\n",
      "[WDM] - Get LATEST driver version for 92.0.4515\n",
      "[WDM] - Driver [/Users/cblanesg/.wdm/drivers/chromedriver/mac64/92.0.4515.107/chromedriver] found in cache\n"
     ]
    },
    {
     "name": "stdout",
     "output_type": "stream",
     "text": [
      " \n"
     ]
    },
    {
     "name": "stderr",
     "output_type": "stream",
     "text": [
      " 80%|███████▉  | 900/1130 [1:17:55<21:10,  5.52s/it][WDM] - Current google-chrome version is 92.0.4515\n",
      "[WDM] - Get LATEST driver version for 92.0.4515\n",
      "[WDM] - Driver [/Users/cblanesg/.wdm/drivers/chromedriver/mac64/92.0.4515.107/chromedriver] found in cache\n"
     ]
    },
    {
     "name": "stdout",
     "output_type": "stream",
     "text": [
      " \n"
     ]
    },
    {
     "name": "stderr",
     "output_type": "stream",
     "text": [
      " 80%|███████▉  | 901/1130 [1:18:01<21:45,  5.70s/it][WDM] - Current google-chrome version is 92.0.4515\n",
      "[WDM] - Get LATEST driver version for 92.0.4515\n",
      "[WDM] - Driver [/Users/cblanesg/.wdm/drivers/chromedriver/mac64/92.0.4515.107/chromedriver] found in cache\n"
     ]
    },
    {
     "name": "stdout",
     "output_type": "stream",
     "text": [
      " \n"
     ]
    },
    {
     "name": "stderr",
     "output_type": "stream",
     "text": [
      " 80%|███████▉  | 902/1130 [1:18:07<21:49,  5.74s/it][WDM] - Current google-chrome version is 92.0.4515\n",
      "[WDM] - Get LATEST driver version for 92.0.4515\n",
      "[WDM] - Driver [/Users/cblanesg/.wdm/drivers/chromedriver/mac64/92.0.4515.107/chromedriver] found in cache\n"
     ]
    },
    {
     "name": "stdout",
     "output_type": "stream",
     "text": [
      " \n"
     ]
    },
    {
     "name": "stderr",
     "output_type": "stream",
     "text": [
      " 80%|███████▉  | 903/1130 [1:18:14<22:37,  5.98s/it][WDM] - Current google-chrome version is 92.0.4515\n",
      "[WDM] - Get LATEST driver version for 92.0.4515\n",
      "[WDM] - Driver [/Users/cblanesg/.wdm/drivers/chromedriver/mac64/92.0.4515.107/chromedriver] found in cache\n"
     ]
    },
    {
     "name": "stdout",
     "output_type": "stream",
     "text": [
      " \n"
     ]
    },
    {
     "name": "stderr",
     "output_type": "stream",
     "text": [
      " 80%|████████  | 904/1130 [1:18:20<22:37,  6.01s/it][WDM] - Current google-chrome version is 92.0.4515\n",
      "[WDM] - Get LATEST driver version for 92.0.4515\n",
      "[WDM] - Driver [/Users/cblanesg/.wdm/drivers/chromedriver/mac64/92.0.4515.107/chromedriver] found in cache\n"
     ]
    },
    {
     "name": "stdout",
     "output_type": "stream",
     "text": [
      " \n"
     ]
    },
    {
     "name": "stderr",
     "output_type": "stream",
     "text": [
      " 80%|████████  | 905/1130 [1:18:26<22:46,  6.07s/it][WDM] - Current google-chrome version is 92.0.4515\n",
      "[WDM] - Get LATEST driver version for 92.0.4515\n",
      "[WDM] - Driver [/Users/cblanesg/.wdm/drivers/chromedriver/mac64/92.0.4515.107/chromedriver] found in cache\n"
     ]
    },
    {
     "name": "stdout",
     "output_type": "stream",
     "text": [
      " \n"
     ]
    },
    {
     "name": "stderr",
     "output_type": "stream",
     "text": [
      " 80%|████████  | 906/1130 [1:18:32<22:50,  6.12s/it][WDM] - Current google-chrome version is 92.0.4515\n",
      "[WDM] - Get LATEST driver version for 92.0.4515\n",
      "[WDM] - Driver [/Users/cblanesg/.wdm/drivers/chromedriver/mac64/92.0.4515.107/chromedriver] found in cache\n"
     ]
    },
    {
     "name": "stdout",
     "output_type": "stream",
     "text": [
      " \n"
     ]
    },
    {
     "name": "stderr",
     "output_type": "stream",
     "text": [
      " 80%|████████  | 907/1130 [1:18:39<23:35,  6.35s/it][WDM] - Current google-chrome version is 92.0.4515\n",
      "[WDM] - Get LATEST driver version for 92.0.4515\n",
      "[WDM] - Driver [/Users/cblanesg/.wdm/drivers/chromedriver/mac64/92.0.4515.107/chromedriver] found in cache\n"
     ]
    },
    {
     "name": "stdout",
     "output_type": "stream",
     "text": [
      " \n"
     ]
    },
    {
     "name": "stderr",
     "output_type": "stream",
     "text": [
      " 80%|████████  | 908/1130 [1:18:45<23:08,  6.26s/it][WDM] - Current google-chrome version is 92.0.4515\n",
      "[WDM] - Get LATEST driver version for 92.0.4515\n",
      "[WDM] - Driver [/Users/cblanesg/.wdm/drivers/chromedriver/mac64/92.0.4515.107/chromedriver] found in cache\n"
     ]
    },
    {
     "name": "stdout",
     "output_type": "stream",
     "text": [
      " \n"
     ]
    },
    {
     "name": "stderr",
     "output_type": "stream",
     "text": [
      " 80%|████████  | 909/1130 [1:18:51<22:52,  6.21s/it][WDM] - Current google-chrome version is 92.0.4515\n",
      "[WDM] - Get LATEST driver version for 92.0.4515\n",
      "[WDM] - Driver [/Users/cblanesg/.wdm/drivers/chromedriver/mac64/92.0.4515.107/chromedriver] found in cache\n"
     ]
    },
    {
     "name": "stdout",
     "output_type": "stream",
     "text": [
      " \n"
     ]
    },
    {
     "name": "stderr",
     "output_type": "stream",
     "text": [
      " 81%|████████  | 910/1130 [1:18:57<22:46,  6.21s/it][WDM] - Current google-chrome version is 92.0.4515\n",
      "[WDM] - Get LATEST driver version for 92.0.4515\n",
      "[WDM] - Driver [/Users/cblanesg/.wdm/drivers/chromedriver/mac64/92.0.4515.107/chromedriver] found in cache\n"
     ]
    },
    {
     "name": "stdout",
     "output_type": "stream",
     "text": [
      " \n"
     ]
    },
    {
     "name": "stderr",
     "output_type": "stream",
     "text": [
      " 81%|████████  | 911/1130 [1:19:03<22:11,  6.08s/it][WDM] - Current google-chrome version is 92.0.4515\n",
      "[WDM] - Get LATEST driver version for 92.0.4515\n",
      "[WDM] - Driver [/Users/cblanesg/.wdm/drivers/chromedriver/mac64/92.0.4515.107/chromedriver] found in cache\n"
     ]
    },
    {
     "name": "stdout",
     "output_type": "stream",
     "text": [
      " \n"
     ]
    },
    {
     "name": "stderr",
     "output_type": "stream",
     "text": [
      " 81%|████████  | 912/1130 [1:19:09<22:07,  6.09s/it][WDM] - Current google-chrome version is 92.0.4515\n",
      "[WDM] - Get LATEST driver version for 92.0.4515\n",
      "[WDM] - Driver [/Users/cblanesg/.wdm/drivers/chromedriver/mac64/92.0.4515.107/chromedriver] found in cache\n"
     ]
    },
    {
     "name": "stdout",
     "output_type": "stream",
     "text": [
      " \n"
     ]
    },
    {
     "name": "stderr",
     "output_type": "stream",
     "text": [
      " 81%|████████  | 913/1130 [1:19:16<22:25,  6.20s/it][WDM] - Current google-chrome version is 92.0.4515\n",
      "[WDM] - Get LATEST driver version for 92.0.4515\n",
      "[WDM] - Driver [/Users/cblanesg/.wdm/drivers/chromedriver/mac64/92.0.4515.107/chromedriver] found in cache\n"
     ]
    },
    {
     "name": "stdout",
     "output_type": "stream",
     "text": [
      " \n"
     ]
    },
    {
     "name": "stderr",
     "output_type": "stream",
     "text": [
      " 81%|████████  | 914/1130 [1:19:21<21:38,  6.01s/it][WDM] - Current google-chrome version is 92.0.4515\n",
      "[WDM] - Get LATEST driver version for 92.0.4515\n",
      "[WDM] - Driver [/Users/cblanesg/.wdm/drivers/chromedriver/mac64/92.0.4515.107/chromedriver] found in cache\n"
     ]
    },
    {
     "name": "stdout",
     "output_type": "stream",
     "text": [
      " \n"
     ]
    },
    {
     "name": "stderr",
     "output_type": "stream",
     "text": [
      " 81%|████████  | 915/1130 [1:19:27<21:24,  5.98s/it][WDM] - Current google-chrome version is 92.0.4515\n",
      "[WDM] - Get LATEST driver version for 92.0.4515\n",
      "[WDM] - Driver [/Users/cblanesg/.wdm/drivers/chromedriver/mac64/92.0.4515.107/chromedriver] found in cache\n"
     ]
    },
    {
     "name": "stdout",
     "output_type": "stream",
     "text": [
      " \n"
     ]
    },
    {
     "name": "stderr",
     "output_type": "stream",
     "text": [
      " 81%|████████  | 916/1130 [1:19:34<22:12,  6.23s/it][WDM] - Current google-chrome version is 92.0.4515\n",
      "[WDM] - Get LATEST driver version for 92.0.4515\n",
      "[WDM] - Driver [/Users/cblanesg/.wdm/drivers/chromedriver/mac64/92.0.4515.107/chromedriver] found in cache\n"
     ]
    },
    {
     "name": "stdout",
     "output_type": "stream",
     "text": [
      " \n"
     ]
    },
    {
     "name": "stderr",
     "output_type": "stream",
     "text": [
      " 81%|████████  | 917/1130 [1:19:40<21:50,  6.15s/it][WDM] - Current google-chrome version is 92.0.4515\n",
      "[WDM] - Get LATEST driver version for 92.0.4515\n",
      "[WDM] - Driver [/Users/cblanesg/.wdm/drivers/chromedriver/mac64/92.0.4515.107/chromedriver] found in cache\n"
     ]
    },
    {
     "name": "stdout",
     "output_type": "stream",
     "text": [
      " \n"
     ]
    },
    {
     "name": "stderr",
     "output_type": "stream",
     "text": [
      " 81%|████████  | 918/1130 [1:19:46<21:24,  6.06s/it][WDM] - Current google-chrome version is 92.0.4515\n",
      "[WDM] - Get LATEST driver version for 92.0.4515\n",
      "[WDM] - Driver [/Users/cblanesg/.wdm/drivers/chromedriver/mac64/92.0.4515.107/chromedriver] found in cache\n"
     ]
    },
    {
     "name": "stdout",
     "output_type": "stream",
     "text": [
      " \n"
     ]
    },
    {
     "name": "stderr",
     "output_type": "stream",
     "text": [
      " 81%|████████▏ | 919/1130 [1:19:52<21:10,  6.02s/it][WDM] - Current google-chrome version is 92.0.4515\n",
      "[WDM] - Get LATEST driver version for 92.0.4515\n",
      "[WDM] - Driver [/Users/cblanesg/.wdm/drivers/chromedriver/mac64/92.0.4515.107/chromedriver] found in cache\n"
     ]
    },
    {
     "name": "stdout",
     "output_type": "stream",
     "text": [
      " \n"
     ]
    },
    {
     "name": "stderr",
     "output_type": "stream",
     "text": [
      " 81%|████████▏ | 920/1130 [1:19:58<20:55,  5.98s/it][WDM] - Current google-chrome version is 92.0.4515\n",
      "[WDM] - Get LATEST driver version for 92.0.4515\n",
      "[WDM] - Driver [/Users/cblanesg/.wdm/drivers/chromedriver/mac64/92.0.4515.107/chromedriver] found in cache\n"
     ]
    },
    {
     "name": "stdout",
     "output_type": "stream",
     "text": [
      " \n"
     ]
    },
    {
     "name": "stderr",
     "output_type": "stream",
     "text": [
      " 82%|████████▏ | 921/1130 [1:20:04<20:44,  5.95s/it][WDM] - Current google-chrome version is 92.0.4515\n",
      "[WDM] - Get LATEST driver version for 92.0.4515\n",
      "[WDM] - Driver [/Users/cblanesg/.wdm/drivers/chromedriver/mac64/92.0.4515.107/chromedriver] found in cache\n"
     ]
    },
    {
     "name": "stdout",
     "output_type": "stream",
     "text": [
      " \n"
     ]
    },
    {
     "name": "stderr",
     "output_type": "stream",
     "text": [
      " 82%|████████▏ | 922/1130 [1:20:09<19:34,  5.65s/it][WDM] - Current google-chrome version is 92.0.4515\n",
      "[WDM] - Get LATEST driver version for 92.0.4515\n",
      "[WDM] - Driver [/Users/cblanesg/.wdm/drivers/chromedriver/mac64/92.0.4515.107/chromedriver] found in cache\n"
     ]
    },
    {
     "name": "stdout",
     "output_type": "stream",
     "text": [
      " \n"
     ]
    },
    {
     "name": "stderr",
     "output_type": "stream",
     "text": [
      " 82%|████████▏ | 923/1130 [1:20:16<21:08,  6.13s/it][WDM] - Current google-chrome version is 92.0.4515\n",
      "[WDM] - Get LATEST driver version for 92.0.4515\n",
      "[WDM] - Driver [/Users/cblanesg/.wdm/drivers/chromedriver/mac64/92.0.4515.107/chromedriver] found in cache\n"
     ]
    },
    {
     "name": "stdout",
     "output_type": "stream",
     "text": [
      " \n"
     ]
    },
    {
     "name": "stderr",
     "output_type": "stream",
     "text": [
      " 82%|████████▏ | 924/1130 [1:20:22<20:47,  6.05s/it][WDM] - Current google-chrome version is 92.0.4515\n",
      "[WDM] - Get LATEST driver version for 92.0.4515\n",
      "[WDM] - Driver [/Users/cblanesg/.wdm/drivers/chromedriver/mac64/92.0.4515.107/chromedriver] found in cache\n"
     ]
    },
    {
     "name": "stdout",
     "output_type": "stream",
     "text": [
      " \n"
     ]
    },
    {
     "name": "stderr",
     "output_type": "stream",
     "text": [
      " 82%|████████▏ | 925/1130 [1:20:29<21:46,  6.37s/it][WDM] - Current google-chrome version is 92.0.4515\n",
      "[WDM] - Get LATEST driver version for 92.0.4515\n",
      "[WDM] - Driver [/Users/cblanesg/.wdm/drivers/chromedriver/mac64/92.0.4515.107/chromedriver] found in cache\n"
     ]
    },
    {
     "name": "stdout",
     "output_type": "stream",
     "text": [
      " \n"
     ]
    },
    {
     "name": "stderr",
     "output_type": "stream",
     "text": [
      " 82%|████████▏ | 926/1130 [1:20:34<20:14,  5.95s/it][WDM] - Current google-chrome version is 92.0.4515\n",
      "[WDM] - Get LATEST driver version for 92.0.4515\n",
      "[WDM] - Driver [/Users/cblanesg/.wdm/drivers/chromedriver/mac64/92.0.4515.107/chromedriver] found in cache\n"
     ]
    },
    {
     "name": "stdout",
     "output_type": "stream",
     "text": [
      " \n"
     ]
    },
    {
     "name": "stderr",
     "output_type": "stream",
     "text": [
      " 82%|████████▏ | 927/1130 [1:20:40<20:10,  5.96s/it][WDM] - Current google-chrome version is 92.0.4515\n",
      "[WDM] - Get LATEST driver version for 92.0.4515\n",
      "[WDM] - Driver [/Users/cblanesg/.wdm/drivers/chromedriver/mac64/92.0.4515.107/chromedriver] found in cache\n"
     ]
    },
    {
     "name": "stdout",
     "output_type": "stream",
     "text": [
      " \n"
     ]
    },
    {
     "name": "stderr",
     "output_type": "stream",
     "text": [
      " 82%|████████▏ | 928/1130 [1:20:44<18:46,  5.58s/it][WDM] - Current google-chrome version is 92.0.4515\n",
      "[WDM] - Get LATEST driver version for 92.0.4515\n",
      "[WDM] - Driver [/Users/cblanesg/.wdm/drivers/chromedriver/mac64/92.0.4515.107/chromedriver] found in cache\n"
     ]
    },
    {
     "name": "stdout",
     "output_type": "stream",
     "text": [
      " \n"
     ]
    },
    {
     "name": "stderr",
     "output_type": "stream",
     "text": [
      " 82%|████████▏ | 929/1130 [1:20:49<17:51,  5.33s/it][WDM] - Current google-chrome version is 92.0.4515\n",
      "[WDM] - Get LATEST driver version for 92.0.4515\n",
      "[WDM] - Driver [/Users/cblanesg/.wdm/drivers/chromedriver/mac64/92.0.4515.107/chromedriver] found in cache\n"
     ]
    },
    {
     "name": "stdout",
     "output_type": "stream",
     "text": [
      " \n"
     ]
    },
    {
     "name": "stderr",
     "output_type": "stream",
     "text": [
      " 82%|████████▏ | 930/1130 [1:20:54<17:23,  5.22s/it][WDM] - Current google-chrome version is 92.0.4515\n",
      "[WDM] - Get LATEST driver version for 92.0.4515\n",
      "[WDM] - Driver [/Users/cblanesg/.wdm/drivers/chromedriver/mac64/92.0.4515.107/chromedriver] found in cache\n"
     ]
    },
    {
     "name": "stdout",
     "output_type": "stream",
     "text": [
      " \n"
     ]
    },
    {
     "name": "stderr",
     "output_type": "stream",
     "text": [
      " 82%|████████▏ | 931/1130 [1:20:59<17:08,  5.17s/it][WDM] - Current google-chrome version is 92.0.4515\n",
      "[WDM] - Get LATEST driver version for 92.0.4515\n",
      "[WDM] - Driver [/Users/cblanesg/.wdm/drivers/chromedriver/mac64/92.0.4515.107/chromedriver] found in cache\n"
     ]
    },
    {
     "name": "stdout",
     "output_type": "stream",
     "text": [
      " \n"
     ]
    },
    {
     "name": "stderr",
     "output_type": "stream",
     "text": [
      " 82%|████████▏ | 932/1130 [1:21:05<17:28,  5.29s/it][WDM] - Current google-chrome version is 92.0.4515\n",
      "[WDM] - Get LATEST driver version for 92.0.4515\n",
      "[WDM] - Driver [/Users/cblanesg/.wdm/drivers/chromedriver/mac64/92.0.4515.107/chromedriver] found in cache\n"
     ]
    },
    {
     "name": "stdout",
     "output_type": "stream",
     "text": [
      " \n"
     ]
    },
    {
     "name": "stderr",
     "output_type": "stream",
     "text": [
      " 83%|████████▎ | 933/1130 [1:21:10<17:19,  5.27s/it][WDM] - Current google-chrome version is 92.0.4515\n",
      "[WDM] - Get LATEST driver version for 92.0.4515\n",
      "[WDM] - Driver [/Users/cblanesg/.wdm/drivers/chromedriver/mac64/92.0.4515.107/chromedriver] found in cache\n"
     ]
    },
    {
     "name": "stdout",
     "output_type": "stream",
     "text": [
      " \n"
     ]
    },
    {
     "name": "stderr",
     "output_type": "stream",
     "text": [
      " 83%|████████▎ | 934/1130 [1:21:15<16:57,  5.19s/it][WDM] - Current google-chrome version is 92.0.4515\n",
      "[WDM] - Get LATEST driver version for 92.0.4515\n",
      "[WDM] - Driver [/Users/cblanesg/.wdm/drivers/chromedriver/mac64/92.0.4515.107/chromedriver] found in cache\n"
     ]
    },
    {
     "name": "stdout",
     "output_type": "stream",
     "text": [
      " \n"
     ]
    },
    {
     "name": "stderr",
     "output_type": "stream",
     "text": [
      " 83%|████████▎ | 935/1130 [1:21:20<16:58,  5.22s/it][WDM] - Current google-chrome version is 92.0.4515\n",
      "[WDM] - Get LATEST driver version for 92.0.4515\n",
      "[WDM] - Driver [/Users/cblanesg/.wdm/drivers/chromedriver/mac64/92.0.4515.107/chromedriver] found in cache\n"
     ]
    },
    {
     "name": "stdout",
     "output_type": "stream",
     "text": [
      " \n"
     ]
    },
    {
     "name": "stderr",
     "output_type": "stream",
     "text": [
      " 83%|████████▎ | 936/1130 [1:21:25<16:23,  5.07s/it][WDM] - Current google-chrome version is 92.0.4515\n",
      "[WDM] - Get LATEST driver version for 92.0.4515\n",
      "[WDM] - Driver [/Users/cblanesg/.wdm/drivers/chromedriver/mac64/92.0.4515.107/chromedriver] found in cache\n"
     ]
    },
    {
     "name": "stdout",
     "output_type": "stream",
     "text": [
      " \n"
     ]
    },
    {
     "name": "stderr",
     "output_type": "stream",
     "text": [
      " 83%|████████▎ | 937/1130 [1:21:30<16:33,  5.15s/it][WDM] - Current google-chrome version is 92.0.4515\n",
      "[WDM] - Get LATEST driver version for 92.0.4515\n",
      "[WDM] - Driver [/Users/cblanesg/.wdm/drivers/chromedriver/mac64/92.0.4515.107/chromedriver] found in cache\n"
     ]
    },
    {
     "name": "stdout",
     "output_type": "stream",
     "text": [
      " \n"
     ]
    },
    {
     "name": "stderr",
     "output_type": "stream",
     "text": [
      " 83%|████████▎ | 938/1130 [1:21:36<16:46,  5.24s/it][WDM] - Current google-chrome version is 92.0.4515\n",
      "[WDM] - Get LATEST driver version for 92.0.4515\n",
      "[WDM] - Driver [/Users/cblanesg/.wdm/drivers/chromedriver/mac64/92.0.4515.107/chromedriver] found in cache\n"
     ]
    },
    {
     "name": "stdout",
     "output_type": "stream",
     "text": [
      " \n"
     ]
    },
    {
     "name": "stderr",
     "output_type": "stream",
     "text": [
      " 83%|████████▎ | 939/1130 [1:21:41<16:50,  5.29s/it][WDM] - Current google-chrome version is 92.0.4515\n",
      "[WDM] - Get LATEST driver version for 92.0.4515\n",
      "[WDM] - Driver [/Users/cblanesg/.wdm/drivers/chromedriver/mac64/92.0.4515.107/chromedriver] found in cache\n"
     ]
    },
    {
     "name": "stdout",
     "output_type": "stream",
     "text": [
      " \n"
     ]
    },
    {
     "name": "stderr",
     "output_type": "stream",
     "text": [
      " 83%|████████▎ | 940/1130 [1:21:46<16:44,  5.29s/it][WDM] - Current google-chrome version is 92.0.4515\n",
      "[WDM] - Get LATEST driver version for 92.0.4515\n",
      "[WDM] - Driver [/Users/cblanesg/.wdm/drivers/chromedriver/mac64/92.0.4515.107/chromedriver] found in cache\n"
     ]
    },
    {
     "name": "stdout",
     "output_type": "stream",
     "text": [
      " \n"
     ]
    },
    {
     "name": "stderr",
     "output_type": "stream",
     "text": [
      " 83%|████████▎ | 941/1130 [1:21:51<15:54,  5.05s/it][WDM] - Current google-chrome version is 92.0.4515\n",
      "[WDM] - Get LATEST driver version for 92.0.4515\n",
      "[WDM] - Driver [/Users/cblanesg/.wdm/drivers/chromedriver/mac64/92.0.4515.107/chromedriver] found in cache\n"
     ]
    },
    {
     "name": "stdout",
     "output_type": "stream",
     "text": [
      " \n"
     ]
    },
    {
     "name": "stderr",
     "output_type": "stream",
     "text": [
      " 83%|████████▎ | 942/1130 [1:21:56<15:56,  5.09s/it][WDM] - Current google-chrome version is 92.0.4515\n",
      "[WDM] - Get LATEST driver version for 92.0.4515\n",
      "[WDM] - Driver [/Users/cblanesg/.wdm/drivers/chromedriver/mac64/92.0.4515.107/chromedriver] found in cache\n"
     ]
    },
    {
     "name": "stdout",
     "output_type": "stream",
     "text": [
      " \n"
     ]
    },
    {
     "name": "stderr",
     "output_type": "stream",
     "text": [
      " 83%|████████▎ | 943/1130 [1:22:01<15:52,  5.09s/it][WDM] - Current google-chrome version is 92.0.4515\n",
      "[WDM] - Get LATEST driver version for 92.0.4515\n",
      "[WDM] - Driver [/Users/cblanesg/.wdm/drivers/chromedriver/mac64/92.0.4515.107/chromedriver] found in cache\n"
     ]
    },
    {
     "name": "stdout",
     "output_type": "stream",
     "text": [
      " \n"
     ]
    },
    {
     "name": "stderr",
     "output_type": "stream",
     "text": [
      " 84%|████████▎ | 944/1130 [1:22:06<15:47,  5.09s/it][WDM] - Current google-chrome version is 92.0.4515\n",
      "[WDM] - Get LATEST driver version for 92.0.4515\n",
      "[WDM] - Driver [/Users/cblanesg/.wdm/drivers/chromedriver/mac64/92.0.4515.107/chromedriver] found in cache\n"
     ]
    },
    {
     "name": "stdout",
     "output_type": "stream",
     "text": [
      " \n"
     ]
    },
    {
     "name": "stderr",
     "output_type": "stream",
     "text": [
      " 84%|████████▎ | 945/1130 [1:22:12<15:51,  5.14s/it][WDM] - Current google-chrome version is 92.0.4515\n",
      "[WDM] - Get LATEST driver version for 92.0.4515\n",
      "[WDM] - Driver [/Users/cblanesg/.wdm/drivers/chromedriver/mac64/92.0.4515.107/chromedriver] found in cache\n"
     ]
    },
    {
     "name": "stdout",
     "output_type": "stream",
     "text": [
      " \n"
     ]
    },
    {
     "name": "stderr",
     "output_type": "stream",
     "text": [
      " 84%|████████▎ | 946/1130 [1:22:17<15:47,  5.15s/it][WDM] - Current google-chrome version is 92.0.4515\n",
      "[WDM] - Get LATEST driver version for 92.0.4515\n",
      "[WDM] - Driver [/Users/cblanesg/.wdm/drivers/chromedriver/mac64/92.0.4515.107/chromedriver] found in cache\n"
     ]
    },
    {
     "name": "stdout",
     "output_type": "stream",
     "text": [
      " \n"
     ]
    },
    {
     "name": "stderr",
     "output_type": "stream",
     "text": [
      " 84%|████████▍ | 947/1130 [1:22:23<16:38,  5.45s/it][WDM] - Current google-chrome version is 92.0.4515\n",
      "[WDM] - Get LATEST driver version for 92.0.4515\n",
      "[WDM] - Driver [/Users/cblanesg/.wdm/drivers/chromedriver/mac64/92.0.4515.107/chromedriver] found in cache\n"
     ]
    },
    {
     "name": "stdout",
     "output_type": "stream",
     "text": [
      " \n"
     ]
    },
    {
     "name": "stderr",
     "output_type": "stream",
     "text": [
      " 84%|████████▍ | 948/1130 [1:22:28<16:37,  5.48s/it][WDM] - Current google-chrome version is 92.0.4515\n",
      "[WDM] - Get LATEST driver version for 92.0.4515\n",
      "[WDM] - Driver [/Users/cblanesg/.wdm/drivers/chromedriver/mac64/92.0.4515.107/chromedriver] found in cache\n"
     ]
    },
    {
     "name": "stdout",
     "output_type": "stream",
     "text": [
      " \n"
     ]
    },
    {
     "name": "stderr",
     "output_type": "stream",
     "text": [
      " 84%|████████▍ | 949/1130 [1:22:34<16:17,  5.40s/it][WDM] - Current google-chrome version is 92.0.4515\n",
      "[WDM] - Get LATEST driver version for 92.0.4515\n",
      "[WDM] - Driver [/Users/cblanesg/.wdm/drivers/chromedriver/mac64/92.0.4515.107/chromedriver] found in cache\n"
     ]
    },
    {
     "name": "stdout",
     "output_type": "stream",
     "text": [
      " \n"
     ]
    },
    {
     "name": "stderr",
     "output_type": "stream",
     "text": [
      " 84%|████████▍ | 950/1130 [1:22:39<15:51,  5.29s/it][WDM] - Current google-chrome version is 92.0.4515\n",
      "[WDM] - Get LATEST driver version for 92.0.4515\n",
      "[WDM] - Driver [/Users/cblanesg/.wdm/drivers/chromedriver/mac64/92.0.4515.107/chromedriver] found in cache\n"
     ]
    },
    {
     "name": "stdout",
     "output_type": "stream",
     "text": [
      " \n"
     ]
    },
    {
     "name": "stderr",
     "output_type": "stream",
     "text": [
      " 84%|████████▍ | 951/1130 [1:22:44<15:41,  5.26s/it][WDM] - Current google-chrome version is 92.0.4515\n",
      "[WDM] - Get LATEST driver version for 92.0.4515\n",
      "[WDM] - Driver [/Users/cblanesg/.wdm/drivers/chromedriver/mac64/92.0.4515.107/chromedriver] found in cache\n"
     ]
    },
    {
     "name": "stdout",
     "output_type": "stream",
     "text": [
      " \n"
     ]
    },
    {
     "name": "stderr",
     "output_type": "stream",
     "text": [
      " 84%|████████▍ | 952/1130 [1:22:49<15:33,  5.25s/it][WDM] - Current google-chrome version is 92.0.4515\n",
      "[WDM] - Get LATEST driver version for 92.0.4515\n",
      "[WDM] - Driver [/Users/cblanesg/.wdm/drivers/chromedriver/mac64/92.0.4515.107/chromedriver] found in cache\n"
     ]
    },
    {
     "name": "stdout",
     "output_type": "stream",
     "text": [
      " \n"
     ]
    },
    {
     "name": "stderr",
     "output_type": "stream",
     "text": [
      " 84%|████████▍ | 953/1130 [1:22:55<15:37,  5.29s/it][WDM] - Current google-chrome version is 92.0.4515\n",
      "[WDM] - Get LATEST driver version for 92.0.4515\n",
      "[WDM] - Driver [/Users/cblanesg/.wdm/drivers/chromedriver/mac64/92.0.4515.107/chromedriver] found in cache\n"
     ]
    },
    {
     "name": "stdout",
     "output_type": "stream",
     "text": [
      " \n"
     ]
    },
    {
     "name": "stderr",
     "output_type": "stream",
     "text": [
      " 84%|████████▍ | 954/1130 [1:23:00<15:22,  5.24s/it][WDM] - Current google-chrome version is 92.0.4515\n",
      "[WDM] - Get LATEST driver version for 92.0.4515\n",
      "[WDM] - Driver [/Users/cblanesg/.wdm/drivers/chromedriver/mac64/92.0.4515.107/chromedriver] found in cache\n"
     ]
    },
    {
     "name": "stdout",
     "output_type": "stream",
     "text": [
      " \n"
     ]
    },
    {
     "name": "stderr",
     "output_type": "stream",
     "text": [
      " 85%|████████▍ | 955/1130 [1:23:05<15:21,  5.26s/it][WDM] - Current google-chrome version is 92.0.4515\n",
      "[WDM] - Get LATEST driver version for 92.0.4515\n",
      "[WDM] - Driver [/Users/cblanesg/.wdm/drivers/chromedriver/mac64/92.0.4515.107/chromedriver] found in cache\n"
     ]
    },
    {
     "name": "stdout",
     "output_type": "stream",
     "text": [
      " \n"
     ]
    },
    {
     "name": "stderr",
     "output_type": "stream",
     "text": [
      " 85%|████████▍ | 956/1130 [1:23:10<15:13,  5.25s/it][WDM] - Current google-chrome version is 92.0.4515\n",
      "[WDM] - Get LATEST driver version for 92.0.4515\n",
      "[WDM] - Driver [/Users/cblanesg/.wdm/drivers/chromedriver/mac64/92.0.4515.107/chromedriver] found in cache\n"
     ]
    },
    {
     "name": "stdout",
     "output_type": "stream",
     "text": [
      " \n"
     ]
    },
    {
     "name": "stderr",
     "output_type": "stream",
     "text": [
      " 85%|████████▍ | 957/1130 [1:23:15<14:42,  5.10s/it][WDM] - Current google-chrome version is 92.0.4515\n",
      "[WDM] - Get LATEST driver version for 92.0.4515\n",
      "[WDM] - Driver [/Users/cblanesg/.wdm/drivers/chromedriver/mac64/92.0.4515.107/chromedriver] found in cache\n"
     ]
    },
    {
     "name": "stdout",
     "output_type": "stream",
     "text": [
      " \n"
     ]
    },
    {
     "name": "stderr",
     "output_type": "stream",
     "text": [
      " 85%|████████▍ | 958/1130 [1:23:20<14:46,  5.16s/it][WDM] - Current google-chrome version is 92.0.4515\n",
      "[WDM] - Get LATEST driver version for 92.0.4515\n",
      "[WDM] - Driver [/Users/cblanesg/.wdm/drivers/chromedriver/mac64/92.0.4515.107/chromedriver] found in cache\n"
     ]
    },
    {
     "name": "stdout",
     "output_type": "stream",
     "text": [
      " \n"
     ]
    },
    {
     "name": "stderr",
     "output_type": "stream",
     "text": [
      " 85%|████████▍ | 959/1130 [1:23:25<14:40,  5.15s/it][WDM] - Current google-chrome version is 92.0.4515\n",
      "[WDM] - Get LATEST driver version for 92.0.4515\n",
      "[WDM] - Driver [/Users/cblanesg/.wdm/drivers/chromedriver/mac64/92.0.4515.107/chromedriver] found in cache\n"
     ]
    },
    {
     "name": "stdout",
     "output_type": "stream",
     "text": [
      " \n"
     ]
    },
    {
     "name": "stderr",
     "output_type": "stream",
     "text": [
      " 85%|████████▍ | 960/1130 [1:23:30<14:32,  5.13s/it][WDM] - Current google-chrome version is 92.0.4515\n",
      "[WDM] - Get LATEST driver version for 92.0.4515\n",
      "[WDM] - Driver [/Users/cblanesg/.wdm/drivers/chromedriver/mac64/92.0.4515.107/chromedriver] found in cache\n"
     ]
    },
    {
     "name": "stdout",
     "output_type": "stream",
     "text": [
      " \n"
     ]
    },
    {
     "name": "stderr",
     "output_type": "stream",
     "text": [
      " 85%|████████▌ | 961/1130 [1:23:35<13:58,  4.96s/it][WDM] - Current google-chrome version is 92.0.4515\n",
      "[WDM] - Get LATEST driver version for 92.0.4515\n",
      "[WDM] - Driver [/Users/cblanesg/.wdm/drivers/chromedriver/mac64/92.0.4515.107/chromedriver] found in cache\n"
     ]
    },
    {
     "name": "stdout",
     "output_type": "stream",
     "text": [
      " \n"
     ]
    },
    {
     "name": "stderr",
     "output_type": "stream",
     "text": [
      " 85%|████████▌ | 962/1130 [1:23:39<13:11,  4.71s/it][WDM] - Current google-chrome version is 92.0.4515\n",
      "[WDM] - Get LATEST driver version for 92.0.4515\n",
      "[WDM] - Driver [/Users/cblanesg/.wdm/drivers/chromedriver/mac64/92.0.4515.107/chromedriver] found in cache\n"
     ]
    },
    {
     "name": "stdout",
     "output_type": "stream",
     "text": [
      " \n"
     ]
    },
    {
     "name": "stderr",
     "output_type": "stream",
     "text": [
      " 85%|████████▌ | 963/1130 [1:23:43<12:38,  4.54s/it][WDM] - Current google-chrome version is 92.0.4515\n",
      "[WDM] - Get LATEST driver version for 92.0.4515\n",
      "[WDM] - Driver [/Users/cblanesg/.wdm/drivers/chromedriver/mac64/92.0.4515.107/chromedriver] found in cache\n"
     ]
    },
    {
     "name": "stdout",
     "output_type": "stream",
     "text": [
      " \n"
     ]
    },
    {
     "name": "stderr",
     "output_type": "stream",
     "text": [
      " 85%|████████▌ | 964/1130 [1:23:48<12:24,  4.48s/it][WDM] - Current google-chrome version is 92.0.4515\n",
      "[WDM] - Get LATEST driver version for 92.0.4515\n",
      "[WDM] - Driver [/Users/cblanesg/.wdm/drivers/chromedriver/mac64/92.0.4515.107/chromedriver] found in cache\n"
     ]
    },
    {
     "name": "stdout",
     "output_type": "stream",
     "text": [
      " \n"
     ]
    },
    {
     "name": "stderr",
     "output_type": "stream",
     "text": [
      " 85%|████████▌ | 965/1130 [1:23:52<12:03,  4.39s/it][WDM] - Current google-chrome version is 92.0.4515\n",
      "[WDM] - Get LATEST driver version for 92.0.4515\n",
      "[WDM] - Driver [/Users/cblanesg/.wdm/drivers/chromedriver/mac64/92.0.4515.107/chromedriver] found in cache\n"
     ]
    },
    {
     "name": "stdout",
     "output_type": "stream",
     "text": [
      " \n"
     ]
    },
    {
     "name": "stderr",
     "output_type": "stream",
     "text": [
      " 85%|████████▌ | 966/1130 [1:23:56<11:54,  4.36s/it][WDM] - Current google-chrome version is 92.0.4515\n",
      "[WDM] - Get LATEST driver version for 92.0.4515\n",
      "[WDM] - Driver [/Users/cblanesg/.wdm/drivers/chromedriver/mac64/92.0.4515.107/chromedriver] found in cache\n"
     ]
    },
    {
     "name": "stdout",
     "output_type": "stream",
     "text": [
      " \n"
     ]
    },
    {
     "name": "stderr",
     "output_type": "stream",
     "text": [
      " 86%|████████▌ | 967/1130 [1:24:00<11:46,  4.34s/it][WDM] - Current google-chrome version is 92.0.4515\n",
      "[WDM] - Get LATEST driver version for 92.0.4515\n",
      "[WDM] - Driver [/Users/cblanesg/.wdm/drivers/chromedriver/mac64/92.0.4515.107/chromedriver] found in cache\n"
     ]
    },
    {
     "name": "stdout",
     "output_type": "stream",
     "text": [
      " \n"
     ]
    },
    {
     "name": "stderr",
     "output_type": "stream",
     "text": [
      " 86%|████████▌ | 968/1130 [1:24:05<11:45,  4.36s/it][WDM] - Current google-chrome version is 92.0.4515\n",
      "[WDM] - Get LATEST driver version for 92.0.4515\n",
      "[WDM] - Driver [/Users/cblanesg/.wdm/drivers/chromedriver/mac64/92.0.4515.107/chromedriver] found in cache\n"
     ]
    },
    {
     "name": "stdout",
     "output_type": "stream",
     "text": [
      " \n"
     ]
    },
    {
     "name": "stderr",
     "output_type": "stream",
     "text": [
      " 86%|████████▌ | 969/1130 [1:24:09<11:50,  4.41s/it][WDM] - Current google-chrome version is 92.0.4515\n",
      "[WDM] - Get LATEST driver version for 92.0.4515\n",
      "[WDM] - Driver [/Users/cblanesg/.wdm/drivers/chromedriver/mac64/92.0.4515.107/chromedriver] found in cache\n"
     ]
    },
    {
     "name": "stdout",
     "output_type": "stream",
     "text": [
      " \n"
     ]
    },
    {
     "name": "stderr",
     "output_type": "stream",
     "text": [
      " 86%|████████▌ | 970/1130 [1:24:14<11:36,  4.35s/it][WDM] - Current google-chrome version is 92.0.4515\n",
      "[WDM] - Get LATEST driver version for 92.0.4515\n",
      "[WDM] - Driver [/Users/cblanesg/.wdm/drivers/chromedriver/mac64/92.0.4515.107/chromedriver] found in cache\n"
     ]
    },
    {
     "name": "stdout",
     "output_type": "stream",
     "text": [
      " \n"
     ]
    },
    {
     "name": "stderr",
     "output_type": "stream",
     "text": [
      " 86%|████████▌ | 971/1130 [1:24:17<11:09,  4.21s/it][WDM] - Current google-chrome version is 92.0.4515\n",
      "[WDM] - Get LATEST driver version for 92.0.4515\n",
      "[WDM] - Driver [/Users/cblanesg/.wdm/drivers/chromedriver/mac64/92.0.4515.107/chromedriver] found in cache\n"
     ]
    },
    {
     "name": "stdout",
     "output_type": "stream",
     "text": [
      " \n"
     ]
    },
    {
     "name": "stderr",
     "output_type": "stream",
     "text": [
      " 86%|████████▌ | 972/1130 [1:24:22<11:18,  4.30s/it][WDM] - Current google-chrome version is 92.0.4515\n",
      "[WDM] - Get LATEST driver version for 92.0.4515\n",
      "[WDM] - Driver [/Users/cblanesg/.wdm/drivers/chromedriver/mac64/92.0.4515.107/chromedriver] found in cache\n"
     ]
    },
    {
     "name": "stdout",
     "output_type": "stream",
     "text": [
      " \n"
     ]
    },
    {
     "name": "stderr",
     "output_type": "stream",
     "text": [
      " 86%|████████▌ | 973/1130 [1:24:26<11:22,  4.35s/it][WDM] - Current google-chrome version is 92.0.4515\n",
      "[WDM] - Get LATEST driver version for 92.0.4515\n",
      "[WDM] - Driver [/Users/cblanesg/.wdm/drivers/chromedriver/mac64/92.0.4515.107/chromedriver] found in cache\n"
     ]
    },
    {
     "name": "stdout",
     "output_type": "stream",
     "text": [
      " \n"
     ]
    },
    {
     "name": "stderr",
     "output_type": "stream",
     "text": [
      " 86%|████████▌ | 974/1130 [1:24:31<11:27,  4.40s/it][WDM] - Current google-chrome version is 92.0.4515\n",
      "[WDM] - Get LATEST driver version for 92.0.4515\n",
      "[WDM] - Driver [/Users/cblanesg/.wdm/drivers/chromedriver/mac64/92.0.4515.107/chromedriver] found in cache\n"
     ]
    },
    {
     "name": "stdout",
     "output_type": "stream",
     "text": [
      " \n"
     ]
    },
    {
     "name": "stderr",
     "output_type": "stream",
     "text": [
      " 86%|████████▋ | 975/1130 [1:24:35<11:25,  4.42s/it][WDM] - Current google-chrome version is 92.0.4515\n",
      "[WDM] - Get LATEST driver version for 92.0.4515\n",
      "[WDM] - Driver [/Users/cblanesg/.wdm/drivers/chromedriver/mac64/92.0.4515.107/chromedriver] found in cache\n"
     ]
    },
    {
     "name": "stdout",
     "output_type": "stream",
     "text": [
      " \n"
     ]
    },
    {
     "name": "stderr",
     "output_type": "stream",
     "text": [
      " 86%|████████▋ | 976/1130 [1:24:40<11:28,  4.47s/it][WDM] - Current google-chrome version is 92.0.4515\n",
      "[WDM] - Get LATEST driver version for 92.0.4515\n",
      "[WDM] - Driver [/Users/cblanesg/.wdm/drivers/chromedriver/mac64/92.0.4515.107/chromedriver] found in cache\n"
     ]
    },
    {
     "name": "stdout",
     "output_type": "stream",
     "text": [
      " \n"
     ]
    },
    {
     "name": "stderr",
     "output_type": "stream",
     "text": [
      " 86%|████████▋ | 977/1130 [1:24:44<11:00,  4.32s/it][WDM] - Current google-chrome version is 92.0.4515\n",
      "[WDM] - Get LATEST driver version for 92.0.4515\n",
      "[WDM] - Driver [/Users/cblanesg/.wdm/drivers/chromedriver/mac64/92.0.4515.107/chromedriver] found in cache\n"
     ]
    },
    {
     "name": "stdout",
     "output_type": "stream",
     "text": [
      " \n"
     ]
    },
    {
     "name": "stderr",
     "output_type": "stream",
     "text": [
      " 87%|████████▋ | 978/1130 [1:24:48<11:00,  4.34s/it][WDM] - Current google-chrome version is 92.0.4515\n",
      "[WDM] - Get LATEST driver version for 92.0.4515\n",
      "[WDM] - Driver [/Users/cblanesg/.wdm/drivers/chromedriver/mac64/92.0.4515.107/chromedriver] found in cache\n"
     ]
    },
    {
     "name": "stdout",
     "output_type": "stream",
     "text": [
      " \n"
     ]
    },
    {
     "name": "stderr",
     "output_type": "stream",
     "text": [
      " 87%|████████▋ | 979/1130 [1:24:53<11:06,  4.42s/it][WDM] - Current google-chrome version is 92.0.4515\n",
      "[WDM] - Get LATEST driver version for 92.0.4515\n",
      "[WDM] - Driver [/Users/cblanesg/.wdm/drivers/chromedriver/mac64/92.0.4515.107/chromedriver] found in cache\n"
     ]
    },
    {
     "name": "stdout",
     "output_type": "stream",
     "text": [
      " \n"
     ]
    },
    {
     "name": "stderr",
     "output_type": "stream",
     "text": [
      " 87%|████████▋ | 980/1130 [1:24:57<10:46,  4.31s/it][WDM] - Current google-chrome version is 92.0.4515\n",
      "[WDM] - Get LATEST driver version for 92.0.4515\n",
      "[WDM] - Driver [/Users/cblanesg/.wdm/drivers/chromedriver/mac64/92.0.4515.107/chromedriver] found in cache\n"
     ]
    },
    {
     "name": "stdout",
     "output_type": "stream",
     "text": [
      " \n"
     ]
    },
    {
     "name": "stderr",
     "output_type": "stream",
     "text": [
      " 87%|████████▋ | 981/1130 [1:25:02<11:01,  4.44s/it][WDM] - Current google-chrome version is 92.0.4515\n",
      "[WDM] - Get LATEST driver version for 92.0.4515\n",
      "[WDM] - Driver [/Users/cblanesg/.wdm/drivers/chromedriver/mac64/92.0.4515.107/chromedriver] found in cache\n"
     ]
    },
    {
     "name": "stdout",
     "output_type": "stream",
     "text": [
      " \n"
     ]
    },
    {
     "name": "stderr",
     "output_type": "stream",
     "text": [
      " 87%|████████▋ | 982/1130 [1:25:06<11:05,  4.50s/it][WDM] - Current google-chrome version is 92.0.4515\n",
      "[WDM] - Get LATEST driver version for 92.0.4515\n"
     ]
    },
    {
     "name": "stdout",
     "output_type": "stream",
     "text": [
      " \n"
     ]
    },
    {
     "name": "stderr",
     "output_type": "stream",
     "text": [
      "[WDM] - Driver [/Users/cblanesg/.wdm/drivers/chromedriver/mac64/92.0.4515.107/chromedriver] found in cache\n",
      " 87%|████████▋ | 983/1130 [1:25:13<12:22,  5.05s/it][WDM] - Current google-chrome version is 92.0.4515\n",
      "[WDM] - Get LATEST driver version for 92.0.4515\n",
      "[WDM] - Driver [/Users/cblanesg/.wdm/drivers/chromedriver/mac64/92.0.4515.107/chromedriver] found in cache\n"
     ]
    },
    {
     "name": "stdout",
     "output_type": "stream",
     "text": [
      " \n"
     ]
    },
    {
     "name": "stderr",
     "output_type": "stream",
     "text": [
      " 87%|████████▋ | 984/1130 [1:25:17<11:49,  4.86s/it][WDM] - Current google-chrome version is 92.0.4515\n",
      "[WDM] - Get LATEST driver version for 92.0.4515\n"
     ]
    },
    {
     "name": "stdout",
     "output_type": "stream",
     "text": [
      " \n"
     ]
    },
    {
     "name": "stderr",
     "output_type": "stream",
     "text": [
      "[WDM] - Driver [/Users/cblanesg/.wdm/drivers/chromedriver/mac64/92.0.4515.107/chromedriver] found in cache\n",
      " 87%|████████▋ | 985/1130 [1:25:22<11:29,  4.76s/it][WDM] - Current google-chrome version is 92.0.4515\n",
      "[WDM] - Get LATEST driver version for 92.0.4515\n",
      "[WDM] - Driver [/Users/cblanesg/.wdm/drivers/chromedriver/mac64/92.0.4515.107/chromedriver] found in cache\n"
     ]
    },
    {
     "name": "stdout",
     "output_type": "stream",
     "text": [
      " \n"
     ]
    },
    {
     "name": "stderr",
     "output_type": "stream",
     "text": [
      " 87%|████████▋ | 986/1130 [1:25:27<11:36,  4.84s/it][WDM] - Current google-chrome version is 92.0.4515\n",
      "[WDM] - Get LATEST driver version for 92.0.4515\n",
      "[WDM] - Driver [/Users/cblanesg/.wdm/drivers/chromedriver/mac64/92.0.4515.107/chromedriver] found in cache\n"
     ]
    },
    {
     "name": "stdout",
     "output_type": "stream",
     "text": [
      " \n"
     ]
    },
    {
     "name": "stderr",
     "output_type": "stream",
     "text": [
      " 87%|████████▋ | 987/1130 [1:25:31<11:27,  4.81s/it][WDM] - Current google-chrome version is 92.0.4515\n",
      "[WDM] - Get LATEST driver version for 92.0.4515\n",
      "[WDM] - Driver [/Users/cblanesg/.wdm/drivers/chromedriver/mac64/92.0.4515.107/chromedriver] found in cache\n"
     ]
    },
    {
     "name": "stdout",
     "output_type": "stream",
     "text": [
      " \n"
     ]
    },
    {
     "name": "stderr",
     "output_type": "stream",
     "text": [
      " 87%|████████▋ | 988/1130 [1:25:36<11:12,  4.74s/it][WDM] - Current google-chrome version is 92.0.4515\n",
      "[WDM] - Get LATEST driver version for 92.0.4515\n",
      "[WDM] - Driver [/Users/cblanesg/.wdm/drivers/chromedriver/mac64/92.0.4515.107/chromedriver] found in cache\n"
     ]
    },
    {
     "name": "stdout",
     "output_type": "stream",
     "text": [
      " \n"
     ]
    },
    {
     "name": "stderr",
     "output_type": "stream",
     "text": [
      " 88%|████████▊ | 989/1130 [1:25:40<10:57,  4.66s/it][WDM] - Current google-chrome version is 92.0.4515\n",
      "[WDM] - Get LATEST driver version for 92.0.4515\n",
      "[WDM] - Driver [/Users/cblanesg/.wdm/drivers/chromedriver/mac64/92.0.4515.107/chromedriver] found in cache\n"
     ]
    },
    {
     "name": "stdout",
     "output_type": "stream",
     "text": [
      " \n"
     ]
    },
    {
     "name": "stderr",
     "output_type": "stream",
     "text": [
      " 88%|████████▊ | 990/1130 [1:25:45<10:46,  4.62s/it][WDM] - Current google-chrome version is 92.0.4515\n",
      "[WDM] - Get LATEST driver version for 92.0.4515\n",
      "[WDM] - Driver [/Users/cblanesg/.wdm/drivers/chromedriver/mac64/92.0.4515.107/chromedriver] found in cache\n"
     ]
    },
    {
     "name": "stdout",
     "output_type": "stream",
     "text": [
      " \n"
     ]
    },
    {
     "name": "stderr",
     "output_type": "stream",
     "text": [
      " 88%|████████▊ | 991/1130 [1:25:49<10:24,  4.49s/it][WDM] - Current google-chrome version is 92.0.4515\n",
      "[WDM] - Get LATEST driver version for 92.0.4515\n",
      "[WDM] - Driver [/Users/cblanesg/.wdm/drivers/chromedriver/mac64/92.0.4515.107/chromedriver] found in cache\n"
     ]
    },
    {
     "name": "stdout",
     "output_type": "stream",
     "text": [
      " \n"
     ]
    },
    {
     "name": "stderr",
     "output_type": "stream",
     "text": [
      " 88%|████████▊ | 992/1130 [1:25:53<10:07,  4.40s/it][WDM] - Current google-chrome version is 92.0.4515\n",
      "[WDM] - Get LATEST driver version for 92.0.4515\n",
      "[WDM] - Driver [/Users/cblanesg/.wdm/drivers/chromedriver/mac64/92.0.4515.107/chromedriver] found in cache\n"
     ]
    },
    {
     "name": "stdout",
     "output_type": "stream",
     "text": [
      " \n"
     ]
    },
    {
     "name": "stderr",
     "output_type": "stream",
     "text": [
      " 88%|████████▊ | 993/1130 [1:25:58<10:08,  4.44s/it][WDM] - Current google-chrome version is 92.0.4515\n",
      "[WDM] - Get LATEST driver version for 92.0.4515\n",
      "[WDM] - Driver [/Users/cblanesg/.wdm/drivers/chromedriver/mac64/92.0.4515.107/chromedriver] found in cache\n"
     ]
    },
    {
     "name": "stdout",
     "output_type": "stream",
     "text": [
      " \n"
     ]
    },
    {
     "name": "stderr",
     "output_type": "stream",
     "text": [
      " 88%|████████▊ | 994/1130 [1:26:02<10:03,  4.43s/it][WDM] - Current google-chrome version is 92.0.4515\n",
      "[WDM] - Get LATEST driver version for 92.0.4515\n",
      "[WDM] - Driver [/Users/cblanesg/.wdm/drivers/chromedriver/mac64/92.0.4515.107/chromedriver] found in cache\n"
     ]
    },
    {
     "name": "stdout",
     "output_type": "stream",
     "text": [
      " \n"
     ]
    },
    {
     "name": "stderr",
     "output_type": "stream",
     "text": [
      " 88%|████████▊ | 995/1130 [1:26:07<10:10,  4.52s/it][WDM] - Current google-chrome version is 92.0.4515\n",
      "[WDM] - Get LATEST driver version for 92.0.4515\n",
      "[WDM] - Driver [/Users/cblanesg/.wdm/drivers/chromedriver/mac64/92.0.4515.107/chromedriver] found in cache\n"
     ]
    },
    {
     "name": "stdout",
     "output_type": "stream",
     "text": [
      " \n"
     ]
    },
    {
     "name": "stderr",
     "output_type": "stream",
     "text": [
      " 88%|████████▊ | 996/1130 [1:26:13<10:47,  4.84s/it][WDM] - Current google-chrome version is 92.0.4515\n",
      "[WDM] - Get LATEST driver version for 92.0.4515\n",
      "[WDM] - Driver [/Users/cblanesg/.wdm/drivers/chromedriver/mac64/92.0.4515.107/chromedriver] found in cache\n"
     ]
    },
    {
     "name": "stdout",
     "output_type": "stream",
     "text": [
      " \n"
     ]
    },
    {
     "name": "stderr",
     "output_type": "stream",
     "text": [
      " 88%|████████▊ | 997/1130 [1:26:17<10:30,  4.74s/it][WDM] - Current google-chrome version is 92.0.4515\n",
      "[WDM] - Get LATEST driver version for 92.0.4515\n",
      "[WDM] - Driver [/Users/cblanesg/.wdm/drivers/chromedriver/mac64/92.0.4515.107/chromedriver] found in cache\n"
     ]
    },
    {
     "name": "stdout",
     "output_type": "stream",
     "text": [
      " \n"
     ]
    },
    {
     "name": "stderr",
     "output_type": "stream",
     "text": [
      " 88%|████████▊ | 998/1130 [1:26:21<09:59,  4.54s/it][WDM] - Current google-chrome version is 92.0.4515\n",
      "[WDM] - Get LATEST driver version for 92.0.4515\n",
      "[WDM] - Driver [/Users/cblanesg/.wdm/drivers/chromedriver/mac64/92.0.4515.107/chromedriver] found in cache\n"
     ]
    },
    {
     "name": "stdout",
     "output_type": "stream",
     "text": [
      " \n"
     ]
    },
    {
     "name": "stderr",
     "output_type": "stream",
     "text": [
      " 88%|████████▊ | 999/1130 [1:26:26<09:47,  4.48s/it][WDM] - Current google-chrome version is 92.0.4515\n",
      "[WDM] - Get LATEST driver version for 92.0.4515\n",
      "[WDM] - Driver [/Users/cblanesg/.wdm/drivers/chromedriver/mac64/92.0.4515.107/chromedriver] found in cache\n"
     ]
    },
    {
     "name": "stdout",
     "output_type": "stream",
     "text": [
      " \n"
     ]
    },
    {
     "name": "stderr",
     "output_type": "stream",
     "text": [
      " 88%|████████▊ | 1000/1130 [1:26:30<09:36,  4.44s/it][WDM] - Current google-chrome version is 92.0.4515\n",
      "[WDM] - Get LATEST driver version for 92.0.4515\n",
      "[WDM] - Driver [/Users/cblanesg/.wdm/drivers/chromedriver/mac64/92.0.4515.107/chromedriver] found in cache\n"
     ]
    },
    {
     "name": "stdout",
     "output_type": "stream",
     "text": [
      " \n"
     ]
    },
    {
     "name": "stderr",
     "output_type": "stream",
     "text": [
      " 89%|████████▊ | 1001/1130 [1:26:35<10:02,  4.67s/it][WDM] - Current google-chrome version is 92.0.4515\n",
      "[WDM] - Get LATEST driver version for 92.0.4515\n",
      "[WDM] - Driver [/Users/cblanesg/.wdm/drivers/chromedriver/mac64/92.0.4515.107/chromedriver] found in cache\n"
     ]
    },
    {
     "name": "stdout",
     "output_type": "stream",
     "text": [
      " \n"
     ]
    },
    {
     "name": "stderr",
     "output_type": "stream",
     "text": [
      " 89%|████████▊ | 1002/1130 [1:26:40<10:07,  4.74s/it][WDM] - Current google-chrome version is 92.0.4515\n",
      "[WDM] - Get LATEST driver version for 92.0.4515\n",
      "[WDM] - Driver [/Users/cblanesg/.wdm/drivers/chromedriver/mac64/92.0.4515.107/chromedriver] found in cache\n"
     ]
    },
    {
     "name": "stdout",
     "output_type": "stream",
     "text": [
      " \n"
     ]
    },
    {
     "name": "stderr",
     "output_type": "stream",
     "text": [
      " 89%|████████▉ | 1003/1130 [1:26:45<09:57,  4.70s/it][WDM] - Current google-chrome version is 92.0.4515\n",
      "[WDM] - Get LATEST driver version for 92.0.4515\n",
      "[WDM] - Driver [/Users/cblanesg/.wdm/drivers/chromedriver/mac64/92.0.4515.107/chromedriver] found in cache\n"
     ]
    },
    {
     "name": "stdout",
     "output_type": "stream",
     "text": [
      " \n"
     ]
    },
    {
     "name": "stderr",
     "output_type": "stream",
     "text": [
      " 89%|████████▉ | 1004/1130 [1:26:50<10:00,  4.76s/it][WDM] - Current google-chrome version is 92.0.4515\n",
      "[WDM] - Get LATEST driver version for 92.0.4515\n",
      "[WDM] - Driver [/Users/cblanesg/.wdm/drivers/chromedriver/mac64/92.0.4515.107/chromedriver] found in cache\n"
     ]
    },
    {
     "name": "stdout",
     "output_type": "stream",
     "text": [
      " \n"
     ]
    },
    {
     "name": "stderr",
     "output_type": "stream",
     "text": [
      " 89%|████████▉ | 1005/1130 [1:26:54<10:01,  4.81s/it][WDM] - Current google-chrome version is 92.0.4515\n",
      "[WDM] - Get LATEST driver version for 92.0.4515\n",
      "[WDM] - Driver [/Users/cblanesg/.wdm/drivers/chromedriver/mac64/92.0.4515.107/chromedriver] found in cache\n"
     ]
    },
    {
     "name": "stdout",
     "output_type": "stream",
     "text": [
      " \n"
     ]
    },
    {
     "name": "stderr",
     "output_type": "stream",
     "text": [
      " 89%|████████▉ | 1006/1130 [1:26:59<09:59,  4.83s/it][WDM] - Current google-chrome version is 92.0.4515\n",
      "[WDM] - Get LATEST driver version for 92.0.4515\n",
      "[WDM] - Driver [/Users/cblanesg/.wdm/drivers/chromedriver/mac64/92.0.4515.107/chromedriver] found in cache\n"
     ]
    },
    {
     "name": "stdout",
     "output_type": "stream",
     "text": [
      " \n"
     ]
    },
    {
     "name": "stderr",
     "output_type": "stream",
     "text": [
      " 89%|████████▉ | 1007/1130 [1:27:04<10:02,  4.90s/it][WDM] - Current google-chrome version is 92.0.4515\n",
      "[WDM] - Get LATEST driver version for 92.0.4515\n",
      "[WDM] - Driver [/Users/cblanesg/.wdm/drivers/chromedriver/mac64/92.0.4515.107/chromedriver] found in cache\n"
     ]
    },
    {
     "name": "stdout",
     "output_type": "stream",
     "text": [
      " \n"
     ]
    },
    {
     "name": "stderr",
     "output_type": "stream",
     "text": [
      " 89%|████████▉ | 1008/1130 [1:27:09<09:57,  4.90s/it][WDM] - Current google-chrome version is 92.0.4515\n",
      "[WDM] - Get LATEST driver version for 92.0.4515\n",
      "[WDM] - Driver [/Users/cblanesg/.wdm/drivers/chromedriver/mac64/92.0.4515.107/chromedriver] found in cache\n"
     ]
    },
    {
     "name": "stdout",
     "output_type": "stream",
     "text": [
      " \n"
     ]
    },
    {
     "name": "stderr",
     "output_type": "stream",
     "text": [
      " 89%|████████▉ | 1009/1130 [1:27:14<09:49,  4.87s/it][WDM] - Current google-chrome version is 92.0.4515\n",
      "[WDM] - Get LATEST driver version for 92.0.4515\n",
      "[WDM] - Driver [/Users/cblanesg/.wdm/drivers/chromedriver/mac64/92.0.4515.107/chromedriver] found in cache\n"
     ]
    },
    {
     "name": "stdout",
     "output_type": "stream",
     "text": [
      " \n"
     ]
    },
    {
     "name": "stderr",
     "output_type": "stream",
     "text": [
      " 89%|████████▉ | 1010/1130 [1:27:19<10:01,  5.01s/it][WDM] - Current google-chrome version is 92.0.4515\n",
      "[WDM] - Get LATEST driver version for 92.0.4515\n",
      "[WDM] - Driver [/Users/cblanesg/.wdm/drivers/chromedriver/mac64/92.0.4515.107/chromedriver] found in cache\n"
     ]
    },
    {
     "name": "stdout",
     "output_type": "stream",
     "text": [
      " \n"
     ]
    },
    {
     "name": "stderr",
     "output_type": "stream",
     "text": [
      " 89%|████████▉ | 1011/1130 [1:27:25<10:00,  5.04s/it][WDM] - Current google-chrome version is 92.0.4515\n",
      "[WDM] - Get LATEST driver version for 92.0.4515\n",
      "[WDM] - Driver [/Users/cblanesg/.wdm/drivers/chromedriver/mac64/92.0.4515.107/chromedriver] found in cache\n"
     ]
    },
    {
     "name": "stdout",
     "output_type": "stream",
     "text": [
      " \n"
     ]
    },
    {
     "name": "stderr",
     "output_type": "stream",
     "text": [
      " 90%|████████▉ | 1012/1130 [1:27:30<09:52,  5.02s/it][WDM] - Current google-chrome version is 92.0.4515\n",
      "[WDM] - Get LATEST driver version for 92.0.4515\n",
      "[WDM] - Driver [/Users/cblanesg/.wdm/drivers/chromedriver/mac64/92.0.4515.107/chromedriver] found in cache\n"
     ]
    },
    {
     "name": "stdout",
     "output_type": "stream",
     "text": [
      " \n"
     ]
    },
    {
     "name": "stderr",
     "output_type": "stream",
     "text": [
      " 90%|████████▉ | 1013/1130 [1:27:34<09:17,  4.77s/it][WDM] - Current google-chrome version is 92.0.4515\n",
      "[WDM] - Get LATEST driver version for 92.0.4515\n",
      "[WDM] - Driver [/Users/cblanesg/.wdm/drivers/chromedriver/mac64/92.0.4515.107/chromedriver] found in cache\n"
     ]
    },
    {
     "name": "stdout",
     "output_type": "stream",
     "text": [
      " \n"
     ]
    },
    {
     "name": "stderr",
     "output_type": "stream",
     "text": [
      " 90%|████████▉ | 1014/1130 [1:27:39<09:24,  4.87s/it][WDM] - Current google-chrome version is 92.0.4515\n",
      "[WDM] - Get LATEST driver version for 92.0.4515\n",
      "[WDM] - Driver [/Users/cblanesg/.wdm/drivers/chromedriver/mac64/92.0.4515.107/chromedriver] found in cache\n"
     ]
    },
    {
     "name": "stdout",
     "output_type": "stream",
     "text": [
      " \n"
     ]
    },
    {
     "name": "stderr",
     "output_type": "stream",
     "text": [
      " 90%|████████▉ | 1015/1130 [1:27:43<08:50,  4.61s/it][WDM] - Current google-chrome version is 92.0.4515\n",
      "[WDM] - Get LATEST driver version for 92.0.4515\n",
      "[WDM] - Driver [/Users/cblanesg/.wdm/drivers/chromedriver/mac64/92.0.4515.107/chromedriver] found in cache\n"
     ]
    },
    {
     "name": "stdout",
     "output_type": "stream",
     "text": [
      " \n"
     ]
    },
    {
     "name": "stderr",
     "output_type": "stream",
     "text": [
      " 90%|████████▉ | 1016/1130 [1:27:48<08:58,  4.73s/it][WDM] - Current google-chrome version is 92.0.4515\n",
      "[WDM] - Get LATEST driver version for 92.0.4515\n",
      "[WDM] - Driver [/Users/cblanesg/.wdm/drivers/chromedriver/mac64/92.0.4515.107/chromedriver] found in cache\n"
     ]
    },
    {
     "name": "stdout",
     "output_type": "stream",
     "text": [
      " \n"
     ]
    },
    {
     "name": "stderr",
     "output_type": "stream",
     "text": [
      " 90%|█████████ | 1017/1130 [1:27:52<08:40,  4.61s/it][WDM] - Current google-chrome version is 92.0.4515\n",
      "[WDM] - Get LATEST driver version for 92.0.4515\n",
      "[WDM] - Driver [/Users/cblanesg/.wdm/drivers/chromedriver/mac64/92.0.4515.107/chromedriver] found in cache\n"
     ]
    },
    {
     "name": "stdout",
     "output_type": "stream",
     "text": [
      " \n"
     ]
    },
    {
     "name": "stderr",
     "output_type": "stream",
     "text": [
      " 90%|█████████ | 1018/1130 [1:27:57<08:54,  4.77s/it][WDM] - Current google-chrome version is 92.0.4515\n",
      "[WDM] - Get LATEST driver version for 92.0.4515\n",
      "[WDM] - Driver [/Users/cblanesg/.wdm/drivers/chromedriver/mac64/92.0.4515.107/chromedriver] found in cache\n"
     ]
    },
    {
     "name": "stdout",
     "output_type": "stream",
     "text": [
      " \n"
     ]
    },
    {
     "name": "stderr",
     "output_type": "stream",
     "text": [
      " 90%|█████████ | 1019/1130 [1:28:02<08:58,  4.85s/it][WDM] - Current google-chrome version is 92.0.4515\n",
      "[WDM] - Get LATEST driver version for 92.0.4515\n",
      "[WDM] - Driver [/Users/cblanesg/.wdm/drivers/chromedriver/mac64/92.0.4515.107/chromedriver] found in cache\n"
     ]
    },
    {
     "name": "stdout",
     "output_type": "stream",
     "text": [
      " \n"
     ]
    },
    {
     "name": "stderr",
     "output_type": "stream",
     "text": [
      " 90%|█████████ | 1020/1130 [1:28:07<08:57,  4.88s/it][WDM] - Current google-chrome version is 92.0.4515\n",
      "[WDM] - Get LATEST driver version for 92.0.4515\n",
      "[WDM] - Driver [/Users/cblanesg/.wdm/drivers/chromedriver/mac64/92.0.4515.107/chromedriver] found in cache\n"
     ]
    },
    {
     "name": "stdout",
     "output_type": "stream",
     "text": [
      " \n"
     ]
    },
    {
     "name": "stderr",
     "output_type": "stream",
     "text": [
      " 90%|█████████ | 1021/1130 [1:28:12<09:03,  4.99s/it][WDM] - Current google-chrome version is 92.0.4515\n",
      "[WDM] - Get LATEST driver version for 92.0.4515\n",
      "[WDM] - Driver [/Users/cblanesg/.wdm/drivers/chromedriver/mac64/92.0.4515.107/chromedriver] found in cache\n"
     ]
    },
    {
     "name": "stdout",
     "output_type": "stream",
     "text": [
      " \n"
     ]
    },
    {
     "name": "stderr",
     "output_type": "stream",
     "text": [
      " 90%|█████████ | 1022/1130 [1:28:18<09:03,  5.04s/it][WDM] - Current google-chrome version is 92.0.4515\n",
      "[WDM] - Get LATEST driver version for 92.0.4515\n",
      "[WDM] - Driver [/Users/cblanesg/.wdm/drivers/chromedriver/mac64/92.0.4515.107/chromedriver] found in cache\n"
     ]
    },
    {
     "name": "stdout",
     "output_type": "stream",
     "text": [
      " \n"
     ]
    },
    {
     "name": "stderr",
     "output_type": "stream",
     "text": [
      " 91%|█████████ | 1023/1130 [1:28:22<08:47,  4.93s/it][WDM] - Current google-chrome version is 92.0.4515\n",
      "[WDM] - Get LATEST driver version for 92.0.4515\n",
      "[WDM] - Driver [/Users/cblanesg/.wdm/drivers/chromedriver/mac64/92.0.4515.107/chromedriver] found in cache\n"
     ]
    },
    {
     "name": "stdout",
     "output_type": "stream",
     "text": [
      " \n"
     ]
    },
    {
     "name": "stderr",
     "output_type": "stream",
     "text": [
      " 91%|█████████ | 1024/1130 [1:28:27<08:30,  4.81s/it][WDM] - Current google-chrome version is 92.0.4515\n",
      "[WDM] - Get LATEST driver version for 92.0.4515\n",
      "[WDM] - Driver [/Users/cblanesg/.wdm/drivers/chromedriver/mac64/92.0.4515.107/chromedriver] found in cache\n"
     ]
    },
    {
     "name": "stdout",
     "output_type": "stream",
     "text": [
      " \n"
     ]
    },
    {
     "name": "stderr",
     "output_type": "stream",
     "text": [
      " 91%|█████████ | 1025/1130 [1:28:31<08:19,  4.75s/it][WDM] - Current google-chrome version is 92.0.4515\n",
      "[WDM] - Get LATEST driver version for 92.0.4515\n",
      "[WDM] - Driver [/Users/cblanesg/.wdm/drivers/chromedriver/mac64/92.0.4515.107/chromedriver] found in cache\n"
     ]
    },
    {
     "name": "stdout",
     "output_type": "stream",
     "text": [
      " \n"
     ]
    },
    {
     "name": "stderr",
     "output_type": "stream",
     "text": [
      " 91%|█████████ | 1026/1130 [1:28:36<08:08,  4.70s/it][WDM] - Current google-chrome version is 92.0.4515\n",
      "[WDM] - Get LATEST driver version for 92.0.4515\n",
      "[WDM] - Driver [/Users/cblanesg/.wdm/drivers/chromedriver/mac64/92.0.4515.107/chromedriver] found in cache\n"
     ]
    },
    {
     "name": "stdout",
     "output_type": "stream",
     "text": [
      " \n"
     ]
    },
    {
     "name": "stderr",
     "output_type": "stream",
     "text": [
      " 91%|█████████ | 1027/1130 [1:28:40<07:49,  4.55s/it][WDM] - Current google-chrome version is 92.0.4515\n",
      "[WDM] - Get LATEST driver version for 92.0.4515\n",
      "[WDM] - Driver [/Users/cblanesg/.wdm/drivers/chromedriver/mac64/92.0.4515.107/chromedriver] found in cache\n"
     ]
    },
    {
     "name": "stdout",
     "output_type": "stream",
     "text": [
      " \n"
     ]
    },
    {
     "name": "stderr",
     "output_type": "stream",
     "text": [
      " 91%|█████████ | 1028/1130 [1:28:44<07:32,  4.44s/it][WDM] - Current google-chrome version is 92.0.4515\n",
      "[WDM] - Get LATEST driver version for 92.0.4515\n",
      "[WDM] - Driver [/Users/cblanesg/.wdm/drivers/chromedriver/mac64/92.0.4515.107/chromedriver] found in cache\n"
     ]
    },
    {
     "name": "stdout",
     "output_type": "stream",
     "text": [
      " \n"
     ]
    },
    {
     "name": "stderr",
     "output_type": "stream",
     "text": [
      " 91%|█████████ | 1029/1130 [1:28:49<07:31,  4.47s/it][WDM] - Current google-chrome version is 92.0.4515\n",
      "[WDM] - Get LATEST driver version for 92.0.4515\n",
      "[WDM] - Driver [/Users/cblanesg/.wdm/drivers/chromedriver/mac64/92.0.4515.107/chromedriver] found in cache\n"
     ]
    },
    {
     "name": "stdout",
     "output_type": "stream",
     "text": [
      " \n"
     ]
    },
    {
     "name": "stderr",
     "output_type": "stream",
     "text": [
      " 91%|█████████ | 1030/1130 [1:28:54<07:50,  4.70s/it][WDM] - Current google-chrome version is 92.0.4515\n",
      "[WDM] - Get LATEST driver version for 92.0.4515\n",
      "[WDM] - Driver [/Users/cblanesg/.wdm/drivers/chromedriver/mac64/92.0.4515.107/chromedriver] found in cache\n"
     ]
    },
    {
     "name": "stdout",
     "output_type": "stream",
     "text": [
      " \n"
     ]
    },
    {
     "name": "stderr",
     "output_type": "stream",
     "text": [
      " 91%|█████████ | 1031/1130 [1:28:59<08:00,  4.85s/it][WDM] - Current google-chrome version is 92.0.4515\n",
      "[WDM] - Get LATEST driver version for 92.0.4515\n",
      "[WDM] - Driver [/Users/cblanesg/.wdm/drivers/chromedriver/mac64/92.0.4515.107/chromedriver] found in cache\n"
     ]
    },
    {
     "name": "stdout",
     "output_type": "stream",
     "text": [
      " \n"
     ]
    },
    {
     "name": "stderr",
     "output_type": "stream",
     "text": [
      " 91%|█████████▏| 1032/1130 [1:29:04<07:46,  4.76s/it][WDM] - Current google-chrome version is 92.0.4515\n",
      "[WDM] - Get LATEST driver version for 92.0.4515\n",
      "[WDM] - Driver [/Users/cblanesg/.wdm/drivers/chromedriver/mac64/92.0.4515.107/chromedriver] found in cache\n"
     ]
    },
    {
     "name": "stdout",
     "output_type": "stream",
     "text": [
      " \n"
     ]
    },
    {
     "name": "stderr",
     "output_type": "stream",
     "text": [
      " 91%|█████████▏| 1033/1130 [1:29:08<07:11,  4.45s/it][WDM] - Current google-chrome version is 92.0.4515\n",
      "[WDM] - Get LATEST driver version for 92.0.4515\n",
      "[WDM] - Driver [/Users/cblanesg/.wdm/drivers/chromedriver/mac64/92.0.4515.107/chromedriver] found in cache\n"
     ]
    },
    {
     "name": "stdout",
     "output_type": "stream",
     "text": [
      " \n"
     ]
    },
    {
     "name": "stderr",
     "output_type": "stream",
     "text": [
      " 92%|█████████▏| 1034/1130 [1:29:12<07:01,  4.39s/it][WDM] - Current google-chrome version is 92.0.4515\n",
      "[WDM] - Get LATEST driver version for 92.0.4515\n",
      "[WDM] - Driver [/Users/cblanesg/.wdm/drivers/chromedriver/mac64/92.0.4515.107/chromedriver] found in cache\n"
     ]
    },
    {
     "name": "stdout",
     "output_type": "stream",
     "text": [
      " \n"
     ]
    },
    {
     "name": "stderr",
     "output_type": "stream",
     "text": [
      " 92%|█████████▏| 1035/1130 [1:29:16<06:52,  4.34s/it][WDM] - Current google-chrome version is 92.0.4515\n",
      "[WDM] - Get LATEST driver version for 92.0.4515\n",
      "[WDM] - Driver [/Users/cblanesg/.wdm/drivers/chromedriver/mac64/92.0.4515.107/chromedriver] found in cache\n"
     ]
    },
    {
     "name": "stdout",
     "output_type": "stream",
     "text": [
      " \n"
     ]
    },
    {
     "name": "stderr",
     "output_type": "stream",
     "text": [
      " 92%|█████████▏| 1036/1130 [1:29:21<06:51,  4.38s/it][WDM] - Current google-chrome version is 92.0.4515\n",
      "[WDM] - Get LATEST driver version for 92.0.4515\n",
      "[WDM] - Driver [/Users/cblanesg/.wdm/drivers/chromedriver/mac64/92.0.4515.107/chromedriver] found in cache\n"
     ]
    },
    {
     "name": "stdout",
     "output_type": "stream",
     "text": [
      " \n"
     ]
    },
    {
     "name": "stderr",
     "output_type": "stream",
     "text": [
      " 92%|█████████▏| 1037/1130 [1:29:25<06:36,  4.26s/it][WDM] - Current google-chrome version is 92.0.4515\n",
      "[WDM] - Get LATEST driver version for 92.0.4515\n",
      "[WDM] - Driver [/Users/cblanesg/.wdm/drivers/chromedriver/mac64/92.0.4515.107/chromedriver] found in cache\n"
     ]
    },
    {
     "name": "stdout",
     "output_type": "stream",
     "text": [
      " \n"
     ]
    },
    {
     "name": "stderr",
     "output_type": "stream",
     "text": [
      " 92%|█████████▏| 1038/1130 [1:29:29<06:33,  4.27s/it][WDM] - Current google-chrome version is 92.0.4515\n",
      "[WDM] - Get LATEST driver version for 92.0.4515\n",
      "[WDM] - Driver [/Users/cblanesg/.wdm/drivers/chromedriver/mac64/92.0.4515.107/chromedriver] found in cache\n"
     ]
    },
    {
     "name": "stdout",
     "output_type": "stream",
     "text": [
      " \n"
     ]
    },
    {
     "name": "stderr",
     "output_type": "stream",
     "text": [
      " 92%|█████████▏| 1039/1130 [1:29:33<06:35,  4.35s/it][WDM] - Current google-chrome version is 92.0.4515\n",
      "[WDM] - Get LATEST driver version for 92.0.4515\n",
      "[WDM] - Driver [/Users/cblanesg/.wdm/drivers/chromedriver/mac64/92.0.4515.107/chromedriver] found in cache\n"
     ]
    },
    {
     "name": "stdout",
     "output_type": "stream",
     "text": [
      " \n"
     ]
    },
    {
     "name": "stderr",
     "output_type": "stream",
     "text": [
      " 92%|█████████▏| 1040/1130 [1:29:38<06:23,  4.26s/it][WDM] - Current google-chrome version is 92.0.4515\n",
      "[WDM] - Get LATEST driver version for 92.0.4515\n",
      "[WDM] - Driver [/Users/cblanesg/.wdm/drivers/chromedriver/mac64/92.0.4515.107/chromedriver] found in cache\n"
     ]
    },
    {
     "name": "stdout",
     "output_type": "stream",
     "text": [
      " \n"
     ]
    },
    {
     "name": "stderr",
     "output_type": "stream",
     "text": [
      " 92%|█████████▏| 1041/1130 [1:29:42<06:19,  4.26s/it][WDM] - Current google-chrome version is 92.0.4515\n",
      "[WDM] - Get LATEST driver version for 92.0.4515\n",
      "[WDM] - Driver [/Users/cblanesg/.wdm/drivers/chromedriver/mac64/92.0.4515.107/chromedriver] found in cache\n"
     ]
    },
    {
     "name": "stdout",
     "output_type": "stream",
     "text": [
      " \n"
     ]
    },
    {
     "name": "stderr",
     "output_type": "stream",
     "text": [
      " 92%|█████████▏| 1042/1130 [1:29:46<06:15,  4.26s/it][WDM] - Current google-chrome version is 92.0.4515\n",
      "[WDM] - Get LATEST driver version for 92.0.4515\n",
      "[WDM] - Driver [/Users/cblanesg/.wdm/drivers/chromedriver/mac64/92.0.4515.107/chromedriver] found in cache\n"
     ]
    },
    {
     "name": "stdout",
     "output_type": "stream",
     "text": [
      " \n"
     ]
    },
    {
     "name": "stderr",
     "output_type": "stream",
     "text": [
      " 92%|█████████▏| 1043/1130 [1:29:50<06:05,  4.21s/it][WDM] - Current google-chrome version is 92.0.4515\n",
      "[WDM] - Get LATEST driver version for 92.0.4515\n",
      "[WDM] - Driver [/Users/cblanesg/.wdm/drivers/chromedriver/mac64/92.0.4515.107/chromedriver] found in cache\n"
     ]
    },
    {
     "name": "stdout",
     "output_type": "stream",
     "text": [
      " \n"
     ]
    },
    {
     "name": "stderr",
     "output_type": "stream",
     "text": [
      " 92%|█████████▏| 1044/1130 [1:29:54<06:03,  4.23s/it][WDM] - Current google-chrome version is 92.0.4515\n",
      "[WDM] - Get LATEST driver version for 92.0.4515\n",
      "[WDM] - Driver [/Users/cblanesg/.wdm/drivers/chromedriver/mac64/92.0.4515.107/chromedriver] found in cache\n"
     ]
    },
    {
     "name": "stdout",
     "output_type": "stream",
     "text": [
      " \n"
     ]
    },
    {
     "name": "stderr",
     "output_type": "stream",
     "text": [
      " 92%|█████████▏| 1045/1130 [1:29:59<06:08,  4.33s/it][WDM] - Current google-chrome version is 92.0.4515\n",
      "[WDM] - Get LATEST driver version for 92.0.4515\n",
      "[WDM] - Driver [/Users/cblanesg/.wdm/drivers/chromedriver/mac64/92.0.4515.107/chromedriver] found in cache\n"
     ]
    },
    {
     "name": "stdout",
     "output_type": "stream",
     "text": [
      " \n"
     ]
    },
    {
     "name": "stderr",
     "output_type": "stream",
     "text": [
      " 93%|█████████▎| 1046/1130 [1:30:05<06:53,  4.92s/it][WDM] - Current google-chrome version is 92.0.4515\n",
      "[WDM] - Get LATEST driver version for 92.0.4515\n",
      "[WDM] - Driver [/Users/cblanesg/.wdm/drivers/chromedriver/mac64/92.0.4515.107/chromedriver] found in cache\n"
     ]
    },
    {
     "name": "stdout",
     "output_type": "stream",
     "text": [
      " \n"
     ]
    },
    {
     "name": "stderr",
     "output_type": "stream",
     "text": [
      " 93%|█████████▎| 1047/1130 [1:30:10<06:41,  4.84s/it][WDM] - Current google-chrome version is 92.0.4515\n",
      "[WDM] - Get LATEST driver version for 92.0.4515\n",
      "[WDM] - Driver [/Users/cblanesg/.wdm/drivers/chromedriver/mac64/92.0.4515.107/chromedriver] found in cache\n"
     ]
    },
    {
     "name": "stdout",
     "output_type": "stream",
     "text": [
      " \n"
     ]
    },
    {
     "name": "stderr",
     "output_type": "stream",
     "text": [
      " 93%|█████████▎| 1048/1130 [1:30:15<06:43,  4.92s/it][WDM] - Current google-chrome version is 92.0.4515\n",
      "[WDM] - Get LATEST driver version for 92.0.4515\n",
      "[WDM] - Driver [/Users/cblanesg/.wdm/drivers/chromedriver/mac64/92.0.4515.107/chromedriver] found in cache\n"
     ]
    },
    {
     "name": "stdout",
     "output_type": "stream",
     "text": [
      " \n"
     ]
    },
    {
     "name": "stderr",
     "output_type": "stream",
     "text": [
      " 93%|█████████▎| 1049/1130 [1:30:19<06:24,  4.75s/it][WDM] - Current google-chrome version is 92.0.4515\n",
      "[WDM] - Get LATEST driver version for 92.0.4515\n",
      "[WDM] - Driver [/Users/cblanesg/.wdm/drivers/chromedriver/mac64/92.0.4515.107/chromedriver] found in cache\n"
     ]
    },
    {
     "name": "stdout",
     "output_type": "stream",
     "text": [
      " \n"
     ]
    },
    {
     "name": "stderr",
     "output_type": "stream",
     "text": [
      " 93%|█████████▎| 1050/1130 [1:30:24<06:14,  4.68s/it][WDM] - Current google-chrome version is 92.0.4515\n",
      "[WDM] - Get LATEST driver version for 92.0.4515\n",
      "[WDM] - Driver [/Users/cblanesg/.wdm/drivers/chromedriver/mac64/92.0.4515.107/chromedriver] found in cache\n"
     ]
    },
    {
     "name": "stdout",
     "output_type": "stream",
     "text": [
      " \n"
     ]
    },
    {
     "name": "stderr",
     "output_type": "stream",
     "text": [
      " 93%|█████████▎| 1051/1130 [1:30:29<06:08,  4.67s/it][WDM] - Current google-chrome version is 92.0.4515\n",
      "[WDM] - Get LATEST driver version for 92.0.4515\n",
      "[WDM] - Driver [/Users/cblanesg/.wdm/drivers/chromedriver/mac64/92.0.4515.107/chromedriver] found in cache\n"
     ]
    },
    {
     "name": "stdout",
     "output_type": "stream",
     "text": [
      " \n"
     ]
    },
    {
     "name": "stderr",
     "output_type": "stream",
     "text": [
      " 93%|█████████▎| 1052/1130 [1:30:33<05:52,  4.52s/it][WDM] - Current google-chrome version is 92.0.4515\n",
      "[WDM] - Get LATEST driver version for 92.0.4515\n",
      "[WDM] - Driver [/Users/cblanesg/.wdm/drivers/chromedriver/mac64/92.0.4515.107/chromedriver] found in cache\n"
     ]
    },
    {
     "name": "stdout",
     "output_type": "stream",
     "text": [
      " \n"
     ]
    },
    {
     "name": "stderr",
     "output_type": "stream",
     "text": [
      " 93%|█████████▎| 1053/1130 [1:30:39<06:18,  4.91s/it][WDM] - Current google-chrome version is 92.0.4515\n",
      "[WDM] - Get LATEST driver version for 92.0.4515\n",
      "[WDM] - Driver [/Users/cblanesg/.wdm/drivers/chromedriver/mac64/92.0.4515.107/chromedriver] found in cache\n"
     ]
    },
    {
     "name": "stdout",
     "output_type": "stream",
     "text": [
      " \n"
     ]
    },
    {
     "name": "stderr",
     "output_type": "stream",
     "text": [
      " 93%|█████████▎| 1054/1130 [1:30:43<06:03,  4.79s/it][WDM] - Current google-chrome version is 92.0.4515\n",
      "[WDM] - Get LATEST driver version for 92.0.4515\n",
      "[WDM] - Driver [/Users/cblanesg/.wdm/drivers/chromedriver/mac64/92.0.4515.107/chromedriver] found in cache\n"
     ]
    },
    {
     "name": "stdout",
     "output_type": "stream",
     "text": [
      " \n"
     ]
    },
    {
     "name": "stderr",
     "output_type": "stream",
     "text": [
      " 93%|█████████▎| 1055/1130 [1:30:48<06:12,  4.97s/it][WDM] - Current google-chrome version is 92.0.4515\n",
      "[WDM] - Get LATEST driver version for 92.0.4515\n",
      "[WDM] - Driver [/Users/cblanesg/.wdm/drivers/chromedriver/mac64/92.0.4515.107/chromedriver] found in cache\n"
     ]
    },
    {
     "name": "stdout",
     "output_type": "stream",
     "text": [
      " \n"
     ]
    },
    {
     "name": "stderr",
     "output_type": "stream",
     "text": [
      " 93%|█████████▎| 1056/1130 [1:30:53<05:50,  4.73s/it][WDM] - Current google-chrome version is 92.0.4515\n",
      "[WDM] - Get LATEST driver version for 92.0.4515\n",
      "[WDM] - Driver [/Users/cblanesg/.wdm/drivers/chromedriver/mac64/92.0.4515.107/chromedriver] found in cache\n"
     ]
    },
    {
     "name": "stdout",
     "output_type": "stream",
     "text": [
      " \n"
     ]
    },
    {
     "name": "stderr",
     "output_type": "stream",
     "text": [
      " 94%|█████████▎| 1057/1130 [1:30:57<05:43,  4.70s/it][WDM] - Current google-chrome version is 92.0.4515\n",
      "[WDM] - Get LATEST driver version for 92.0.4515\n",
      "[WDM] - Driver [/Users/cblanesg/.wdm/drivers/chromedriver/mac64/92.0.4515.107/chromedriver] found in cache\n"
     ]
    },
    {
     "name": "stdout",
     "output_type": "stream",
     "text": [
      " \n"
     ]
    },
    {
     "name": "stderr",
     "output_type": "stream",
     "text": [
      " 94%|█████████▎| 1058/1130 [1:31:02<05:42,  4.75s/it][WDM] - Current google-chrome version is 92.0.4515\n",
      "[WDM] - Get LATEST driver version for 92.0.4515\n",
      "[WDM] - Driver [/Users/cblanesg/.wdm/drivers/chromedriver/mac64/92.0.4515.107/chromedriver] found in cache\n"
     ]
    },
    {
     "name": "stdout",
     "output_type": "stream",
     "text": [
      " \n"
     ]
    },
    {
     "name": "stderr",
     "output_type": "stream",
     "text": [
      " 94%|█████████▎| 1059/1130 [1:31:07<05:38,  4.77s/it][WDM] - Current google-chrome version is 92.0.4515\n",
      "[WDM] - Get LATEST driver version for 92.0.4515\n",
      "[WDM] - Driver [/Users/cblanesg/.wdm/drivers/chromedriver/mac64/92.0.4515.107/chromedriver] found in cache\n"
     ]
    },
    {
     "name": "stdout",
     "output_type": "stream",
     "text": [
      " \n"
     ]
    },
    {
     "name": "stderr",
     "output_type": "stream",
     "text": [
      " 94%|█████████▍| 1060/1130 [1:31:11<05:25,  4.65s/it][WDM] - Current google-chrome version is 92.0.4515\n",
      "[WDM] - Get LATEST driver version for 92.0.4515\n",
      "[WDM] - Driver [/Users/cblanesg/.wdm/drivers/chromedriver/mac64/92.0.4515.107/chromedriver] found in cache\n"
     ]
    },
    {
     "name": "stdout",
     "output_type": "stream",
     "text": [
      " \n"
     ]
    },
    {
     "name": "stderr",
     "output_type": "stream",
     "text": [
      " 94%|█████████▍| 1061/1130 [1:31:16<05:20,  4.64s/it][WDM] - Current google-chrome version is 92.0.4515\n",
      "[WDM] - Get LATEST driver version for 92.0.4515\n",
      "[WDM] - Driver [/Users/cblanesg/.wdm/drivers/chromedriver/mac64/92.0.4515.107/chromedriver] found in cache\n"
     ]
    },
    {
     "name": "stdout",
     "output_type": "stream",
     "text": [
      " \n"
     ]
    },
    {
     "name": "stderr",
     "output_type": "stream",
     "text": [
      " 94%|█████████▍| 1062/1130 [1:31:20<05:13,  4.61s/it][WDM] - Current google-chrome version is 92.0.4515\n",
      "[WDM] - Get LATEST driver version for 92.0.4515\n",
      "[WDM] - Driver [/Users/cblanesg/.wdm/drivers/chromedriver/mac64/92.0.4515.107/chromedriver] found in cache\n"
     ]
    },
    {
     "name": "stdout",
     "output_type": "stream",
     "text": [
      " \n"
     ]
    },
    {
     "name": "stderr",
     "output_type": "stream",
     "text": [
      " 94%|█████████▍| 1063/1130 [1:31:25<05:00,  4.48s/it][WDM] - Current google-chrome version is 92.0.4515\n",
      "[WDM] - Get LATEST driver version for 92.0.4515\n",
      "[WDM] - Driver [/Users/cblanesg/.wdm/drivers/chromedriver/mac64/92.0.4515.107/chromedriver] found in cache\n"
     ]
    },
    {
     "name": "stdout",
     "output_type": "stream",
     "text": [
      " \n"
     ]
    },
    {
     "name": "stderr",
     "output_type": "stream",
     "text": [
      " 94%|█████████▍| 1064/1130 [1:31:28<04:40,  4.25s/it][WDM] - Current google-chrome version is 92.0.4515\n",
      "[WDM] - Get LATEST driver version for 92.0.4515\n",
      "[WDM] - Driver [/Users/cblanesg/.wdm/drivers/chromedriver/mac64/92.0.4515.107/chromedriver] found in cache\n"
     ]
    },
    {
     "name": "stdout",
     "output_type": "stream",
     "text": [
      " \n"
     ]
    },
    {
     "name": "stderr",
     "output_type": "stream",
     "text": [
      " 94%|█████████▍| 1065/1130 [1:31:33<04:44,  4.37s/it][WDM] - Current google-chrome version is 92.0.4515\n",
      "[WDM] - Get LATEST driver version for 92.0.4515\n",
      "[WDM] - Driver [/Users/cblanesg/.wdm/drivers/chromedriver/mac64/92.0.4515.107/chromedriver] found in cache\n"
     ]
    },
    {
     "name": "stdout",
     "output_type": "stream",
     "text": [
      " \n"
     ]
    },
    {
     "name": "stderr",
     "output_type": "stream",
     "text": [
      " 94%|█████████▍| 1066/1130 [1:31:37<04:35,  4.31s/it][WDM] - Current google-chrome version is 92.0.4515\n",
      "[WDM] - Get LATEST driver version for 92.0.4515\n",
      "[WDM] - Driver [/Users/cblanesg/.wdm/drivers/chromedriver/mac64/92.0.4515.107/chromedriver] found in cache\n"
     ]
    },
    {
     "name": "stdout",
     "output_type": "stream",
     "text": [
      " \n"
     ]
    },
    {
     "name": "stderr",
     "output_type": "stream",
     "text": [
      " 94%|█████████▍| 1067/1130 [1:31:42<04:36,  4.40s/it][WDM] - Current google-chrome version is 92.0.4515\n",
      "[WDM] - Get LATEST driver version for 92.0.4515\n",
      "[WDM] - Driver [/Users/cblanesg/.wdm/drivers/chromedriver/mac64/92.0.4515.107/chromedriver] found in cache\n"
     ]
    },
    {
     "name": "stdout",
     "output_type": "stream",
     "text": [
      " \n"
     ]
    },
    {
     "name": "stderr",
     "output_type": "stream",
     "text": [
      " 95%|█████████▍| 1068/1130 [1:31:47<04:55,  4.76s/it][WDM] - Current google-chrome version is 92.0.4515\n",
      "[WDM] - Get LATEST driver version for 92.0.4515\n",
      "[WDM] - Driver [/Users/cblanesg/.wdm/drivers/chromedriver/mac64/92.0.4515.107/chromedriver] found in cache\n"
     ]
    },
    {
     "name": "stdout",
     "output_type": "stream",
     "text": [
      " \n"
     ]
    },
    {
     "name": "stderr",
     "output_type": "stream",
     "text": [
      " 95%|█████████▍| 1069/1130 [1:31:52<04:52,  4.79s/it][WDM] - Current google-chrome version is 92.0.4515\n",
      "[WDM] - Get LATEST driver version for 92.0.4515\n",
      "[WDM] - Driver [/Users/cblanesg/.wdm/drivers/chromedriver/mac64/92.0.4515.107/chromedriver] found in cache\n"
     ]
    },
    {
     "name": "stdout",
     "output_type": "stream",
     "text": [
      " \n"
     ]
    },
    {
     "name": "stderr",
     "output_type": "stream",
     "text": [
      " 95%|█████████▍| 1070/1130 [1:31:57<04:42,  4.70s/it][WDM] - Current google-chrome version is 92.0.4515\n",
      "[WDM] - Get LATEST driver version for 92.0.4515\n",
      "[WDM] - Driver [/Users/cblanesg/.wdm/drivers/chromedriver/mac64/92.0.4515.107/chromedriver] found in cache\n"
     ]
    },
    {
     "name": "stdout",
     "output_type": "stream",
     "text": [
      " \n"
     ]
    },
    {
     "name": "stderr",
     "output_type": "stream",
     "text": [
      " 95%|█████████▍| 1071/1130 [1:32:01<04:29,  4.57s/it][WDM] - Current google-chrome version is 92.0.4515\n",
      "[WDM] - Get LATEST driver version for 92.0.4515\n",
      "[WDM] - Driver [/Users/cblanesg/.wdm/drivers/chromedriver/mac64/92.0.4515.107/chromedriver] found in cache\n"
     ]
    },
    {
     "name": "stdout",
     "output_type": "stream",
     "text": [
      " \n"
     ]
    },
    {
     "name": "stderr",
     "output_type": "stream",
     "text": [
      " 95%|█████████▍| 1072/1130 [1:32:05<04:14,  4.39s/it][WDM] - Current google-chrome version is 92.0.4515\n",
      "[WDM] - Get LATEST driver version for 92.0.4515\n",
      "[WDM] - Driver [/Users/cblanesg/.wdm/drivers/chromedriver/mac64/92.0.4515.107/chromedriver] found in cache\n"
     ]
    },
    {
     "name": "stdout",
     "output_type": "stream",
     "text": [
      " \n"
     ]
    },
    {
     "name": "stderr",
     "output_type": "stream",
     "text": [
      " 95%|█████████▍| 1073/1130 [1:32:09<04:12,  4.42s/it][WDM] - Current google-chrome version is 92.0.4515\n",
      "[WDM] - Get LATEST driver version for 92.0.4515\n",
      "[WDM] - Driver [/Users/cblanesg/.wdm/drivers/chromedriver/mac64/92.0.4515.107/chromedriver] found in cache\n"
     ]
    },
    {
     "name": "stdout",
     "output_type": "stream",
     "text": [
      " \n"
     ]
    },
    {
     "name": "stderr",
     "output_type": "stream",
     "text": [
      " 95%|█████████▌| 1074/1130 [1:32:14<04:04,  4.37s/it][WDM] - Current google-chrome version is 92.0.4515\n",
      "[WDM] - Get LATEST driver version for 92.0.4515\n",
      "[WDM] - Driver [/Users/cblanesg/.wdm/drivers/chromedriver/mac64/92.0.4515.107/chromedriver] found in cache\n"
     ]
    },
    {
     "name": "stdout",
     "output_type": "stream",
     "text": [
      " \n"
     ]
    },
    {
     "name": "stderr",
     "output_type": "stream",
     "text": [
      " 95%|█████████▌| 1075/1130 [1:32:18<03:57,  4.33s/it][WDM] - Current google-chrome version is 92.0.4515\n",
      "[WDM] - Get LATEST driver version for 92.0.4515\n",
      "[WDM] - Driver [/Users/cblanesg/.wdm/drivers/chromedriver/mac64/92.0.4515.107/chromedriver] found in cache\n"
     ]
    },
    {
     "name": "stdout",
     "output_type": "stream",
     "text": [
      " \n"
     ]
    },
    {
     "name": "stderr",
     "output_type": "stream",
     "text": [
      " 95%|█████████▌| 1076/1130 [1:32:22<03:48,  4.23s/it][WDM] - Current google-chrome version is 92.0.4515\n",
      "[WDM] - Get LATEST driver version for 92.0.4515\n",
      "[WDM] - Driver [/Users/cblanesg/.wdm/drivers/chromedriver/mac64/92.0.4515.107/chromedriver] found in cache\n"
     ]
    },
    {
     "name": "stdout",
     "output_type": "stream",
     "text": [
      " \n"
     ]
    },
    {
     "name": "stderr",
     "output_type": "stream",
     "text": [
      " 95%|█████████▌| 1077/1130 [1:32:27<03:51,  4.37s/it][WDM] - Current google-chrome version is 92.0.4515\n",
      "[WDM] - Get LATEST driver version for 92.0.4515\n",
      "[WDM] - Driver [/Users/cblanesg/.wdm/drivers/chromedriver/mac64/92.0.4515.107/chromedriver] found in cache\n"
     ]
    },
    {
     "name": "stdout",
     "output_type": "stream",
     "text": [
      " \n"
     ]
    },
    {
     "name": "stderr",
     "output_type": "stream",
     "text": [
      " 95%|█████████▌| 1078/1130 [1:32:31<03:52,  4.47s/it][WDM] - Current google-chrome version is 92.0.4515\n",
      "[WDM] - Get LATEST driver version for 92.0.4515\n",
      "[WDM] - Driver [/Users/cblanesg/.wdm/drivers/chromedriver/mac64/92.0.4515.107/chromedriver] found in cache\n"
     ]
    },
    {
     "name": "stdout",
     "output_type": "stream",
     "text": [
      " \n"
     ]
    },
    {
     "name": "stderr",
     "output_type": "stream",
     "text": [
      " 95%|█████████▌| 1079/1130 [1:32:36<03:55,  4.61s/it][WDM] - Current google-chrome version is 92.0.4515\n",
      "[WDM] - Get LATEST driver version for 92.0.4515\n",
      "[WDM] - Driver [/Users/cblanesg/.wdm/drivers/chromedriver/mac64/92.0.4515.107/chromedriver] found in cache\n"
     ]
    },
    {
     "name": "stdout",
     "output_type": "stream",
     "text": [
      " \n"
     ]
    },
    {
     "name": "stderr",
     "output_type": "stream",
     "text": [
      " 96%|█████████▌| 1080/1130 [1:32:41<03:47,  4.56s/it][WDM] - Current google-chrome version is 92.0.4515\n",
      "[WDM] - Get LATEST driver version for 92.0.4515\n",
      "[WDM] - Driver [/Users/cblanesg/.wdm/drivers/chromedriver/mac64/92.0.4515.107/chromedriver] found in cache\n"
     ]
    },
    {
     "name": "stdout",
     "output_type": "stream",
     "text": [
      " \n"
     ]
    },
    {
     "name": "stderr",
     "output_type": "stream",
     "text": [
      " 96%|█████████▌| 1081/1130 [1:32:45<03:41,  4.53s/it][WDM] - Current google-chrome version is 92.0.4515\n",
      "[WDM] - Get LATEST driver version for 92.0.4515\n",
      "[WDM] - Driver [/Users/cblanesg/.wdm/drivers/chromedriver/mac64/92.0.4515.107/chromedriver] found in cache\n"
     ]
    },
    {
     "name": "stdout",
     "output_type": "stream",
     "text": [
      " \n"
     ]
    },
    {
     "name": "stderr",
     "output_type": "stream",
     "text": [
      " 96%|█████████▌| 1082/1130 [1:32:50<03:37,  4.53s/it][WDM] - Current google-chrome version is 92.0.4515\n",
      "[WDM] - Get LATEST driver version for 92.0.4515\n",
      "[WDM] - Driver [/Users/cblanesg/.wdm/drivers/chromedriver/mac64/92.0.4515.107/chromedriver] found in cache\n"
     ]
    },
    {
     "name": "stdout",
     "output_type": "stream",
     "text": [
      " \n"
     ]
    },
    {
     "name": "stderr",
     "output_type": "stream",
     "text": [
      " 96%|█████████▌| 1083/1130 [1:32:54<03:35,  4.59s/it][WDM] - Current google-chrome version is 92.0.4515\n",
      "[WDM] - Get LATEST driver version for 92.0.4515\n",
      "[WDM] - Driver [/Users/cblanesg/.wdm/drivers/chromedriver/mac64/92.0.4515.107/chromedriver] found in cache\n"
     ]
    },
    {
     "name": "stdout",
     "output_type": "stream",
     "text": [
      " \n"
     ]
    },
    {
     "name": "stderr",
     "output_type": "stream",
     "text": [
      " 96%|█████████▌| 1084/1130 [1:32:59<03:26,  4.49s/it][WDM] - Current google-chrome version is 92.0.4515\n",
      "[WDM] - Get LATEST driver version for 92.0.4515\n",
      "[WDM] - Driver [/Users/cblanesg/.wdm/drivers/chromedriver/mac64/92.0.4515.107/chromedriver] found in cache\n"
     ]
    },
    {
     "name": "stdout",
     "output_type": "stream",
     "text": [
      " \n"
     ]
    },
    {
     "name": "stderr",
     "output_type": "stream",
     "text": [
      " 96%|█████████▌| 1085/1130 [1:33:03<03:13,  4.30s/it][WDM] - Current google-chrome version is 92.0.4515\n",
      "[WDM] - Get LATEST driver version for 92.0.4515\n",
      "[WDM] - Driver [/Users/cblanesg/.wdm/drivers/chromedriver/mac64/92.0.4515.107/chromedriver] found in cache\n"
     ]
    },
    {
     "name": "stdout",
     "output_type": "stream",
     "text": [
      " \n"
     ]
    },
    {
     "name": "stderr",
     "output_type": "stream",
     "text": [
      " 96%|█████████▌| 1086/1130 [1:33:07<03:13,  4.39s/it][WDM] - Current google-chrome version is 92.0.4515\n",
      "[WDM] - Get LATEST driver version for 92.0.4515\n",
      "[WDM] - Driver [/Users/cblanesg/.wdm/drivers/chromedriver/mac64/92.0.4515.107/chromedriver] found in cache\n"
     ]
    },
    {
     "name": "stdout",
     "output_type": "stream",
     "text": [
      " \n"
     ]
    },
    {
     "name": "stderr",
     "output_type": "stream",
     "text": [
      " 96%|█████████▌| 1087/1130 [1:33:11<02:59,  4.17s/it][WDM] - Current google-chrome version is 92.0.4515\n",
      "[WDM] - Get LATEST driver version for 92.0.4515\n",
      "[WDM] - Driver [/Users/cblanesg/.wdm/drivers/chromedriver/mac64/92.0.4515.107/chromedriver] found in cache\n"
     ]
    },
    {
     "name": "stdout",
     "output_type": "stream",
     "text": [
      " \n"
     ]
    },
    {
     "name": "stderr",
     "output_type": "stream",
     "text": [
      " 96%|█████████▋| 1088/1130 [1:33:15<02:49,  4.05s/it][WDM] - Current google-chrome version is 92.0.4515\n",
      "[WDM] - Get LATEST driver version for 92.0.4515\n",
      "[WDM] - Driver [/Users/cblanesg/.wdm/drivers/chromedriver/mac64/92.0.4515.107/chromedriver] found in cache\n"
     ]
    },
    {
     "name": "stdout",
     "output_type": "stream",
     "text": [
      " \n"
     ]
    },
    {
     "name": "stderr",
     "output_type": "stream",
     "text": [
      " 96%|█████████▋| 1089/1130 [1:33:19<02:53,  4.22s/it][WDM] - Current google-chrome version is 92.0.4515\n",
      "[WDM] - Get LATEST driver version for 92.0.4515\n",
      "[WDM] - Driver [/Users/cblanesg/.wdm/drivers/chromedriver/mac64/92.0.4515.107/chromedriver] found in cache\n"
     ]
    },
    {
     "name": "stdout",
     "output_type": "stream",
     "text": [
      " \n"
     ]
    },
    {
     "name": "stderr",
     "output_type": "stream",
     "text": [
      " 96%|█████████▋| 1090/1130 [1:33:25<03:11,  4.79s/it][WDM] - Current google-chrome version is 92.0.4515\n",
      "[WDM] - Get LATEST driver version for 92.0.4515\n",
      "[WDM] - Driver [/Users/cblanesg/.wdm/drivers/chromedriver/mac64/92.0.4515.107/chromedriver] found in cache\n"
     ]
    },
    {
     "name": "stdout",
     "output_type": "stream",
     "text": [
      " \n"
     ]
    },
    {
     "name": "stderr",
     "output_type": "stream",
     "text": [
      " 97%|█████████▋| 1091/1130 [1:33:30<03:00,  4.62s/it][WDM] - Current google-chrome version is 92.0.4515\n",
      "[WDM] - Get LATEST driver version for 92.0.4515\n",
      "[WDM] - Driver [/Users/cblanesg/.wdm/drivers/chromedriver/mac64/92.0.4515.107/chromedriver] found in cache\n"
     ]
    },
    {
     "name": "stdout",
     "output_type": "stream",
     "text": [
      " \n"
     ]
    },
    {
     "name": "stderr",
     "output_type": "stream",
     "text": [
      " 97%|█████████▋| 1092/1130 [1:33:34<02:53,  4.56s/it][WDM] - Current google-chrome version is 92.0.4515\n",
      "[WDM] - Get LATEST driver version for 92.0.4515\n",
      "[WDM] - Driver [/Users/cblanesg/.wdm/drivers/chromedriver/mac64/92.0.4515.107/chromedriver] found in cache\n"
     ]
    },
    {
     "name": "stdout",
     "output_type": "stream",
     "text": [
      " \n"
     ]
    },
    {
     "name": "stderr",
     "output_type": "stream",
     "text": [
      " 97%|█████████▋| 1093/1130 [1:33:38<02:47,  4.54s/it][WDM] - Current google-chrome version is 92.0.4515\n",
      "[WDM] - Get LATEST driver version for 92.0.4515\n",
      "[WDM] - Driver [/Users/cblanesg/.wdm/drivers/chromedriver/mac64/92.0.4515.107/chromedriver] found in cache\n"
     ]
    },
    {
     "name": "stdout",
     "output_type": "stream",
     "text": [
      " \n"
     ]
    },
    {
     "name": "stderr",
     "output_type": "stream",
     "text": [
      " 97%|█████████▋| 1094/1130 [1:33:42<02:35,  4.32s/it][WDM] - Current google-chrome version is 92.0.4515\n",
      "[WDM] - Get LATEST driver version for 92.0.4515\n",
      "[WDM] - Driver [/Users/cblanesg/.wdm/drivers/chromedriver/mac64/92.0.4515.107/chromedriver] found in cache\n"
     ]
    },
    {
     "name": "stdout",
     "output_type": "stream",
     "text": [
      " \n"
     ]
    },
    {
     "name": "stderr",
     "output_type": "stream",
     "text": [
      " 97%|█████████▋| 1095/1130 [1:33:47<02:32,  4.35s/it][WDM] - Current google-chrome version is 92.0.4515\n",
      "[WDM] - Get LATEST driver version for 92.0.4515\n",
      "[WDM] - Driver [/Users/cblanesg/.wdm/drivers/chromedriver/mac64/92.0.4515.107/chromedriver] found in cache\n"
     ]
    },
    {
     "name": "stdout",
     "output_type": "stream",
     "text": [
      " \n"
     ]
    },
    {
     "name": "stderr",
     "output_type": "stream",
     "text": [
      " 97%|█████████▋| 1096/1130 [1:33:51<02:29,  4.40s/it][WDM] - Current google-chrome version is 92.0.4515\n",
      "[WDM] - Get LATEST driver version for 92.0.4515\n",
      "[WDM] - Driver [/Users/cblanesg/.wdm/drivers/chromedriver/mac64/92.0.4515.107/chromedriver] found in cache\n"
     ]
    },
    {
     "name": "stdout",
     "output_type": "stream",
     "text": [
      " \n"
     ]
    },
    {
     "name": "stderr",
     "output_type": "stream",
     "text": [
      " 97%|█████████▋| 1097/1130 [1:33:55<02:20,  4.27s/it][WDM] - Current google-chrome version is 92.0.4515\n",
      "[WDM] - Get LATEST driver version for 92.0.4515\n",
      "[WDM] - Driver [/Users/cblanesg/.wdm/drivers/chromedriver/mac64/92.0.4515.107/chromedriver] found in cache\n"
     ]
    },
    {
     "name": "stdout",
     "output_type": "stream",
     "text": [
      " \n"
     ]
    },
    {
     "name": "stderr",
     "output_type": "stream",
     "text": [
      " 97%|█████████▋| 1098/1130 [1:34:00<02:17,  4.30s/it][WDM] - Current google-chrome version is 92.0.4515\n",
      "[WDM] - Get LATEST driver version for 92.0.4515\n",
      "[WDM] - Driver [/Users/cblanesg/.wdm/drivers/chromedriver/mac64/92.0.4515.107/chromedriver] found in cache\n"
     ]
    },
    {
     "name": "stdout",
     "output_type": "stream",
     "text": [
      " \n"
     ]
    },
    {
     "name": "stderr",
     "output_type": "stream",
     "text": [
      " 97%|█████████▋| 1099/1130 [1:34:04<02:13,  4.31s/it][WDM] - Current google-chrome version is 92.0.4515\n",
      "[WDM] - Get LATEST driver version for 92.0.4515\n",
      "[WDM] - Driver [/Users/cblanesg/.wdm/drivers/chromedriver/mac64/92.0.4515.107/chromedriver] found in cache\n"
     ]
    },
    {
     "name": "stdout",
     "output_type": "stream",
     "text": [
      " \n"
     ]
    },
    {
     "name": "stderr",
     "output_type": "stream",
     "text": [
      " 97%|█████████▋| 1100/1130 [1:34:08<02:05,  4.18s/it][WDM] - Current google-chrome version is 92.0.4515\n",
      "[WDM] - Get LATEST driver version for 92.0.4515\n",
      "[WDM] - Driver [/Users/cblanesg/.wdm/drivers/chromedriver/mac64/92.0.4515.107/chromedriver] found in cache\n"
     ]
    },
    {
     "name": "stdout",
     "output_type": "stream",
     "text": [
      " \n"
     ]
    },
    {
     "name": "stderr",
     "output_type": "stream",
     "text": [
      " 97%|█████████▋| 1101/1130 [1:34:12<02:00,  4.15s/it][WDM] - Current google-chrome version is 92.0.4515\n",
      "[WDM] - Get LATEST driver version for 92.0.4515\n",
      "[WDM] - Driver [/Users/cblanesg/.wdm/drivers/chromedriver/mac64/92.0.4515.107/chromedriver] found in cache\n"
     ]
    },
    {
     "name": "stdout",
     "output_type": "stream",
     "text": [
      " \n"
     ]
    },
    {
     "name": "stderr",
     "output_type": "stream",
     "text": [
      " 98%|█████████▊| 1102/1130 [1:34:16<01:54,  4.09s/it][WDM] - Current google-chrome version is 92.0.4515\n",
      "[WDM] - Get LATEST driver version for 92.0.4515\n",
      "[WDM] - Driver [/Users/cblanesg/.wdm/drivers/chromedriver/mac64/92.0.4515.107/chromedriver] found in cache\n"
     ]
    },
    {
     "name": "stdout",
     "output_type": "stream",
     "text": [
      " \n"
     ]
    },
    {
     "name": "stderr",
     "output_type": "stream",
     "text": [
      " 98%|█████████▊| 1103/1130 [1:34:21<01:59,  4.42s/it][WDM] - Current google-chrome version is 92.0.4515\n",
      "[WDM] - Get LATEST driver version for 92.0.4515\n",
      "[WDM] - Driver [/Users/cblanesg/.wdm/drivers/chromedriver/mac64/92.0.4515.107/chromedriver] found in cache\n"
     ]
    },
    {
     "name": "stdout",
     "output_type": "stream",
     "text": [
      " \n"
     ]
    },
    {
     "name": "stderr",
     "output_type": "stream",
     "text": [
      " 98%|█████████▊| 1104/1130 [1:34:26<01:59,  4.58s/it][WDM] - Current google-chrome version is 92.0.4515\n",
      "[WDM] - Get LATEST driver version for 92.0.4515\n"
     ]
    },
    {
     "name": "stdout",
     "output_type": "stream",
     "text": [
      " \n"
     ]
    },
    {
     "name": "stderr",
     "output_type": "stream",
     "text": [
      "[WDM] - Driver [/Users/cblanesg/.wdm/drivers/chromedriver/mac64/92.0.4515.107/chromedriver] found in cache\n",
      " 98%|█████████▊| 1105/1130 [1:34:31<01:57,  4.72s/it][WDM] - Current google-chrome version is 92.0.4515\n",
      "[WDM] - Get LATEST driver version for 92.0.4515\n",
      "[WDM] - Driver [/Users/cblanesg/.wdm/drivers/chromedriver/mac64/92.0.4515.107/chromedriver] found in cache\n"
     ]
    },
    {
     "name": "stdout",
     "output_type": "stream",
     "text": [
      " \n"
     ]
    },
    {
     "name": "stderr",
     "output_type": "stream",
     "text": [
      " 98%|█████████▊| 1106/1130 [1:34:35<01:51,  4.64s/it][WDM] - Current google-chrome version is 92.0.4515\n",
      "[WDM] - Get LATEST driver version for 92.0.4515\n",
      "[WDM] - Driver [/Users/cblanesg/.wdm/drivers/chromedriver/mac64/92.0.4515.107/chromedriver] found in cache\n"
     ]
    },
    {
     "name": "stdout",
     "output_type": "stream",
     "text": [
      " \n"
     ]
    },
    {
     "name": "stderr",
     "output_type": "stream",
     "text": [
      " 98%|█████████▊| 1107/1130 [1:34:41<01:53,  4.93s/it][WDM] - Current google-chrome version is 92.0.4515\n",
      "[WDM] - Get LATEST driver version for 92.0.4515\n",
      "[WDM] - Driver [/Users/cblanesg/.wdm/drivers/chromedriver/mac64/92.0.4515.107/chromedriver] found in cache\n"
     ]
    },
    {
     "name": "stdout",
     "output_type": "stream",
     "text": [
      " \n"
     ]
    },
    {
     "name": "stderr",
     "output_type": "stream",
     "text": [
      " 98%|█████████▊| 1108/1130 [1:34:47<01:52,  5.13s/it][WDM] - Current google-chrome version is 92.0.4515\n",
      "[WDM] - Get LATEST driver version for 92.0.4515\n",
      "[WDM] - Driver [/Users/cblanesg/.wdm/drivers/chromedriver/mac64/92.0.4515.107/chromedriver] found in cache\n"
     ]
    },
    {
     "name": "stdout",
     "output_type": "stream",
     "text": [
      " \n"
     ]
    },
    {
     "name": "stderr",
     "output_type": "stream",
     "text": [
      " 98%|█████████▊| 1109/1130 [1:34:52<01:49,  5.24s/it][WDM] - Current google-chrome version is 92.0.4515\n",
      "[WDM] - Get LATEST driver version for 92.0.4515\n",
      "[WDM] - Driver [/Users/cblanesg/.wdm/drivers/chromedriver/mac64/92.0.4515.107/chromedriver] found in cache\n"
     ]
    },
    {
     "name": "stdout",
     "output_type": "stream",
     "text": [
      " \n"
     ]
    },
    {
     "name": "stderr",
     "output_type": "stream",
     "text": [
      " 98%|█████████▊| 1110/1130 [1:34:58<01:45,  5.30s/it][WDM] - Current google-chrome version is 92.0.4515\n",
      "[WDM] - Get LATEST driver version for 92.0.4515\n",
      "[WDM] - Driver [/Users/cblanesg/.wdm/drivers/chromedriver/mac64/92.0.4515.107/chromedriver] found in cache\n"
     ]
    },
    {
     "name": "stdout",
     "output_type": "stream",
     "text": [
      " \n"
     ]
    },
    {
     "name": "stderr",
     "output_type": "stream",
     "text": [
      " 98%|█████████▊| 1111/1130 [1:35:03<01:43,  5.43s/it][WDM] - Current google-chrome version is 92.0.4515\n",
      "[WDM] - Get LATEST driver version for 92.0.4515\n",
      "[WDM] - Driver [/Users/cblanesg/.wdm/drivers/chromedriver/mac64/92.0.4515.107/chromedriver] found in cache\n"
     ]
    },
    {
     "name": "stdout",
     "output_type": "stream",
     "text": [
      " \n"
     ]
    },
    {
     "name": "stderr",
     "output_type": "stream",
     "text": [
      " 98%|█████████▊| 1112/1130 [1:35:10<01:44,  5.82s/it][WDM] - Current google-chrome version is 92.0.4515\n",
      "[WDM] - Get LATEST driver version for 92.0.4515\n",
      "[WDM] - Driver [/Users/cblanesg/.wdm/drivers/chromedriver/mac64/92.0.4515.107/chromedriver] found in cache\n"
     ]
    },
    {
     "name": "stdout",
     "output_type": "stream",
     "text": [
      " \n"
     ]
    },
    {
     "name": "stderr",
     "output_type": "stream",
     "text": [
      " 98%|█████████▊| 1113/1130 [1:35:17<01:42,  6.05s/it][WDM] - Current google-chrome version is 92.0.4515\n",
      "[WDM] - Get LATEST driver version for 92.0.4515\n",
      "[WDM] - Driver [/Users/cblanesg/.wdm/drivers/chromedriver/mac64/92.0.4515.107/chromedriver] found in cache\n"
     ]
    },
    {
     "name": "stdout",
     "output_type": "stream",
     "text": [
      " \n"
     ]
    },
    {
     "name": "stderr",
     "output_type": "stream",
     "text": [
      " 99%|█████████▊| 1114/1130 [1:35:22<01:32,  5.80s/it][WDM] - Current google-chrome version is 92.0.4515\n",
      "[WDM] - Get LATEST driver version for 92.0.4515\n",
      "[WDM] - Driver [/Users/cblanesg/.wdm/drivers/chromedriver/mac64/92.0.4515.107/chromedriver] found in cache\n"
     ]
    },
    {
     "name": "stdout",
     "output_type": "stream",
     "text": [
      " \n"
     ]
    },
    {
     "name": "stderr",
     "output_type": "stream",
     "text": [
      " 99%|█████████▊| 1115/1130 [1:35:28<01:29,  6.00s/it][WDM] - Current google-chrome version is 92.0.4515\n",
      "[WDM] - Get LATEST driver version for 92.0.4515\n",
      "[WDM] - Driver [/Users/cblanesg/.wdm/drivers/chromedriver/mac64/92.0.4515.107/chromedriver] found in cache\n"
     ]
    },
    {
     "name": "stdout",
     "output_type": "stream",
     "text": [
      " \n"
     ]
    },
    {
     "name": "stderr",
     "output_type": "stream",
     "text": [
      " 99%|█████████▉| 1116/1130 [1:35:34<01:22,  5.88s/it][WDM] - Current google-chrome version is 92.0.4515\n",
      "[WDM] - Get LATEST driver version for 92.0.4515\n",
      "[WDM] - Driver [/Users/cblanesg/.wdm/drivers/chromedriver/mac64/92.0.4515.107/chromedriver] found in cache\n"
     ]
    },
    {
     "name": "stdout",
     "output_type": "stream",
     "text": [
      " \n"
     ]
    },
    {
     "name": "stderr",
     "output_type": "stream",
     "text": [
      " 99%|█████████▉| 1117/1130 [1:35:39<01:15,  5.79s/it][WDM] - Current google-chrome version is 92.0.4515\n",
      "[WDM] - Get LATEST driver version for 92.0.4515\n",
      "[WDM] - Driver [/Users/cblanesg/.wdm/drivers/chromedriver/mac64/92.0.4515.107/chromedriver] found in cache\n"
     ]
    },
    {
     "name": "stdout",
     "output_type": "stream",
     "text": [
      " \n"
     ]
    },
    {
     "name": "stderr",
     "output_type": "stream",
     "text": [
      " 99%|█████████▉| 1118/1130 [1:35:46<01:10,  5.87s/it][WDM] - Current google-chrome version is 92.0.4515\n",
      "[WDM] - Get LATEST driver version for 92.0.4515\n",
      "[WDM] - Driver [/Users/cblanesg/.wdm/drivers/chromedriver/mac64/92.0.4515.107/chromedriver] found in cache\n"
     ]
    },
    {
     "name": "stdout",
     "output_type": "stream",
     "text": [
      " \n"
     ]
    },
    {
     "name": "stderr",
     "output_type": "stream",
     "text": [
      " 99%|█████████▉| 1119/1130 [1:35:51<01:03,  5.77s/it][WDM] - Current google-chrome version is 92.0.4515\n",
      "[WDM] - Get LATEST driver version for 92.0.4515\n",
      "[WDM] - Driver [/Users/cblanesg/.wdm/drivers/chromedriver/mac64/92.0.4515.107/chromedriver] found in cache\n"
     ]
    },
    {
     "name": "stdout",
     "output_type": "stream",
     "text": [
      " \n"
     ]
    },
    {
     "name": "stderr",
     "output_type": "stream",
     "text": [
      " 99%|█████████▉| 1120/1130 [1:35:57<00:56,  5.70s/it][WDM] - Current google-chrome version is 92.0.4515\n",
      "[WDM] - Get LATEST driver version for 92.0.4515\n",
      "[WDM] - Driver [/Users/cblanesg/.wdm/drivers/chromedriver/mac64/92.0.4515.107/chromedriver] found in cache\n"
     ]
    },
    {
     "name": "stdout",
     "output_type": "stream",
     "text": [
      " \n"
     ]
    },
    {
     "name": "stderr",
     "output_type": "stream",
     "text": [
      " 99%|█████████▉| 1121/1130 [1:36:02<00:50,  5.58s/it][WDM] - Current google-chrome version is 92.0.4515\n",
      "[WDM] - Get LATEST driver version for 92.0.4515\n",
      "[WDM] - Driver [/Users/cblanesg/.wdm/drivers/chromedriver/mac64/92.0.4515.107/chromedriver] found in cache\n"
     ]
    },
    {
     "name": "stdout",
     "output_type": "stream",
     "text": [
      " \n"
     ]
    },
    {
     "name": "stderr",
     "output_type": "stream",
     "text": [
      " 99%|█████████▉| 1122/1130 [1:36:07<00:43,  5.49s/it][WDM] - Current google-chrome version is 92.0.4515\n",
      "[WDM] - Get LATEST driver version for 92.0.4515\n",
      "[WDM] - Driver [/Users/cblanesg/.wdm/drivers/chromedriver/mac64/92.0.4515.107/chromedriver] found in cache\n"
     ]
    },
    {
     "name": "stdout",
     "output_type": "stream",
     "text": [
      " \n"
     ]
    },
    {
     "name": "stderr",
     "output_type": "stream",
     "text": [
      " 99%|█████████▉| 1123/1130 [1:36:13<00:39,  5.59s/it][WDM] - Current google-chrome version is 92.0.4515\n",
      "[WDM] - Get LATEST driver version for 92.0.4515\n",
      "[WDM] - Driver [/Users/cblanesg/.wdm/drivers/chromedriver/mac64/92.0.4515.107/chromedriver] found in cache\n"
     ]
    },
    {
     "name": "stdout",
     "output_type": "stream",
     "text": [
      " \n"
     ]
    },
    {
     "name": "stderr",
     "output_type": "stream",
     "text": [
      " 99%|█████████▉| 1124/1130 [1:36:19<00:33,  5.64s/it][WDM] - Current google-chrome version is 92.0.4515\n",
      "[WDM] - Get LATEST driver version for 92.0.4515\n",
      "[WDM] - Driver [/Users/cblanesg/.wdm/drivers/chromedriver/mac64/92.0.4515.107/chromedriver] found in cache\n"
     ]
    },
    {
     "name": "stdout",
     "output_type": "stream",
     "text": [
      " \n"
     ]
    },
    {
     "name": "stderr",
     "output_type": "stream",
     "text": [
      "100%|█████████▉| 1125/1130 [1:36:24<00:27,  5.49s/it][WDM] - Current google-chrome version is 92.0.4515\n",
      "[WDM] - Get LATEST driver version for 92.0.4515\n",
      "[WDM] - Driver [/Users/cblanesg/.wdm/drivers/chromedriver/mac64/92.0.4515.107/chromedriver] found in cache\n"
     ]
    },
    {
     "name": "stdout",
     "output_type": "stream",
     "text": [
      " \n"
     ]
    },
    {
     "name": "stderr",
     "output_type": "stream",
     "text": [
      "100%|█████████▉| 1126/1130 [1:36:30<00:22,  5.54s/it][WDM] - Current google-chrome version is 92.0.4515\n",
      "[WDM] - Get LATEST driver version for 92.0.4515\n",
      "[WDM] - Driver [/Users/cblanesg/.wdm/drivers/chromedriver/mac64/92.0.4515.107/chromedriver] found in cache\n"
     ]
    },
    {
     "name": "stdout",
     "output_type": "stream",
     "text": [
      " \n"
     ]
    },
    {
     "name": "stderr",
     "output_type": "stream",
     "text": [
      "100%|█████████▉| 1127/1130 [1:36:35<00:16,  5.59s/it][WDM] - Current google-chrome version is 92.0.4515\n",
      "[WDM] - Get LATEST driver version for 92.0.4515\n",
      "[WDM] - Driver [/Users/cblanesg/.wdm/drivers/chromedriver/mac64/92.0.4515.107/chromedriver] found in cache\n"
     ]
    },
    {
     "name": "stdout",
     "output_type": "stream",
     "text": [
      " \n"
     ]
    },
    {
     "name": "stderr",
     "output_type": "stream",
     "text": [
      "100%|█████████▉| 1128/1130 [1:36:41<00:11,  5.70s/it][WDM] - Current google-chrome version is 92.0.4515\n",
      "[WDM] - Get LATEST driver version for 92.0.4515\n",
      "[WDM] - Driver [/Users/cblanesg/.wdm/drivers/chromedriver/mac64/92.0.4515.107/chromedriver] found in cache\n"
     ]
    },
    {
     "name": "stdout",
     "output_type": "stream",
     "text": [
      " \n"
     ]
    },
    {
     "name": "stderr",
     "output_type": "stream",
     "text": [
      "100%|█████████▉| 1129/1130 [1:36:47<00:05,  5.82s/it][WDM] - Current google-chrome version is 92.0.4515\n",
      "[WDM] - Get LATEST driver version for 92.0.4515\n",
      "[WDM] - Driver [/Users/cblanesg/.wdm/drivers/chromedriver/mac64/92.0.4515.107/chromedriver] found in cache\n"
     ]
    },
    {
     "name": "stdout",
     "output_type": "stream",
     "text": [
      " \n"
     ]
    },
    {
     "name": "stderr",
     "output_type": "stream",
     "text": [
      "100%|██████████| 1130/1130 [1:36:53<00:00,  5.14s/it]\n"
     ]
    }
   ],
   "source": [
    "for x in tqdm(range(0, len(missing_gob_pages))):\n",
    "    try:\n",
    "        query = missing_gob_pages.loc[x]['query_search']\n",
    "        id_ = missing_gob_pages.loc[x]['cve_inegi']\n",
    "        links_missing.append(search_website(query, driver))\n",
    "        id_links.append(id_)\n",
    "    except:\n",
    "        driver.close()\n",
    "        driver = webdriver.Chrome(ChromeDriverManager().install(), options = options)\n",
    "        query = missing_gob_pages.loc[x]['query_search']\n",
    "        id_ = missing_gob_pages.loc[x]['cve_inegi']\n",
    "        links_missing.append(search_website(query, driver))   \n",
    "        id_links.append(id_)"
   ]
  },
  {
   "cell_type": "code",
   "execution_count": 98,
   "metadata": {},
   "outputs": [],
   "source": [
    "missing_gob_pages['link_websites'] = links_missing\n"
   ]
  },
  {
   "cell_type": "code",
   "execution_count": 101,
   "metadata": {
    "scrolled": true
   },
   "outputs": [],
   "source": [
    "missing_gob_pages.to_excel('/Users/cblanesg/Downloads/missing_websites.xlsx')"
   ]
  },
  {
   "cell_type": "code",
   "execution_count": 105,
   "metadata": {},
   "outputs": [],
   "source": [
    "gob_data = pd.read_excel('../data/raw/inafed_bd_webs.xlsx')"
   ]
  },
  {
   "cell_type": "code",
   "execution_count": 109,
   "metadata": {
    "scrolled": true
   },
   "outputs": [
    {
     "data": {
      "text/plain": [
       "'http://www.cosioaguascalientes.gob.mx/'"
      ]
     },
     "execution_count": 109,
     "metadata": {},
     "output_type": "execute_result"
    }
   ],
   "source": [
    "list(missing_gob_pages[missing_gob_pages['cve_inegi'] == 1004].link_websites)[0]"
   ]
  },
  {
   "cell_type": "code",
   "execution_count": 116,
   "metadata": {
    "scrolled": true
   },
   "outputs": [],
   "source": [
    "links_websites = []\n",
    "link_to_check = []\n",
    "for i in range(0, len(gob_data)):\n",
    "    inegi = gob_data.loc[i]['cve_inegi']\n",
    "    link = gob_data.loc[i]['pag_web']\n",
    "    \n",
    "    if inegi in list(missing_gob_pages.cve_inegi):\n",
    "        l = list(missing_gob_pages[missing_gob_pages['cve_inegi'] == inegi].link_websites)[0]\n",
    "        links_websites.append(l)\n",
    "        link_to_check.append(1)\n",
    "    else:\n",
    "        links_websites.append(link)\n",
    "        link_to_check.append(0)        "
   ]
  },
  {
   "cell_type": "code",
   "execution_count": 117,
   "metadata": {
    "scrolled": true
   },
   "outputs": [],
   "source": [
    "gob_data['links_websites2'] = links_websites\n",
    "gob_data['link_to_check'] = link_to_check"
   ]
  },
  {
   "cell_type": "code",
   "execution_count": 119,
   "metadata": {
    "scrolled": true
   },
   "outputs": [],
   "source": [
    "gob_data.to_excel('/Users/cblanesg/Downloads/inafed_bd_webs-Cam.xlsx')"
   ]
  },
  {
   "cell_type": "code",
   "execution_count": 121,
   "metadata": {},
   "outputs": [],
   "source": [
    "### Recover social media accounts"
   ]
  },
  {
   "cell_type": "code",
   "execution_count": 124,
   "metadata": {},
   "outputs": [],
   "source": [
    "gob_data = pd.read_excel('../data/raw/inafed_bd_webs-Cam.xlsx')\n",
    "gob_data = gob_data[gob_data['cve_inegi'].isin(gob_to_search.code_INEGI.unique())]"
   ]
  },
  {
   "cell_type": "code",
   "execution_count": 163,
   "metadata": {},
   "outputs": [],
   "source": [
    "def look_social_media_accounts(x):\n",
    "    try:\n",
    "        if pd.isna(x) or x == '--':\n",
    "            return(np.nan)\n",
    "        else:\n",
    "            driver.get(x)\n",
    "            social_media = []\n",
    "            for i in driver.find_elements_by_css_selector('a'):\n",
    "                link = i.get_attribute('href')\n",
    "                try:\n",
    "                    if any(re.findall('facebook|twitter', link)):\n",
    "                        if link in social_media:\n",
    "                            pass\n",
    "                        else:\n",
    "                            social_media.append(link)\n",
    "                except:\n",
    "                    pass\n",
    "            return(', '.join(social_media))\n",
    "    except:\n",
    "        return(np.nan)"
   ]
  },
  {
   "cell_type": "code",
   "execution_count": 164,
   "metadata": {
    "scrolled": true
   },
   "outputs": [
    {
     "name": "stderr",
     "output_type": "stream",
     "text": [
      "100%|██████████| 1768/1768 [1:50:17<00:00,  3.74s/it]   \n"
     ]
    }
   ],
   "source": [
    "gob_data['social_media_links'] = gob_data.progress_apply(lambda x: look_social_media_accounts(x['pag_web']), axis = 1)"
   ]
  },
  {
   "cell_type": "code",
   "execution_count": 166,
   "metadata": {
    "scrolled": true
   },
   "outputs": [],
   "source": [
    "gob_data.to_excel('/Users/cblanesg/Downloads/inafed_bd_webs-Cam.xlsx')"
   ]
  }
 ],
 "metadata": {
  "kernelspec": {
   "display_name": "Python 3",
   "language": "python",
   "name": "python3"
  },
  "language_info": {
   "codemirror_mode": {
    "name": "ipython",
    "version": 3
   },
   "file_extension": ".py",
   "mimetype": "text/x-python",
   "name": "python",
   "nbconvert_exporter": "python",
   "pygments_lexer": "ipython3",
   "version": "3.8.3"
  }
 },
 "nbformat": 4,
 "nbformat_minor": 4
}
