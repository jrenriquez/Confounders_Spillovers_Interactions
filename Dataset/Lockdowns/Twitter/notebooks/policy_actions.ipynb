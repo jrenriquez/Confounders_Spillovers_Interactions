{
 "cells": [
  {
   "cell_type": "markdown",
   "metadata": {},
   "source": [
    "# Notebook to obtain tweets that talk about policy actions of COVID"
   ]
  },
  {
   "cell_type": "markdown",
   "metadata": {},
   "source": [
    "**input data** : tweets de cuentas de gobiernos estatales y de secretaría de salud. \n",
    "**output data**: data frame con:\n",
    "    - entidad\n",
    "    - policy action\n",
    "    - date\n",
    "    - evidencia (tweet)\n",
    "    - categoria de policy action\n",
    "    \n",
    "(Frist case Reported in México: 2020-02-28)"
   ]
  },
  {
   "cell_type": "code",
   "execution_count": 1,
   "metadata": {},
   "outputs": [],
   "source": [
    "import pandas as pd\n",
    "import re\n",
    "import datetime\n",
    "from nltk.tokenize import word_tokenize\n",
    "from nltk.stem import PorterStemmer\n",
    "from nltk.stem import LancasterStemmer"
   ]
  },
  {
   "cell_type": "code",
   "execution_count": 122,
   "metadata": {},
   "outputs": [],
   "source": [
    "porter = PorterStemmer()\n",
    "lancaster = LancasterStemmer()"
   ]
  },
  {
   "cell_type": "code",
   "execution_count": 123,
   "metadata": {},
   "outputs": [
    {
     "name": "stderr",
     "output_type": "stream",
     "text": [
      "/Library/Frameworks/Python.framework/Versions/3.7/lib/python3.7/site-packages/IPython/core/interactiveshell.py:3058: DtypeWarning: Columns (19) have mixed types.Specify dtype option on import or set low_memory=False.\n",
      "  interactivity=interactivity, compiler=compiler, result=result)\n"
     ]
    }
   ],
   "source": [
    "data_tweets = pd.read_csv('/Users/cblanesg/cam.blanes Dropbox/Camila Blanes/COVID-19 Mexico/Twitter/data/raw/data.csv')\n",
    "input_data = data_tweets[['name_entidad', 'tipo_cuenta','username_twitter', 'id', 'date', 'hashtags', 'tweet' ]].dropna(subset = ['date'])"
   ]
  },
  {
   "cell_type": "code",
   "execution_count": 125,
   "metadata": {},
   "outputs": [],
   "source": [
    "input_data[['date']] = input_data.apply(lambda x: datetime.datetime(int(re.findall('[0-9]{4}-[0-9]{2}-[0-9]{2}', x['date'])[0].split('-')[0]), int(re.findall('[0-9]{4}-[0-9]{2}-[0-9]{2}', x['date'])[0].split('-')[1]), int(re.findall('[0-9]{4}-[0-9]{2}-[0-9]{2}', x['date'])[0].split('-')[2])), axis = 1)"
   ]
  },
  {
   "cell_type": "code",
   "execution_count": 61,
   "metadata": {},
   "outputs": [],
   "source": [
    "## Filter tweets that talks about covid"
   ]
  },
  {
   "cell_type": "code",
   "execution_count": 126,
   "metadata": {},
   "outputs": [],
   "source": [
    "keywords_data = pd.read_csv('../data/raw/keywords.csv')\n",
    "keywords_data = keywords_data.dropna()\n",
    "covid_words = ['coronavirus', 'covid19', 'covid']\n",
    "all_words = list(keywords_data.keyword)"
   ]
  },
  {
   "cell_type": "code",
   "execution_count": 135,
   "metadata": {},
   "outputs": [],
   "source": [
    "policy_words = ['accion', 'propuesta', 'politica', \n",
    "               'restriccion' ,'cuarentena', 'distanciamiento' ,'social', \n",
    "               'distancia', 'prevencion', 'medidas', 'monitoreo', 'evitar', \n",
    "               'contagios', 'informe', 'contingencia', 'coronavirus', \n",
    "               'covid19', 'covid', 'preparar', 'protocolo']"
   ]
  },
  {
   "cell_type": "code",
   "execution_count": 141,
   "metadata": {},
   "outputs": [],
   "source": [
    "porter_keywords = []\n",
    "for i in all_words:\n",
    "    porter_keywords.append(porter.stem(i))\n",
    "porter_covid = []\n",
    "for i in covid_words:\n",
    "    porter_keywords.append(porter.stem(i))\n",
    "porter_policy = []\n",
    "for i in policy_words:\n",
    "    porter_policy.append(porter.stem(i))"
   ]
  },
  {
   "cell_type": "code",
   "execution_count": 97,
   "metadata": {},
   "outputs": [],
   "source": []
  },
  {
   "cell_type": "code",
   "execution_count": 129,
   "metadata": {},
   "outputs": [],
   "source": [
    "def get_key_words(text, list_filter):\n",
    "    tokens = word_tokenize(text)\n",
    "    key_similar = []\n",
    "    for i in tokens:\n",
    "        l = i.lower()\n",
    "        p = porter.stem(l)\n",
    "        if p in list_filter or i in porter_covid:\n",
    "            key_similar.append(i)\n",
    "    \n",
    "    if any(key_similar):\n",
    "        return(key_similar)\n",
    "    else:\n",
    "        return('filter')"
   ]
  },
  {
   "cell_type": "code",
   "execution_count": 130,
   "metadata": {},
   "outputs": [],
   "source": [
    "input_data['keywords_covid'] = input_data.apply(lambda x:get_key_words(x['tweet'], porter_keywords), axis = 1)"
   ]
  },
  {
   "cell_type": "code",
   "execution_count": 131,
   "metadata": {},
   "outputs": [],
   "source": [
    "filter_keywords = input_data[input_data['keywords_covid'] != 'filter']"
   ]
  },
  {
   "cell_type": "code",
   "execution_count": 132,
   "metadata": {},
   "outputs": [
    {
     "name": "stdout",
     "output_type": "stream",
     "text": [
      "43567 18019\n"
     ]
    }
   ],
   "source": [
    "print(len(input_data), len(filter_keywords))"
   ]
  },
  {
   "cell_type": "code",
   "execution_count": 133,
   "metadata": {},
   "outputs": [
    {
     "data": {
      "text/html": [
       "<div>\n",
       "<style scoped>\n",
       "    .dataframe tbody tr th:only-of-type {\n",
       "        vertical-align: middle;\n",
       "    }\n",
       "\n",
       "    .dataframe tbody tr th {\n",
       "        vertical-align: top;\n",
       "    }\n",
       "\n",
       "    .dataframe thead th {\n",
       "        text-align: right;\n",
       "    }\n",
       "</style>\n",
       "<table border=\"1\" class=\"dataframe\">\n",
       "  <thead>\n",
       "    <tr style=\"text-align: right;\">\n",
       "      <th></th>\n",
       "      <th>tipo_cuenta</th>\n",
       "      <th>username_twitter</th>\n",
       "      <th>id</th>\n",
       "      <th>date</th>\n",
       "      <th>hashtags</th>\n",
       "      <th>tweet</th>\n",
       "      <th>keywords_covid</th>\n",
       "    </tr>\n",
       "    <tr>\n",
       "      <th>name_entidad</th>\n",
       "      <th></th>\n",
       "      <th></th>\n",
       "      <th></th>\n",
       "      <th></th>\n",
       "      <th></th>\n",
       "      <th></th>\n",
       "      <th></th>\n",
       "    </tr>\n",
       "  </thead>\n",
       "  <tbody>\n",
       "    <tr>\n",
       "      <th>aguascalientes</th>\n",
       "      <td>138</td>\n",
       "      <td>138</td>\n",
       "      <td>138</td>\n",
       "      <td>138</td>\n",
       "      <td>138</td>\n",
       "      <td>138</td>\n",
       "      <td>138</td>\n",
       "    </tr>\n",
       "    <tr>\n",
       "      <th>baja california</th>\n",
       "      <td>289</td>\n",
       "      <td>289</td>\n",
       "      <td>289</td>\n",
       "      <td>289</td>\n",
       "      <td>289</td>\n",
       "      <td>289</td>\n",
       "      <td>289</td>\n",
       "    </tr>\n",
       "    <tr>\n",
       "      <th>baja california sur</th>\n",
       "      <td>272</td>\n",
       "      <td>272</td>\n",
       "      <td>272</td>\n",
       "      <td>272</td>\n",
       "      <td>272</td>\n",
       "      <td>272</td>\n",
       "      <td>272</td>\n",
       "    </tr>\n",
       "    <tr>\n",
       "      <th>campeche</th>\n",
       "      <td>275</td>\n",
       "      <td>275</td>\n",
       "      <td>275</td>\n",
       "      <td>275</td>\n",
       "      <td>275</td>\n",
       "      <td>275</td>\n",
       "      <td>275</td>\n",
       "    </tr>\n",
       "    <tr>\n",
       "      <th>chiapas</th>\n",
       "      <td>273</td>\n",
       "      <td>273</td>\n",
       "      <td>273</td>\n",
       "      <td>273</td>\n",
       "      <td>273</td>\n",
       "      <td>273</td>\n",
       "      <td>273</td>\n",
       "    </tr>\n",
       "  </tbody>\n",
       "</table>\n",
       "</div>"
      ],
      "text/plain": [
       "                     tipo_cuenta  username_twitter   id  date  hashtags  \\\n",
       "name_entidad                                                              \n",
       "aguascalientes               138               138  138   138       138   \n",
       "baja california              289               289  289   289       289   \n",
       "baja california sur          272               272  272   272       272   \n",
       "campeche                     275               275  275   275       275   \n",
       "chiapas                      273               273  273   273       273   \n",
       "\n",
       "                     tweet  keywords_covid  \n",
       "name_entidad                                \n",
       "aguascalientes         138             138  \n",
       "baja california        289             289  \n",
       "baja california sur    272             272  \n",
       "campeche               275             275  \n",
       "chiapas                273             273  "
      ]
     },
     "execution_count": 133,
     "metadata": {},
     "output_type": "execute_result"
    }
   ],
   "source": [
    "filter_keywords.groupby(['name_entidad']).count().head()"
   ]
  },
  {
   "cell_type": "code",
   "execution_count": null,
   "metadata": {},
   "outputs": [],
   "source": [
    "## Policy Actions"
   ]
  },
  {
   "cell_type": "code",
   "execution_count": 143,
   "metadata": {},
   "outputs": [
    {
     "name": "stderr",
     "output_type": "stream",
     "text": [
      "/Library/Frameworks/Python.framework/Versions/3.7/lib/python3.7/site-packages/ipykernel_launcher.py:1: SettingWithCopyWarning: \n",
      "A value is trying to be set on a copy of a slice from a DataFrame.\n",
      "Try using .loc[row_indexer,col_indexer] = value instead\n",
      "\n",
      "See the caveats in the documentation: https://pandas.pydata.org/pandas-docs/stable/user_guide/indexing.html#returning-a-view-versus-a-copy\n",
      "  \"\"\"Entry point for launching an IPython kernel.\n"
     ]
    }
   ],
   "source": [
    "filter_keywords['dummy_policy'] = input_data.apply(lambda x:get_key_words(x['tweet'], porter_policy), axis = 1)"
   ]
  },
  {
   "cell_type": "code",
   "execution_count": 147,
   "metadata": {},
   "outputs": [
    {
     "name": "stdout",
     "output_type": "stream",
     "text": [
      "18019 14919\n"
     ]
    }
   ],
   "source": [
    "print(len(filter_keywords), len(filter_keywords[filter_keywords['dummy_policy'] != 'filter']))"
   ]
  },
  {
   "cell_type": "code",
   "execution_count": null,
   "metadata": {},
   "outputs": [],
   "source": []
  },
  {
   "cell_type": "code",
   "execution_count": null,
   "metadata": {},
   "outputs": [],
   "source": []
  },
  {
   "cell_type": "code",
   "execution_count": 145,
   "metadata": {},
   "outputs": [],
   "source": [
    "filter_keywords.to_csv('../data/raw/tweets_policy_action.csv', encoding = 'utf-8 sig')"
   ]
  },
  {
   "cell_type": "code",
   "execution_count": 8,
   "metadata": {
    "scrolled": true
   },
   "outputs": [],
   "source": [
    "filter_keywords = pd.read_csv('../data/raw/keywords.csv')"
   ]
  },
  {
   "cell_type": "code",
   "execution_count": null,
   "metadata": {
    "scrolled": true
   },
   "outputs": [],
   "source": []
  },
  {
   "cell_type": "code",
   "execution_count": 9,
   "metadata": {
    "scrolled": true
   },
   "outputs": [
    {
     "data": {
      "text/html": [
       "<div>\n",
       "<style scoped>\n",
       "    .dataframe tbody tr th:only-of-type {\n",
       "        vertical-align: middle;\n",
       "    }\n",
       "\n",
       "    .dataframe tbody tr th {\n",
       "        vertical-align: top;\n",
       "    }\n",
       "\n",
       "    .dataframe thead th {\n",
       "        text-align: right;\n",
       "    }\n",
       "</style>\n",
       "<table border=\"1\" class=\"dataframe\">\n",
       "  <thead>\n",
       "    <tr style=\"text-align: right;\">\n",
       "      <th></th>\n",
       "      <th>keyword</th>\n",
       "      <th>category</th>\n",
       "    </tr>\n",
       "  </thead>\n",
       "  <tbody>\n",
       "    <tr>\n",
       "      <th>0</th>\n",
       "      <td>multas</td>\n",
       "      <td>prohibiciones</td>\n",
       "    </tr>\n",
       "    <tr>\n",
       "      <th>1</th>\n",
       "      <td>cierre</td>\n",
       "      <td>prohibiciones</td>\n",
       "    </tr>\n",
       "    <tr>\n",
       "      <th>2</th>\n",
       "      <td>aforo</td>\n",
       "      <td>prohibiciones</td>\n",
       "    </tr>\n",
       "    <tr>\n",
       "      <th>3</th>\n",
       "      <td>actividad no esencial</td>\n",
       "      <td>prohibiciones</td>\n",
       "    </tr>\n",
       "    <tr>\n",
       "      <th>4</th>\n",
       "      <td>suspensión</td>\n",
       "      <td>prohibiciones</td>\n",
       "    </tr>\n",
       "    <tr>\n",
       "      <th>...</th>\n",
       "      <td>...</td>\n",
       "      <td>...</td>\n",
       "    </tr>\n",
       "    <tr>\n",
       "      <th>93</th>\n",
       "      <td>app</td>\n",
       "      <td>comuniciacion</td>\n",
       "    </tr>\n",
       "    <tr>\n",
       "      <th>94</th>\n",
       "      <td>micrositio</td>\n",
       "      <td>comuniciacion</td>\n",
       "    </tr>\n",
       "    <tr>\n",
       "      <th>95</th>\n",
       "      <td>denuncias</td>\n",
       "      <td>comuniciacion</td>\n",
       "    </tr>\n",
       "    <tr>\n",
       "      <th>96</th>\n",
       "      <td>cuestionario digital</td>\n",
       "      <td>comuniciacion</td>\n",
       "    </tr>\n",
       "    <tr>\n",
       "      <th>97</th>\n",
       "      <td>auxilio</td>\n",
       "      <td>comuniciacion</td>\n",
       "    </tr>\n",
       "  </tbody>\n",
       "</table>\n",
       "<p>98 rows × 2 columns</p>\n",
       "</div>"
      ],
      "text/plain": [
       "                  keyword       category\n",
       "0                  multas  prohibiciones\n",
       "1                  cierre  prohibiciones\n",
       "2                   aforo  prohibiciones\n",
       "3   actividad no esencial  prohibiciones\n",
       "4              suspensión  prohibiciones\n",
       "..                    ...            ...\n",
       "93                    app  comuniciacion\n",
       "94             micrositio  comuniciacion\n",
       "95              denuncias  comuniciacion\n",
       "96   cuestionario digital  comuniciacion\n",
       "97                auxilio  comuniciacion\n",
       "\n",
       "[98 rows x 2 columns]"
      ]
     },
     "execution_count": 9,
     "metadata": {},
     "output_type": "execute_result"
    }
   ],
   "source": [
    "filter_keywords"
   ]
  },
  {
   "cell_type": "code",
   "execution_count": 6,
   "metadata": {
    "scrolled": true
   },
   "outputs": [
    {
     "data": {
      "text/html": [
       "<div>\n",
       "<style scoped>\n",
       "    .dataframe tbody tr th:only-of-type {\n",
       "        vertical-align: middle;\n",
       "    }\n",
       "\n",
       "    .dataframe tbody tr th {\n",
       "        vertical-align: top;\n",
       "    }\n",
       "\n",
       "    .dataframe thead th {\n",
       "        text-align: right;\n",
       "    }\n",
       "</style>\n",
       "<table border=\"1\" class=\"dataframe\">\n",
       "  <thead>\n",
       "    <tr style=\"text-align: right;\">\n",
       "      <th></th>\n",
       "      <th>name_entidad</th>\n",
       "      <th>tipo_cuenta</th>\n",
       "      <th>username_twitter</th>\n",
       "      <th>id</th>\n",
       "      <th>date</th>\n",
       "      <th>hashtags</th>\n",
       "      <th>tweet</th>\n",
       "      <th>keywords_covid</th>\n",
       "      <th>keywords_policy</th>\n",
       "      <th>dummy_policy</th>\n",
       "      <th>Unnamed: 10</th>\n",
       "      <th>Unnamed: 11</th>\n",
       "    </tr>\n",
       "  </thead>\n",
       "  <tbody>\n",
       "    <tr>\n",
       "      <th>138</th>\n",
       "      <td>NaN</td>\n",
       "      <td>NaN</td>\n",
       "      <td>NaN</td>\n",
       "      <td>1.260000e+18</td>\n",
       "      <td>5/15/20</td>\n",
       "      <td>['#delicias', '#puertecitos', '#enbcnoscuidamo...</td>\n",
       "      <td>📍 #Delicias y #Puertecitos.\\n#EnBCNosCuidamosT...</td>\n",
       "      <td>['Coronavirus', 'COVID19']</td>\n",
       "      <td>['Coronavirus', 'COVID19']</td>\n",
       "      <td>NaN</td>\n",
       "      <td>NaN</td>\n",
       "      <td>NaN</td>\n",
       "    </tr>\n",
       "    <tr>\n",
       "      <th>139</th>\n",
       "      <td>NaN</td>\n",
       "      <td>NaN</td>\n",
       "      <td>NaN</td>\n",
       "      <td>1.260000e+18</td>\n",
       "      <td>5/15/20</td>\n",
       "      <td>['#saludencasa']</td>\n",
       "      <td>Muchas mujeres y hombres bajacalifornianos rec...</td>\n",
       "      <td>['acciones']</td>\n",
       "      <td>['acciones']</td>\n",
       "      <td>NaN</td>\n",
       "      <td>NaN</td>\n",
       "      <td>NaN</td>\n",
       "    </tr>\n",
       "    <tr>\n",
       "      <th>140</th>\n",
       "      <td>NaN</td>\n",
       "      <td>NaN</td>\n",
       "      <td>NaN</td>\n",
       "      <td>1.260000e+18</td>\n",
       "      <td>5/15/20</td>\n",
       "      <td>['#quédateencasa', '#enbcnoscuidamostodos', '#...</td>\n",
       "      <td>Aumentaron 165 casos confirmados por Covid-19 ...</td>\n",
       "      <td>['contagios', 'Coronavirus', 'COVID19']</td>\n",
       "      <td>['contagios', 'Coronavirus', 'COVID19']</td>\n",
       "      <td>NaN</td>\n",
       "      <td>NaN</td>\n",
       "      <td>NaN</td>\n",
       "    </tr>\n",
       "    <tr>\n",
       "      <th>141</th>\n",
       "      <td>NaN</td>\n",
       "      <td>NaN</td>\n",
       "      <td>NaN</td>\n",
       "      <td>1.260000e+18</td>\n",
       "      <td>5/15/20</td>\n",
       "      <td>['#enbcnoscuidamostodos', '#coronavirus', '#co...</td>\n",
       "      <td>Sabemos que este es un momento muy difícil par...</td>\n",
       "      <td>['Coronavirus', 'COVID19']</td>\n",
       "      <td>['Coronavirus', 'COVID19']</td>\n",
       "      <td>NaN</td>\n",
       "      <td>NaN</td>\n",
       "      <td>NaN</td>\n",
       "    </tr>\n",
       "    <tr>\n",
       "      <th>142</th>\n",
       "      <td>NaN</td>\n",
       "      <td>NaN</td>\n",
       "      <td>NaN</td>\n",
       "      <td>1.260000e+18</td>\n",
       "      <td>5/15/20</td>\n",
       "      <td>['#enbcnoscuidamostodos', '#coronavirus', '#co...</td>\n",
       "      <td>Una forma de sumarte y ayudar a enfrentar esta...</td>\n",
       "      <td>['medidas', 'Coronavirus', 'COVID19']</td>\n",
       "      <td>['medidas', 'Coronavirus', 'COVID19']</td>\n",
       "      <td>NaN</td>\n",
       "      <td>NaN</td>\n",
       "      <td>NaN</td>\n",
       "    </tr>\n",
       "    <tr>\n",
       "      <th>...</th>\n",
       "      <td>...</td>\n",
       "      <td>...</td>\n",
       "      <td>...</td>\n",
       "      <td>...</td>\n",
       "      <td>...</td>\n",
       "      <td>...</td>\n",
       "      <td>...</td>\n",
       "      <td>...</td>\n",
       "      <td>...</td>\n",
       "      <td>...</td>\n",
       "      <td>...</td>\n",
       "      <td>...</td>\n",
       "    </tr>\n",
       "    <tr>\n",
       "      <th>15041</th>\n",
       "      <td>NaN</td>\n",
       "      <td>NaN</td>\n",
       "      <td>NaN</td>\n",
       "      <td>1.240000e+18</td>\n",
       "      <td>3/4/20</td>\n",
       "      <td>['#ccco', '#oaxacalotienetodo']</td>\n",
       "      <td>2019 fue el año en que se celebró la unión en ...</td>\n",
       "      <td>['servicios']</td>\n",
       "      <td>filter</td>\n",
       "      <td>NaN</td>\n",
       "      <td>NaN</td>\n",
       "      <td>NaN</td>\n",
       "    </tr>\n",
       "    <tr>\n",
       "      <th>15042</th>\n",
       "      <td>NaN</td>\n",
       "      <td>NaN</td>\n",
       "      <td>NaN</td>\n",
       "      <td>1.240000e+18</td>\n",
       "      <td>3/4/20</td>\n",
       "      <td>['#ccco', '#oaxacalotienetodo']</td>\n",
       "      <td>El mejor lugar para realizar congresos, conven...</td>\n",
       "      <td>['ferias']</td>\n",
       "      <td>filter</td>\n",
       "      <td>NaN</td>\n",
       "      <td>NaN</td>\n",
       "      <td>NaN</td>\n",
       "    </tr>\n",
       "    <tr>\n",
       "      <th>15043</th>\n",
       "      <td>NaN</td>\n",
       "      <td>NaN</td>\n",
       "      <td>NaN</td>\n",
       "      <td>1.240000e+18</td>\n",
       "      <td>3/4/20</td>\n",
       "      <td>['#ccco', '#guelaguetza2019', '#oaxacalotienet...</td>\n",
       "      <td>El #CCCO, fue sede por pirmera vez de la Feria...</td>\n",
       "      <td>['Feria']</td>\n",
       "      <td>filter</td>\n",
       "      <td>NaN</td>\n",
       "      <td>NaN</td>\n",
       "      <td>NaN</td>\n",
       "    </tr>\n",
       "    <tr>\n",
       "      <th>15044</th>\n",
       "      <td>NaN</td>\n",
       "      <td>NaN</td>\n",
       "      <td>NaN</td>\n",
       "      <td>1.240000e+18</td>\n",
       "      <td>3/4/20</td>\n",
       "      <td>['#ccco', '#oaxacalotienetodo']</td>\n",
       "      <td>En el Centro Cultural y de Convenciones de Oax...</td>\n",
       "      <td>['Informe']</td>\n",
       "      <td>['Informe']</td>\n",
       "      <td>NaN</td>\n",
       "      <td>NaN</td>\n",
       "      <td>NaN</td>\n",
       "    </tr>\n",
       "    <tr>\n",
       "      <th>15045</th>\n",
       "      <td>NaN</td>\n",
       "      <td>NaN</td>\n",
       "      <td>NaN</td>\n",
       "      <td>1.220000e+18</td>\n",
       "      <td>1/16/20</td>\n",
       "      <td>['#oaxaca', '#turismodereuniones']</td>\n",
       "      <td>Nuestra área de Atención a Grupos realiza con ...</td>\n",
       "      <td>['hoteles']</td>\n",
       "      <td>filter</td>\n",
       "      <td>NaN</td>\n",
       "      <td>NaN</td>\n",
       "      <td>NaN</td>\n",
       "    </tr>\n",
       "  </tbody>\n",
       "</table>\n",
       "<p>746 rows × 12 columns</p>\n",
       "</div>"
      ],
      "text/plain": [
       "      name_entidad tipo_cuenta username_twitter            id     date  \\\n",
       "138            NaN         NaN              NaN  1.260000e+18  5/15/20   \n",
       "139            NaN         NaN              NaN  1.260000e+18  5/15/20   \n",
       "140            NaN         NaN              NaN  1.260000e+18  5/15/20   \n",
       "141            NaN         NaN              NaN  1.260000e+18  5/15/20   \n",
       "142            NaN         NaN              NaN  1.260000e+18  5/15/20   \n",
       "...            ...         ...              ...           ...      ...   \n",
       "15041          NaN         NaN              NaN  1.240000e+18   3/4/20   \n",
       "15042          NaN         NaN              NaN  1.240000e+18   3/4/20   \n",
       "15043          NaN         NaN              NaN  1.240000e+18   3/4/20   \n",
       "15044          NaN         NaN              NaN  1.240000e+18   3/4/20   \n",
       "15045          NaN         NaN              NaN  1.220000e+18  1/16/20   \n",
       "\n",
       "                                                hashtags  \\\n",
       "138    ['#delicias', '#puertecitos', '#enbcnoscuidamo...   \n",
       "139                                     ['#saludencasa']   \n",
       "140    ['#quédateencasa', '#enbcnoscuidamostodos', '#...   \n",
       "141    ['#enbcnoscuidamostodos', '#coronavirus', '#co...   \n",
       "142    ['#enbcnoscuidamostodos', '#coronavirus', '#co...   \n",
       "...                                                  ...   \n",
       "15041                    ['#ccco', '#oaxacalotienetodo']   \n",
       "15042                    ['#ccco', '#oaxacalotienetodo']   \n",
       "15043  ['#ccco', '#guelaguetza2019', '#oaxacalotienet...   \n",
       "15044                    ['#ccco', '#oaxacalotienetodo']   \n",
       "15045                 ['#oaxaca', '#turismodereuniones']   \n",
       "\n",
       "                                                   tweet  \\\n",
       "138    📍 #Delicias y #Puertecitos.\\n#EnBCNosCuidamosT...   \n",
       "139    Muchas mujeres y hombres bajacalifornianos rec...   \n",
       "140    Aumentaron 165 casos confirmados por Covid-19 ...   \n",
       "141    Sabemos que este es un momento muy difícil par...   \n",
       "142    Una forma de sumarte y ayudar a enfrentar esta...   \n",
       "...                                                  ...   \n",
       "15041  2019 fue el año en que se celebró la unión en ...   \n",
       "15042  El mejor lugar para realizar congresos, conven...   \n",
       "15043  El #CCCO, fue sede por pirmera vez de la Feria...   \n",
       "15044  En el Centro Cultural y de Convenciones de Oax...   \n",
       "15045  Nuestra área de Atención a Grupos realiza con ...   \n",
       "\n",
       "                                keywords_covid  \\\n",
       "138                 ['Coronavirus', 'COVID19']   \n",
       "139                               ['acciones']   \n",
       "140    ['contagios', 'Coronavirus', 'COVID19']   \n",
       "141                 ['Coronavirus', 'COVID19']   \n",
       "142      ['medidas', 'Coronavirus', 'COVID19']   \n",
       "...                                        ...   \n",
       "15041                            ['servicios']   \n",
       "15042                               ['ferias']   \n",
       "15043                                ['Feria']   \n",
       "15044                              ['Informe']   \n",
       "15045                              ['hoteles']   \n",
       "\n",
       "                               keywords_policy  dummy_policy  Unnamed: 10  \\\n",
       "138                 ['Coronavirus', 'COVID19']           NaN          NaN   \n",
       "139                               ['acciones']           NaN          NaN   \n",
       "140    ['contagios', 'Coronavirus', 'COVID19']           NaN          NaN   \n",
       "141                 ['Coronavirus', 'COVID19']           NaN          NaN   \n",
       "142      ['medidas', 'Coronavirus', 'COVID19']           NaN          NaN   \n",
       "...                                        ...           ...          ...   \n",
       "15041                                   filter           NaN          NaN   \n",
       "15042                                   filter           NaN          NaN   \n",
       "15043                                   filter           NaN          NaN   \n",
       "15044                              ['Informe']           NaN          NaN   \n",
       "15045                                   filter           NaN          NaN   \n",
       "\n",
       "      Unnamed: 11  \n",
       "138           NaN  \n",
       "139           NaN  \n",
       "140           NaN  \n",
       "141           NaN  \n",
       "142           NaN  \n",
       "...           ...  \n",
       "15041         NaN  \n",
       "15042         NaN  \n",
       "15043         NaN  \n",
       "15044         NaN  \n",
       "15045         NaN  \n",
       "\n",
       "[746 rows x 12 columns]"
      ]
     },
     "execution_count": 6,
     "metadata": {},
     "output_type": "execute_result"
    }
   ],
   "source": [
    "filter_keywords[filter_keywords['tipo_cuenta'].isna()]"
   ]
  },
  {
   "cell_type": "code",
   "execution_count": 108,
   "metadata": {},
   "outputs": [],
   "source": [
    "filter_keywords.to_csv('../data/raw/twitter_keywords.csv')"
   ]
  }
 ],
 "metadata": {
  "kernelspec": {
   "display_name": "Python 3",
   "language": "python",
   "name": "python3"
  },
  "language_info": {
   "codemirror_mode": {
    "name": "ipython",
    "version": 3
   },
   "file_extension": ".py",
   "mimetype": "text/x-python",
   "name": "python",
   "nbconvert_exporter": "python",
   "pygments_lexer": "ipython3",
   "version": "3.8.3"
  }
 },
 "nbformat": 4,
 "nbformat_minor": 2
}
