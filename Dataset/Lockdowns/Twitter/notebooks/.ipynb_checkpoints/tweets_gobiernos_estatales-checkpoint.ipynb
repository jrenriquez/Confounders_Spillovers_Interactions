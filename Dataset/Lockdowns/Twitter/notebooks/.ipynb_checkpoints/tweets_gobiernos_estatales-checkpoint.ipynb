{
 "cells": [
  {
   "cell_type": "markdown",
   "metadata": {},
   "source": [
    "# Notebook to obtain all tweets from institutional accounts of mexican states"
   ]
  },
  {
   "cell_type": "markdown",
   "metadata": {},
   "source": [
    "**input data**: tweeter accounts \\\n",
    "**output data**: Data frame with the following information:\n",
    "    - date\n",
    "    - text\n",
    "    - nlikes\n",
    "    - nretweets\n",
    "    - "
   ]
  },
  {
   "cell_type": "code",
   "execution_count": 1,
   "metadata": {},
   "outputs": [],
   "source": [
    "import twint\n",
    "import twitter_scraper\n",
    "from twitter_scraper import Profile\n",
    "import re\n",
    "import requests\n",
    "import os\n",
    "import nest_asyncio\n",
    "nest_asyncio.apply()\n",
    "import pandas as pd\n",
    "from tqdm import tqdm"
   ]
  },
  {
   "cell_type": "code",
   "execution_count": 31,
   "metadata": {},
   "outputs": [],
   "source": [
    "class CuentaGobierno:\n",
    "    \n",
    "    \"\"\"\n",
    "    Class\n",
    "    \n",
    "    Parameters:\n",
    "    -----------\n",
    "    name: str\n",
    "        name of journalist\n",
    "    username: str\n",
    "        twitter username\n",
    "        \n",
    "        \n",
    "    Methods:\n",
    "    --------\n",
    "    get_profile: function to obtain profile of username\n",
    "    get_followers: get all usernames of the followers of the journalits\n",
    "    get_following: get all usernames of following of the journalits\n",
    "    get_tweets: get all tweets from the past 6 months\n",
    "    \"\"\"\n",
    "    \n",
    "    def __init__(self, name, username):\n",
    "        self.name = name\n",
    "        self.username = username\n",
    "        \n",
    "    def get_profile(self):\n",
    "        profile_ = Profile(self.username).to_dict()\n",
    "        return(profile_)\n",
    "    \n",
    "    def get_followers(self):\n",
    "        \"\"\"\n",
    "        function to obtain followers of a Twitter username\n",
    "        \n",
    "        Parameters\n",
    "        ----------\n",
    "        username: str\n",
    "            twitter username\n",
    "            \n",
    "        Returns\n",
    "        -------\n",
    "        followers: list\n",
    "            list of followers\n",
    "        count_followers: int\n",
    "            number of followers\n",
    "        \"\"\"\n",
    "        c = twint.Config()\n",
    "        c.Username = self.username\n",
    "        c.Pandas = True\n",
    "        c.Hide_output = True\n",
    "\n",
    "        twint.run.Followers(c)\n",
    "\n",
    "        Followers_df = twint.storage.panda.Follow_df\n",
    "        df_ = Followers_df\n",
    "        return(df_)\n",
    "    \n",
    "    def get_following(self):\n",
    "        \"\"\"\n",
    "        function to obtain followers of a Twitter username\n",
    "        \n",
    "        Parameters\n",
    "        ----------\n",
    "        username: str\n",
    "            twitter username\n",
    "            \n",
    "        Returns\n",
    "        -------\n",
    "        followers: list\n",
    "            list of followers\n",
    "        count_followers: int\n",
    "            number of followers\n",
    "        \"\"\"\n",
    "        c = twint.Config()\n",
    "        c.Username = self.username\n",
    "        c.Pandas = True\n",
    "        c.Hide_output = True\n",
    "\n",
    "        twint.run.Following(c)\n",
    "\n",
    "        Following_df = twint.storage.panda.Follow_df\n",
    "        df_ = Following_df\n",
    "        return(df_)\n",
    "    \n",
    "\n",
    "    def get_tweets(self):\n",
    "        c = twint.Config()\n",
    "        c.Username = self.username\n",
    "        c.Pandas = True\n",
    "        c.Format = \"Username: {username} |  Tweet: {tweet}\"\n",
    "        c.Hide_output = True\n",
    "        c.Since = '2020-01-01 00:00:00'\n",
    "        twint.run.Search(c)\n",
    "        df_tweets = twint.storage.panda.Tweets_df\n",
    "             \n",
    "        return(df_tweets)"
   ]
  },
  {
   "cell_type": "markdown",
   "metadata": {},
   "source": [
    "## Input data"
   ]
  },
  {
   "cell_type": "code",
   "execution_count": 5,
   "metadata": {},
   "outputs": [],
   "source": [
    "input_data = pd.read_csv('../data/raw/twitter_accounts.csv')"
   ]
  },
  {
   "cell_type": "code",
   "execution_count": 9,
   "metadata": {},
   "outputs": [
    {
     "data": {
      "text/html": [
       "<div>\n",
       "<style scoped>\n",
       "    .dataframe tbody tr th:only-of-type {\n",
       "        vertical-align: middle;\n",
       "    }\n",
       "\n",
       "    .dataframe tbody tr th {\n",
       "        vertical-align: top;\n",
       "    }\n",
       "\n",
       "    .dataframe thead th {\n",
       "        text-align: right;\n",
       "    }\n",
       "</style>\n",
       "<table border=\"1\" class=\"dataframe\">\n",
       "  <thead>\n",
       "    <tr style=\"text-align: right;\">\n",
       "      <th></th>\n",
       "      <th>entidad_name</th>\n",
       "      <th>username_twitter</th>\n",
       "      <th>name_twitter</th>\n",
       "      <th>biography</th>\n",
       "      <th>website</th>\n",
       "      <th>twitter_salud</th>\n",
       "      <th>name_twitter_salud</th>\n",
       "      <th>biography_salud</th>\n",
       "      <th>website_salud</th>\n",
       "    </tr>\n",
       "  </thead>\n",
       "  <tbody>\n",
       "    <tr>\n",
       "      <th>0</th>\n",
       "      <td>aguascalientes</td>\n",
       "      <td>GobAgs</td>\n",
       "      <td>Gobierno del estado</td>\n",
       "      <td>Twitter oficial del Gobierno del Estado de Agu...</td>\n",
       "      <td>aguascalientes.gob.mx</td>\n",
       "      <td>no account</td>\n",
       "      <td>no account</td>\n",
       "      <td>no account</td>\n",
       "      <td>no account</td>\n",
       "    </tr>\n",
       "    <tr>\n",
       "      <th>1</th>\n",
       "      <td>baja california</td>\n",
       "      <td>BCGOBIERNO</td>\n",
       "      <td>Gobierno del Estado de Baja California</td>\n",
       "      <td>Gobierno del Estado de Baja California</td>\n",
       "      <td>bajacalifornia.gob.mx</td>\n",
       "      <td>BC_SSALUD</td>\n",
       "      <td>Secretaría de Salud de Baja California</td>\n",
       "      <td>Instituto de Servicios de Salud Pública del Es...</td>\n",
       "      <td>saludbc.gob.mx</td>\n",
       "    </tr>\n",
       "    <tr>\n",
       "      <th>2</th>\n",
       "      <td>baja california sur</td>\n",
       "      <td>GobBCS</td>\n",
       "      <td>Gobierno de BCS</td>\n",
       "      <td>Somos un gobierno cercano y transparente, que ...</td>\n",
       "      <td>bajacalifornia.gob.mx</td>\n",
       "      <td>no account</td>\n",
       "      <td>no account</td>\n",
       "      <td>no account</td>\n",
       "      <td>no account</td>\n",
       "    </tr>\n",
       "    <tr>\n",
       "      <th>3</th>\n",
       "      <td>campeche</td>\n",
       "      <td>no account found</td>\n",
       "      <td>no account found</td>\n",
       "      <td>no account found</td>\n",
       "      <td>no account found</td>\n",
       "      <td>SaludCampeche</td>\n",
       "      <td>Salud Campeche</td>\n",
       "      <td>Cuenta oficial de la Secretaría de Salud del G...</td>\n",
       "      <td>NaN</td>\n",
       "    </tr>\n",
       "    <tr>\n",
       "      <th>4</th>\n",
       "      <td>chiapas</td>\n",
       "      <td>GobiernoChiapas</td>\n",
       "      <td>Gobierno de Chiapas</td>\n",
       "      <td>NaN</td>\n",
       "      <td>NaN</td>\n",
       "      <td>SSaludChiapas</td>\n",
       "      <td>Salud Chiapas Oficial</td>\n",
       "      <td>Twitter oficial de la Secretaría de Salud del ...</td>\n",
       "      <td>salud.chiapas.gob.mx</td>\n",
       "    </tr>\n",
       "  </tbody>\n",
       "</table>\n",
       "</div>"
      ],
      "text/plain": [
       "          entidad_name  username_twitter  \\\n",
       "0       aguascalientes            GobAgs   \n",
       "1      baja california        BCGOBIERNO   \n",
       "2  baja california sur            GobBCS   \n",
       "3             campeche  no account found   \n",
       "4              chiapas   GobiernoChiapas   \n",
       "\n",
       "                             name_twitter  \\\n",
       "0                     Gobierno del estado   \n",
       "1  Gobierno del Estado de Baja California   \n",
       "2                         Gobierno de BCS   \n",
       "3                        no account found   \n",
       "4                     Gobierno de Chiapas   \n",
       "\n",
       "                                           biography                website  \\\n",
       "0  Twitter oficial del Gobierno del Estado de Agu...  aguascalientes.gob.mx   \n",
       "1             Gobierno del Estado de Baja California  bajacalifornia.gob.mx   \n",
       "2  Somos un gobierno cercano y transparente, que ...  bajacalifornia.gob.mx   \n",
       "3                                   no account found       no account found   \n",
       "4                                                NaN                    NaN   \n",
       "\n",
       "   twitter_salud                      name_twitter_salud  \\\n",
       "0     no account                              no account   \n",
       "1      BC_SSALUD  Secretaría de Salud de Baja California   \n",
       "2     no account                              no account   \n",
       "3  SaludCampeche                          Salud Campeche   \n",
       "4  SSaludChiapas                   Salud Chiapas Oficial   \n",
       "\n",
       "                                     biography_salud         website_salud  \n",
       "0                                         no account            no account  \n",
       "1  Instituto de Servicios de Salud Pública del Es...        saludbc.gob.mx  \n",
       "2                                         no account            no account  \n",
       "3  Cuenta oficial de la Secretaría de Salud del G...                   NaN  \n",
       "4  Twitter oficial de la Secretaría de Salud del ...  salud.chiapas.gob.mx  "
      ]
     },
     "execution_count": 9,
     "metadata": {},
     "output_type": "execute_result"
    }
   ],
   "source": [
    "input_data.head()"
   ]
  },
  {
   "cell_type": "code",
   "execution_count": 56,
   "metadata": {},
   "outputs": [],
   "source": [
    "cuenta_entidad = input_data[['entidad_name', 'username_twitter']]\n",
    "cuenta_entidad = cuenta_entidad[cuenta_entidad['username_twitter'] != 'no account found']\n",
    "cuenta_entidad['tipo_cuenta'] = 'gobierno_estatal'"
   ]
  },
  {
   "cell_type": "code",
   "execution_count": 55,
   "metadata": {},
   "outputs": [],
   "source": [
    "cuenta_salud = input_data[['entidad_name', 'twitter_salud']]\n",
    "cuenta_salud = cuenta_salud[cuenta_salud['twitter_salud'] != 'no account found']\n",
    "cuenta_salud = cuenta_salud[cuenta_salud['twitter_salud'] != 'no account']\n",
    "cuenta_salud['tipo_cuenta'] = 'secretaria_salud'"
   ]
  },
  {
   "cell_type": "code",
   "execution_count": 57,
   "metadata": {},
   "outputs": [],
   "source": [
    "all_entities = list(cuenta_entidad.entidad_name) + list(cuenta_salud.entidad_name)\n",
    "all_accounts = list(cuenta_entidad.username_twitter) + list(cuenta_salud.twitter_salud)\n",
    "tipo_cuenta = list(cuenta_entidad.tipo_cuenta) + list(cuenta_salud.tipo_cuenta)\n"
   ]
  },
  {
   "cell_type": "markdown",
   "metadata": {},
   "source": [
    "## Get Tweets"
   ]
  },
  {
   "cell_type": "code",
   "execution_count": 32,
   "metadata": {},
   "outputs": [
    {
     "name": "stderr",
     "output_type": "stream",
     "text": [
      " 96%|█████████▌| 51/53 [3:11:56<08:11, 245.58s/it]  CRITICAL:root:twint.run:Twint:Feed:noDataExpecting value: line 1 column 1 (char 0)\n",
      "sleeping for 1.0 secs\n",
      "100%|██████████| 53/53 [3:28:17<00:00, 235.80s/it]\n"
     ]
    }
   ],
   "source": [
    "data_temp = []\n",
    "errors_tweets = []\n",
    "\n",
    "with tqdm(total = len(all_entities)) as pbar:\n",
    "    for x, y in zip(all_entities, all_accounts):\n",
    "        pbar.update(1)\n",
    "        try:\n",
    "            class_gob = CuentaGobierno(x, y)\n",
    "            tweets_database = class_gob.get_tweets()\n",
    "            tweets_database['entidad_name'] = x\n",
    "            data_temp.append(tweets_database)\n",
    "        except:\n",
    "            errors_tweets.append(y)"
   ]
  },
  {
   "cell_type": "code",
   "execution_count": 47,
   "metadata": {},
   "outputs": [],
   "source": [
    "data_tweets = pd.concat(data_temp)"
   ]
  },
  {
   "cell_type": "code",
   "execution_count": 62,
   "metadata": {},
   "outputs": [],
   "source": [
    "id_tweets = pd.DataFrame(all_entities, columns = ['name_entidad'])\n",
    "id_tweets['username_twitter'] = all_accounts\n",
    "id_tweets['tipo_cuenta'] = tipo_cuenta"
   ]
  },
  {
   "cell_type": "code",
   "execution_count": 70,
   "metadata": {},
   "outputs": [],
   "source": [
    "data_tweets = pd.merge(left = data_tweets, right = id_tweets, \n",
    "        left_on = 'username', right_on = 'username_twitter', \n",
    "        how = 'left').drop(['username', 'entidad_name'], axis = 1)"
   ]
  },
  {
   "cell_type": "code",
   "execution_count": 71,
   "metadata": {
    "scrolled": true
   },
   "outputs": [
    {
     "data": {
      "text/plain": [
       "Index(['id', 'conversation_id', 'created_at', 'date', 'timezone', 'place',\n",
       "       'tweet', 'hashtags', 'cashtags', 'user_id', 'user_id_str', 'name',\n",
       "       'day', 'hour', 'link', 'retweet', 'nlikes', 'nreplies', 'nretweets',\n",
       "       'quote_url', 'search', 'near', 'geo', 'source', 'user_rt_id', 'user_rt',\n",
       "       'retweet_id', 'reply_to', 'retweet_date', 'translate', 'trans_src',\n",
       "       'trans_dest', 'name_entidad', 'username_twitter', 'tipo_cuenta'],\n",
       "      dtype='object')"
      ]
     },
     "execution_count": 71,
     "metadata": {},
     "output_type": "execute_result"
    }
   ],
   "source": [
    "data_tweets.columns"
   ]
  },
  {
   "cell_type": "code",
   "execution_count": 73,
   "metadata": {},
   "outputs": [],
   "source": [
    "data_all = data_tweets[['name_entidad', 'tipo_cuenta', 'username_twitter', 'id', 'conversation_id', 'created_at', 'date', 'timezone', 'place',\n",
    "       'tweet', 'hashtags', 'cashtags', 'user_id', 'user_id_str', 'name',\n",
    "       'day', 'hour', 'link', 'retweet', 'nlikes', 'nreplies', 'nretweets',\n",
    "       'quote_url', 'search', 'near', 'geo', 'source', 'user_rt_id', 'user_rt',\n",
    "       'retweet_id', 'reply_to', 'retweet_date', 'translate', 'trans_src',\n",
    "       'trans_dest']]"
   ]
  },
  {
   "cell_type": "code",
   "execution_count": 74,
   "metadata": {},
   "outputs": [],
   "source": [
    "data_all.to_csv('/Users/cblanesg/cam.blanes Dropbox/Camila Blanes/COVID-19 Mexico/Twitter/data/raw/tweets.csv', encoding = 'utf-8 sig')"
   ]
  }
 ],
 "metadata": {
  "kernelspec": {
   "display_name": "Python 3",
   "language": "python",
   "name": "python3"
  },
  "language_info": {
   "codemirror_mode": {
    "name": "ipython",
    "version": 3
   },
   "file_extension": ".py",
   "mimetype": "text/x-python",
   "name": "python",
   "nbconvert_exporter": "python",
   "pygments_lexer": "ipython3",
   "version": "3.7.4"
  }
 },
 "nbformat": 4,
 "nbformat_minor": 2
}
