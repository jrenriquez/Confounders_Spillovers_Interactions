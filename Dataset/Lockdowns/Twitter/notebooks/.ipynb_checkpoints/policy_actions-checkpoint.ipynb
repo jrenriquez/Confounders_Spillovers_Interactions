{
 "cells": [
  {
   "cell_type": "markdown",
   "metadata": {},
   "source": [
    "# Notebook to obtain tweets that talk about policy actions of COVID"
   ]
  },
  {
   "cell_type": "markdown",
   "metadata": {},
   "source": [
    "**input data** : tweets de cuentas de gobiernos estatales y de secretaría de salud. \n",
    "**output data**: data frame con:\n",
    "    - entidad\n",
    "    - policy action\n",
    "    - date\n",
    "    - evidencia (tweet)\n",
    "    - categoria de policy action\n",
    "    \n",
    "(Frist case Reported in México: 2020-02-28)"
   ]
  },
  {
   "cell_type": "code",
   "execution_count": 121,
   "metadata": {},
   "outputs": [],
   "source": [
    "import pandas as pd\n",
    "import re\n",
    "import datetime\n",
    "from nltk.tokenize import word_tokenize\n",
    "from nltk.stem import PorterStemmer\n",
    "from nltk.stem import LancasterStemmer"
   ]
  },
  {
   "cell_type": "code",
   "execution_count": 122,
   "metadata": {},
   "outputs": [],
   "source": [
    "porter = PorterStemmer()\n",
    "lancaster = LancasterStemmer()"
   ]
  },
  {
   "cell_type": "code",
   "execution_count": 123,
   "metadata": {},
   "outputs": [
    {
     "name": "stderr",
     "output_type": "stream",
     "text": [
      "/Library/Frameworks/Python.framework/Versions/3.7/lib/python3.7/site-packages/IPython/core/interactiveshell.py:3058: DtypeWarning: Columns (19) have mixed types.Specify dtype option on import or set low_memory=False.\n",
      "  interactivity=interactivity, compiler=compiler, result=result)\n"
     ]
    }
   ],
   "source": [
    "data_tweets = pd.read_csv('/Users/cblanesg/cam.blanes Dropbox/Camila Blanes/COVID-19 Mexico/Twitter/data/raw/data.csv')\n",
    "input_data = data_tweets[['name_entidad', 'tipo_cuenta','username_twitter', 'id', 'date', 'hashtags', 'tweet' ]].dropna(subset = ['date'])"
   ]
  },
  {
   "cell_type": "code",
   "execution_count": 125,
   "metadata": {},
   "outputs": [],
   "source": [
    "input_data[['date']] = input_data.apply(lambda x: datetime.datetime(int(re.findall('[0-9]{4}-[0-9]{2}-[0-9]{2}', x['date'])[0].split('-')[0]), int(re.findall('[0-9]{4}-[0-9]{2}-[0-9]{2}', x['date'])[0].split('-')[1]), int(re.findall('[0-9]{4}-[0-9]{2}-[0-9]{2}', x['date'])[0].split('-')[2])), axis = 1)"
   ]
  },
  {
   "cell_type": "code",
   "execution_count": 61,
   "metadata": {},
   "outputs": [],
   "source": [
    "## Filter tweets that talks about covid"
   ]
  },
  {
   "cell_type": "code",
   "execution_count": 126,
   "metadata": {},
   "outputs": [],
   "source": [
    "keywords_data = pd.read_csv('../data/raw/keywords.csv')\n",
    "keywords_data = keywords_data.dropna()\n",
    "covid_words = ['coronavirus', 'covid19', 'covid']\n",
    "all_words = list(keywords_data.keyword)"
   ]
  },
  {
   "cell_type": "code",
   "execution_count": 135,
   "metadata": {},
   "outputs": [],
   "source": [
    "policy_words = ['accion', 'propuesta', 'politica', 'reactivacion', \n",
    "               'restriccion' ,'cuarentena', 'distanciamiento' ,'social', \n",
    "               'distancia', 'prevencion', 'medidas', 'monitoreo', 'evitar', \n",
    "               'contagios', 'informe', 'contingencia', 'coronavirus', \n",
    "               'covid19', 'covid', 'preparar', 'protocolo']"
   ]
  },
  {
   "cell_type": "code",
   "execution_count": 141,
   "metadata": {},
   "outputs": [],
   "source": [
    "porter_keywords = []\n",
    "for i in all_words:\n",
    "    porter_keywords.append(porter.stem(i))\n",
    "porter_covid = []\n",
    "for i in covid_words:\n",
    "    porter_keywords.append(porter.stem(i))\n",
    "porter_policy = []\n",
    "for i in policy_words:\n",
    "    porter_policy.append(porter.stem(i))"
   ]
  },
  {
   "cell_type": "code",
   "execution_count": 97,
   "metadata": {},
   "outputs": [],
   "source": []
  },
  {
   "cell_type": "code",
   "execution_count": 129,
   "metadata": {},
   "outputs": [],
   "source": [
    "def get_key_words(text, list_filter):\n",
    "    tokens = word_tokenize(text)\n",
    "    key_similar = []\n",
    "    for i in tokens:\n",
    "        l = i.lower()\n",
    "        p = porter.stem(l)\n",
    "        if p in list_filter or i in porter_covid:\n",
    "            key_similar.append(i)\n",
    "    \n",
    "    if any(key_similar):\n",
    "        return(key_similar)\n",
    "    else:\n",
    "        return('filter')"
   ]
  },
  {
   "cell_type": "code",
   "execution_count": 130,
   "metadata": {},
   "outputs": [],
   "source": [
    "input_data['keywords_covid'] = input_data.apply(lambda x:get_key_words(x['tweet'], porter_keywords), axis = 1)"
   ]
  },
  {
   "cell_type": "code",
   "execution_count": 131,
   "metadata": {},
   "outputs": [],
   "source": [
    "filter_keywords = input_data[input_data['keywords_covid'] != 'filter']"
   ]
  },
  {
   "cell_type": "code",
   "execution_count": 132,
   "metadata": {},
   "outputs": [
    {
     "name": "stdout",
     "output_type": "stream",
     "text": [
      "43567 18019\n"
     ]
    }
   ],
   "source": [
    "print(len(input_data), len(filter_keywords))"
   ]
  },
  {
   "cell_type": "code",
   "execution_count": 133,
   "metadata": {},
   "outputs": [
    {
     "data": {
      "text/html": [
       "<div>\n",
       "<style scoped>\n",
       "    .dataframe tbody tr th:only-of-type {\n",
       "        vertical-align: middle;\n",
       "    }\n",
       "\n",
       "    .dataframe tbody tr th {\n",
       "        vertical-align: top;\n",
       "    }\n",
       "\n",
       "    .dataframe thead th {\n",
       "        text-align: right;\n",
       "    }\n",
       "</style>\n",
       "<table border=\"1\" class=\"dataframe\">\n",
       "  <thead>\n",
       "    <tr style=\"text-align: right;\">\n",
       "      <th></th>\n",
       "      <th>tipo_cuenta</th>\n",
       "      <th>username_twitter</th>\n",
       "      <th>id</th>\n",
       "      <th>date</th>\n",
       "      <th>hashtags</th>\n",
       "      <th>tweet</th>\n",
       "      <th>keywords_covid</th>\n",
       "    </tr>\n",
       "    <tr>\n",
       "      <th>name_entidad</th>\n",
       "      <th></th>\n",
       "      <th></th>\n",
       "      <th></th>\n",
       "      <th></th>\n",
       "      <th></th>\n",
       "      <th></th>\n",
       "      <th></th>\n",
       "    </tr>\n",
       "  </thead>\n",
       "  <tbody>\n",
       "    <tr>\n",
       "      <th>aguascalientes</th>\n",
       "      <td>138</td>\n",
       "      <td>138</td>\n",
       "      <td>138</td>\n",
       "      <td>138</td>\n",
       "      <td>138</td>\n",
       "      <td>138</td>\n",
       "      <td>138</td>\n",
       "    </tr>\n",
       "    <tr>\n",
       "      <th>baja california</th>\n",
       "      <td>289</td>\n",
       "      <td>289</td>\n",
       "      <td>289</td>\n",
       "      <td>289</td>\n",
       "      <td>289</td>\n",
       "      <td>289</td>\n",
       "      <td>289</td>\n",
       "    </tr>\n",
       "    <tr>\n",
       "      <th>baja california sur</th>\n",
       "      <td>272</td>\n",
       "      <td>272</td>\n",
       "      <td>272</td>\n",
       "      <td>272</td>\n",
       "      <td>272</td>\n",
       "      <td>272</td>\n",
       "      <td>272</td>\n",
       "    </tr>\n",
       "    <tr>\n",
       "      <th>campeche</th>\n",
       "      <td>275</td>\n",
       "      <td>275</td>\n",
       "      <td>275</td>\n",
       "      <td>275</td>\n",
       "      <td>275</td>\n",
       "      <td>275</td>\n",
       "      <td>275</td>\n",
       "    </tr>\n",
       "    <tr>\n",
       "      <th>chiapas</th>\n",
       "      <td>273</td>\n",
       "      <td>273</td>\n",
       "      <td>273</td>\n",
       "      <td>273</td>\n",
       "      <td>273</td>\n",
       "      <td>273</td>\n",
       "      <td>273</td>\n",
       "    </tr>\n",
       "  </tbody>\n",
       "</table>\n",
       "</div>"
      ],
      "text/plain": [
       "                     tipo_cuenta  username_twitter   id  date  hashtags  \\\n",
       "name_entidad                                                              \n",
       "aguascalientes               138               138  138   138       138   \n",
       "baja california              289               289  289   289       289   \n",
       "baja california sur          272               272  272   272       272   \n",
       "campeche                     275               275  275   275       275   \n",
       "chiapas                      273               273  273   273       273   \n",
       "\n",
       "                     tweet  keywords_covid  \n",
       "name_entidad                                \n",
       "aguascalientes         138             138  \n",
       "baja california        289             289  \n",
       "baja california sur    272             272  \n",
       "campeche               275             275  \n",
       "chiapas                273             273  "
      ]
     },
     "execution_count": 133,
     "metadata": {},
     "output_type": "execute_result"
    }
   ],
   "source": [
    "filter_keywords.groupby(['name_entidad']).count().head()"
   ]
  },
  {
   "cell_type": "code",
   "execution_count": null,
   "metadata": {},
   "outputs": [],
   "source": [
    "## Policy Actions"
   ]
  },
  {
   "cell_type": "code",
   "execution_count": 143,
   "metadata": {},
   "outputs": [
    {
     "name": "stderr",
     "output_type": "stream",
     "text": [
      "/Library/Frameworks/Python.framework/Versions/3.7/lib/python3.7/site-packages/ipykernel_launcher.py:1: SettingWithCopyWarning: \n",
      "A value is trying to be set on a copy of a slice from a DataFrame.\n",
      "Try using .loc[row_indexer,col_indexer] = value instead\n",
      "\n",
      "See the caveats in the documentation: https://pandas.pydata.org/pandas-docs/stable/user_guide/indexing.html#returning-a-view-versus-a-copy\n",
      "  \"\"\"Entry point for launching an IPython kernel.\n"
     ]
    }
   ],
   "source": [
    "filter_keywords['dummy_policy'] = input_data.apply(lambda x:get_key_words(x['tweet'], porter_policy), axis = 1)"
   ]
  },
  {
   "cell_type": "code",
   "execution_count": 147,
   "metadata": {},
   "outputs": [
    {
     "name": "stdout",
     "output_type": "stream",
     "text": [
      "18019 14919\n"
     ]
    }
   ],
   "source": [
    "print(len(filter_keywords), len(filter_keywords[filter_keywords['dummy_policy'] != 'filter']))"
   ]
  },
  {
   "cell_type": "code",
   "execution_count": null,
   "metadata": {},
   "outputs": [],
   "source": []
  },
  {
   "cell_type": "code",
   "execution_count": null,
   "metadata": {},
   "outputs": [],
   "source": []
  },
  {
   "cell_type": "code",
   "execution_count": 145,
   "metadata": {},
   "outputs": [],
   "source": [
    "filter_keywords.to_csv('../data/raw/tweets_policy_action.csv', encoding = 'utf-8 sig')"
   ]
  },
  {
   "cell_type": "code",
   "execution_count": null,
   "metadata": {},
   "outputs": [],
   "source": [
    "policy = filter_keywords[filter_keywords['dummy_policy']]"
   ]
  },
  {
   "cell_type": "code",
   "execution_count": 120,
   "metadata": {},
   "outputs": [
    {
     "data": {
      "text/html": [
       "<div>\n",
       "<style scoped>\n",
       "    .dataframe tbody tr th:only-of-type {\n",
       "        vertical-align: middle;\n",
       "    }\n",
       "\n",
       "    .dataframe tbody tr th {\n",
       "        vertical-align: top;\n",
       "    }\n",
       "\n",
       "    .dataframe thead th {\n",
       "        text-align: right;\n",
       "    }\n",
       "</style>\n",
       "<table border=\"1\" class=\"dataframe\">\n",
       "  <thead>\n",
       "    <tr style=\"text-align: right;\">\n",
       "      <th></th>\n",
       "      <th>name_entidad</th>\n",
       "      <th>tipo_cuenta</th>\n",
       "      <th>username_twitter</th>\n",
       "      <th>id</th>\n",
       "      <th>date</th>\n",
       "      <th>hashtags</th>\n",
       "      <th>tweet</th>\n",
       "      <th>keywords_covid</th>\n",
       "      <th>dummy_policy</th>\n",
       "    </tr>\n",
       "  </thead>\n",
       "  <tbody>\n",
       "    <tr>\n",
       "      <th>1</th>\n",
       "      <td>aguascalientes</td>\n",
       "      <td>gobierno_estatal</td>\n",
       "      <td>GobAgs</td>\n",
       "      <td>1.261431e+18</td>\n",
       "      <td>2020-05-15</td>\n",
       "      <td>['#aguascalientes', '#todosporaguascalientes']</td>\n",
       "      <td>Conoce el Protocolo Sanitario que deberán segu...</td>\n",
       "      <td>[Protocolo]</td>\n",
       "      <td>filter</td>\n",
       "    </tr>\n",
       "    <tr>\n",
       "      <th>4</th>\n",
       "      <td>aguascalientes</td>\n",
       "      <td>gobierno_estatal</td>\n",
       "      <td>GobAgs</td>\n",
       "      <td>1.261382e+18</td>\n",
       "      <td>2020-05-15</td>\n",
       "      <td>['#coronavirus', '#todosporaguascalientes', '#...</td>\n",
       "      <td>Te compartimos el Comunicado Técnico Diario so...</td>\n",
       "      <td>[coronavirus]</td>\n",
       "      <td>filter</td>\n",
       "    </tr>\n",
       "    <tr>\n",
       "      <th>5</th>\n",
       "      <td>aguascalientes</td>\n",
       "      <td>gobierno_estatal</td>\n",
       "      <td>GobAgs</td>\n",
       "      <td>1.261328e+18</td>\n",
       "      <td>2020-05-15</td>\n",
       "      <td>['#díadelmaestro', '#contigoal100']</td>\n",
       "      <td>Admiramos su extraordinaria labor, aún en tiem...</td>\n",
       "      <td>[servicio]</td>\n",
       "      <td>filter</td>\n",
       "    </tr>\n",
       "    <tr>\n",
       "      <th>7</th>\n",
       "      <td>aguascalientes</td>\n",
       "      <td>gobierno_estatal</td>\n",
       "      <td>GobAgs</td>\n",
       "      <td>1.261108e+18</td>\n",
       "      <td>2020-05-14</td>\n",
       "      <td>['#todosporaguascalientes', '#contigoal100']</td>\n",
       "      <td>Seguimos reforzando los protocolos sanitarios ...</td>\n",
       "      <td>[protocolos]</td>\n",
       "      <td>filter</td>\n",
       "    </tr>\n",
       "    <tr>\n",
       "      <th>10</th>\n",
       "      <td>aguascalientes</td>\n",
       "      <td>gobierno_estatal</td>\n",
       "      <td>GobAgs</td>\n",
       "      <td>1.260950e+18</td>\n",
       "      <td>2020-05-14</td>\n",
       "      <td>['#envivo', '#coronavirus', '#altiroconelcoron...</td>\n",
       "      <td>#EnVivo sigue el Informe Técnico de la situaci...</td>\n",
       "      <td>[Coronavirus]</td>\n",
       "      <td>filter</td>\n",
       "    </tr>\n",
       "    <tr>\n",
       "      <th>...</th>\n",
       "      <td>...</td>\n",
       "      <td>...</td>\n",
       "      <td>...</td>\n",
       "      <td>...</td>\n",
       "      <td>...</td>\n",
       "      <td>...</td>\n",
       "      <td>...</td>\n",
       "      <td>...</td>\n",
       "      <td>...</td>\n",
       "    </tr>\n",
       "    <tr>\n",
       "      <th>43531</th>\n",
       "      <td>veracruz</td>\n",
       "      <td>secretaria_salud</td>\n",
       "      <td>SSALUDVeracruz</td>\n",
       "      <td>1.219318e+18</td>\n",
       "      <td>2020-01-20</td>\n",
       "      <td>[]</td>\n",
       "      <td>En un encuentro con comerciantes, hoteleros y ...</td>\n",
       "      <td>[establecimientos]</td>\n",
       "      <td>filter</td>\n",
       "    </tr>\n",
       "    <tr>\n",
       "      <th>43544</th>\n",
       "      <td>veracruz</td>\n",
       "      <td>secretaria_salud</td>\n",
       "      <td>SSALUDVeracruz</td>\n",
       "      <td>1.217106e+18</td>\n",
       "      <td>2020-01-14</td>\n",
       "      <td>[]</td>\n",
       "      <td>Iniciamos labores de eliminación de criaderos ...</td>\n",
       "      <td>[servicios]</td>\n",
       "      <td>filter</td>\n",
       "    </tr>\n",
       "    <tr>\n",
       "      <th>43549</th>\n",
       "      <td>veracruz</td>\n",
       "      <td>secretaria_salud</td>\n",
       "      <td>SSALUDVeracruz</td>\n",
       "      <td>1.216745e+18</td>\n",
       "      <td>2020-01-13</td>\n",
       "      <td>[]</td>\n",
       "      <td>Así como el plato del buen comer, también exis...</td>\n",
       "      <td>[módulo]</td>\n",
       "      <td>filter</td>\n",
       "    </tr>\n",
       "    <tr>\n",
       "      <th>43553</th>\n",
       "      <td>veracruz</td>\n",
       "      <td>secretaria_salud</td>\n",
       "      <td>SSALUDVeracruz</td>\n",
       "      <td>1.215708e+18</td>\n",
       "      <td>2020-01-10</td>\n",
       "      <td>[]</td>\n",
       "      <td>¿Cuál es el mejor método anticonceptivo para t...</td>\n",
       "      <td>[seguro]</td>\n",
       "      <td>filter</td>\n",
       "    </tr>\n",
       "    <tr>\n",
       "      <th>43555</th>\n",
       "      <td>veracruz</td>\n",
       "      <td>secretaria_salud</td>\n",
       "      <td>SSALUDVeracruz</td>\n",
       "      <td>1.215387e+18</td>\n",
       "      <td>2020-01-09</td>\n",
       "      <td>[]</td>\n",
       "      <td>Las unidades médicas de las 11 jurisdicciones ...</td>\n",
       "      <td>[Servicios]</td>\n",
       "      <td>filter</td>\n",
       "    </tr>\n",
       "  </tbody>\n",
       "</table>\n",
       "<p>11518 rows × 9 columns</p>\n",
       "</div>"
      ],
      "text/plain": [
       "         name_entidad       tipo_cuenta username_twitter            id  \\\n",
       "1      aguascalientes  gobierno_estatal           GobAgs  1.261431e+18   \n",
       "4      aguascalientes  gobierno_estatal           GobAgs  1.261382e+18   \n",
       "5      aguascalientes  gobierno_estatal           GobAgs  1.261328e+18   \n",
       "7      aguascalientes  gobierno_estatal           GobAgs  1.261108e+18   \n",
       "10     aguascalientes  gobierno_estatal           GobAgs  1.260950e+18   \n",
       "...               ...               ...              ...           ...   \n",
       "43531        veracruz  secretaria_salud   SSALUDVeracruz  1.219318e+18   \n",
       "43544        veracruz  secretaria_salud   SSALUDVeracruz  1.217106e+18   \n",
       "43549        veracruz  secretaria_salud   SSALUDVeracruz  1.216745e+18   \n",
       "43553        veracruz  secretaria_salud   SSALUDVeracruz  1.215708e+18   \n",
       "43555        veracruz  secretaria_salud   SSALUDVeracruz  1.215387e+18   \n",
       "\n",
       "            date                                           hashtags  \\\n",
       "1     2020-05-15     ['#aguascalientes', '#todosporaguascalientes']   \n",
       "4     2020-05-15  ['#coronavirus', '#todosporaguascalientes', '#...   \n",
       "5     2020-05-15                ['#díadelmaestro', '#contigoal100']   \n",
       "7     2020-05-14       ['#todosporaguascalientes', '#contigoal100']   \n",
       "10    2020-05-14  ['#envivo', '#coronavirus', '#altiroconelcoron...   \n",
       "...          ...                                                ...   \n",
       "43531 2020-01-20                                                 []   \n",
       "43544 2020-01-14                                                 []   \n",
       "43549 2020-01-13                                                 []   \n",
       "43553 2020-01-10                                                 []   \n",
       "43555 2020-01-09                                                 []   \n",
       "\n",
       "                                                   tweet      keywords_covid  \\\n",
       "1      Conoce el Protocolo Sanitario que deberán segu...         [Protocolo]   \n",
       "4      Te compartimos el Comunicado Técnico Diario so...       [coronavirus]   \n",
       "5      Admiramos su extraordinaria labor, aún en tiem...          [servicio]   \n",
       "7      Seguimos reforzando los protocolos sanitarios ...        [protocolos]   \n",
       "10     #EnVivo sigue el Informe Técnico de la situaci...       [Coronavirus]   \n",
       "...                                                  ...                 ...   \n",
       "43531  En un encuentro con comerciantes, hoteleros y ...  [establecimientos]   \n",
       "43544  Iniciamos labores de eliminación de criaderos ...         [servicios]   \n",
       "43549  Así como el plato del buen comer, también exis...            [módulo]   \n",
       "43553  ¿Cuál es el mejor método anticonceptivo para t...            [seguro]   \n",
       "43555  Las unidades médicas de las 11 jurisdicciones ...         [Servicios]   \n",
       "\n",
       "      dummy_policy  \n",
       "1           filter  \n",
       "4           filter  \n",
       "5           filter  \n",
       "7           filter  \n",
       "10          filter  \n",
       "...            ...  \n",
       "43531       filter  \n",
       "43544       filter  \n",
       "43549       filter  \n",
       "43553       filter  \n",
       "43555       filter  \n",
       "\n",
       "[11518 rows x 9 columns]"
      ]
     },
     "execution_count": 120,
     "metadata": {},
     "output_type": "execute_result"
    }
   ],
   "source": [
    "filter_keywords"
   ]
  },
  {
   "cell_type": "code",
   "execution_count": 108,
   "metadata": {},
   "outputs": [],
   "source": [
    "filter_keywords.to_csv('../data/raw/twitter_keywords.csv')"
   ]
  }
 ],
 "metadata": {
  "kernelspec": {
   "display_name": "Python 3",
   "language": "python",
   "name": "python3"
  },
  "language_info": {
   "codemirror_mode": {
    "name": "ipython",
    "version": 3
   },
   "file_extension": ".py",
   "mimetype": "text/x-python",
   "name": "python",
   "nbconvert_exporter": "python",
   "pygments_lexer": "ipython3",
   "version": "3.7.4"
  }
 },
 "nbformat": 4,
 "nbformat_minor": 2
}
