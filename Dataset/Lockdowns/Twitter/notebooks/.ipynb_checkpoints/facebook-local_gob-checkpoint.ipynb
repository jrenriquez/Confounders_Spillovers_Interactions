{
 "cells": [
  {
   "cell_type": "code",
   "execution_count": 4,
   "metadata": {},
   "outputs": [],
   "source": [
    "import pandas as pd\n",
    "import os\n",
    "from os import listdir\n",
    "from tqdm import tqdm"
   ]
  },
  {
   "cell_type": "code",
   "execution_count": 5,
   "metadata": {},
   "outputs": [],
   "source": [
    "import warnings\n",
    "warnings.filterwarnings(\"ignore\")"
   ]
  },
  {
   "cell_type": "code",
   "execution_count": 6,
   "metadata": {},
   "outputs": [],
   "source": [
    "crowdtangle = pd.read_csv('../data/facebook_local-gov/2021-08-24-18-47-14-CDT-Historical-Report-COVID-Mexico-2020-01-01--2021-08-25.csv')"
   ]
  },
  {
   "cell_type": "code",
   "execution_count": 11,
   "metadata": {
    "scrolled": true
   },
   "outputs": [
    {
     "data": {
      "text/plain": [
       "Index(['Page Name', 'User Name', 'Facebook Id', 'Page Category',\n",
       "       'Page Admin Top Country', 'Page Description', 'Page Created',\n",
       "       'Likes at Posting', 'Followers at Posting', 'Post Created',\n",
       "       'Post Created Date', 'Post Created Time', 'Type', 'Total Interactions',\n",
       "       'Likes', 'Comments', 'Shares', 'Love', 'Wow', 'Haha', 'Sad', 'Angry',\n",
       "       'Care', 'Video Share Status', 'Is Video Owner?', 'Post Views',\n",
       "       'Total Views', 'Total Views For All Crossposts', 'Video Length', 'URL',\n",
       "       'Message', 'Link', 'Final Link', 'Image Text', 'Link Text',\n",
       "       'Description', 'Sponsor Id', 'Sponsor Name', 'Sponsor Category',\n",
       "       'Overperforming Score (weighted  —  Likes 1x Shares 1x Comments 1x Love 1x Wow 1x Haha 1x Sad 1x Angry 1x )'],\n",
       "      dtype='object')"
      ]
     },
     "execution_count": 11,
     "metadata": {},
     "output_type": "execute_result"
    }
   ],
   "source": [
    "crowdtangle.head().columns"
   ]
  },
  {
   "cell_type": "code",
   "execution_count": 16,
   "metadata": {},
   "outputs": [
    {
     "data": {
      "text/plain": [
       "'https://www.facebook.com/MunicipiodeOaxaca/photos/a.230065161219041/858549565037261/?type=3'"
      ]
     },
     "execution_count": 16,
     "metadata": {},
     "output_type": "execute_result"
    }
   ],
   "source": [
    "crowdtangle['Link'][0]"
   ]
  },
  {
   "cell_type": "code",
   "execution_count": 22,
   "metadata": {
    "scrolled": true
   },
   "outputs": [
    {
     "data": {
      "text/plain": [
       "array([nan], dtype=object)"
      ]
     },
     "execution_count": 22,
     "metadata": {},
     "output_type": "execute_result"
    }
   ],
   "source": [
    "crowdtangle[crowdtangle['Page Name'] == 'Ayuntamiento Municipal Santiago de Anaya 2020 - 2024']['User Name'].unique()"
   ]
  },
  {
   "cell_type": "code",
   "execution_count": 20,
   "metadata": {
    "scrolled": true
   },
   "outputs": [
    {
     "data": {
      "text/plain": [
       "'Ayuntamiento Municipal Santiago de Anaya 2020 - 2024'"
      ]
     },
     "execution_count": 20,
     "metadata": {},
     "output_type": "execute_result"
    }
   ],
   "source": [
    "crowdtangle[crowdtangle['User Name'].isna()]['Page Name'][48]"
   ]
  },
  {
   "cell_type": "code",
   "execution_count": 24,
   "metadata": {
    "scrolled": true
   },
   "outputs": [],
   "source": [
    "names = crowdtangle[['User Name', 'Page Name']].drop_duplicates().reset_index()"
   ]
  },
  {
   "cell_type": "code",
   "execution_count": 26,
   "metadata": {},
   "outputs": [
    {
     "name": "stderr",
     "output_type": "stream",
     "text": [
      "100%|██████████| 247/247 [01:26<00:00,  2.87it/s]\n"
     ]
    }
   ],
   "source": [
    "\n",
    "for x in tqdm(range(0, len(names))):\n",
    "    if pd.isna(names.loc[x]['User Name']):\n",
    "        p = names.loc[x]['Page Name']\n",
    "        post = crowdtangle[crowdtangle['Page Name'] == p]\n",
    "        file = '../data/facebook_local-gov/' + p + '.xlsx'\n",
    "        post.to_excel(file)\n",
    "    else:\n",
    "        p = names.loc[x]['User Name']\n",
    "        post = crowdtangle[crowdtangle['User Name'] == p]\n",
    "        file = '../data/facebook_local-gov/' + p + '.xlsx'\n",
    "        post.to_excel(file)        "
   ]
  }
 ],
 "metadata": {
  "kernelspec": {
   "display_name": "Python 3",
   "language": "python",
   "name": "python3"
  },
  "language_info": {
   "codemirror_mode": {
    "name": "ipython",
    "version": 3
   },
   "file_extension": ".py",
   "mimetype": "text/x-python",
   "name": "python",
   "nbconvert_exporter": "python",
   "pygments_lexer": "ipython3",
   "version": "3.8.3"
  }
 },
 "nbformat": 4,
 "nbformat_minor": 4
}
