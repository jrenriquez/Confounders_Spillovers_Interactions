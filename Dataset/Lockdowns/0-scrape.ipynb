{
 "cells": [
  {
   "cell_type": "code",
   "execution_count": 1,
   "metadata": {},
   "outputs": [],
   "source": [
    "import pandas as pd\n",
    "import glob"
   ]
  },
  {
   "cell_type": "code",
   "execution_count": 5,
   "metadata": {},
   "outputs": [],
   "source": [
    "results = pd.read_csv('results.csv', index_col = None, header = None)\n",
    "results.columns = ['parameter', 'newspaper', 'title', 'date', 'search_', 'type_newspaper']"
   ]
  },
  {
   "cell_type": "code",
   "execution_count": 10,
   "metadata": {},
   "outputs": [],
   "source": [
    "results[results['parameter'] == 'medidas coronavirus'].to_csv('newspapers_seguridadsocial.csv', encoding = 'utf-8 sig')"
   ]
  },
  {
   "cell_type": "code",
   "execution_count": null,
   "metadata": {},
   "outputs": [],
   "source": []
  },
  {
   "cell_type": "code",
   "execution_count": 5,
   "metadata": {},
   "outputs": [],
   "source": [
    "results[results['parameter'] == 'seguridad social coronavirus'].to_csv('newspapers_seguridadsocial.csv', encoding = 'utf-8 sig')"
   ]
  },
  {
   "cell_type": "code",
   "execution_count": 4,
   "metadata": {},
   "outputs": [],
   "source": [
    "results.to_csv('newspapers_escuelas.csv', encoding = 'utf-8 sig')"
   ]
  },
  {
   "cell_type": "code",
   "execution_count": 50,
   "metadata": {},
   "outputs": [],
   "source": [
    "li = []\n",
    "\n",
    "for filename in all_files:\n",
    "    if filename == 'results.csv':\n",
    "        continue\n",
    "    else:\n",
    "        df = pd.read_csv(filename, index_col = None, header = None)\n",
    "        li.append(df)\n",
    "\n",
    "frame = pd.concat(li, axis=0, ignore_index=True)\n",
    "frame.columns = ['parameter', 'newspaper', 'title', 'date', 'search_', 'type_newspaper']"
   ]
  },
  {
   "cell_type": "code",
   "execution_count": 51,
   "metadata": {},
   "outputs": [],
   "source": [
    "frame.columns = ['parameter', 'newspaper', 'title', 'date', 'search_', 'type_newspaper']"
   ]
  },
  {
   "cell_type": "code",
   "execution_count": 54,
   "metadata": {},
   "outputs": [],
   "source": [
    "frame.to_csv('newspapers_terms.csv', encoding = 'utf-8 sig')"
   ]
  },
  {
   "cell_type": "code",
   "execution_count": 72,
   "metadata": {},
   "outputs": [],
   "source": [
    "municipios_yucatan = ['Espita', 'Temozón', 'Cenotillo', 'Calotmul', 'Sucilá', 'Chichimilá', 'Tixcacalcupul', 'Chankom', 'Dzitás', \n",
    "'Uayma', 'Tekom', 'Kaua', 'Cuncunul', 'Quintana Roo', 'Tahdziú', 'Maní', 'Dzan', 'Santa Elena', 'Chumayel', 'Chapab', \n",
    "'Mama', 'Chacksinkín', 'Cantamayec', 'Hoctún', 'Hocabá', 'Sotuta', 'Huhi', 'Tahmek','Tekit',\n",
    "'Tunkás', 'Kantunil' 'Sanahcat', 'Maxcanú', 'Kinchil', 'Sacalum', 'Kopomá', 'Tixkokob', 'Seyé', 'Dzidzantún', 'Temax', \n",
    "'Cacalchén', 'Baca', 'Cansahcab', 'Telchac' 'Puerto', 'Mocochá', 'Bokobá', 'Teya', 'Suma', 'Kanasín' , 'Motul']\n"
   ]
  },
  {
   "cell_type": "code",
   "execution_count": 77,
   "metadata": {},
   "outputs": [],
   "source": [
    "yucatan = pd.DataFrame(municipios_yucatan, columns = ['municipio'])\n",
    "yucatan['date'] = '2020-04-15'"
   ]
  },
  {
   "cell_type": "code",
   "execution_count": 78,
   "metadata": {},
   "outputs": [],
   "source": [
    "yucatan2 = ['Buctzotz', 'Panabá', 'Dzilam González', \n",
    "'Río Lagartos', 'Dzilam de Bravo', 'San Felipe', \n",
    "'Izamal', 'Celestún', 'Telchac Pueblo', 'Tekantó', 'Dzemul', \n",
    "'Sinanché', 'Ixil', 'Yaxkukul', 'Muxupip', 'Yobaín', 'Tecoh', 'Acanceh',\n",
    "'Abalá', 'Timucuy', 'Tixpéual' ,  'Progreso']\n",
    "yucatan2 = pd.DataFrame(yucatan2, columns = ['municipio'])\n",
    "yucatan2['date'] = '2020-04-16'"
   ]
  },
  {
   "cell_type": "code",
   "execution_count": 79,
   "metadata": {},
   "outputs": [],
   "source": [
    "yucatan3 = ['Tizimín', 'Yaxcabá', 'Tinum', 'Chikindzonot', 'Xocchel',\n",
    "'Homún', 'Cuzamá', 'Dzoncauich', 'Tekal de Venegas', \n",
    "'Tepakán', 'Sudzal', 'Hunucmá', 'Conkal', 'Tetiz', \n",
    "'Chicxulub pueblo' , 'Ucú']\n",
    "yucatan3 = pd.DataFrame(yucatan3, columns = ['municipio'])\n",
    "yucatan3['date'] = '2020-04-17'"
   ]
  },
  {
   "cell_type": "code",
   "execution_count": 81,
   "metadata": {},
   "outputs": [],
   "source": [
    "yucatan4 = ['Peto', 'Tzucacab', 'Akil', 'Teabo', 'Tixméhuac', 'Mayapán', 'Umán', 'Valladolid', 'Oxkutzcab']\n",
    "yucatan4 = pd.DataFrame(yucatan4, columns = ['municipio'])\n",
    "yucatan4['date'] = '2020-04-18'"
   ]
  },
  {
   "cell_type": "code",
   "execution_count": 82,
   "metadata": {},
   "outputs": [],
   "source": [
    "yucata5 =['Chemax', 'Tekax', 'Ticul', 'Halachó', 'Muna', 'Opichén', 'Chocholá' , 'Samahil']\n",
    "yucata5 = pd.DataFrame(yucata5, columns = ['municipio'])\n",
    "yucata5['date'] = '2020-04-19'"
   ]
  },
  {
   "cell_type": "code",
   "execution_count": null,
   "metadata": {},
   "outputs": [],
   "source": []
  },
  {
   "cell_type": "code",
   "execution_count": 84,
   "metadata": {},
   "outputs": [],
   "source": [
    "yucatan_apoyos_alimenticios = pd.concat([yucatan, yucatan2, yucatan3, yucatan4, yucata5])"
   ]
  },
  {
   "cell_type": "code",
   "execution_count": 85,
   "metadata": {},
   "outputs": [],
   "source": [
    "yucatan_apoyos_alimenticios.to_csv('yucatan.csv', encoding = 'utf-8 sig')"
   ]
  }
 ],
 "metadata": {
  "kernelspec": {
   "display_name": "Python 3",
   "language": "python",
   "name": "python3"
  },
  "language_info": {
   "codemirror_mode": {
    "name": "ipython",
    "version": 3
   },
   "file_extension": ".py",
   "mimetype": "text/x-python",
   "name": "python",
   "nbconvert_exporter": "python",
   "pygments_lexer": "ipython3",
   "version": "3.7.4"
  }
 },
 "nbformat": 4,
 "nbformat_minor": 2
}
